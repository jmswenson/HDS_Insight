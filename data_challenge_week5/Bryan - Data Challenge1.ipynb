{
 "cells": [
  {
   "cell_type": "code",
   "execution_count": 180,
   "metadata": {
    "collapsed": false
   },
   "outputs": [
    {
     "data": {
      "text/html": [
       "<div>\n",
       "<table border=\"1\" class=\"dataframe\">\n",
       "  <thead>\n",
       "    <tr style=\"text-align: right;\">\n",
       "      <th></th>\n",
       "      <th>case</th>\n",
       "      <th>clump_thick</th>\n",
       "      <th>uni_cell_size</th>\n",
       "      <th>uni_cell_shape</th>\n",
       "      <th>marg_adhesion</th>\n",
       "      <th>sing_epi_cell_size</th>\n",
       "      <th>bare_nuclei</th>\n",
       "      <th>bland_chrom</th>\n",
       "      <th>norm_nuclei</th>\n",
       "      <th>mitosis</th>\n",
       "      <th>status</th>\n",
       "    </tr>\n",
       "  </thead>\n",
       "  <tbody>\n",
       "    <tr>\n",
       "      <th>0</th>\n",
       "      <td>1000025</td>\n",
       "      <td>5</td>\n",
       "      <td>1</td>\n",
       "      <td>1</td>\n",
       "      <td>1</td>\n",
       "      <td>2</td>\n",
       "      <td>1</td>\n",
       "      <td>3</td>\n",
       "      <td>1</td>\n",
       "      <td>1</td>\n",
       "      <td>2</td>\n",
       "    </tr>\n",
       "    <tr>\n",
       "      <th>1</th>\n",
       "      <td>1002945</td>\n",
       "      <td>5</td>\n",
       "      <td>4</td>\n",
       "      <td>4</td>\n",
       "      <td>5</td>\n",
       "      <td>7</td>\n",
       "      <td>10</td>\n",
       "      <td>3</td>\n",
       "      <td>2</td>\n",
       "      <td>1</td>\n",
       "      <td>2</td>\n",
       "    </tr>\n",
       "    <tr>\n",
       "      <th>2</th>\n",
       "      <td>1015425</td>\n",
       "      <td>3</td>\n",
       "      <td>1</td>\n",
       "      <td>1</td>\n",
       "      <td>1</td>\n",
       "      <td>2</td>\n",
       "      <td>2</td>\n",
       "      <td>3</td>\n",
       "      <td>1</td>\n",
       "      <td>1</td>\n",
       "      <td>2</td>\n",
       "    </tr>\n",
       "    <tr>\n",
       "      <th>3</th>\n",
       "      <td>1016277</td>\n",
       "      <td>6</td>\n",
       "      <td>8</td>\n",
       "      <td>8</td>\n",
       "      <td>1</td>\n",
       "      <td>3</td>\n",
       "      <td>4</td>\n",
       "      <td>3</td>\n",
       "      <td>7</td>\n",
       "      <td>1</td>\n",
       "      <td>2</td>\n",
       "    </tr>\n",
       "    <tr>\n",
       "      <th>4</th>\n",
       "      <td>1017023</td>\n",
       "      <td>4</td>\n",
       "      <td>1</td>\n",
       "      <td>1</td>\n",
       "      <td>3</td>\n",
       "      <td>2</td>\n",
       "      <td>1</td>\n",
       "      <td>3</td>\n",
       "      <td>1</td>\n",
       "      <td>1</td>\n",
       "      <td>2</td>\n",
       "    </tr>\n",
       "  </tbody>\n",
       "</table>\n",
       "</div>"
      ],
      "text/plain": [
       "      case  clump_thick  uni_cell_size  uni_cell_shape  marg_adhesion  \\\n",
       "0  1000025            5              1               1              1   \n",
       "1  1002945            5              4               4              5   \n",
       "2  1015425            3              1               1              1   \n",
       "3  1016277            6              8               8              1   \n",
       "4  1017023            4              1               1              3   \n",
       "\n",
       "   sing_epi_cell_size bare_nuclei  bland_chrom  norm_nuclei  mitosis  status  \n",
       "0                   2           1            3            1        1       2  \n",
       "1                   7          10            3            2        1       2  \n",
       "2                   2           2            3            1        1       2  \n",
       "3                   3           4            3            7        1       2  \n",
       "4                   2           1            3            1        1       2  "
      ]
     },
     "execution_count": 180,
     "metadata": {},
     "output_type": "execute_result"
    }
   ],
   "source": [
    "import csv\n",
    "import urllib2\n",
    "import pandas as pd\n",
    "import numpy as np\n",
    "import statsmodels as sm\n",
    "import numpy as np\n",
    "import pandas as pd\n",
    "import statsmodels.api as sm\n",
    "import matplotlib.pyplot as plt\n",
    "from patsy import dmatrices\n",
    "from sklearn.linear_model import LogisticRegression\n",
    "from sklearn.cross_validation import train_test_split\n",
    "from sklearn import metrics\n",
    "from sklearn.cross_validation import cross_val_score\n",
    "\n",
    "# import data into a pandas dataframe\n",
    "canc = pd.read_csv(\"https://archive.ics.uci.edu/ml/machine-learning-databases/breast-cancer-wisconsin/breast-cancer-wisconsin.data\", sep=',', \n",
    "                  names = [\"case\", \"clump_thick\", \"uni_cell_size\", \"uni_cell_shape\", \"marg_adhesion\", \"sing_epi_cell_size\", \"bare_nuclei\", \"bland_chrom\", \"norm_nuclei\", \"mitosis\", \"status\"])\n",
    "canc.head()"
   ]
  },
  {
   "cell_type": "code",
   "execution_count": 169,
   "metadata": {
    "collapsed": false
   },
   "outputs": [
    {
     "data": {
      "text/html": [
       "<div>\n",
       "<table border=\"1\" class=\"dataframe\">\n",
       "  <thead>\n",
       "    <tr style=\"text-align: right;\">\n",
       "      <th></th>\n",
       "      <th>case</th>\n",
       "      <th>clump_thick</th>\n",
       "      <th>uni_cell_size</th>\n",
       "      <th>uni_cell_shape</th>\n",
       "      <th>marg_adhesion</th>\n",
       "      <th>sing_epi_cell_size</th>\n",
       "      <th>bare_nuclei</th>\n",
       "      <th>bland_chrom</th>\n",
       "      <th>norm_nuclei</th>\n",
       "      <th>mitosis</th>\n",
       "      <th>status</th>\n",
       "    </tr>\n",
       "  </thead>\n",
       "  <tbody>\n",
       "    <tr>\n",
       "      <th>0</th>\n",
       "      <td>True</td>\n",
       "      <td>True</td>\n",
       "      <td>True</td>\n",
       "      <td>True</td>\n",
       "      <td>True</td>\n",
       "      <td>True</td>\n",
       "      <td>True</td>\n",
       "      <td>True</td>\n",
       "      <td>True</td>\n",
       "      <td>True</td>\n",
       "      <td>True</td>\n",
       "    </tr>\n",
       "    <tr>\n",
       "      <th>1</th>\n",
       "      <td>True</td>\n",
       "      <td>True</td>\n",
       "      <td>True</td>\n",
       "      <td>True</td>\n",
       "      <td>True</td>\n",
       "      <td>True</td>\n",
       "      <td>True</td>\n",
       "      <td>True</td>\n",
       "      <td>True</td>\n",
       "      <td>True</td>\n",
       "      <td>True</td>\n",
       "    </tr>\n",
       "    <tr>\n",
       "      <th>2</th>\n",
       "      <td>True</td>\n",
       "      <td>True</td>\n",
       "      <td>True</td>\n",
       "      <td>True</td>\n",
       "      <td>True</td>\n",
       "      <td>True</td>\n",
       "      <td>True</td>\n",
       "      <td>True</td>\n",
       "      <td>True</td>\n",
       "      <td>True</td>\n",
       "      <td>True</td>\n",
       "    </tr>\n",
       "    <tr>\n",
       "      <th>3</th>\n",
       "      <td>True</td>\n",
       "      <td>True</td>\n",
       "      <td>True</td>\n",
       "      <td>True</td>\n",
       "      <td>True</td>\n",
       "      <td>True</td>\n",
       "      <td>True</td>\n",
       "      <td>True</td>\n",
       "      <td>True</td>\n",
       "      <td>True</td>\n",
       "      <td>True</td>\n",
       "    </tr>\n",
       "    <tr>\n",
       "      <th>4</th>\n",
       "      <td>True</td>\n",
       "      <td>True</td>\n",
       "      <td>True</td>\n",
       "      <td>True</td>\n",
       "      <td>True</td>\n",
       "      <td>True</td>\n",
       "      <td>True</td>\n",
       "      <td>True</td>\n",
       "      <td>True</td>\n",
       "      <td>True</td>\n",
       "      <td>True</td>\n",
       "    </tr>\n",
       "  </tbody>\n",
       "</table>\n",
       "</div>"
      ],
      "text/plain": [
       "   case clump_thick uni_cell_size uni_cell_shape marg_adhesion  \\\n",
       "0  True        True          True           True          True   \n",
       "1  True        True          True           True          True   \n",
       "2  True        True          True           True          True   \n",
       "3  True        True          True           True          True   \n",
       "4  True        True          True           True          True   \n",
       "\n",
       "  sing_epi_cell_size bare_nuclei bland_chrom norm_nuclei mitosis status  \n",
       "0               True        True        True        True    True   True  \n",
       "1               True        True        True        True    True   True  \n",
       "2               True        True        True        True    True   True  \n",
       "3               True        True        True        True    True   True  \n",
       "4               True        True        True        True    True   True  "
      ]
     },
     "execution_count": 169,
     "metadata": {},
     "output_type": "execute_result"
    }
   ],
   "source": [
    "canc.applymap(np.isreal).head()\n",
    "#something funky is happening with bare_nuclei"
   ]
  },
  {
   "cell_type": "markdown",
   "metadata": {},
   "source": [
    "# Feature engineering"
   ]
  },
  {
   "cell_type": "code",
   "execution_count": 221,
   "metadata": {
    "collapsed": false
   },
   "outputs": [
    {
     "ename": "TypeError",
     "evalue": "invalid type comparison",
     "output_type": "error",
     "traceback": [
      "\u001b[0;31m---------------------------------------------------------------------------\u001b[0m",
      "\u001b[0;31mTypeError\u001b[0m                                 Traceback (most recent call last)",
      "\u001b[0;32m<ipython-input-221-fc955e5e2535>\u001b[0m in \u001b[0;36m<module>\u001b[0;34m()\u001b[0m\n\u001b[0;32m----> 1\u001b[0;31m \u001b[0mcanc\u001b[0m \u001b[0;34m=\u001b[0m \u001b[0mcanc\u001b[0m\u001b[0;34m[\u001b[0m\u001b[0mcanc\u001b[0m\u001b[0;34m.\u001b[0m\u001b[0mbare_nuclei\u001b[0m \u001b[0;34m!=\u001b[0m \u001b[0;34m'?'\u001b[0m\u001b[0;34m]\u001b[0m\u001b[0;34m\u001b[0m\u001b[0m\n\u001b[0m\u001b[1;32m      2\u001b[0m \u001b[0mcanc\u001b[0m\u001b[0;34m.\u001b[0m\u001b[0mbare_nuclei\u001b[0m\u001b[0;34m=\u001b[0m\u001b[0mcanc\u001b[0m\u001b[0;34m.\u001b[0m\u001b[0mbare_nuclei\u001b[0m\u001b[0;34m.\u001b[0m\u001b[0mastype\u001b[0m\u001b[0;34m(\u001b[0m\u001b[0mfloat\u001b[0m\u001b[0;34m)\u001b[0m\u001b[0;34m\u001b[0m\u001b[0m\n\u001b[1;32m      3\u001b[0m \u001b[0mcanc\u001b[0m\u001b[0;34m.\u001b[0m\u001b[0mbare_nuclei\u001b[0m\u001b[0;34m\u001b[0m\u001b[0m\n",
      "\u001b[0;32m/Users/bryan/anaconda/lib/python2.7/site-packages/pandas/core/ops.pyc\u001b[0m in \u001b[0;36mwrapper\u001b[0;34m(self, other, axis)\u001b[0m\n\u001b[1;32m    761\u001b[0m                 \u001b[0mother\u001b[0m \u001b[0;34m=\u001b[0m \u001b[0mnp\u001b[0m\u001b[0;34m.\u001b[0m\u001b[0masarray\u001b[0m\u001b[0;34m(\u001b[0m\u001b[0mother\u001b[0m\u001b[0;34m)\u001b[0m\u001b[0;34m\u001b[0m\u001b[0m\n\u001b[1;32m    762\u001b[0m \u001b[0;34m\u001b[0m\u001b[0m\n\u001b[0;32m--> 763\u001b[0;31m             \u001b[0mres\u001b[0m \u001b[0;34m=\u001b[0m \u001b[0mna_op\u001b[0m\u001b[0;34m(\u001b[0m\u001b[0mvalues\u001b[0m\u001b[0;34m,\u001b[0m \u001b[0mother\u001b[0m\u001b[0;34m)\u001b[0m\u001b[0;34m\u001b[0m\u001b[0m\n\u001b[0m\u001b[1;32m    764\u001b[0m             \u001b[0;32mif\u001b[0m \u001b[0misscalar\u001b[0m\u001b[0;34m(\u001b[0m\u001b[0mres\u001b[0m\u001b[0;34m)\u001b[0m\u001b[0;34m:\u001b[0m\u001b[0;34m\u001b[0m\u001b[0m\n\u001b[1;32m    765\u001b[0m                 raise TypeError('Could not compare %s type with Series' %\n",
      "\u001b[0;32m/Users/bryan/anaconda/lib/python2.7/site-packages/pandas/core/ops.pyc\u001b[0m in \u001b[0;36mna_op\u001b[0;34m(x, y)\u001b[0m\n\u001b[1;32m    716\u001b[0m                 \u001b[0mresult\u001b[0m \u001b[0;34m=\u001b[0m \u001b[0mgetattr\u001b[0m\u001b[0;34m(\u001b[0m\u001b[0mx\u001b[0m\u001b[0;34m,\u001b[0m \u001b[0mname\u001b[0m\u001b[0;34m)\u001b[0m\u001b[0;34m(\u001b[0m\u001b[0my\u001b[0m\u001b[0;34m)\u001b[0m\u001b[0;34m\u001b[0m\u001b[0m\n\u001b[1;32m    717\u001b[0m                 \u001b[0;32mif\u001b[0m \u001b[0mresult\u001b[0m \u001b[0;32mis\u001b[0m \u001b[0mNotImplemented\u001b[0m\u001b[0;34m:\u001b[0m\u001b[0;34m\u001b[0m\u001b[0m\n\u001b[0;32m--> 718\u001b[0;31m                     \u001b[0;32mraise\u001b[0m \u001b[0mTypeError\u001b[0m\u001b[0;34m(\u001b[0m\u001b[0;34m\"invalid type comparison\"\u001b[0m\u001b[0;34m)\u001b[0m\u001b[0;34m\u001b[0m\u001b[0m\n\u001b[0m\u001b[1;32m    719\u001b[0m             \u001b[0;32mexcept\u001b[0m \u001b[0mAttributeError\u001b[0m\u001b[0;34m:\u001b[0m\u001b[0;34m\u001b[0m\u001b[0m\n\u001b[1;32m    720\u001b[0m                 \u001b[0mresult\u001b[0m \u001b[0;34m=\u001b[0m \u001b[0mop\u001b[0m\u001b[0;34m(\u001b[0m\u001b[0mx\u001b[0m\u001b[0;34m,\u001b[0m \u001b[0my\u001b[0m\u001b[0;34m)\u001b[0m\u001b[0;34m\u001b[0m\u001b[0m\n",
      "\u001b[0;31mTypeError\u001b[0m: invalid type comparison"
     ]
    }
   ],
   "source": [
    "canc = canc[canc.bare_nuclei != '?']\n",
    "canc.bare_nuclei=canc.bare_nuclei.astype(float)\n"
   ]
  },
  {
   "cell_type": "markdown",
   "metadata": {},
   "source": [
    "# Descriptive Statistics"
   ]
  },
  {
   "cell_type": "code",
   "execution_count": 222,
   "metadata": {
    "collapsed": false
   },
   "outputs": [
    {
     "data": {
      "text/plain": [
       "683"
      ]
     },
     "execution_count": 222,
     "metadata": {},
     "output_type": "execute_result"
    }
   ],
   "source": [
    "#checking out new length of dataset after removing ?\n",
    "len(canc)"
   ]
  },
  {
   "cell_type": "code",
   "execution_count": 184,
   "metadata": {
    "collapsed": false
   },
   "outputs": [
    {
     "data": {
      "text/html": [
       "<div>\n",
       "<table border=\"1\" class=\"dataframe\">\n",
       "  <thead>\n",
       "    <tr style=\"text-align: right;\">\n",
       "      <th></th>\n",
       "      <th>case</th>\n",
       "      <th>clump_thick</th>\n",
       "      <th>uni_cell_size</th>\n",
       "      <th>uni_cell_shape</th>\n",
       "      <th>marg_adhesion</th>\n",
       "      <th>sing_epi_cell_size</th>\n",
       "      <th>bare_nuclei</th>\n",
       "      <th>bland_chrom</th>\n",
       "      <th>norm_nuclei</th>\n",
       "      <th>mitosis</th>\n",
       "      <th>status</th>\n",
       "    </tr>\n",
       "  </thead>\n",
       "  <tbody>\n",
       "    <tr>\n",
       "      <th>count</th>\n",
       "      <td>6.830000e+02</td>\n",
       "      <td>683.000000</td>\n",
       "      <td>683.000000</td>\n",
       "      <td>683.000000</td>\n",
       "      <td>683.000000</td>\n",
       "      <td>683.000000</td>\n",
       "      <td>683.000000</td>\n",
       "      <td>683.000000</td>\n",
       "      <td>683.000000</td>\n",
       "      <td>683.000000</td>\n",
       "      <td>683.000000</td>\n",
       "    </tr>\n",
       "    <tr>\n",
       "      <th>mean</th>\n",
       "      <td>1.076720e+06</td>\n",
       "      <td>4.442167</td>\n",
       "      <td>3.150805</td>\n",
       "      <td>3.215227</td>\n",
       "      <td>2.830161</td>\n",
       "      <td>3.234261</td>\n",
       "      <td>3.544656</td>\n",
       "      <td>3.445095</td>\n",
       "      <td>2.869693</td>\n",
       "      <td>1.603221</td>\n",
       "      <td>2.699854</td>\n",
       "    </tr>\n",
       "    <tr>\n",
       "      <th>std</th>\n",
       "      <td>6.206440e+05</td>\n",
       "      <td>2.820761</td>\n",
       "      <td>3.065145</td>\n",
       "      <td>2.988581</td>\n",
       "      <td>2.864562</td>\n",
       "      <td>2.223085</td>\n",
       "      <td>3.643857</td>\n",
       "      <td>2.449697</td>\n",
       "      <td>3.052666</td>\n",
       "      <td>1.732674</td>\n",
       "      <td>0.954592</td>\n",
       "    </tr>\n",
       "    <tr>\n",
       "      <th>min</th>\n",
       "      <td>6.337500e+04</td>\n",
       "      <td>1.000000</td>\n",
       "      <td>1.000000</td>\n",
       "      <td>1.000000</td>\n",
       "      <td>1.000000</td>\n",
       "      <td>1.000000</td>\n",
       "      <td>1.000000</td>\n",
       "      <td>1.000000</td>\n",
       "      <td>1.000000</td>\n",
       "      <td>1.000000</td>\n",
       "      <td>2.000000</td>\n",
       "    </tr>\n",
       "    <tr>\n",
       "      <th>25%</th>\n",
       "      <td>8.776170e+05</td>\n",
       "      <td>2.000000</td>\n",
       "      <td>1.000000</td>\n",
       "      <td>1.000000</td>\n",
       "      <td>1.000000</td>\n",
       "      <td>2.000000</td>\n",
       "      <td>1.000000</td>\n",
       "      <td>2.000000</td>\n",
       "      <td>1.000000</td>\n",
       "      <td>1.000000</td>\n",
       "      <td>2.000000</td>\n",
       "    </tr>\n",
       "    <tr>\n",
       "      <th>50%</th>\n",
       "      <td>1.171795e+06</td>\n",
       "      <td>4.000000</td>\n",
       "      <td>1.000000</td>\n",
       "      <td>1.000000</td>\n",
       "      <td>1.000000</td>\n",
       "      <td>2.000000</td>\n",
       "      <td>1.000000</td>\n",
       "      <td>3.000000</td>\n",
       "      <td>1.000000</td>\n",
       "      <td>1.000000</td>\n",
       "      <td>2.000000</td>\n",
       "    </tr>\n",
       "    <tr>\n",
       "      <th>75%</th>\n",
       "      <td>1.238705e+06</td>\n",
       "      <td>6.000000</td>\n",
       "      <td>5.000000</td>\n",
       "      <td>5.000000</td>\n",
       "      <td>4.000000</td>\n",
       "      <td>4.000000</td>\n",
       "      <td>6.000000</td>\n",
       "      <td>5.000000</td>\n",
       "      <td>4.000000</td>\n",
       "      <td>1.000000</td>\n",
       "      <td>4.000000</td>\n",
       "    </tr>\n",
       "    <tr>\n",
       "      <th>max</th>\n",
       "      <td>1.345435e+07</td>\n",
       "      <td>10.000000</td>\n",
       "      <td>10.000000</td>\n",
       "      <td>10.000000</td>\n",
       "      <td>10.000000</td>\n",
       "      <td>10.000000</td>\n",
       "      <td>10.000000</td>\n",
       "      <td>10.000000</td>\n",
       "      <td>10.000000</td>\n",
       "      <td>10.000000</td>\n",
       "      <td>4.000000</td>\n",
       "    </tr>\n",
       "  </tbody>\n",
       "</table>\n",
       "</div>"
      ],
      "text/plain": [
       "               case  clump_thick  uni_cell_size  uni_cell_shape  \\\n",
       "count  6.830000e+02   683.000000     683.000000      683.000000   \n",
       "mean   1.076720e+06     4.442167       3.150805        3.215227   \n",
       "std    6.206440e+05     2.820761       3.065145        2.988581   \n",
       "min    6.337500e+04     1.000000       1.000000        1.000000   \n",
       "25%    8.776170e+05     2.000000       1.000000        1.000000   \n",
       "50%    1.171795e+06     4.000000       1.000000        1.000000   \n",
       "75%    1.238705e+06     6.000000       5.000000        5.000000   \n",
       "max    1.345435e+07    10.000000      10.000000       10.000000   \n",
       "\n",
       "       marg_adhesion  sing_epi_cell_size  bare_nuclei  bland_chrom  \\\n",
       "count     683.000000          683.000000   683.000000   683.000000   \n",
       "mean        2.830161            3.234261     3.544656     3.445095   \n",
       "std         2.864562            2.223085     3.643857     2.449697   \n",
       "min         1.000000            1.000000     1.000000     1.000000   \n",
       "25%         1.000000            2.000000     1.000000     2.000000   \n",
       "50%         1.000000            2.000000     1.000000     3.000000   \n",
       "75%         4.000000            4.000000     6.000000     5.000000   \n",
       "max        10.000000           10.000000    10.000000    10.000000   \n",
       "\n",
       "       norm_nuclei     mitosis      status  \n",
       "count   683.000000  683.000000  683.000000  \n",
       "mean      2.869693    1.603221    2.699854  \n",
       "std       3.052666    1.732674    0.954592  \n",
       "min       1.000000    1.000000    2.000000  \n",
       "25%       1.000000    1.000000    2.000000  \n",
       "50%       1.000000    1.000000    2.000000  \n",
       "75%       4.000000    1.000000    4.000000  \n",
       "max      10.000000   10.000000    4.000000  "
      ]
     },
     "execution_count": 184,
     "metadata": {},
     "output_type": "execute_result"
    }
   ],
   "source": [
    "canc.describe()"
   ]
  },
  {
   "cell_type": "code",
   "execution_count": 187,
   "metadata": {
    "collapsed": false
   },
   "outputs": [
    {
     "data": {
      "text/html": [
       "<div>\n",
       "<table border=\"1\" class=\"dataframe\">\n",
       "  <thead>\n",
       "    <tr style=\"text-align: right;\">\n",
       "      <th></th>\n",
       "      <th>case</th>\n",
       "      <th>clump_thick</th>\n",
       "      <th>uni_cell_size</th>\n",
       "      <th>uni_cell_shape</th>\n",
       "      <th>marg_adhesion</th>\n",
       "      <th>sing_epi_cell_size</th>\n",
       "      <th>bare_nuclei</th>\n",
       "      <th>bland_chrom</th>\n",
       "      <th>norm_nuclei</th>\n",
       "      <th>mitosis</th>\n",
       "    </tr>\n",
       "    <tr>\n",
       "      <th>status</th>\n",
       "      <th></th>\n",
       "      <th></th>\n",
       "      <th></th>\n",
       "      <th></th>\n",
       "      <th></th>\n",
       "      <th></th>\n",
       "      <th></th>\n",
       "      <th></th>\n",
       "      <th></th>\n",
       "      <th></th>\n",
       "    </tr>\n",
       "  </thead>\n",
       "  <tbody>\n",
       "    <tr>\n",
       "      <th>2</th>\n",
       "      <td>1.115261e+06</td>\n",
       "      <td>2.963964</td>\n",
       "      <td>1.306306</td>\n",
       "      <td>1.414414</td>\n",
       "      <td>1.346847</td>\n",
       "      <td>2.108108</td>\n",
       "      <td>1.346847</td>\n",
       "      <td>2.083333</td>\n",
       "      <td>1.261261</td>\n",
       "      <td>1.065315</td>\n",
       "    </tr>\n",
       "    <tr>\n",
       "      <th>4</th>\n",
       "      <td>1.005121e+06</td>\n",
       "      <td>7.188285</td>\n",
       "      <td>6.577406</td>\n",
       "      <td>6.560669</td>\n",
       "      <td>5.585774</td>\n",
       "      <td>5.326360</td>\n",
       "      <td>7.627615</td>\n",
       "      <td>5.974895</td>\n",
       "      <td>5.857741</td>\n",
       "      <td>2.602510</td>\n",
       "    </tr>\n",
       "  </tbody>\n",
       "</table>\n",
       "</div>"
      ],
      "text/plain": [
       "                case  clump_thick  uni_cell_size  uni_cell_shape  \\\n",
       "status                                                             \n",
       "2       1.115261e+06     2.963964       1.306306        1.414414   \n",
       "4       1.005121e+06     7.188285       6.577406        6.560669   \n",
       "\n",
       "        marg_adhesion  sing_epi_cell_size  bare_nuclei  bland_chrom  \\\n",
       "status                                                                \n",
       "2            1.346847            2.108108     1.346847     2.083333   \n",
       "4            5.585774            5.326360     7.627615     5.974895   \n",
       "\n",
       "        norm_nuclei   mitosis  \n",
       "status                         \n",
       "2          1.261261  1.065315  \n",
       "4          5.857741  2.602510  "
      ]
     },
     "execution_count": 187,
     "metadata": {},
     "output_type": "execute_result"
    }
   ],
   "source": [
    "#we can see that malignant cells have generally larger values across the board compared to benign tumors, with clump thickness being especially large\n",
    "canc.groupby('status').mean()"
   ]
  },
  {
   "cell_type": "code",
   "execution_count": 82,
   "metadata": {
    "collapsed": false
   },
   "outputs": [
    {
     "data": {
      "text/html": [
       "<div>\n",
       "<table border=\"1\" class=\"dataframe\">\n",
       "  <thead>\n",
       "    <tr style=\"text-align: right;\">\n",
       "      <th></th>\n",
       "      <th>case</th>\n",
       "      <th>uni_cell_size</th>\n",
       "      <th>uni_cell_shape</th>\n",
       "      <th>marg_adhesion</th>\n",
       "      <th>sing_epi_cell_size</th>\n",
       "      <th>bland_chrom</th>\n",
       "      <th>norm_nuclei</th>\n",
       "      <th>mitosis</th>\n",
       "      <th>class</th>\n",
       "    </tr>\n",
       "    <tr>\n",
       "      <th>clump_thick</th>\n",
       "      <th></th>\n",
       "      <th></th>\n",
       "      <th></th>\n",
       "      <th></th>\n",
       "      <th></th>\n",
       "      <th></th>\n",
       "      <th></th>\n",
       "      <th></th>\n",
       "      <th></th>\n",
       "    </tr>\n",
       "  </thead>\n",
       "  <tbody>\n",
       "    <tr>\n",
       "      <th>1</th>\n",
       "      <td>1.088915e+06</td>\n",
       "      <td>1.179310</td>\n",
       "      <td>1.351724</td>\n",
       "      <td>1.296552</td>\n",
       "      <td>2.020690</td>\n",
       "      <td>2.048276</td>\n",
       "      <td>1.213793</td>\n",
       "      <td>1.103448</td>\n",
       "      <td>2.041379</td>\n",
       "    </tr>\n",
       "    <tr>\n",
       "      <th>2</th>\n",
       "      <td>1.099968e+06</td>\n",
       "      <td>1.500000</td>\n",
       "      <td>1.500000</td>\n",
       "      <td>1.500000</td>\n",
       "      <td>2.280000</td>\n",
       "      <td>2.300000</td>\n",
       "      <td>1.440000</td>\n",
       "      <td>1.140000</td>\n",
       "      <td>2.160000</td>\n",
       "    </tr>\n",
       "    <tr>\n",
       "      <th>3</th>\n",
       "      <td>1.070008e+06</td>\n",
       "      <td>1.759259</td>\n",
       "      <td>1.777778</td>\n",
       "      <td>1.842593</td>\n",
       "      <td>2.453704</td>\n",
       "      <td>2.518519</td>\n",
       "      <td>1.629630</td>\n",
       "      <td>1.194444</td>\n",
       "      <td>2.222222</td>\n",
       "    </tr>\n",
       "    <tr>\n",
       "      <th>4</th>\n",
       "      <td>1.179235e+06</td>\n",
       "      <td>2.150000</td>\n",
       "      <td>2.075000</td>\n",
       "      <td>2.000000</td>\n",
       "      <td>2.400000</td>\n",
       "      <td>2.987500</td>\n",
       "      <td>1.887500</td>\n",
       "      <td>1.125000</td>\n",
       "      <td>2.300000</td>\n",
       "    </tr>\n",
       "    <tr>\n",
       "      <th>5</th>\n",
       "      <td>1.072220e+06</td>\n",
       "      <td>3.207692</td>\n",
       "      <td>3.461538</td>\n",
       "      <td>3.223077</td>\n",
       "      <td>3.492308</td>\n",
       "      <td>3.315385</td>\n",
       "      <td>3.007692</td>\n",
       "      <td>1.423077</td>\n",
       "      <td>2.692308</td>\n",
       "    </tr>\n",
       "    <tr>\n",
       "      <th>6</th>\n",
       "      <td>1.075532e+06</td>\n",
       "      <td>5.205882</td>\n",
       "      <td>4.794118</td>\n",
       "      <td>4.294118</td>\n",
       "      <td>4.235294</td>\n",
       "      <td>4.970588</td>\n",
       "      <td>5.117647</td>\n",
       "      <td>2.235294</td>\n",
       "      <td>3.058824</td>\n",
       "    </tr>\n",
       "    <tr>\n",
       "      <th>7</th>\n",
       "      <td>9.347940e+05</td>\n",
       "      <td>5.086957</td>\n",
       "      <td>5.260870</td>\n",
       "      <td>5.652174</td>\n",
       "      <td>4.565217</td>\n",
       "      <td>5.652174</td>\n",
       "      <td>5.217391</td>\n",
       "      <td>2.652174</td>\n",
       "      <td>3.913043</td>\n",
       "    </tr>\n",
       "    <tr>\n",
       "      <th>8</th>\n",
       "      <td>9.748091e+05</td>\n",
       "      <td>6.739130</td>\n",
       "      <td>6.695652</td>\n",
       "      <td>4.782609</td>\n",
       "      <td>5.108696</td>\n",
       "      <td>5.586957</td>\n",
       "      <td>6.282609</td>\n",
       "      <td>2.413043</td>\n",
       "      <td>3.826087</td>\n",
       "    </tr>\n",
       "    <tr>\n",
       "      <th>9</th>\n",
       "      <td>1.106483e+06</td>\n",
       "      <td>7.000000</td>\n",
       "      <td>7.642857</td>\n",
       "      <td>4.928571</td>\n",
       "      <td>6.500000</td>\n",
       "      <td>5.142857</td>\n",
       "      <td>6.000000</td>\n",
       "      <td>3.500000</td>\n",
       "      <td>4.000000</td>\n",
       "    </tr>\n",
       "    <tr>\n",
       "      <th>10</th>\n",
       "      <td>9.933552e+05</td>\n",
       "      <td>6.724638</td>\n",
       "      <td>6.724638</td>\n",
       "      <td>5.159420</td>\n",
       "      <td>5.144928</td>\n",
       "      <td>6.101449</td>\n",
       "      <td>5.376812</td>\n",
       "      <td>2.797101</td>\n",
       "      <td>4.000000</td>\n",
       "    </tr>\n",
       "  </tbody>\n",
       "</table>\n",
       "</div>"
      ],
      "text/plain": [
       "                     case  uni_cell_size  uni_cell_shape  marg_adhesion  \\\n",
       "clump_thick                                                               \n",
       "1            1.088915e+06       1.179310        1.351724       1.296552   \n",
       "2            1.099968e+06       1.500000        1.500000       1.500000   \n",
       "3            1.070008e+06       1.759259        1.777778       1.842593   \n",
       "4            1.179235e+06       2.150000        2.075000       2.000000   \n",
       "5            1.072220e+06       3.207692        3.461538       3.223077   \n",
       "6            1.075532e+06       5.205882        4.794118       4.294118   \n",
       "7            9.347940e+05       5.086957        5.260870       5.652174   \n",
       "8            9.748091e+05       6.739130        6.695652       4.782609   \n",
       "9            1.106483e+06       7.000000        7.642857       4.928571   \n",
       "10           9.933552e+05       6.724638        6.724638       5.159420   \n",
       "\n",
       "             sing_epi_cell_size  bland_chrom  norm_nuclei   mitosis     class  \n",
       "clump_thick                                                                    \n",
       "1                      2.020690     2.048276     1.213793  1.103448  2.041379  \n",
       "2                      2.280000     2.300000     1.440000  1.140000  2.160000  \n",
       "3                      2.453704     2.518519     1.629630  1.194444  2.222222  \n",
       "4                      2.400000     2.987500     1.887500  1.125000  2.300000  \n",
       "5                      3.492308     3.315385     3.007692  1.423077  2.692308  \n",
       "6                      4.235294     4.970588     5.117647  2.235294  3.058824  \n",
       "7                      4.565217     5.652174     5.217391  2.652174  3.913043  \n",
       "8                      5.108696     5.586957     6.282609  2.413043  3.826087  \n",
       "9                      6.500000     5.142857     6.000000  3.500000  4.000000  \n",
       "10                     5.144928     6.101449     5.376812  2.797101  4.000000  "
      ]
     },
     "execution_count": 82,
     "metadata": {},
     "output_type": "execute_result"
    }
   ],
   "source": [
    "#we can see that larger clumps (9-10) are strongly related to malignant tumors\n",
    "canc.groupby('clump_thick').mean()"
   ]
  },
  {
   "cell_type": "markdown",
   "metadata": {},
   "source": [
    "# Plotting data distribution"
   ]
  },
  {
   "cell_type": "code",
   "execution_count": 192,
   "metadata": {
    "collapsed": false
   },
   "outputs": [
    {
     "data": {
      "text/plain": [
       "<matplotlib.axes._subplots.AxesSubplot at 0x11e3e40d0>"
      ]
     },
     "execution_count": 192,
     "metadata": {},
     "output_type": "execute_result"
    },
    {
     "data": {
      "image/png": "[encoded data removed]",
      "text/plain": [
       "<matplotlib.figure.Figure at 0x11d321710>"
      ]
     },
     "metadata": {},
     "output_type": "display_data"
    }
   ],
   "source": [
    "from string import letters\n",
    "import numpy as np\n",
    "import pandas as pd\n",
    "import seaborn as sns\n",
    "import matplotlib.pyplot as plt\n",
    "%matplotlib inline\n",
    "#plot correlation of variables\n",
    "corr = canc.corr()\n",
    "#viewing distributions\n",
    "#plt.hist(canc.clump_thick)\n",
    "# plt.hist(canc.uni_cell_size)\n",
    "\n",
    "#grouping clump thickness by class\n",
    "# canc['clump_thick'].hist(by=canc['class'])\n",
    "# plt.xlabel('clump thickness')\n",
    "# plt.ylabel('Frequency')\n",
    "\n",
    "pd.crosstab(canc.clump_thick, canc['status']).plot(kind='bar')\n",
    "#we can see that there's a strong distinction of clump_thickness in determining class"
   ]
  },
  {
   "cell_type": "markdown",
   "metadata": {},
   "source": [
    "# Analyzing data using Logistic Regression (Sklearn)"
   ]
  },
  {
   "cell_type": "code",
   "execution_count": 197,
   "metadata": {
    "collapsed": false
   },
   "outputs": [
    {
     "data": {
      "text/plain": [
       "0.96925329428989748"
      ]
     },
     "execution_count": 197,
     "metadata": {},
     "output_type": "execute_result"
    }
   ],
   "source": [
    "X = canc[[\"clump_thick\", \"uni_cell_size\", \"uni_cell_shape\", \"marg_adhesion\", \"sing_epi_cell_size\", \"bare_nuclei\", \"bland_chrom\", \"norm_nuclei\", \"mitosis\"]]\n",
    "y = canc.status\n",
    "model = LogisticRegression()\n",
    "model = model.fit(X, y)\n",
    "\n",
    "# check the accuracy on the training set\n",
    "model.score(X, y)"
   ]
  },
  {
   "cell_type": "code",
   "execution_count": 155,
   "metadata": {
    "collapsed": false
   },
   "outputs": [
    {
     "data": {
      "text/html": [
       "<div>\n",
       "<table border=\"1\" class=\"dataframe\">\n",
       "  <thead>\n",
       "    <tr style=\"text-align: right;\">\n",
       "      <th></th>\n",
       "      <th>0</th>\n",
       "      <th>1</th>\n",
       "    </tr>\n",
       "  </thead>\n",
       "  <tbody>\n",
       "    <tr>\n",
       "      <th>0</th>\n",
       "      <td>clump_thick</td>\n",
       "      <td>[0.245155155304]</td>\n",
       "    </tr>\n",
       "    <tr>\n",
       "      <th>1</th>\n",
       "      <td>uni_cell_size</td>\n",
       "      <td>[0.161425713422]</td>\n",
       "    </tr>\n",
       "    <tr>\n",
       "      <th>2</th>\n",
       "      <td>uni_cell_shape</td>\n",
       "      <td>[0.271616385637]</td>\n",
       "    </tr>\n",
       "    <tr>\n",
       "      <th>3</th>\n",
       "      <td>marg_adhesion</td>\n",
       "      <td>[0.179466749001]</td>\n",
       "    </tr>\n",
       "    <tr>\n",
       "      <th>4</th>\n",
       "      <td>sing_epi_cell_size</td>\n",
       "      <td>[-0.0415878421435]</td>\n",
       "    </tr>\n",
       "    <tr>\n",
       "      <th>5</th>\n",
       "      <td>bare_nuclei</td>\n",
       "      <td>[0.346989536605]</td>\n",
       "    </tr>\n",
       "    <tr>\n",
       "      <th>6</th>\n",
       "      <td>bland_chrom</td>\n",
       "      <td>[0.181592803655]</td>\n",
       "    </tr>\n",
       "    <tr>\n",
       "      <th>7</th>\n",
       "      <td>norm_nuclei</td>\n",
       "      <td>[0.191305984559]</td>\n",
       "    </tr>\n",
       "    <tr>\n",
       "      <th>8</th>\n",
       "      <td>mitosis</td>\n",
       "      <td>[0.206342363555]</td>\n",
       "    </tr>\n",
       "  </tbody>\n",
       "</table>\n",
       "</div>"
      ],
      "text/plain": [
       "                    0                   1\n",
       "0         clump_thick    [0.245155155304]\n",
       "1       uni_cell_size    [0.161425713422]\n",
       "2      uni_cell_shape    [0.271616385637]\n",
       "3       marg_adhesion    [0.179466749001]\n",
       "4  sing_epi_cell_size  [-0.0415878421435]\n",
       "5         bare_nuclei    [0.346989536605]\n",
       "6         bland_chrom    [0.181592803655]\n",
       "7         norm_nuclei    [0.191305984559]\n",
       "8             mitosis    [0.206342363555]"
      ]
     },
     "execution_count": 155,
     "metadata": {},
     "output_type": "execute_result"
    }
   ],
   "source": [
    "pd.DataFrame(zip(X.columns, np.transpose(model.coef_)))"
   ]
  },
  {
   "cell_type": "code",
   "execution_count": 194,
   "metadata": {
    "collapsed": false
   },
   "outputs": [
    {
     "data": {
      "text/plain": [
       "LogisticRegression(C=1.0, class_weight=None, dual=False, fit_intercept=True,\n",
       "          intercept_scaling=1, max_iter=100, multi_class='ovr', n_jobs=1,\n",
       "          penalty='l2', random_state=None, solver='liblinear', tol=0.0001,\n",
       "          verbose=0, warm_start=False)"
      ]
     },
     "execution_count": 194,
     "metadata": {},
     "output_type": "execute_result"
    }
   ],
   "source": [
    "# evaluate the model by splitting into train and test sets\n",
    "X_train, X_test, y_train, y_test = train_test_split(X, y, test_size=0.3, random_state=0)\n",
    "model2 = LogisticRegression()\n",
    "model2.fit(X_train, y_train)"
   ]
  },
  {
   "cell_type": "code",
   "execution_count": 164,
   "metadata": {
    "collapsed": false
   },
   "outputs": [
    {
     "name": "stdout",
     "output_type": "stream",
     "text": [
      "[[  9.09726028e-01   9.02739720e-02]\n",
      " [  9.76978089e-01   2.30219110e-02]\n",
      " [  4.64410643e-02   9.53558936e-01]\n",
      " [  1.90154530e-02   9.80984547e-01]\n",
      " [  9.82769244e-01   1.72307563e-02]\n",
      " [  9.57892643e-01   4.21073568e-02]\n",
      " [  9.38825728e-01   6.11742720e-02]\n",
      " [  2.69830925e-03   9.97301691e-01]\n",
      " [  9.51853815e-01   4.81461848e-02]\n",
      " [  9.81713646e-01   1.82863544e-02]\n",
      " [  6.02971769e-03   9.93970282e-01]\n",
      " [  9.65616434e-01   3.43835656e-02]\n",
      " [  2.15279014e-03   9.97847210e-01]\n",
      " [  9.76978089e-01   2.30219110e-02]\n",
      " [  9.56085186e-01   4.39148140e-02]\n",
      " [  8.46693023e-01   1.53306977e-01]\n",
      " [  2.71670328e-02   9.72832967e-01]\n",
      " [  2.84788880e-03   9.97152111e-01]\n",
      " [  7.11278054e-03   9.92887219e-01]\n",
      " [  9.61889032e-01   3.81109677e-02]\n",
      " [  9.76978089e-01   2.30219110e-02]\n",
      " [  9.71598618e-01   2.84013823e-02]\n",
      " [  2.47536182e-01   7.52463818e-01]\n",
      " [  9.78301010e-01   2.16989904e-02]\n",
      " [  3.49555412e-02   9.65044459e-01]\n",
      " [  7.73914249e-03   9.92260858e-01]\n",
      " [  9.47319273e-01   5.26807268e-02]\n",
      " [  9.76176810e-01   2.38231905e-02]\n",
      " [  9.72706264e-01   2.72937357e-02]\n",
      " [  4.55757704e-02   9.54424230e-01]\n",
      " [  9.82769244e-01   1.72307563e-02]\n",
      " [  2.15868878e-03   9.97841311e-01]\n",
      " [  1.61424493e-04   9.99838576e-01]\n",
      " [  9.75576528e-01   2.44234724e-02]\n",
      " [  9.75659887e-01   2.43401134e-02]\n",
      " [  9.75576528e-01   2.44234724e-02]\n",
      " [  6.27896870e-03   9.93721031e-01]\n",
      " [  2.51038642e-02   9.74896136e-01]\n",
      " [  9.75659887e-01   2.43401134e-02]\n",
      " [  1.96555015e-02   9.80344499e-01]\n",
      " [  9.43789093e-01   5.62109072e-02]\n",
      " [  8.87769652e-01   1.12230348e-01]\n",
      " [  9.66321314e-01   3.36786857e-02]\n",
      " [  9.78366342e-01   2.16336576e-02]\n",
      " [  9.82769244e-01   1.72307563e-02]\n",
      " [  9.66821873e-01   3.31781265e-02]\n",
      " [  9.72331767e-01   2.76682329e-02]\n",
      " [  4.12776294e-03   9.95872237e-01]\n",
      " [  9.66994735e-01   3.30052649e-02]\n",
      " [  9.72706264e-01   2.72937357e-02]\n",
      " [  1.42698552e-02   9.85730145e-01]\n",
      " [  9.58758263e-01   4.12417374e-02]\n",
      " [  6.96836471e-02   9.30316353e-01]\n",
      " [  9.68263099e-01   3.17369008e-02]\n",
      " [  9.61889032e-01   3.81109677e-02]\n",
      " [  9.17396061e-01   8.26039392e-02]\n",
      " [  1.68399758e-02   9.83160024e-01]\n",
      " [  7.29321442e-02   9.27067856e-01]\n",
      " [  8.95554731e-01   1.04445269e-01]\n",
      " [  7.89122281e-03   9.92108777e-01]\n",
      " [  9.80594656e-01   1.94053440e-02]\n",
      " [  9.73669203e-01   2.63307969e-02]\n",
      " [  9.78226494e-01   2.17735061e-02]\n",
      " [  9.78301010e-01   2.16989904e-02]\n",
      " [  9.75576528e-01   2.44234724e-02]\n",
      " [  9.80594656e-01   1.94053440e-02]\n",
      " [  9.80594656e-01   1.94053440e-02]\n",
      " [  9.75576528e-01   2.44234724e-02]\n",
      " [  1.83630254e-02   9.81636975e-01]\n",
      " [  4.01074164e-01   5.98925836e-01]\n",
      " [  9.78977132e-01   2.10228677e-02]\n",
      " [  9.76978089e-01   2.30219110e-02]\n",
      " [  9.81713646e-01   1.82863544e-02]\n",
      " [  9.72787974e-01   2.72120264e-02]\n",
      " [  9.25439770e-01   7.45602303e-02]\n",
      " [  9.72613074e-01   2.73869262e-02]\n",
      " [  5.43554004e-02   9.45644600e-01]\n",
      " [  9.75659887e-01   2.43401134e-02]\n",
      " [  9.76978089e-01   2.30219110e-02]\n",
      " [  9.81713646e-01   1.82863544e-02]\n",
      " [  1.03342563e-03   9.98966574e-01]\n",
      " [  9.70547722e-01   2.94522777e-02]\n",
      " [  2.85766815e-02   9.71423318e-01]\n",
      " [  9.80594656e-01   1.94053440e-02]\n",
      " [  9.82769244e-01   1.72307563e-02]\n",
      " [  1.62490804e-04   9.99837509e-01]\n",
      " [  9.55782849e-01   4.42171513e-02]\n",
      " [  2.56774874e-01   7.43225126e-01]\n",
      " [  1.08611694e-02   9.89138831e-01]\n",
      " [  9.11767792e-01   8.82322084e-02]\n",
      " [  1.04474000e-02   9.89552600e-01]\n",
      " [  9.77047312e-01   2.29526885e-02]\n",
      " [  8.88326141e-02   9.11167386e-01]\n",
      " [  7.91921453e-01   2.08078547e-01]\n",
      " [  5.46302049e-01   4.53697951e-01]\n",
      " [  4.45279868e-01   5.54720132e-01]\n",
      " [  1.07830955e-02   9.89216905e-01]\n",
      " [  2.84788880e-03   9.97152111e-01]\n",
      " [  5.95897330e-01   4.04102670e-01]\n",
      " [  9.69301360e-01   3.06986397e-02]\n",
      " [  9.67558195e-01   3.24418048e-02]\n",
      " [  9.78640363e-01   2.13596371e-02]\n",
      " [  4.80817574e-03   9.95191824e-01]\n",
      " [  3.65774160e-03   9.96342258e-01]\n",
      " [  9.72613074e-01   2.73869262e-02]\n",
      " [  9.51712367e-01   4.82876327e-02]\n",
      " [  1.62178510e-03   9.98378215e-01]\n",
      " [  5.69872021e-01   4.30127979e-01]\n",
      " [  9.77047312e-01   2.29526885e-02]\n",
      " [  9.82769244e-01   1.72307563e-02]\n",
      " [  2.34950545e-02   9.76504946e-01]\n",
      " [  9.63029459e-01   3.69705411e-02]\n",
      " [  9.76978089e-01   2.30219110e-02]\n",
      " [  4.35317248e-04   9.99564683e-01]\n",
      " [  9.80653219e-01   1.93467805e-02]\n",
      " [  7.65346746e-01   2.34653254e-01]\n",
      " [  9.63671870e-01   3.63281302e-02]\n",
      " [  7.05666237e-01   2.94333763e-01]\n",
      " [  9.81713646e-01   1.82863544e-02]\n",
      " [  9.80661227e-01   1.93387727e-02]\n",
      " [  9.81713646e-01   1.82863544e-02]\n",
      " [  3.87553274e-02   9.61244673e-01]\n",
      " [  9.76978089e-01   2.30219110e-02]\n",
      " [  9.81713646e-01   1.82863544e-02]\n",
      " [  8.28421885e-04   9.99171578e-01]\n",
      " [  2.03797415e-04   9.99796203e-01]\n",
      " [  9.09726028e-01   9.02739720e-02]\n",
      " [  9.20075807e-02   9.07992419e-01]\n",
      " [  9.80594656e-01   1.94053440e-02]\n",
      " [  3.37141691e-03   9.96628583e-01]\n",
      " [  9.82346688e-01   1.76533119e-02]\n",
      " [  9.80653219e-01   1.93467805e-02]\n",
      " [  1.42652979e-02   9.85734702e-01]\n",
      " [  9.78977132e-01   2.10228677e-02]\n",
      " [  9.75586584e-01   2.44134157e-02]\n",
      " [  1.00507916e-03   9.98994921e-01]\n",
      " [  9.79417141e-01   2.05828592e-02]\n",
      " [  1.34605249e-01   8.65394751e-01]\n",
      " [  9.80653219e-01   1.93467805e-02]\n",
      " [  9.69301360e-01   3.06986397e-02]\n",
      " [  9.73552002e-01   2.64479983e-02]\n",
      " [  7.94456015e-01   2.05543985e-01]\n",
      " [  9.80594656e-01   1.94053440e-02]\n",
      " [  9.78226494e-01   2.17735061e-02]\n",
      " [  9.68860323e-01   3.11396771e-02]\n",
      " [  3.91617006e-02   9.60838299e-01]\n",
      " [  3.30157568e-04   9.99669842e-01]\n",
      " [  9.81713646e-01   1.82863544e-02]\n",
      " [  2.84365364e-01   7.15634636e-01]\n",
      " [  9.76978089e-01   2.30219110e-02]\n",
      " [  2.18360030e-02   9.78163997e-01]\n",
      " [  7.38467755e-01   2.61532245e-01]\n",
      " [  9.76908663e-01   2.30913373e-02]\n",
      " [  9.79479184e-01   2.05208164e-02]\n",
      " [  9.82821359e-01   1.71786405e-02]\n",
      " [  9.66071061e-01   3.39289390e-02]\n",
      " [  3.47437778e-03   9.96525622e-01]\n",
      " [  2.93820922e-03   9.97061791e-01]\n",
      " [  9.82716973e-01   1.72830274e-02]\n",
      " [  1.15142764e-02   9.88485724e-01]\n",
      " [  7.25473565e-03   9.92745264e-01]\n",
      " [  3.27026005e-02   9.67297400e-01]\n",
      " [  1.19892203e-03   9.98801078e-01]\n",
      " [  6.58474177e-01   3.41525823e-01]\n",
      " [  1.01266036e-01   8.98733964e-01]\n",
      " [  9.63181703e-01   3.68182966e-02]\n",
      " [  9.68664840e-01   3.13351597e-02]\n",
      " [  9.47937417e-01   5.20625834e-02]\n",
      " [  9.67675599e-01   3.23244008e-02]\n",
      " [  9.56132712e-01   4.38672885e-02]\n",
      " [  9.78226494e-01   2.17735061e-02]\n",
      " [  1.36237480e-03   9.98637625e-01]\n",
      " [  8.14283113e-03   9.91857169e-01]\n",
      " [  1.86098559e-04   9.99813901e-01]\n",
      " [  9.82769244e-01   1.72307563e-02]\n",
      " [  9.75913740e-01   2.40862601e-02]\n",
      " [  9.82769244e-01   1.72307563e-02]\n",
      " [  1.55677260e-02   9.84432274e-01]\n",
      " [  9.76978089e-01   2.30219110e-02]\n",
      " [  9.70204156e-01   2.97958440e-02]\n",
      " [  3.98316739e-02   9.60168326e-01]\n",
      " [  6.55603218e-01   3.44396782e-01]\n",
      " [  8.93755270e-01   1.06244730e-01]\n",
      " [  2.81839844e-03   9.97181602e-01]\n",
      " [  5.05623881e-01   4.94376119e-01]\n",
      " [  9.81713646e-01   1.82863544e-02]\n",
      " [  5.99633458e-03   9.94003665e-01]\n",
      " [  1.15215352e-04   9.99884785e-01]\n",
      " [  9.80594656e-01   1.94053440e-02]\n",
      " [  9.81713646e-01   1.82863544e-02]\n",
      " [  9.75576528e-01   2.44234724e-02]\n",
      " [  9.67131208e-01   3.28687921e-02]\n",
      " [  9.75576528e-01   2.44234724e-02]\n",
      " [  9.82769244e-01   1.72307563e-02]\n",
      " [  9.69313086e-01   3.06869140e-02]\n",
      " [  9.77227912e-01   2.27720883e-02]\n",
      " [  9.72613074e-01   2.73869262e-02]\n",
      " [  9.73222189e-01   2.67778110e-02]\n",
      " [  4.39724059e-02   9.56027594e-01]\n",
      " [  9.75455438e-01   2.45445621e-02]\n",
      " [  9.69301360e-01   3.06986397e-02]\n",
      " [  9.75841183e-01   2.41588168e-02]\n",
      " [  9.72571344e-01   2.74286558e-02]\n",
      " [  9.77047312e-01   2.29526885e-02]\n",
      " [  1.61161781e-03   9.98388382e-01]]\n"
     ]
    }
   ],
   "source": [
    "# generate class probabilities\n",
    "probs = model2.predict_proba(X_test)\n",
    "print probs"
   ]
  },
  {
   "cell_type": "code",
   "execution_count": 213,
   "metadata": {
    "collapsed": false
   },
   "outputs": [
    {
     "name": "stdout",
     "output_type": "stream",
     "text": [
      "[2 2 4 4 2 2 2 4 2 2 4 2 4 2 2 2 4 4 4 2 2 2 4 2 4 4 2 2 2 4 2 4 4 2 2 2 4\n",
      " 4 2 4 2 2 2 2 2 2 2 4 2 2 4 2 4 2 2 2 4 4 2 4 2 2 2 2 2 2 2 2 4 4 2 2 2 2\n",
      " 2 2 4 2 2 2 4 2 4 2 2 4 2 4 4 2 4 2 4 2 2 4 4 4 2 2 2 2 4 4 2 2 4 2 2 2 4\n",
      " 2 2 4 2 2 2 2 2 2 2 4 2 2 4 4 2 4 2 4 2 2 4 2 2 4 2 4 2 2 2 2 2 2 2 4 4 2\n",
      " 4 2 4 2 2 2 2 2 4 4 2 4 4 4 4 2 4 2 2 2 2 2 2 4 4 4 2 2 2 4 2 2 4 2 2 4 2\n",
      " 2 4 4 2 2 2 2 2 2 2 2 2 2 4 2 2 2 2 2 4]\n"
     ]
    }
   ],
   "source": [
    "predicted = model2.predict(X_test)\n",
    "print predicted"
   ]
  },
  {
   "cell_type": "code",
   "execution_count": 214,
   "metadata": {
    "collapsed": false
   },
   "outputs": [
    {
     "name": "stdout",
     "output_type": "stream",
     "text": [
      "0.936585365854\n"
     ]
    }
   ],
   "source": [
    "# generate evaluation metrics\n",
    "print metrics.accuracy_score(y_test, predicted)\n"
   ]
  },
  {
   "cell_type": "code",
   "execution_count": 167,
   "metadata": {
    "collapsed": false
   },
   "outputs": [
    {
     "name": "stdout",
     "output_type": "stream",
     "text": [
      "[[126   4]\n",
      " [  9  66]]\n",
      "             precision    recall  f1-score   support\n",
      "\n",
      "          2       0.93      0.97      0.95       130\n",
      "          4       0.94      0.88      0.91        75\n",
      "\n",
      "avg / total       0.94      0.94      0.94       205\n",
      "\n"
     ]
    }
   ],
   "source": [
    "print metrics.confusion_matrix(y_test, predicted)\n",
    "print metrics.classification_report(y_test, predicted)"
   ]
  },
  {
   "cell_type": "markdown",
   "metadata": {},
   "source": [
    "# Cross-validate model using 10-fold cross-validation"
   ]
  },
  {
   "cell_type": "code",
   "execution_count": 168,
   "metadata": {
    "collapsed": false
   },
   "outputs": [
    {
     "name": "stdout",
     "output_type": "stream",
     "text": [
      "[ 0.91304348  0.91304348  0.94202899  0.94202899  0.98529412  0.97058824\n",
      "  0.97058824  0.98529412  0.98529412  1.        ]\n",
      "0.960720375107\n"
     ]
    }
   ],
   "source": [
    "# evaluate the model using 10-fold cross-validation\n",
    "scores = cross_val_score(LogisticRegression(), X, y, scoring='accuracy', cv=10)\n",
    "print scores\n",
    "print scores.mean()"
   ]
  },
  {
   "cell_type": "markdown",
   "metadata": {},
   "source": [
    "# Cross-validating using SVM"
   ]
  },
  {
   "cell_type": "code",
   "execution_count": 220,
   "metadata": {
    "collapsed": false
   },
   "outputs": [
    {
     "data": {
      "text/plain": [
       "array([ 0.94890511,  0.94890511,  0.97810219,  0.97080292,  0.98518519])"
      ]
     },
     "execution_count": 220,
     "metadata": {},
     "output_type": "execute_result"
    }
   ],
   "source": [
    "from sklearn import svm\n",
    "B = canc[[\"clump_thick\", \"uni_cell_size\", \"uni_cell_shape\", \"marg_adhesion\", \"sing_epi_cell_size\", \"bare_nuclei\", \"bland_chrom\", \"norm_nuclei\", \"mitosis\"]]\n",
    "a = canc.status\n",
    "B_train, B_test, a_train, a_test = train_test_split(B, a, test_size=0.3, random_state=0)\n",
    "\n",
    "\n",
    "clf = svm.SVC(kernel='linear', C=1)\n",
    "scores = cross_val_score(clf, B, a, cv=5)\n",
    "scores    \n"
   ]
  },
  {
   "cell_type": "code",
   "execution_count": 203,
   "metadata": {
    "collapsed": false
   },
   "outputs": [
    {
     "name": "stdout",
     "output_type": "stream",
     "text": [
      "Accuracy: 0.97 (+/- 0.03)\n"
     ]
    }
   ],
   "source": [
    "print(\"Accuracy: %0.2f (+/- %0.2f)\" % (scores.mean(), scores.std() * 2))"
   ]
  },
  {
   "cell_type": "markdown",
   "metadata": {},
   "source": [
    "# Attempting to Plot...but failing"
   ]
  },
  {
   "cell_type": "code",
   "execution_count": 218,
   "metadata": {
    "collapsed": false
   },
   "outputs": [
    {
     "ename": "TypeError",
     "evalue": "'module' object is not callable",
     "output_type": "error",
     "traceback": [
      "\u001b[0;31m---------------------------------------------------------------------------\u001b[0m",
      "\u001b[0;31mTypeError\u001b[0m                                 Traceback (most recent call last)",
      "\u001b[0;32m<ipython-input-218-5f7e971d4760>\u001b[0m in \u001b[0;36m<module>\u001b[0;34m()\u001b[0m\n\u001b[1;32m      2\u001b[0m classifiers = {'L1 logistic': LogisticRegression(C=C, penalty='l1'),\n\u001b[1;32m      3\u001b[0m                'Linear SVC': svm(kernel='linear', C=C, probability=True,\n\u001b[0;32m----> 4\u001b[0;31m                                  random_state=0)\n\u001b[0m\u001b[1;32m      5\u001b[0m                }\n\u001b[1;32m      6\u001b[0m \u001b[0;34m\u001b[0m\u001b[0m\n",
      "\u001b[0;31mTypeError\u001b[0m: 'module' object is not callable"
     ]
    }
   ],
   "source": [
    "C=1.0\n",
    "classifiers = {'L1 logistic': LogisticRegression(C=C, penalty='l1'),\n",
    "               'Linear SVC': svm(kernel='linear', C=C, probability=True,\n",
    "                                 random_state=0)\n",
    "               }\n",
    "\n",
    "n_classifiers = len(classifiers)\n",
    "\n",
    "plt.figure(figsize=(3 * 2, n_classifiers * 2))\n",
    "plt.subplots_adjust(bottom=.2, top=.95)\n",
    "\n",
    "xx = np.linspace(3, 9, 100)\n",
    "yy = np.linspace(1, 5, 100).T\n",
    "xx, yy = np.meshgrid(xx, yy)\n",
    "\n",
    "for index, (name, classifier) in enumerate(classifiers.items()):\n",
    "    classifier.fit(X, y)\n",
    "\n",
    "    y_pred = classifier.predict(X)\n",
    "    classif_rate = np.mean(y_pred.ravel() == y.ravel()) * 100\n",
    "    print(\"classif_rate for %s : %f \" % (name, classif_rate))\n",
    "\n",
    "    # View probabilities=\n",
    "    probas = classifier.predict_proba(Xfull)\n",
    "    n_classes = np.unique(y_pred).size\n",
    "    for k in range(n_classes):\n",
    "        plt.subplot(n_classifiers, n_classes, index * n_classes + k + 1)\n",
    "        plt.title(\"Class %d\" % k)\n",
    "        if k == 0:\n",
    "            plt.ylabel(name)\n",
    "        imshow_handle = plt.imshow(probas[:, k].reshape((100, 100)),\n",
    "                                   extent=(3, 9, 1, 5), origin='lower')\n",
    "        plt.xticks(())\n",
    "        plt.yticks(())\n",
    "        idx = (y_pred == k)\n",
    "        if idx.any():\n",
    "            plt.scatter(X[idx, 0], X[idx, 1], marker='o', c='k')\n",
    "\n",
    "ax = plt.axes([0.15, 0.04, 0.7, 0.05])\n",
    "plt.title(\"Probability\")\n",
    "plt.colorbar(imshow_handle, cax=ax, orientation='horizontal')\n",
    "\n",
    "plt.show()"
   ]
  },
  {
   "cell_type": "code",
   "execution_count": null,
   "metadata": {
    "collapsed": true
   },
   "outputs": [],
   "source": []
  }
 ],
 "metadata": {
  "anaconda-cloud": {},
  "kernelspec": {
   "display_name": "Python [py2-env]",
   "language": "python",
   "name": "Python [py2-env]"
  },
  "language_info": {
   "codemirror_mode": {
    "name": "ipython",
    "version": 2
   },
   "file_extension": ".py",
   "mimetype": "text/x-python",
   "name": "python",
   "nbconvert_exporter": "python",
   "pygments_lexer": "ipython2",
   "version": "2.7.12"
  }
 },
 "nbformat": 4,
 "nbformat_minor": 0
}
