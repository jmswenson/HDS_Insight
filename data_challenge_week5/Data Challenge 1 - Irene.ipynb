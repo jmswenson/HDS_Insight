{
 "cells": [
  {
   "cell_type": "code",
   "execution_count": 192,
   "metadata": {
    "collapsed": true
   },
   "outputs": [],
   "source": [
    "import matplotlib.pyplot as plt\n",
    "import numpy as np\n",
    "import pandas as pd\n",
    "from sklearn import datasets, linear_model\n",
    "import random\n",
    "import pylab as pl\n",
    "%matplotlib inline"
   ]
  },
  {
   "cell_type": "markdown",
   "metadata": {},
   "source": [
    "### Goal: Develop a model that predicts whether a biopsied breast cell is benign (not harmful) or malignant (cancerous), given a set of attributes about the cell. \n",
    "\n",
    "Note that there are 9 features varying from 1-10.\n",
    "\n",
    "2 is benign and 4 is malignant \n",
    "### Begin with importing the data and exploring what it looks like:"
   ]
  },
  {
   "cell_type": "code",
   "execution_count": 78,
   "metadata": {
    "collapsed": false
   },
   "outputs": [
    {
     "name": "stdout",
     "output_type": "stream",
     "text": [
      "Index([u'sample_num', u'clump_thickness', u'size_uniformity',\n",
      "       u'shape_uniformity', u'adhesion', u'single_epithelial_cellsize',\n",
      "       u'bare_nuclei', u'bland_chromatin', u'normal_nucleoli', u'mitoses',\n",
      "       u'outcome'],\n",
      "      dtype='object')\n"
     ]
    }
   ],
   "source": [
    "## Start by importing the data into a pandas dataframe\n",
    "data_df = pd.read_csv(\"breast-cancer-wisconsin-data.csv\")\n",
    "print data_df.columns "
   ]
  },
  {
   "cell_type": "code",
   "execution_count": 87,
   "metadata": {
    "collapsed": false
   },
   "outputs": [
    {
     "name": "stdout",
     "output_type": "stream",
     "text": [
      "count     699\n",
      "unique     11\n",
      "top         1\n",
      "freq      402\n",
      "Name: bare_nuclei, dtype: object\n",
      "['1' '10' '2' '4' '3' '9' '7' '?' '5' '8' '6']\n"
     ]
    }
   ],
   "source": [
    "## Check whether all of the entries are indeed integers between 1 and 10:\n",
    "print data_df.bare_nuclei.describe() \n",
    "## bare_nuclei has 11 unique values, indicating that it has more than just 1-10\n",
    "## In fact, 16 entries have an unknown bare_nuclei value\n",
    "print data_df.bare_nuclei.unique()"
   ]
  },
  {
   "cell_type": "code",
   "execution_count": 86,
   "metadata": {
    "collapsed": false
   },
   "outputs": [],
   "source": [
    "## Group the data according to outcome (benign vs malignant):\n",
    "benign_data = data_df[data_df.outcome == 2]\n",
    "malignant_data = data_df[data_df.outcome == 4]"
   ]
  },
  {
   "cell_type": "code",
   "execution_count": 81,
   "metadata": {
    "collapsed": false
   },
   "outputs": [
    {
     "name": "stdout",
     "output_type": "stream",
     "text": [
      "458\n",
      "241\n",
      "34.0\n"
     ]
    }
   ],
   "source": [
    "## Check whether the data has been correctly grouped (i.e., the dataframes add up to 699)\n",
    "print len(benign_data)\n",
    "print len(malignant_data)\n",
    "print float(100*241/699)  ## 34% of the data is malignant"
   ]
  },
  {
   "cell_type": "code",
   "execution_count": 47,
   "metadata": {
    "collapsed": false
   },
   "outputs": [
    {
     "data": {
      "text/plain": [
       "<matplotlib.axes.AxesSubplot at 0x7f420ba7c590>"
      ]
     },
     "execution_count": 47,
     "metadata": {},
     "output_type": "execute_result"
    },
    {
     "data": {
      "image/png": "[encoded data removed]",
      "text/plain": [
       "<matplotlib.figure.Figure at 0x7f420bae7610>"
      ]
     },
     "metadata": {},
     "output_type": "display_data"
    }
   ],
   "source": [
    "## Plot some of the data:\n",
    "ax = benign_data.plot(x='size_uniformity', y='clump_thickness', kind='scatter', marker='x', color='r')\n",
    "malignant_data.plot(x='size_uniformity', y='clump_thickness', kind='scatter', marker='o', ax=ax)"
   ]
  },
  {
   "cell_type": "code",
   "execution_count": 96,
   "metadata": {
    "collapsed": false
   },
   "outputs": [],
   "source": [
    "## Perhaps it's wise to remove the null data from the table (it's only 16 entries...)\n",
    "clean_benign_data = benign_data[(benign_data.bare_nuclei != '?')]\n",
    "clean_malignant_data = malignant_data[(malignant_data.bare_nuclei != '?')]\n",
    "clean_data = data_df[data_df.bare_nuclei != '?']"
   ]
  },
  {
   "cell_type": "markdown",
   "metadata": {},
   "source": [
    "### Now I'm going to split the data into training and test data, and try out some different models"
   ]
  },
  {
   "cell_type": "code",
   "execution_count": 171,
   "metadata": {
    "collapsed": false
   },
   "outputs": [
    {
     "name": "stdout",
     "output_type": "stream",
     "text": [
      "683\n",
      "[0 0 0 0 0 1 0 0 0 0]\n"
     ]
    }
   ],
   "source": [
    "X = clean_data.as_matrix(columns = ['clump_thickness', 'size_uniformity',\n",
    "       'shape_uniformity', 'adhesion', 'single_epithelial_cellsize',\n",
    "       'bare_nuclei', 'bland_chromatin', 'normal_nucleoli', 'mitoses'])\n",
    "y = clean_data.outcome.values\n",
    "reformat_y = []\n",
    "for num in y:\n",
    "    if num == 4:\n",
    "        reformat_y.append(1)\n",
    "    else:\n",
    "        reformat_y.append(0)\n",
    "reformat_y = np.array(reformat_y)\n",
    "print len(X)\n",
    "print reformat_y[0:10]"
   ]
  },
  {
   "cell_type": "code",
   "execution_count": 172,
   "metadata": {
    "collapsed": false
   },
   "outputs": [],
   "source": [
    "np.random.seed(0)\n",
    "indices = np.random.permutation(len(X))\n",
    "## I am going to use roughly 90% of my data to train a model (because there's limited data to begin with)\n",
    "X_train = X[indices[:-68]] \n",
    "y_train = reformat_y[indices[:-68]]\n",
    "X_test  = X[indices[-68:]]\n",
    "y_test  = reformat_y[indices[-68:]]"
   ]
  },
  {
   "cell_type": "code",
   "execution_count": 173,
   "metadata": {
    "collapsed": false
   },
   "outputs": [
    {
     "data": {
      "text/plain": [
       "KNeighborsClassifier(algorithm='auto', leaf_size=30, metric='minkowski',\n",
       "           metric_params=None, n_jobs=1, n_neighbors=5, p=2,\n",
       "           weights='uniform')"
      ]
     },
     "execution_count": 173,
     "metadata": {},
     "output_type": "execute_result"
    }
   ],
   "source": [
    "# KNeighbors Classifier digs through training set, finds the observation w/the most similar feature vector\n",
    "# I am choosing this classifier because I can't wrap my head around logistic regression w/9 features ...\n",
    "\n",
    "from sklearn.neighbors import KNeighborsClassifier\n",
    "knn = KNeighborsClassifier()\n",
    "knn.fit(X_train, y_train) \n",
    "KNeighborsClassifier(algorithm='auto', leaf_size=30, metric='minkowski',metric_params=None, n_jobs=1, \n",
    "                     n_neighbors=5, p=2, weights='uniform')"
   ]
  },
  {
   "cell_type": "code",
   "execution_count": 188,
   "metadata": {
    "collapsed": false
   },
   "outputs": [
    {
     "name": "stdout",
     "output_type": "stream",
     "text": [
      "[1 0 1 0 1 0 0 1 0 0 0 0 1 0 0 0 0 0 0 1 1 1 1 0 1 1 0 1 1 0 0 0 0 0 0 1 1\n",
      " 0 0 0 1 1 0 1 1 1 0 0 1 1 0 0 0 0 0 0 1 0 0 1 0 0 1 0 0 0 0 1]\n",
      "[1 0 1 0 1 0 0 1 0 0 0 0 1 0 0 0 1 0 0 1 1 1 1 0 1 1 0 1 1 0 0 0 0 0 0 1 0\n",
      " 0 0 0 1 1 0 1 1 1 0 0 1 1 0 0 0 0 0 0 1 0 0 1 0 0 1 0 0 0 0 1]\n"
     ]
    }
   ],
   "source": [
    "print knn.predict(X_test)\n",
    "print y_test\n",
    "knn_predict = knn.predict(X_test)"
   ]
  },
  {
   "cell_type": "code",
   "execution_count": 175,
   "metadata": {
    "collapsed": false
   },
   "outputs": [
    {
     "name": "stdout",
     "output_type": "stream",
     "text": [
      "0\n"
     ]
    }
   ],
   "source": [
    "## Determine the mean square error for the model:\n",
    "mean_sq_error = (((knn.predict(X_test) - y_test) ** 2).sum()) / len(knn.predict(X_test))\n",
    "print mean_sq_error"
   ]
  },
  {
   "cell_type": "code",
   "execution_count": 189,
   "metadata": {
    "collapsed": true
   },
   "outputs": [],
   "source": [
    "## I am not sure why the mean square error is zero. Perhaps precision and recall will tell me more useful info.\n",
    "\n",
    "from sklearn.metrics import precision_recall_curve\n",
    "from sklearn.metrics import average_precision_score\n",
    "from sklearn.metrics import precision_score\n",
    "from sklearn.metrics import recall_score\n",
    "from sklearn.metrics import f1_score"
   ]
  },
  {
   "cell_type": "code",
   "execution_count": 190,
   "metadata": {
    "collapsed": false
   },
   "outputs": [
    {
     "name": "stdout",
     "output_type": "stream",
     "text": [
      "0.961538461538\n",
      "0.961538461538\n",
      "0.961538461538\n"
     ]
    }
   ],
   "source": [
    "print recall_score(y_test, knn.predict(X_test), average='binary')\n",
    "print precision_score(y_test, knn.predict(X_test), average='binary')  \n",
    "print f1_score(y_test, knn.predict(X_test), average='binary')"
   ]
  },
  {
   "cell_type": "code",
   "execution_count": 191,
   "metadata": {
    "collapsed": false
   },
   "outputs": [
    {
     "name": "stdout",
     "output_type": "stream",
     "text": [
      "1.0\n",
      "0.962962962963\n",
      "0.981132075472\n"
     ]
    }
   ],
   "source": [
    "## Try to use Support Vector Machine and compare with above:\n",
    "\n",
    "from sklearn import svm\n",
    "clf = svm.SVC()\n",
    "clf.fit(X_train, y_train)\n",
    "svm_predict = clf.predict(X_test)\n",
    "print recall_score(y_test, svm_predict, average='binary')\n",
    "print precision_score(y_test, svm_predict, average='binary')\n",
    "print f1_score(y_test, svm_predict, average='binary')"
   ]
  },
  {
   "cell_type": "markdown",
   "metadata": {},
   "source": [
    "### My Conclusion: Both K Nearest Neighbors and SVM had a precision score around 96%. SVG outperformed K Nearest Neighbors in recall (100% vs 96%)."
   ]
  },
  {
   "cell_type": "code",
   "execution_count": 204,
   "metadata": {
    "collapsed": false
   },
   "outputs": [
    {
     "data": {
      "image/png": "[encoded data removed]",
      "text/plain": [
       "<matplotlib.figure.Figure at 0x7f420b810ad0>"
      ]
     },
     "metadata": {},
     "output_type": "display_data"
    }
   ],
   "source": [
    "## Following code is unfinished.  I wouldn't submit this with a normal data\n",
    "## challenge but wanted to keep it here for my own reference.\n",
    "\n",
    "# Compute Precision-Recall and plot curve\n",
    "from itertools import cycle\n",
    "precision = dict()\n",
    "recall = dict()\n",
    "average_precision = dict()\n",
    "n_classes = 2\n",
    "lw = 2\n",
    "colors = cycle(['navy', 'turquoise', 'darkorange', 'cornflowerblue', 'teal'])\n",
    "\n",
    "\n",
    "classifier = svm.SVC()\n",
    "y_score = classifier.fit(X_train, y_train).decision_function(X_test)\n",
    "\n",
    "for i in range(n_classes):\n",
    "    precision[i], recall[i], _ = precision_recall_curve(y_test, y_score)\n",
    "    average_precision[i] = average_precision_score(y_test, y_score)\n",
    "\n",
    "# Compute micro-average ROC curve and ROC area\n",
    "precision[\"micro\"], recall[\"micro\"], _ = precision_recall_curve(y_test.ravel(),\n",
    "    y_score.ravel())\n",
    "average_precision[\"micro\"] = average_precision_score(y_test, y_score,\n",
    "                                                     average=\"micro\")\n",
    "\n",
    "\n",
    "# Plot Precision-Recall curve\n",
    "plt.clf()\n",
    "plt.plot(recall[0], precision[0], lw=lw, color='navy',\n",
    "         label='Precision-Recall curve')\n",
    "plt.xlabel('Recall')\n",
    "plt.ylabel('Precision')\n",
    "plt.ylim([0.0, 1.05])\n",
    "plt.xlim([0.0, 1.0])\n",
    "plt.title('Precision-Recall: AUC={0:0.2f}'.format(average_precision[0]))\n",
    "plt.legend(loc=\"lower left\")\n",
    "plt.show()"
   ]
  },
  {
   "cell_type": "markdown",
   "metadata": {},
   "source": [
    "#### Note that the precision-recall curve of class 0 should be the same as class 1 because I tested a binary classifier ..."
   ]
  }
 ],
 "metadata": {
  "kernelspec": {
   "display_name": "Python 2",
   "language": "python",
   "name": "python2"
  },
  "language_info": {
   "codemirror_mode": {
    "name": "ipython",
    "version": 2
   },
   "file_extension": ".py",
   "mimetype": "text/x-python",
   "name": "python",
   "nbconvert_exporter": "python",
   "pygments_lexer": "ipython2",
   "version": "2.7.6"
  }
 },
 "nbformat": 4,
 "nbformat_minor": 1
}
