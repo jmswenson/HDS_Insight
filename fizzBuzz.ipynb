{
 "cells": [
  {
   "cell_type": "code",
   "execution_count": 11,
   "metadata": {
    "collapsed": true
   },
   "outputs": [],
   "source": [
    "    def fizzBuzz(n):\n",
    "        \"\"\"\n",
    "        :type n: int\n",
    "        :rtype: List[str]\n",
    "        \"\"\"\n",
    "        #output = []\n",
    "        #for inte_ in xrange(1,n+1):\n",
    "        #    if inte_%3 == 0 and inte_%5 == 0:\n",
    "        #        output.append(\"FizzBuzz\")\n",
    "        #    elif inte_%3 == 0:\n",
    "        #        output.append(\"Fizz\")\n",
    "        #    elif inte_%5 == 0:\n",
    "        #        output.append(\"Buzz\")\n",
    "        #    else:\n",
    "        #        output.append(str(inte_))\n",
    "        #return output\n",
    "        list_out = [\"\"]*(n)\n",
    "        for num in xrange(1,n+1):\n",
    "            if num%3 == 0 and num%5 == 0:\n",
    "                list_out[num-1] = \"FizzBuzz\"\n",
    "            elif num%3 == 0:\n",
    "                list_out[num-1] = \"Fizz\"\n",
    "            elif num%5 == 0:\n",
    "                list_out[num-1] = \"Buzz\"\n",
    "            else:\n",
    "                list_out[num-1] = str(num)\n",
    "        return list_out\n"
   ]
  },
  {
   "cell_type": "code",
   "execution_count": 12,
   "metadata": {
    "collapsed": false
   },
   "outputs": [
    {
     "data": {
      "text/plain": [
       "['1',\n",
       " '2',\n",
       " 'Fizz',\n",
       " '4',\n",
       " 'Buzz',\n",
       " 'Fizz',\n",
       " '7',\n",
       " '8',\n",
       " 'Fizz',\n",
       " 'Buzz',\n",
       " '11',\n",
       " 'Fizz',\n",
       " '13',\n",
       " '14',\n",
       " 'FizzBuzz',\n",
       " '16']"
      ]
     },
     "execution_count": 12,
     "metadata": {},
     "output_type": "execute_result"
    }
   ],
   "source": [
    "fizzBuzz(16)"
   ]
  },
  {
   "cell_type": "code",
   "execution_count": null,
   "metadata": {
    "collapsed": true
   },
   "outputs": [],
   "source": []
  },
  {
   "cell_type": "code",
   "execution_count": 4,
   "metadata": {
    "collapsed": true
   },
   "outputs": [],
   "source": [
    "n=3"
   ]
  },
  {
   "cell_type": "code",
   "execution_count": 7,
   "metadata": {
    "collapsed": false
   },
   "outputs": [
    {
     "name": "stdout",
     "output_type": "stream",
     "text": [
      "1\n",
      "2\n",
      "3\n",
      "['1', '2', 'Fizz']\n"
     ]
    }
   ],
   "source": [
    "        list_out = [\"\"]*(n)\n",
    "        for num in xrange(1,n+1):\n",
    "            print(num)\n",
    "            if num%3 == 0 and num%5 == 0:\n",
    "                list_out[num-1] = \"FizzBuzz\"\n",
    "            elif num%3 == 0:\n",
    "                list_out[num-1] = \"Fizz\"\n",
    "            elif num%5 == 0:\n",
    "                list_out[num-1] = \"Buzz\"\n",
    "            else:\n",
    "                list_out[num-1] = str(num)\n",
    "        print list_out\n"
   ]
  },
  {
   "cell_type": "code",
   "execution_count": null,
   "metadata": {
    "collapsed": true
   },
   "outputs": [],
   "source": []
  }
 ],
 "metadata": {
  "anaconda-cloud": {},
  "kernelspec": {
   "display_name": "Python [py2-env]",
   "language": "python",
   "name": "Python [py2-env]"
  },
  "language_info": {
   "codemirror_mode": {
    "name": "ipython",
    "version": 2
   },
   "file_extension": ".py",
   "mimetype": "text/x-python",
   "name": "python",
   "nbconvert_exporter": "python",
   "pygments_lexer": "ipython2",
   "version": "2.7.12"
  }
 },
 "nbformat": 4,
 "nbformat_minor": 0
}
