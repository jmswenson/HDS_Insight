{
 "cells": [
  {
   "cell_type": "markdown",
   "metadata": {},
   "source": [
    "# As expected without scaling the data it is very very hard to cluster since absolute size of the feature is not indicitive of its effectiveness "
   ]
  },
  {
   "cell_type": "markdown",
   "metadata": {},
   "source": [
    "# Try DBSCAN on PCAd and non-PCAd data"
   ]
  },
  {
   "cell_type": "code",
   "execution_count": 1,
   "metadata": {
    "collapsed": true
   },
   "outputs": [],
   "source": [
    "import os\n",
    "import glob\n",
    "\n",
    "import numpy as np\n",
    "import pandas as pd\n",
    "import matplotlib.pyplot as plt\n",
    "import seaborn as sns\n",
    "\n",
    "\n",
    "from sklearn import decomposition, metrics\n",
    "from sklearn.preprocessing import scale, robust_scale\n",
    "from sklearn.cluster import DBSCAN\n",
    "#from sklearn.manifold import TSNE\n",
    "%matplotlib inline"
   ]
  },
  {
   "cell_type": "code",
   "execution_count": null,
   "metadata": {
    "collapsed": true
   },
   "outputs": [],
   "source": []
  },
  {
   "cell_type": "code",
   "execution_count": 2,
   "metadata": {
    "collapsed": true
   },
   "outputs": [],
   "source": [
    "# Read in data\n",
    "filename = '/Users/tswenson/Documents/Joels/Health_Data_Science/COMPANY_consulting_project/datasets/merged_csvs/LABELLED_by_cell_type_screen_525_cell_plate_1_well_c03.csv'\n",
    "my_data=pd.read_csv(filename, index_col=0)"
   ]
  },
  {
   "cell_type": "code",
   "execution_count": 3,
   "metadata": {
    "collapsed": true
   },
   "outputs": [],
   "source": [
    "# Find data columns\n",
    "my_data_headers = list(my_data)\n",
    "meta_headers = [\"Width\",\"cell_label\",\"cell_plate\",\"lineage\",\"screen\",\"well\",\"Time\"]\n",
    "my_data_data_headers = [x for x in my_data_headers if not x in meta_headers]\n",
    "# Scale the data columns\n",
    "my_scaled_data = robust_scale(my_data[my_data_data_headers])\n",
    "# Make a list where cell_label is converted to numbers for plotting\n",
    "word_as_num=[]\n",
    "for word in my_data['cell_label']:\n",
    "    if word == \"unlabelled\":\n",
    "        word_as_num.append(\"0\")\n",
    "    if word == \"blast\":\n",
    "        word_as_num.append(\"0.5\")\n",
    "    if word == \"healthy\":\n",
    "        word_as_num.append(\"1\")"
   ]
  },
  {
   "cell_type": "markdown",
   "metadata": {},
   "source": [
    "# Check results without doing PCA or scaling"
   ]
  },
  {
   "cell_type": "code",
   "execution_count": 4,
   "metadata": {
    "collapsed": false
   },
   "outputs": [],
   "source": [
    "my_scaled_data_transformed_pd = my_data[my_data_data_headers]"
   ]
  },
  {
   "cell_type": "markdown",
   "metadata": {},
   "source": [
    "# Automate the above and play with the hyper-parameters"
   ]
  },
  {
   "cell_type": "code",
   "execution_count": 14,
   "metadata": {
    "collapsed": true
   },
   "outputs": [],
   "source": [
    "eps_param = [0.1, 0.2, 0.3, 0.4, 0.5, 0.6, 0.7, 0.8, 0.9, 1, 1.4, 1.8, 3, 6, 12]\n",
    "algorithm_ = [\"auto\", \"ball_tree\",\"kd_tree\",\"brute\"]\n",
    "metric_ = [\"euclidean\",\"cityblock\",\"l1\",\"l2\",\"manhattan\",\\\n",
    "           \"chebyshev\", \"braycurtis\", \"canberra\",\\\n",
    "           \"dice\", \"hamming\", \"jaccard\", \"kulsinski\", \\\n",
    "           \"matching\", \"rogerstanimoto\", \"russellrao\",\\\n",
    "           \"sokalmichener\", \"sokalsneath\"]\n",
    "# metric not run with auto: \"cosine\", \"correlation\", \"mahalanobis\", \\\n",
    "# \"minkowski\", \"seuclidean\", \"sqeuclidean\", \"yule\"\n",
    "# \"braycurtis\", \"canberra\" only run with auto and ball_tree"
   ]
  },
  {
   "cell_type": "code",
   "execution_count": 23,
   "metadata": {
    "collapsed": false
   },
   "outputs": [
    {
     "data": {
      "text/plain": [
       "[10000.0,\n",
       " 510000.0,\n",
       " 1010000.0,\n",
       " 1510000.0,\n",
       " 2010000.0,\n",
       " 2510000.0,\n",
       " 3010000.0,\n",
       " 3510000.0,\n",
       " 4010000.0,\n",
       " 4510000.0,\n",
       " 5010000.0,\n",
       " 5510000.0,\n",
       " 6010000.0,\n",
       " 6510000.0,\n",
       " 7010000.0,\n",
       " 7510000.0,\n",
       " 8010000.0,\n",
       " 8510000.0,\n",
       " 9010000.0,\n",
       " 9510000.0]"
      ]
     },
     "execution_count": 23,
     "metadata": {},
     "output_type": "execute_result"
    }
   ],
   "source": [
    "eps_param = [float(x)/1 for x in list(range(10000,10000000,500000))]\n",
    "eps_param"
   ]
  },
  {
   "cell_type": "code",
   "execution_count": 24,
   "metadata": {
    "collapsed": false
   },
   "outputs": [],
   "source": [
    "metric_auto_only = [ \"braycurtis\", \"canberra\",\\\n",
    "           \"dice\", \"hamming\",\"jaccard\", \"kulsinski\", \\\n",
    "           \"matching\", \"rogerstanimoto\", \"russellrao\",\\\n",
    "           \"sokalmichener\", \"sokalsneath\", \"yule\"]"
   ]
  },
  {
   "cell_type": "code",
   "execution_count": 25,
   "metadata": {
    "collapsed": false
   },
   "outputs": [
    {
     "name": "stdout",
     "output_type": "stream",
     "text": [
      "Starting DBSCAN with EPS of 10000.0 ALGORITHM of auto distance METRIC of euclidean\n",
      "[[-1, 8399, 189, 493]]\n",
      "Done with iteration with EPS of 10000.0 ALGORITHM of auto distance METRIC of euclidean\n",
      "Starting DBSCAN with EPS of 510000.0 ALGORITHM of auto distance METRIC of euclidean\n",
      "[[-1, 172, 1, 0], [0, 8117, 188, 489], [1, 104, 0, 0], [2, 6, 0, 4]]\n",
      "Done with iteration with EPS of 510000.0 ALGORITHM of auto distance METRIC of euclidean\n",
      "Starting DBSCAN with EPS of 1010000.0 ALGORITHM of auto distance METRIC of euclidean\n",
      "[[-1, 59, 1, 0], [0, 8340, 188, 493]]\n",
      "Done with iteration with EPS of 1010000.0 ALGORITHM of auto distance METRIC of euclidean\n",
      "Starting DBSCAN with EPS of 1510000.0 ALGORITHM of auto distance METRIC of euclidean\n",
      "[[-1, 35, 1, 0], [0, 8364, 188, 493]]\n",
      "Done with iteration with EPS of 1510000.0 ALGORITHM of auto distance METRIC of euclidean\n",
      "Starting DBSCAN with EPS of 2010000.0 ALGORITHM of auto distance METRIC of euclidean\n"
     ]
    },
    {
     "ename": "KeyboardInterrupt",
     "evalue": "",
     "output_type": "error",
     "traceback": [
      "\u001b[0;31m---------------------------------------------------------------------------\u001b[0m",
      "\u001b[0;31mKeyboardInterrupt\u001b[0m                         Traceback (most recent call last)",
      "\u001b[0;32m<ipython-input-25-80dfd3391f70>\u001b[0m in \u001b[0;36m<module>\u001b[0;34m()\u001b[0m\n\u001b[1;32m      8\u001b[0m             \u001b[0;31m# Do DBSCAN on the PCAd data\u001b[0m\u001b[0;34m\u001b[0m\u001b[0;34m\u001b[0m\u001b[0m\n\u001b[1;32m      9\u001b[0m             \u001b[0;32mprint\u001b[0m\u001b[0;34m(\u001b[0m\u001b[0;34m\"Starting DBSCAN with EPS of \"\u001b[0m \u001b[0;34m+\u001b[0m \u001b[0mstr\u001b[0m\u001b[0;34m(\u001b[0m\u001b[0meps_\u001b[0m\u001b[0;34m)\u001b[0m \u001b[0;34m+\u001b[0m \u001b[0;34m\" ALGORITHM of \"\u001b[0m \u001b[0;34m+\u001b[0m \u001b[0malgo\u001b[0m                 \u001b[0;34m+\u001b[0m \u001b[0;34m\" distance METRIC of \"\u001b[0m \u001b[0;34m+\u001b[0m \u001b[0mmet\u001b[0m\u001b[0;34m)\u001b[0m\u001b[0;34m\u001b[0m\u001b[0m\n\u001b[0;32m---> 10\u001b[0;31m             \u001b[0mdbsc\u001b[0m \u001b[0;34m=\u001b[0m \u001b[0mDBSCAN\u001b[0m\u001b[0;34m(\u001b[0m\u001b[0meps\u001b[0m \u001b[0;34m=\u001b[0m \u001b[0meps_\u001b[0m\u001b[0;34m,\u001b[0m\u001b[0mmin_samples\u001b[0m\u001b[0;34m=\u001b[0m\u001b[0;36m10\u001b[0m\u001b[0;34m,\u001b[0m \u001b[0malgorithm\u001b[0m \u001b[0;34m=\u001b[0m \u001b[0malgo\u001b[0m\u001b[0;34m,\u001b[0m \u001b[0mmetric\u001b[0m \u001b[0;34m=\u001b[0m \u001b[0mmet\u001b[0m\u001b[0;34m)\u001b[0m\u001b[0;34m.\u001b[0m\u001b[0mfit\u001b[0m\u001b[0;34m(\u001b[0m\u001b[0mmy_scaled_data_transformed_pd\u001b[0m\u001b[0;34m)\u001b[0m\u001b[0;34m\u001b[0m\u001b[0m\n\u001b[0m\u001b[1;32m     11\u001b[0m             \u001b[0mlabels\u001b[0m \u001b[0;34m=\u001b[0m \u001b[0mdbsc\u001b[0m\u001b[0;34m.\u001b[0m\u001b[0mlabels_\u001b[0m\u001b[0;34m\u001b[0m\u001b[0m\n\u001b[1;32m     12\u001b[0m             \u001b[0mcore_samples\u001b[0m \u001b[0;34m=\u001b[0m \u001b[0mnp\u001b[0m\u001b[0;34m.\u001b[0m\u001b[0mzeros_like\u001b[0m\u001b[0;34m(\u001b[0m\u001b[0mlabels\u001b[0m\u001b[0;34m,\u001b[0m \u001b[0mdtype\u001b[0m \u001b[0;34m=\u001b[0m \u001b[0mbool\u001b[0m\u001b[0;34m)\u001b[0m\u001b[0;34m\u001b[0m\u001b[0m\n",
      "\u001b[0;32m//anaconda/envs/py2-env/lib/python2.7/site-packages/sklearn/cluster/dbscan_.pyc\u001b[0m in \u001b[0;36mfit\u001b[0;34m(self, X, y, sample_weight)\u001b[0m\n\u001b[1;32m    263\u001b[0m         \"\"\"\n\u001b[1;32m    264\u001b[0m         \u001b[0mX\u001b[0m \u001b[0;34m=\u001b[0m \u001b[0mcheck_array\u001b[0m\u001b[0;34m(\u001b[0m\u001b[0mX\u001b[0m\u001b[0;34m,\u001b[0m \u001b[0maccept_sparse\u001b[0m\u001b[0;34m=\u001b[0m\u001b[0;34m'csr'\u001b[0m\u001b[0;34m)\u001b[0m\u001b[0;34m\u001b[0m\u001b[0m\n\u001b[0;32m--> 265\u001b[0;31m         \u001b[0mclust\u001b[0m \u001b[0;34m=\u001b[0m \u001b[0mdbscan\u001b[0m\u001b[0;34m(\u001b[0m\u001b[0mX\u001b[0m\u001b[0;34m,\u001b[0m \u001b[0msample_weight\u001b[0m\u001b[0;34m=\u001b[0m\u001b[0msample_weight\u001b[0m\u001b[0;34m,\u001b[0m \u001b[0;34m**\u001b[0m\u001b[0mself\u001b[0m\u001b[0;34m.\u001b[0m\u001b[0mget_params\u001b[0m\u001b[0;34m(\u001b[0m\u001b[0;34m)\u001b[0m\u001b[0;34m)\u001b[0m\u001b[0;34m\u001b[0m\u001b[0m\n\u001b[0m\u001b[1;32m    266\u001b[0m         \u001b[0mself\u001b[0m\u001b[0;34m.\u001b[0m\u001b[0mcore_sample_indices_\u001b[0m\u001b[0;34m,\u001b[0m \u001b[0mself\u001b[0m\u001b[0;34m.\u001b[0m\u001b[0mlabels_\u001b[0m \u001b[0;34m=\u001b[0m \u001b[0mclust\u001b[0m\u001b[0;34m\u001b[0m\u001b[0m\n\u001b[1;32m    267\u001b[0m         \u001b[0;32mif\u001b[0m \u001b[0mlen\u001b[0m\u001b[0;34m(\u001b[0m\u001b[0mself\u001b[0m\u001b[0;34m.\u001b[0m\u001b[0mcore_sample_indices_\u001b[0m\u001b[0;34m)\u001b[0m\u001b[0;34m:\u001b[0m\u001b[0;34m\u001b[0m\u001b[0m\n",
      "\u001b[0;32m//anaconda/envs/py2-env/lib/python2.7/site-packages/sklearn/cluster/dbscan_.pyc\u001b[0m in \u001b[0;36mdbscan\u001b[0;34m(X, eps, min_samples, metric, algorithm, leaf_size, p, sample_weight, random_state)\u001b[0m\n\u001b[1;32m    144\u001b[0m         \u001b[0;31m# This has worst case O(n^2) memory complexity\u001b[0m\u001b[0;34m\u001b[0m\u001b[0;34m\u001b[0m\u001b[0m\n\u001b[1;32m    145\u001b[0m         neighborhoods = neighbors_model.radius_neighbors(X, eps,\n\u001b[0;32m--> 146\u001b[0;31m                                                          return_distance=False)\n\u001b[0m\u001b[1;32m    147\u001b[0m \u001b[0;34m\u001b[0m\u001b[0m\n\u001b[1;32m    148\u001b[0m     \u001b[0;32mif\u001b[0m \u001b[0msample_weight\u001b[0m \u001b[0;32mis\u001b[0m \u001b[0mNone\u001b[0m\u001b[0;34m:\u001b[0m\u001b[0;34m\u001b[0m\u001b[0m\n",
      "\u001b[0;32m//anaconda/envs/py2-env/lib/python2.7/site-packages/sklearn/neighbors/base.pyc\u001b[0m in \u001b[0;36mradius_neighbors\u001b[0;34m(self, X, radius, return_distance)\u001b[0m\n\u001b[1;32m    636\u001b[0m                     \"or set algorithm='brute'\" % self._fit_method)\n\u001b[1;32m    637\u001b[0m             results = self._tree.query_radius(X, radius,\n\u001b[0;32m--> 638\u001b[0;31m                                               return_distance=return_distance)\n\u001b[0m\u001b[1;32m    639\u001b[0m             \u001b[0;32mif\u001b[0m \u001b[0mreturn_distance\u001b[0m\u001b[0;34m:\u001b[0m\u001b[0;34m\u001b[0m\u001b[0m\n\u001b[1;32m    640\u001b[0m                 \u001b[0mresults\u001b[0m \u001b[0;34m=\u001b[0m \u001b[0mresults\u001b[0m\u001b[0;34m[\u001b[0m\u001b[0;34m:\u001b[0m\u001b[0;34m:\u001b[0m\u001b[0;34m-\u001b[0m\u001b[0;36m1\u001b[0m\u001b[0;34m]\u001b[0m\u001b[0;34m\u001b[0m\u001b[0m\n",
      "\u001b[0;31mKeyboardInterrupt\u001b[0m: "
     ]
    }
   ],
   "source": [
    "for met in metric_:\n",
    "    for algo in algorithm_:\n",
    "        if met in metric_auto_only:\n",
    "            if algo != \"auto\":\n",
    "                continue\n",
    "        for eps_ in eps_param:\n",
    "            dbsc = None; labels = None; DB_PCA = None; DB_PCA_df = None;\n",
    "            # Do DBSCAN on the PCAd data\n",
    "            print(\"Starting DBSCAN with EPS of \" + str(eps_) + \" ALGORITHM of \" + algo\\\n",
    "                 + \" distance METRIC of \" + met)\n",
    "            dbsc = DBSCAN(eps = eps_,min_samples=10, algorithm = algo, metric = met).fit(my_scaled_data_transformed_pd)\n",
    "            labels = dbsc.labels_\n",
    "            core_samples = np.zeros_like(labels, dtype = bool)\n",
    "            core_samples[dbsc.core_sample_indices_] = True\n",
    "            unique_labels = np.unique(labels)\n",
    "\n",
    "            # Done with DBSCAN, plot it\n",
    "            DB_PCA = [] # This will be a list of lists where the 1st entry is the cluster ID, 2nd: is\n",
    "            ## how many \"unlabelled\" are in that cluster, 3rd: number of blast, 4th: number of healthy.\n",
    "            for i in xrange(len(unique_labels)):\n",
    "                clst_index = my_data['cell_label'][np.where(labels==unique_labels[i])[0]]\n",
    "                if clst_index.empty == True:\n",
    "                    print(\"Cluster index and original data don't line up right. STOP AND FIX\")\n",
    "                    break\n",
    "                DB_PCA.append([unique_labels[i],sum(clst_index=='unlabelled'),\n",
    "                                 sum(clst_index=='blast'),sum(clst_index=='healthy')])\n",
    "                #print(str(unique_labels2[i])+\"--\") # prints cluster name plus two \"--\"s\n",
    "                #print len(tsne_out_mink2[np.where(labels2==unique_labels2[i])[0],0]) # prints how many cells are in that cluster\n",
    "            print(DB_PCA) # This was print(tsne_db_2)\n",
    "\n",
    "            # Convert the list of lists to a pandas dataframe\n",
    "            DB_PCA_df = pd.DataFrame(DB_PCA,columns=[\"Cluster Label\",\"Unlabelled\",\"Blast\",\"Healthy\"])\n",
    "            DB_PCA_df_melted = pd.melt(DB_PCA_df,value_vars=[\"Unlabelled\",\"Blast\",\"Healthy\"],id_vars=\"Cluster Label\")\n",
    "\n",
    "            # Plot the results\n",
    "            plt.gcf().clear()\n",
    "            ax = sns.barplot(hue=\"variable\",y=\"value\",x=\"Cluster Label\",data=DB_PCA_df_melted,log='y')\n",
    "            plt.title(\"DBSCAN results with eps of \" + str(eps_))\n",
    "            plt.ylim(0, plt.ylim()[1])\n",
    "            plt.savefig(filename + \"__NO-PCA_raw-unscaled-data_DBSCAN_eps-\" + str(eps_) + \"_algo-\" + algo + \"_dist-metric-\" + met + \"_results.png\")\n",
    "            plt.close()\n",
    "            print(\"Done with iteration with EPS of \" + str(eps_) + \" ALGORITHM of \" + algo\\\n",
    "                 + \" distance METRIC of \" + met)\n"
   ]
  },
  {
   "cell_type": "code",
   "execution_count": null,
   "metadata": {
    "collapsed": true
   },
   "outputs": [],
   "source": []
  },
  {
   "cell_type": "code",
   "execution_count": null,
   "metadata": {
    "collapsed": true
   },
   "outputs": [],
   "source": []
  },
  {
   "cell_type": "code",
   "execution_count": null,
   "metadata": {
    "collapsed": true
   },
   "outputs": [],
   "source": []
  },
  {
   "cell_type": "code",
   "execution_count": null,
   "metadata": {
    "collapsed": true
   },
   "outputs": [],
   "source": []
  },
  {
   "cell_type": "code",
   "execution_count": null,
   "metadata": {
    "collapsed": true
   },
   "outputs": [],
   "source": []
  },
  {
   "cell_type": "code",
   "execution_count": null,
   "metadata": {
    "collapsed": true
   },
   "outputs": [],
   "source": []
  },
  {
   "cell_type": "code",
   "execution_count": null,
   "metadata": {
    "collapsed": true
   },
   "outputs": [],
   "source": []
  },
  {
   "cell_type": "code",
   "execution_count": null,
   "metadata": {
    "collapsed": true
   },
   "outputs": [],
   "source": []
  }
 ],
 "metadata": {
  "anaconda-cloud": {},
  "kernelspec": {
   "display_name": "Python [py2-env]",
   "language": "python",
   "name": "Python [py2-env]"
  },
  "language_info": {
   "codemirror_mode": {
    "name": "ipython",
    "version": 2
   },
   "file_extension": ".py",
   "mimetype": "text/x-python",
   "name": "python",
   "nbconvert_exporter": "python",
   "pygments_lexer": "ipython2",
   "version": "2.7.12"
  }
 },
 "nbformat": 4,
 "nbformat_minor": 0
}
