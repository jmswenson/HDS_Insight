{
 "cells": [
  {
   "cell_type": "markdown",
   "metadata": {},
   "source": [
    "# Try DBSCAN on PCAd and non-PCAd data"
   ]
  },
  {
   "cell_type": "code",
   "execution_count": 2,
   "metadata": {
    "collapsed": true
   },
   "outputs": [],
   "source": [
    "import os\n",
    "import glob\n",
    "\n",
    "import numpy as np\n",
    "import pandas as pd\n",
    "import matplotlib.pyplot as plt\n",
    "import seaborn as sns\n",
    "\n",
    "\n",
    "from sklearn import decomposition, metrics\n",
    "from sklearn.preprocessing import scale, robust_scale\n",
    "from sklearn.cluster import DBSCAN\n",
    "#from sklearn.manifold import TSNE\n",
    "%matplotlib inline"
   ]
  },
  {
   "cell_type": "code",
   "execution_count": null,
   "metadata": {
    "collapsed": true
   },
   "outputs": [],
   "source": []
  },
  {
   "cell_type": "code",
   "execution_count": 3,
   "metadata": {
    "collapsed": true
   },
   "outputs": [],
   "source": [
    "# Read in data\n",
    "filename = '/Users/tswenson/Documents/Joels/Health_Data_Science/COMPANY_consulting_project/datasets/merged_csvs/LABELLED_by_cell_type_screen_525_cell_plate_1_well_c03.csv'\n",
    "my_data=pd.read_csv(filename, index_col=0)"
   ]
  },
  {
   "cell_type": "code",
   "execution_count": 4,
   "metadata": {
    "collapsed": true
   },
   "outputs": [],
   "source": [
    "# Find data columns\n",
    "my_data_headers = list(my_data)\n",
    "meta_headers = [\"Width\",\"cell_label\",\"cell_plate\",\"lineage\",\"screen\",\"well\",\"Time\"]\n",
    "my_data_data_headers = [x for x in my_data_headers if not x in meta_headers]"
   ]
  },
  {
   "cell_type": "code",
   "execution_count": 5,
   "metadata": {
    "collapsed": false
   },
   "outputs": [
    {
     "data": {
      "text/plain": [
       "[<matplotlib.lines.Line2D at 0x1183dc4d0>]"
      ]
     },
     "execution_count": 5,
     "metadata": {},
     "output_type": "execute_result"
    },
    {
     "data": {
      "image/png": "[encoded data removed]",
      "text/plain": [
       "<matplotlib.figure.Figure at 0x117ca5f50>"
      ]
     },
     "metadata": {},
     "output_type": "display_data"
    }
   ],
   "source": [
    "# Scale the data columns\n",
    "my_scaled_data = scale(my_data[my_data_data_headers])\n",
    "# Perform PCA\n",
    "pca = decomposition.PCA()\n",
    "pca.fit(my_scaled_data)\n",
    "var=pca.explained_variance_ratio_\n",
    "plt.plot(var)"
   ]
  },
  {
   "cell_type": "code",
   "execution_count": 6,
   "metadata": {
    "collapsed": false
   },
   "outputs": [
    {
     "data": {
      "text/plain": [
       "[<matplotlib.lines.Line2D at 0x118ec6390>]"
      ]
     },
     "execution_count": 6,
     "metadata": {},
     "output_type": "execute_result"
    },
    {
     "data": {
      "image/png": "[encoded data removed]",
      "text/plain": [
       "<matplotlib.figure.Figure at 0x117d8fc50>"
      ]
     },
     "metadata": {},
     "output_type": "display_data"
    }
   ],
   "source": [
    "var1=np.cumsum(np.round(pca.explained_variance_ratio_, decimals=4)*100)\n",
    "plt.plot(var1)"
   ]
  },
  {
   "cell_type": "code",
   "execution_count": 7,
   "metadata": {
    "collapsed": true
   },
   "outputs": [],
   "source": [
    "#### Based on the above transform the data\n",
    "pca = decomposition.PCA(n_components = 10)\n",
    "my_scaled_data_transformed = pca.fit_transform(my_scaled_data)"
   ]
  },
  {
   "cell_type": "code",
   "execution_count": 8,
   "metadata": {
    "collapsed": false
   },
   "outputs": [
    {
     "data": {
      "text/plain": [
       "<matplotlib.collections.PathCollection at 0x11c835e50>"
      ]
     },
     "execution_count": 8,
     "metadata": {},
     "output_type": "execute_result"
    },
    {
     "data": {
      "image/png": "[encoded data removed]",
      "text/plain": [
       "<matplotlib.figure.Figure at 0x118e2e950>"
      ]
     },
     "metadata": {},
     "output_type": "display_data"
    }
   ],
   "source": [
    "fig = plt.figure()\n",
    "ax = plt.gca()\n",
    "ax.scatter(my_scaled_data_transformed[:,[0]],my_scaled_data_transformed[:,[1]])"
   ]
  },
  {
   "cell_type": "code",
   "execution_count": 9,
   "metadata": {
    "collapsed": true
   },
   "outputs": [],
   "source": [
    "# ### Get rid of outliers during the fit step of PCA, then transform on all data point\n",
    "(my_scaled_data_transformed[:,[0]]>20).sum()\n",
    "## Subset the data\n",
    "no_outliers_index = (my_scaled_data_transformed[:,[0]]<20).flatten()\n",
    "my_scaled_data_subset1 = my_scaled_data[no_outliers_index]"
   ]
  },
  {
   "cell_type": "code",
   "execution_count": 10,
   "metadata": {
    "collapsed": false
   },
   "outputs": [
    {
     "name": "stdout",
     "output_type": "stream",
     "text": [
      "(9081, 30)\n",
      "(9068, 30)\n",
      "9068\n",
      "9081\n"
     ]
    }
   ],
   "source": [
    "print(my_scaled_data.shape)\n",
    "print(my_scaled_data_subset1.shape)\n",
    "print(no_outliers_index.sum())\n",
    "print(len(no_outliers_index))"
   ]
  },
  {
   "cell_type": "code",
   "execution_count": 11,
   "metadata": {
    "collapsed": false
   },
   "outputs": [
    {
     "data": {
      "text/plain": [
       "[<matplotlib.lines.Line2D at 0x11cbad0d0>]"
      ]
     },
     "execution_count": 11,
     "metadata": {},
     "output_type": "execute_result"
    },
    {
     "data": {
      "image/png": "[encoded data removed]",
      "text/plain": [
       "<matplotlib.figure.Figure at 0x10a253990>"
      ]
     },
     "metadata": {},
     "output_type": "display_data"
    }
   ],
   "source": [
    "# Perform PCA\n",
    "pca = decomposition.PCA()\n",
    "pca.fit(my_scaled_data_subset1)\n",
    "var=pca.explained_variance_ratio_\n",
    "plt.plot(var)"
   ]
  },
  {
   "cell_type": "code",
   "execution_count": 12,
   "metadata": {
    "collapsed": false
   },
   "outputs": [
    {
     "data": {
      "text/plain": [
       "[<matplotlib.lines.Line2D at 0x11cc2bc90>]"
      ]
     },
     "execution_count": 12,
     "metadata": {},
     "output_type": "execute_result"
    },
    {
     "data": {
      "image/png": "[encoded data removed]",
      "text/plain": [
       "<matplotlib.figure.Figure at 0x11cbb8890>"
      ]
     },
     "metadata": {},
     "output_type": "display_data"
    }
   ],
   "source": [
    "var1=np.cumsum(np.round(pca.explained_variance_ratio_, decimals=4)*100)\n",
    "plt.plot(var1)"
   ]
  },
  {
   "cell_type": "code",
   "execution_count": 13,
   "metadata": {
    "collapsed": true
   },
   "outputs": [],
   "source": [
    "#### Based on the above transform the data\n",
    "pca = decomposition.PCA(n_components = 5)\n",
    "my_scaled_data_transformed = pca.fit(my_scaled_data_subset1).transform(my_scaled_data_subset1)"
   ]
  },
  {
   "cell_type": "code",
   "execution_count": 14,
   "metadata": {
    "collapsed": false
   },
   "outputs": [
    {
     "data": {
      "text/plain": [
       "<matplotlib.collections.PathCollection at 0x11d2e5290>"
      ]
     },
     "execution_count": 14,
     "metadata": {},
     "output_type": "execute_result"
    },
    {
     "data": {
      "image/png": "[encoded data removed]",
      "text/plain": [
       "<matplotlib.figure.Figure at 0x11cc47510>"
      ]
     },
     "metadata": {},
     "output_type": "display_data"
    }
   ],
   "source": [
    "plt.scatter(my_scaled_data_transformed[:,[0]],my_scaled_data_transformed[:,[1]])"
   ]
  },
  {
   "cell_type": "code",
   "execution_count": 15,
   "metadata": {
    "collapsed": false
   },
   "outputs": [
    {
     "name": "stdout",
     "output_type": "stream",
     "text": [
      "(9049, 5)\n",
      "(9049, 30)\n"
     ]
    }
   ],
   "source": [
    "no_outliers1_index = ((my_scaled_data_transformed[:,[1]]<5).flatten()&(my_scaled_data_transformed[:,[1]]>-10).flatten())\n",
    "print(my_scaled_data_transformed[no_outliers1_index].shape)\n",
    "# ### Subset the outliers again \n",
    "## Subset the data again\n",
    "my_scaled_data_subset2 = my_scaled_data_subset1[no_outliers1_index]\n",
    "print(my_scaled_data_subset2.shape)"
   ]
  },
  {
   "cell_type": "code",
   "execution_count": 16,
   "metadata": {
    "collapsed": false
   },
   "outputs": [
    {
     "data": {
      "text/plain": [
       "[<matplotlib.lines.Line2D at 0x11d3ae890>]"
      ]
     },
     "execution_count": 16,
     "metadata": {},
     "output_type": "execute_result"
    },
    {
     "data": {
      "image/png": "[encoded data removed]",
      "text/plain": [
       "<matplotlib.figure.Figure at 0x11cc47a10>"
      ]
     },
     "metadata": {},
     "output_type": "display_data"
    }
   ],
   "source": [
    "# ### Do PCA again \n",
    "# Perform PCA\n",
    "pca = decomposition.PCA()\n",
    "pca.fit(my_scaled_data_subset2)\n",
    "var=pca.explained_variance_ratio_\n",
    "plt.plot(var)"
   ]
  },
  {
   "cell_type": "code",
   "execution_count": 17,
   "metadata": {
    "collapsed": false
   },
   "outputs": [
    {
     "data": {
      "text/plain": [
       "[<matplotlib.lines.Line2D at 0x11d7294d0>]"
      ]
     },
     "execution_count": 17,
     "metadata": {},
     "output_type": "execute_result"
    },
    {
     "data": {
      "image/png": "[encoded data removed]",
      "text/plain": [
       "<matplotlib.figure.Figure at 0x11d690850>"
      ]
     },
     "metadata": {},
     "output_type": "display_data"
    }
   ],
   "source": [
    "var1=np.cumsum(np.round(pca.explained_variance_ratio_, decimals=4)*100)\n",
    "plt.plot(var1)"
   ]
  },
  {
   "cell_type": "code",
   "execution_count": 18,
   "metadata": {
    "collapsed": false
   },
   "outputs": [
    {
     "data": {
      "text/plain": [
       "<matplotlib.collections.PathCollection at 0x11da614d0>"
      ]
     },
     "execution_count": 18,
     "metadata": {},
     "output_type": "execute_result"
    },
    {
     "data": {
      "image/png": "[encoded data removed]",
      "text/plain": [
       "<matplotlib.figure.Figure at 0x11cf26410>"
      ]
     },
     "metadata": {},
     "output_type": "display_data"
    }
   ],
   "source": [
    "#### Based on the above transform the data\n",
    "pca = decomposition.PCA(n_components = 5)\n",
    "my_scaled_data_transformed2 = pca.fit(my_scaled_data_subset2).transform(my_scaled_data_subset2)\n",
    "plt.scatter(my_scaled_data_transformed2[:,[0]],my_scaled_data_transformed2[:,[1]])"
   ]
  },
  {
   "cell_type": "code",
   "execution_count": 19,
   "metadata": {
    "collapsed": false
   },
   "outputs": [
    {
     "data": {
      "text/plain": [
       "(-10, 20)"
      ]
     },
     "execution_count": 19,
     "metadata": {},
     "output_type": "execute_result"
    },
    {
     "data": {
      "image/png": "[encoded data removed]",
      "text/plain": [
       "<matplotlib.figure.Figure at 0x11d6d7750>"
      ]
     },
     "metadata": {},
     "output_type": "display_data"
    }
   ],
   "source": [
    "# ### Apply the fit to transform the entire dataset\n",
    "word_as_num=[]\n",
    "for word in my_data['cell_label']:\n",
    "    if word == \"unlabelled\":\n",
    "        word_as_num.append(\"0\")\n",
    "    if word == \"blast\":\n",
    "        word_as_num.append(\"0.5\")\n",
    "    if word == \"healthy\":\n",
    "        word_as_num.append(\"1\")\n",
    "my_scaled_data_transformed = None;\n",
    "pca = decomposition.PCA(n_components = 5)\n",
    "my_scaled_data_transformed = pca.fit(my_scaled_data_subset2).transform(my_scaled_data)\n",
    "plt.scatter(my_scaled_data_transformed[:,[0]],my_scaled_data_transformed[:,[1]],c=word_as_num)\n",
    "plt.xlim(-5,20)\n",
    "plt.ylim(-10,20)"
   ]
  },
  {
   "cell_type": "code",
   "execution_count": null,
   "metadata": {
    "collapsed": true
   },
   "outputs": [],
   "source": []
  },
  {
   "cell_type": "code",
   "execution_count": 20,
   "metadata": {
    "collapsed": true
   },
   "outputs": [],
   "source": [
    "# Convert transformed data into a pandas dataframe and then combine it with the meta data\n",
    "my_scaled_data_transformed_pd = pd.DataFrame(my_scaled_data_transformed)\n",
    "\n",
    "# Combine it with the meta data\n",
    "my_scaled_data_transformed_pd_meta = pd.concat([my_scaled_data_transformed_pd, my_data[meta_headers]], axis=1);\n",
    "# Note that the above line works because they have the same index, if they didn't and I \n",
    "## wanted to perform a cbind, I could say my_scaled_data_transformed_pd.reset_index(drop=True)"
   ]
  },
  {
   "cell_type": "code",
   "execution_count": 21,
   "metadata": {
    "collapsed": false
   },
   "outputs": [
    {
     "name": "stdout",
     "output_type": "stream",
     "text": [
      "    Width  cell_label    cell_plate lineage      screen      well    Time\n",
      "0  5288.0  unlabelled  cell_plate_1  parent  screen_525  well_c03  8377.0\n",
      "1    36.0  unlabelled  cell_plate_1  parent  screen_525  well_c03  8377.0\n",
      "NEXT------------------------\n",
      "           0          1          2          3          4\n",
      "0  17.748295  32.686231 -24.145589  13.167141 -26.424268\n",
      "1  -1.200694   0.545470  -0.045175   0.926213  -2.035301\n",
      "NEXT------------------------\n",
      "           0          1          2          3          4   Width  cell_label  \\\n",
      "0  17.748295  32.686231 -24.145589  13.167141 -26.424268  5288.0  unlabelled   \n",
      "1  -1.200694   0.545470  -0.045175   0.926213  -2.035301    36.0  unlabelled   \n",
      "\n",
      "     cell_plate lineage      screen      well    Time  \n",
      "0  cell_plate_1  parent  screen_525  well_c03  8377.0  \n",
      "1  cell_plate_1  parent  screen_525  well_c03  8377.0  \n"
     ]
    }
   ],
   "source": [
    "print(my_data[meta_headers].head(n=2))\n",
    "print(\"NEXT------------------------\")\n",
    "print(my_scaled_data_transformed_pd.head(n=2))\n",
    "print(\"NEXT------------------------\")\n",
    "print(my_scaled_data_transformed_pd_meta.head(n=2))"
   ]
  },
  {
   "cell_type": "code",
   "execution_count": 22,
   "metadata": {
    "collapsed": false
   },
   "outputs": [
    {
     "name": "stdout",
     "output_type": "stream",
     "text": [
      "Starting DBSCAN\n"
     ]
    }
   ],
   "source": [
    "# Do DBSCAN on the PCAd data\n",
    "print(\"Starting DBSCAN\")\n",
    "dbsc = DBSCAN(eps = .85,min_samples=10, metric = \"euclidean\").fit(my_scaled_data_transformed_pd)\n",
    "labels = dbsc.labels_\n",
    "core_samples = np.zeros_like(labels, dtype = bool)\n",
    "core_samples[dbsc.core_sample_indices_] = True\n",
    "unique_labels = np.unique(labels)"
   ]
  },
  {
   "cell_type": "code",
   "execution_count": 23,
   "metadata": {
    "collapsed": false
   },
   "outputs": [
    {
     "name": "stdout",
     "output_type": "stream",
     "text": [
      "[[-1, 599, 10, 10], [0, 7743, 179, 483], [1, 47, 0, 0], [2, 10, 0, 0]]\n"
     ]
    }
   ],
   "source": [
    "DB_PCA = [] # This will be a list of lists where the 1st entry is the cluster ID, 2nd: is\n",
    "## how many \"unlabelled\" are in that cluster, 3rd: number of blast, 4th: number of healthy.\n",
    "for i in xrange(len(unique_labels)):\n",
    "    clst_index = my_data['cell_label'][np.where(labels==unique_labels[i])[0]]\n",
    "    if clst_index.empty == True:\n",
    "        print(\"Cluster index and original data don't line up right. STOP AND FIX\")\n",
    "        break\n",
    "    DB_PCA.append([unique_labels[i],sum(clst_index=='unlabelled'),\n",
    "                     sum(clst_index=='blast'),sum(clst_index=='healthy')])\n",
    "    #print(str(unique_labels2[i])+\"--\") # prints cluster name plus two \"--\"s\n",
    "    #print len(tsne_out_mink2[np.where(labels2==unique_labels2[i])[0],0]) # prints how many cells are in that cluster\n",
    "print(DB_PCA) # This was print(tsne_db_2)"
   ]
  },
  {
   "cell_type": "code",
   "execution_count": 24,
   "metadata": {
    "collapsed": false
   },
   "outputs": [
    {
     "data": {
      "text/plain": [
       "(10.0, 10000.0)"
      ]
     },
     "execution_count": 24,
     "metadata": {},
     "output_type": "execute_result"
    },
    {
     "data": {
      "image/png": "[encoded data removed]",
      "text/plain": [
       "<matplotlib.figure.Figure at 0x11d831790>"
      ]
     },
     "metadata": {},
     "output_type": "display_data"
    }
   ],
   "source": [
    "# Convert the list of lists to a pandas dataframe\n",
    "DB_PCA_df = pd.DataFrame(DB_PCA,columns=[\"Cluster Label\",\"Unlabelled\",\"Blast\",\"Healthy\"])\n",
    "DB_PCA_df_melted = pd.melt(DB_PCA_df,value_vars=[\"Unlabelled\",\"Blast\",\"Healthy\"],id_vars=\"Cluster Label\")\n",
    "# Plot the results\n",
    "ax = sns.barplot(hue=\"variable\",y=\"value\",x=\"Cluster Label\",data=DB_PCA_df_melted,log='y')\n",
    "plt.title(\"PCAd_eps=0.6\")\n",
    "plt.ylim(0, plt.ylim()[1])\n",
    "#plt.ylim(plt.ylim()[0]-100, plt.ylim()[1])"
   ]
  },
  {
   "cell_type": "code",
   "execution_count": null,
   "metadata": {
    "collapsed": true
   },
   "outputs": [],
   "source": [
    "'''\n",
    "### Only plot clusters with more than 50 events\n",
    "tsne_db_df_50 = tsne_db_df[tsne_db_df.sum(axis=1)>50]\n",
    "tsne_db_df_50_melted = pd.melt(tsne_db_df_50,value_vars=[\"Unlabelled\",\"Blast\",\"Healthy\"],id_vars=\"Cluster Label\")\n",
    "ax = sns.barplot(hue=\"variable\",y=\"value\",x=\"Cluster Label\",data=tsne_db_df_50_melted,log='y')\n",
    "plt.savefig('C03_large_clstrs_only__barplot.png')\n",
    "plt.close()\n",
    "'''"
   ]
  },
  {
   "cell_type": "code",
   "execution_count": 25,
   "metadata": {
    "collapsed": false
   },
   "outputs": [
    {
     "data": {
      "text/plain": [
       "array([-1,  0,  1,  2])"
      ]
     },
     "execution_count": 25,
     "metadata": {},
     "output_type": "execute_result"
    }
   ],
   "source": [
    "unique_labels"
   ]
  },
  {
   "cell_type": "markdown",
   "metadata": {},
   "source": [
    "# Take everything in cluster 0 and then cluster on that "
   ]
  },
  {
   "cell_type": "code",
   "execution_count": 26,
   "metadata": {
    "collapsed": true
   },
   "outputs": [],
   "source": [
    "# Unique_labels is a list of unique cluster labels\n",
    "# Below line subsets the original data based on what was in a specific cluster (in this case the cluster at index 1 or cluster \"0\")\n",
    "my_data_scaled_PCA_DBSCAN0 = my_scaled_data_transformed_pd.iloc[np.where(labels==unique_labels[1])[0]]\n",
    "my_data_scaled_PCA_DBSCAN0_labels = my_data['cell_label'][np.where(labels==unique_labels[1])[0]]"
   ]
  },
  {
   "cell_type": "code",
   "execution_count": 64,
   "metadata": {
    "collapsed": false
   },
   "outputs": [],
   "source": [
    "#my_scaled_data_transformed_pd.iloc[np.where(labels==unique_labels[1])[0]]\n",
    "#my_data['cell_label'][np.where(labels==unique_labels[1])[0]]"
   ]
  },
  {
   "cell_type": "code",
   "execution_count": 30,
   "metadata": {
    "collapsed": false
   },
   "outputs": [
    {
     "data": {
      "text/plain": [
       "1     unlabelled\n",
       "2     unlabelled\n",
       "5     unlabelled\n",
       "9     unlabelled\n",
       "18    unlabelled\n",
       "19    unlabelled\n",
       "20    unlabelled\n",
       "25    unlabelled\n",
       "30    unlabelled\n",
       "31    unlabelled\n",
       "Name: cell_label, dtype: object"
      ]
     },
     "execution_count": 30,
     "metadata": {},
     "output_type": "execute_result"
    }
   ],
   "source": [
    "#type(my_data_scaled_PCA_DBSCAN0) # pandas.core.frame.DataFrame\n",
    "#type(my_data_scaled_PCA_DBSCAN0_labels) # pandas.core.series.Series\n",
    "#my_data_scaled_PCA_DBSCAN0_labels.head(n=10) # Note the indices are not reset for either of the above pandas objects!!!!"
   ]
  },
  {
   "cell_type": "markdown",
   "metadata": {},
   "source": [
    "# Need to reset the index of the pandas object"
   ]
  },
  {
   "cell_type": "code",
   "execution_count": 27,
   "metadata": {
    "collapsed": false
   },
   "outputs": [],
   "source": [
    "my_data_scaled_PCA_DBSCAN0 = my_data_scaled_PCA_DBSCAN0.reset_index(drop=True)\n",
    "my_data_scaled_PCA_DBSCAN0_labels = my_data_scaled_PCA_DBSCAN0_labels.reset_index(drop=True)"
   ]
  },
  {
   "cell_type": "code",
   "execution_count": 16,
   "metadata": {
    "collapsed": false
   },
   "outputs": [
    {
     "name": "stdout",
     "output_type": "stream",
     "text": [
      "Double-check that reindexing step below is working the way that you think it is\n",
      "[[0, 7429, 155, 436]]\n"
     ]
    }
   ],
   "source": [
    "# Sanity check is below which should be formalized as a test.\n",
    "'''\n",
    "dbsc = DBSCAN(eps = .85,min_samples=10, metric = \"euclidean\").fit(my_data_scaled_PCA_DBSCAN0)\n",
    "labels = dbsc.labels_\n",
    "core_samples = np.zeros_like(labels, dtype = bool)\n",
    "core_samples[dbsc.core_sample_indices_] = True\n",
    "unique_labels = np.unique(labels)\n",
    "\n",
    "# Done with DBSCAN, plot it\n",
    "DB_PCA = [] # This will be a list of lists where the 1st entry is the cluster ID, 2nd: is\n",
    "## how many \"unlabelled\" are in that cluster, 3rd: number of blast, 4th: number of healthy.\n",
    "print(\"Double-check that reindexing step below is working the way that you think it is\")\n",
    "for i in xrange(len(unique_labels)):\n",
    "    clst_index = my_data_scaled_PCA_DBSCAN0_labels[np.where(labels==unique_labels[i])[0]]\n",
    "    if clst_index.empty == True:\n",
    "        print(\"Cluster index and original data don't line up right. STOP AND FIX\")\n",
    "        break\n",
    "    DB_PCA.append([unique_labels[i],sum(clst_index=='unlabelled'),\n",
    "                     sum(clst_index=='blast'),sum(clst_index=='healthy')])\n",
    "    #print(str(unique_labels2[i])+\"--\") # prints cluster name plus two \"--\"s\n",
    "    #print len(tsne_out_mink2[np.where(labels2==unique_labels2[i])[0],0]) # prints how many cells are in that cluster\n",
    "print(DB_PCA) # This was print(tsne_db_2)\n",
    "'''\n",
    "# The output for each cluster from this should block should add up to the cluster it was originally pulled from, so\n",
    "## sum up element 1, 2 and 3 and make sure that is the same as the cluster you subsetted from"
   ]
  },
  {
   "cell_type": "markdown",
   "metadata": {},
   "source": [
    "# Plug in the preprocessed dataset and play with the hyper-parameters for the next round of clustering"
   ]
  },
  {
   "cell_type": "code",
   "execution_count": 28,
   "metadata": {
    "collapsed": true
   },
   "outputs": [],
   "source": [
    "eps_param = [0.1, 0.2, 0.3, 0.4, 0.5, 0.6, 0.7, 0.8, 0.9, 1, 1.4, 1.8, 3, 6, 12]\n",
    "algorithm_ = [\"auto\"]#, \"ball_tree\",\"kd_tree\",\"brute\"]\n",
    "metric_ = [\"cityblock\",\"euclidean\",\"l1\",\"l2\",\"manhattan\",\\\n",
    "           \"chebyshev\", \"canberra\",\"braycurtis\"]\n",
    "### The below were usually uninformative\n",
    "#           \"dice\", \"hamming\", \"jaccard\", \"kulsinski\", \\\n",
    "#           \"matching\", \"rogerstanimoto\", \"russellrao\",\\\n",
    "#           \"sokalmichener\", \"sokalsneath\", \"yule\"]\n"
   ]
  },
  {
   "cell_type": "code",
   "execution_count": 29,
   "metadata": {
    "collapsed": false
   },
   "outputs": [],
   "source": [
    "metric_auto_only = [ \"braycurtis\", \"canberra\",\\\n",
    "           \"dice\", \"hamming\",\"jaccard\", \"kulsinski\", \\\n",
    "           \"matching\", \"rogerstanimoto\", \"russellrao\",\\\n",
    "           \"sokalmichener\", \"sokalsneath\", \"yule\"]"
   ]
  },
  {
   "cell_type": "code",
   "execution_count": 19,
   "metadata": {
    "collapsed": false
   },
   "outputs": [],
   "source": [
    "#metric_ = [\"canberra\"]\n",
    "#eps_param = [float(x)/20 for x in list(range(10,50,1))]\n",
    "#eps_param"
   ]
  },
  {
   "cell_type": "code",
   "execution_count": 75,
   "metadata": {
    "collapsed": false
   },
   "outputs": [],
   "source": [
    "metric_ = [\"canberra\",\"braycurtis\"]"
   ]
  },
  {
   "cell_type": "code",
   "execution_count": 30,
   "metadata": {
    "collapsed": false
   },
   "outputs": [
    {
     "name": "stdout",
     "output_type": "stream",
     "text": [
      "Starting DBSCAN with EPS of 0.1 ALGORITHM of auto distance METRIC of cityblock\n",
      "[[-1, 7743, 179, 483]]\n",
      "Done with iteration with EPS of 0.1 ALGORITHM of auto distance METRIC of cityblock\n",
      "Starting DBSCAN with EPS of 0.2 ALGORITHM of auto distance METRIC of cityblock\n",
      "[[-1, 6417, 179, 483], [0, 1311, 0, 0], [1, 7, 0, 0], [2, 8, 0, 0]]\n",
      "Done with iteration with EPS of 0.2 ALGORITHM of auto distance METRIC of cityblock\n",
      "Starting DBSCAN with EPS of 0.3 ALGORITHM of auto distance METRIC of cityblock\n",
      "[[-1, 4480, 179, 483], [0, 2697, 0, 0], [1, 244, 0, 0], [2, 266, 0, 0], [3, 8, 0, 0], [4, 10, 0, 0], [5, 27, 0, 0], [6, 11, 0, 0]]\n",
      "Done with iteration with EPS of 0.3 ALGORITHM of auto distance METRIC of cityblock\n",
      "Starting DBSCAN with EPS of 0.4 ALGORITHM of auto distance METRIC of cityblock\n",
      "[[-1, 2565, 177, 408], [0, 3205, 0, 0], [1, 1539, 2, 74], [2, 426, 0, 0], [3, 8, 0, 1]]\n",
      "Done with iteration with EPS of 0.4 ALGORITHM of auto distance METRIC of cityblock\n",
      "Starting DBSCAN with EPS of 0.5 ALGORITHM of auto distance METRIC of cityblock\n",
      "[[-1, 1568, 155, 299], [0, 5656, 24, 184], [1, 511, 0, 0], [2, 8, 0, 0]]\n",
      "Done with iteration with EPS of 0.5 ALGORITHM of auto distance METRIC of cityblock\n",
      "Starting DBSCAN with EPS of 0.6 ALGORITHM of auto distance METRIC of cityblock\n",
      "[[-1, 1079, 129, 183], [0, 6117, 50, 291], [1, 542, 0, 0], [2, 5, 0, 3], [3, 0, 0, 6]]\n",
      "Done with iteration with EPS of 0.6 ALGORITHM of auto distance METRIC of cityblock\n",
      "Starting DBSCAN with EPS of 0.7 ALGORITHM of auto distance METRIC of cityblock\n",
      "[[-1, 809, 86, 129], [0, 564, 0, 0], [1, 6360, 93, 354], [2, 10, 0, 0]]\n",
      "Done with iteration with EPS of 0.7 ALGORITHM of auto distance METRIC of cityblock\n",
      "Starting DBSCAN with EPS of 0.8 ALGORITHM of auto distance METRIC of cityblock\n",
      "[[-1, 630, 65, 90], [0, 7088, 114, 393], [1, 25, 0, 0]]\n",
      "Done with iteration with EPS of 0.8 ALGORITHM of auto distance METRIC of cityblock\n",
      "Starting DBSCAN with EPS of 0.9 ALGORITHM of auto distance METRIC of cityblock\n",
      "[[-1, 485, 53, 69], [0, 7258, 126, 414]]\n",
      "Done with iteration with EPS of 0.9 ALGORITHM of auto distance METRIC of cityblock\n",
      "Starting DBSCAN with EPS of 1 ALGORITHM of auto distance METRIC of cityblock\n",
      "[[-1, 352, 32, 51], [0, 7382, 147, 432], [1, 9, 0, 0]]\n",
      "Done with iteration with EPS of 1 ALGORITHM of auto distance METRIC of cityblock\n",
      "Starting DBSCAN with EPS of 1.4 ALGORITHM of auto distance METRIC of cityblock\n",
      "[[-1, 57, 3, 2], [0, 7686, 176, 481]]\n",
      "Done with iteration with EPS of 1.4 ALGORITHM of auto distance METRIC of cityblock\n",
      "Starting DBSCAN with EPS of 1.8 ALGORITHM of auto distance METRIC of cityblock\n",
      "[[0, 7743, 179, 483]]\n",
      "Done with iteration with EPS of 1.8 ALGORITHM of auto distance METRIC of cityblock\n",
      "Starting DBSCAN with EPS of 3 ALGORITHM of auto distance METRIC of cityblock\n",
      "[[0, 7743, 179, 483]]\n",
      "Done with iteration with EPS of 3 ALGORITHM of auto distance METRIC of cityblock\n",
      "Starting DBSCAN with EPS of 6 ALGORITHM of auto distance METRIC of cityblock\n",
      "[[0, 7743, 179, 483]]\n",
      "Done with iteration with EPS of 6 ALGORITHM of auto distance METRIC of cityblock\n",
      "Starting DBSCAN with EPS of 12 ALGORITHM of auto distance METRIC of cityblock\n",
      "[[0, 7743, 179, 483]]\n",
      "Done with iteration with EPS of 12 ALGORITHM of auto distance METRIC of cityblock\n",
      "Starting DBSCAN with EPS of 0.1 ALGORITHM of auto distance METRIC of euclidean\n",
      "[[-1, 6938, 179, 483], [0, 739, 0, 0], [1, 7, 0, 0], [2, 10, 0, 0], [3, 8, 0, 0], [4, 15, 0, 0], [5, 9, 0, 0], [6, 8, 0, 0], [7, 9, 0, 0]]\n",
      "Done with iteration with EPS of 0.1 ALGORITHM of auto distance METRIC of euclidean\n",
      "Starting DBSCAN with EPS of 0.2 ALGORITHM of auto distance METRIC of euclidean\n",
      "[[-1, 3205, 178, 456], [0, 3018, 0, 0], [1, 1099, 1, 26], [2, 374, 0, 0], [3, 9, 0, 0], [4, 20, 0, 1], [5, 10, 0, 0], [6, 8, 0, 0]]\n",
      "Done with iteration with EPS of 0.2 ALGORITHM of auto distance METRIC of euclidean\n",
      "Starting DBSCAN with EPS of 0.3 ALGORITHM of auto distance METRIC of euclidean\n",
      "[[-1, 1340, 145, 249], [0, 5879, 34, 234], [1, 524, 0, 0]]\n",
      "Done with iteration with EPS of 0.3 ALGORITHM of auto distance METRIC of euclidean\n",
      "Starting DBSCAN with EPS of 0.4 ALGORITHM of auto distance METRIC of euclidean\n",
      "[[-1, 749, 79, 124], [0, 572, 0, 0], [1, 6404, 82, 359], [2, 4, 18, 0], [3, 14, 0, 0]]\n",
      "Done with iteration with EPS of 0.4 ALGORITHM of auto distance METRIC of euclidean\n",
      "Starting DBSCAN with EPS of 0.5 ALGORITHM of auto distance METRIC of euclidean\n",
      "[[-1, 483, 50, 68], [0, 7260, 129, 415]]\n",
      "Done with iteration with EPS of 0.5 ALGORITHM of auto distance METRIC of euclidean\n",
      "Starting DBSCAN with EPS of 0.6 ALGORITHM of auto distance METRIC of euclidean\n",
      "[[-1, 290, 25, 37], [0, 7453, 154, 446]]\n",
      "Done with iteration with EPS of 0.6 ALGORITHM of auto distance METRIC of euclidean\n",
      "Starting DBSCAN with EPS of 0.7 ALGORITHM of auto distance METRIC of euclidean\n",
      "[[-1, 142, 9, 24], [0, 7586, 170, 459], [1, 15, 0, 0]]\n",
      "Done with iteration with EPS of 0.7 ALGORITHM of auto distance METRIC of euclidean\n",
      "Starting DBSCAN with EPS of 0.8 ALGORITHM of auto distance METRIC of euclidean\n",
      "[[-1, 36, 0, 5], [0, 7707, 179, 478]]\n",
      "Done with iteration with EPS of 0.8 ALGORITHM of auto distance METRIC of euclidean\n",
      "Starting DBSCAN with EPS of 0.9 ALGORITHM of auto distance METRIC of euclidean\n",
      "[[0, 7743, 179, 483]]\n",
      "Done with iteration with EPS of 0.9 ALGORITHM of auto distance METRIC of euclidean\n",
      "Starting DBSCAN with EPS of 1 ALGORITHM of auto distance METRIC of euclidean\n",
      "[[0, 7743, 179, 483]]\n",
      "Done with iteration with EPS of 1 ALGORITHM of auto distance METRIC of euclidean\n",
      "Starting DBSCAN with EPS of 1.4 ALGORITHM of auto distance METRIC of euclidean\n",
      "[[0, 7743, 179, 483]]\n",
      "Done with iteration with EPS of 1.4 ALGORITHM of auto distance METRIC of euclidean\n",
      "Starting DBSCAN with EPS of 1.8 ALGORITHM of auto distance METRIC of euclidean\n",
      "[[0, 7743, 179, 483]]\n",
      "Done with iteration with EPS of 1.8 ALGORITHM of auto distance METRIC of euclidean\n",
      "Starting DBSCAN with EPS of 3 ALGORITHM of auto distance METRIC of euclidean\n",
      "[[0, 7743, 179, 483]]\n",
      "Done with iteration with EPS of 3 ALGORITHM of auto distance METRIC of euclidean\n",
      "Starting DBSCAN with EPS of 6 ALGORITHM of auto distance METRIC of euclidean\n",
      "[[0, 7743, 179, 483]]\n",
      "Done with iteration with EPS of 6 ALGORITHM of auto distance METRIC of euclidean\n",
      "Starting DBSCAN with EPS of 12 ALGORITHM of auto distance METRIC of euclidean\n",
      "[[0, 7743, 179, 483]]\n",
      "Done with iteration with EPS of 12 ALGORITHM of auto distance METRIC of euclidean\n",
      "Starting DBSCAN with EPS of 0.1 ALGORITHM of auto distance METRIC of l1\n",
      "[[-1, 7743, 179, 483]]\n",
      "Done with iteration with EPS of 0.1 ALGORITHM of auto distance METRIC of l1\n",
      "Starting DBSCAN with EPS of 0.2 ALGORITHM of auto distance METRIC of l1\n",
      "[[-1, 6417, 179, 483], [0, 1311, 0, 0], [1, 7, 0, 0], [2, 8, 0, 0]]\n",
      "Done with iteration with EPS of 0.2 ALGORITHM of auto distance METRIC of l1\n",
      "Starting DBSCAN with EPS of 0.3 ALGORITHM of auto distance METRIC of l1\n",
      "[[-1, 4480, 179, 483], [0, 2697, 0, 0], [1, 244, 0, 0], [2, 266, 0, 0], [3, 8, 0, 0], [4, 10, 0, 0], [5, 27, 0, 0], [6, 11, 0, 0]]\n",
      "Done with iteration with EPS of 0.3 ALGORITHM of auto distance METRIC of l1\n",
      "Starting DBSCAN with EPS of 0.4 ALGORITHM of auto distance METRIC of l1\n",
      "[[-1, 2565, 177, 408], [0, 3205, 0, 0], [1, 1539, 2, 74], [2, 426, 0, 0], [3, 8, 0, 1]]\n",
      "Done with iteration with EPS of 0.4 ALGORITHM of auto distance METRIC of l1\n",
      "Starting DBSCAN with EPS of 0.5 ALGORITHM of auto distance METRIC of l1\n",
      "[[-1, 1568, 155, 299], [0, 5656, 24, 184], [1, 511, 0, 0], [2, 8, 0, 0]]\n",
      "Done with iteration with EPS of 0.5 ALGORITHM of auto distance METRIC of l1\n",
      "Starting DBSCAN with EPS of 0.6 ALGORITHM of auto distance METRIC of l1\n",
      "[[-1, 1079, 129, 183], [0, 6117, 50, 291], [1, 542, 0, 0], [2, 5, 0, 3], [3, 0, 0, 6]]\n",
      "Done with iteration with EPS of 0.6 ALGORITHM of auto distance METRIC of l1\n",
      "Starting DBSCAN with EPS of 0.7 ALGORITHM of auto distance METRIC of l1\n",
      "[[-1, 809, 86, 129], [0, 564, 0, 0], [1, 6360, 93, 354], [2, 10, 0, 0]]\n",
      "Done with iteration with EPS of 0.7 ALGORITHM of auto distance METRIC of l1\n",
      "Starting DBSCAN with EPS of 0.8 ALGORITHM of auto distance METRIC of l1\n",
      "[[-1, 630, 65, 90], [0, 7088, 114, 393], [1, 25, 0, 0]]\n",
      "Done with iteration with EPS of 0.8 ALGORITHM of auto distance METRIC of l1\n",
      "Starting DBSCAN with EPS of 0.9 ALGORITHM of auto distance METRIC of l1\n",
      "[[-1, 485, 53, 69], [0, 7258, 126, 414]]\n",
      "Done with iteration with EPS of 0.9 ALGORITHM of auto distance METRIC of l1\n",
      "Starting DBSCAN with EPS of 1 ALGORITHM of auto distance METRIC of l1\n",
      "[[-1, 352, 32, 51], [0, 7382, 147, 432], [1, 9, 0, 0]]\n",
      "Done with iteration with EPS of 1 ALGORITHM of auto distance METRIC of l1\n",
      "Starting DBSCAN with EPS of 1.4 ALGORITHM of auto distance METRIC of l1\n",
      "[[-1, 57, 3, 2], [0, 7686, 176, 481]]\n",
      "Done with iteration with EPS of 1.4 ALGORITHM of auto distance METRIC of l1\n",
      "Starting DBSCAN with EPS of 1.8 ALGORITHM of auto distance METRIC of l1\n",
      "[[0, 7743, 179, 483]]\n",
      "Done with iteration with EPS of 1.8 ALGORITHM of auto distance METRIC of l1\n",
      "Starting DBSCAN with EPS of 3 ALGORITHM of auto distance METRIC of l1\n",
      "[[0, 7743, 179, 483]]\n",
      "Done with iteration with EPS of 3 ALGORITHM of auto distance METRIC of l1\n",
      "Starting DBSCAN with EPS of 6 ALGORITHM of auto distance METRIC of l1\n",
      "[[0, 7743, 179, 483]]\n",
      "Done with iteration with EPS of 6 ALGORITHM of auto distance METRIC of l1\n",
      "Starting DBSCAN with EPS of 12 ALGORITHM of auto distance METRIC of l1\n",
      "[[0, 7743, 179, 483]]\n",
      "Done with iteration with EPS of 12 ALGORITHM of auto distance METRIC of l1\n",
      "Starting DBSCAN with EPS of 0.1 ALGORITHM of auto distance METRIC of l2\n",
      "[[-1, 6938, 179, 483], [0, 739, 0, 0], [1, 7, 0, 0], [2, 10, 0, 0], [3, 8, 0, 0], [4, 15, 0, 0], [5, 9, 0, 0], [6, 8, 0, 0], [7, 9, 0, 0]]\n",
      "Done with iteration with EPS of 0.1 ALGORITHM of auto distance METRIC of l2\n",
      "Starting DBSCAN with EPS of 0.2 ALGORITHM of auto distance METRIC of l2\n",
      "[[-1, 3205, 178, 456], [0, 3018, 0, 0], [1, 1099, 1, 26], [2, 374, 0, 0], [3, 9, 0, 0], [4, 20, 0, 1], [5, 10, 0, 0], [6, 8, 0, 0]]\n",
      "Done with iteration with EPS of 0.2 ALGORITHM of auto distance METRIC of l2\n",
      "Starting DBSCAN with EPS of 0.3 ALGORITHM of auto distance METRIC of l2\n",
      "[[-1, 1340, 145, 249], [0, 5879, 34, 234], [1, 524, 0, 0]]\n",
      "Done with iteration with EPS of 0.3 ALGORITHM of auto distance METRIC of l2\n",
      "Starting DBSCAN with EPS of 0.4 ALGORITHM of auto distance METRIC of l2\n",
      "[[-1, 749, 79, 124], [0, 572, 0, 0], [1, 6404, 82, 359], [2, 4, 18, 0], [3, 14, 0, 0]]\n",
      "Done with iteration with EPS of 0.4 ALGORITHM of auto distance METRIC of l2\n",
      "Starting DBSCAN with EPS of 0.5 ALGORITHM of auto distance METRIC of l2\n",
      "[[-1, 483, 50, 68], [0, 7260, 129, 415]]\n",
      "Done with iteration with EPS of 0.5 ALGORITHM of auto distance METRIC of l2\n",
      "Starting DBSCAN with EPS of 0.6 ALGORITHM of auto distance METRIC of l2\n",
      "[[-1, 290, 25, 37], [0, 7453, 154, 446]]\n",
      "Done with iteration with EPS of 0.6 ALGORITHM of auto distance METRIC of l2\n",
      "Starting DBSCAN with EPS of 0.7 ALGORITHM of auto distance METRIC of l2\n",
      "[[-1, 142, 9, 24], [0, 7586, 170, 459], [1, 15, 0, 0]]\n",
      "Done with iteration with EPS of 0.7 ALGORITHM of auto distance METRIC of l2\n",
      "Starting DBSCAN with EPS of 0.8 ALGORITHM of auto distance METRIC of l2\n",
      "[[-1, 36, 0, 5], [0, 7707, 179, 478]]\n",
      "Done with iteration with EPS of 0.8 ALGORITHM of auto distance METRIC of l2\n",
      "Starting DBSCAN with EPS of 0.9 ALGORITHM of auto distance METRIC of l2\n",
      "[[0, 7743, 179, 483]]\n",
      "Done with iteration with EPS of 0.9 ALGORITHM of auto distance METRIC of l2\n",
      "Starting DBSCAN with EPS of 1 ALGORITHM of auto distance METRIC of l2\n",
      "[[0, 7743, 179, 483]]\n",
      "Done with iteration with EPS of 1 ALGORITHM of auto distance METRIC of l2\n",
      "Starting DBSCAN with EPS of 1.4 ALGORITHM of auto distance METRIC of l2\n",
      "[[0, 7743, 179, 483]]\n",
      "Done with iteration with EPS of 1.4 ALGORITHM of auto distance METRIC of l2\n",
      "Starting DBSCAN with EPS of 1.8 ALGORITHM of auto distance METRIC of l2\n",
      "[[0, 7743, 179, 483]]\n",
      "Done with iteration with EPS of 1.8 ALGORITHM of auto distance METRIC of l2\n",
      "Starting DBSCAN with EPS of 3 ALGORITHM of auto distance METRIC of l2\n",
      "[[0, 7743, 179, 483]]\n",
      "Done with iteration with EPS of 3 ALGORITHM of auto distance METRIC of l2\n",
      "Starting DBSCAN with EPS of 6 ALGORITHM of auto distance METRIC of l2\n",
      "[[0, 7743, 179, 483]]\n",
      "Done with iteration with EPS of 6 ALGORITHM of auto distance METRIC of l2\n",
      "Starting DBSCAN with EPS of 12 ALGORITHM of auto distance METRIC of l2\n",
      "[[0, 7743, 179, 483]]\n",
      "Done with iteration with EPS of 12 ALGORITHM of auto distance METRIC of l2\n",
      "Starting DBSCAN with EPS of 0.1 ALGORITHM of auto distance METRIC of manhattan\n",
      "[[-1, 7743, 179, 483]]\n",
      "Done with iteration with EPS of 0.1 ALGORITHM of auto distance METRIC of manhattan\n",
      "Starting DBSCAN with EPS of 0.2 ALGORITHM of auto distance METRIC of manhattan\n",
      "[[-1, 6417, 179, 483], [0, 1311, 0, 0], [1, 7, 0, 0], [2, 8, 0, 0]]\n",
      "Done with iteration with EPS of 0.2 ALGORITHM of auto distance METRIC of manhattan\n",
      "Starting DBSCAN with EPS of 0.3 ALGORITHM of auto distance METRIC of manhattan\n",
      "[[-1, 4480, 179, 483], [0, 2697, 0, 0], [1, 244, 0, 0], [2, 266, 0, 0], [3, 8, 0, 0], [4, 10, 0, 0], [5, 27, 0, 0], [6, 11, 0, 0]]\n",
      "Done with iteration with EPS of 0.3 ALGORITHM of auto distance METRIC of manhattan\n",
      "Starting DBSCAN with EPS of 0.4 ALGORITHM of auto distance METRIC of manhattan\n",
      "[[-1, 2565, 177, 408], [0, 3205, 0, 0], [1, 1539, 2, 74], [2, 426, 0, 0], [3, 8, 0, 1]]\n",
      "Done with iteration with EPS of 0.4 ALGORITHM of auto distance METRIC of manhattan\n",
      "Starting DBSCAN with EPS of 0.5 ALGORITHM of auto distance METRIC of manhattan\n",
      "[[-1, 1568, 155, 299], [0, 5656, 24, 184], [1, 511, 0, 0], [2, 8, 0, 0]]\n",
      "Done with iteration with EPS of 0.5 ALGORITHM of auto distance METRIC of manhattan\n",
      "Starting DBSCAN with EPS of 0.6 ALGORITHM of auto distance METRIC of manhattan\n",
      "[[-1, 1079, 129, 183], [0, 6117, 50, 291], [1, 542, 0, 0], [2, 5, 0, 3], [3, 0, 0, 6]]\n",
      "Done with iteration with EPS of 0.6 ALGORITHM of auto distance METRIC of manhattan\n",
      "Starting DBSCAN with EPS of 0.7 ALGORITHM of auto distance METRIC of manhattan\n",
      "[[-1, 809, 86, 129], [0, 564, 0, 0], [1, 6360, 93, 354], [2, 10, 0, 0]]\n",
      "Done with iteration with EPS of 0.7 ALGORITHM of auto distance METRIC of manhattan\n",
      "Starting DBSCAN with EPS of 0.8 ALGORITHM of auto distance METRIC of manhattan\n",
      "[[-1, 630, 65, 90], [0, 7088, 114, 393], [1, 25, 0, 0]]\n",
      "Done with iteration with EPS of 0.8 ALGORITHM of auto distance METRIC of manhattan\n",
      "Starting DBSCAN with EPS of 0.9 ALGORITHM of auto distance METRIC of manhattan\n",
      "[[-1, 485, 53, 69], [0, 7258, 126, 414]]\n",
      "Done with iteration with EPS of 0.9 ALGORITHM of auto distance METRIC of manhattan\n",
      "Starting DBSCAN with EPS of 1 ALGORITHM of auto distance METRIC of manhattan\n",
      "[[-1, 352, 32, 51], [0, 7382, 147, 432], [1, 9, 0, 0]]\n",
      "Done with iteration with EPS of 1 ALGORITHM of auto distance METRIC of manhattan\n",
      "Starting DBSCAN with EPS of 1.4 ALGORITHM of auto distance METRIC of manhattan\n",
      "[[-1, 57, 3, 2], [0, 7686, 176, 481]]\n",
      "Done with iteration with EPS of 1.4 ALGORITHM of auto distance METRIC of manhattan\n",
      "Starting DBSCAN with EPS of 1.8 ALGORITHM of auto distance METRIC of manhattan\n",
      "[[0, 7743, 179, 483]]\n",
      "Done with iteration with EPS of 1.8 ALGORITHM of auto distance METRIC of manhattan\n",
      "Starting DBSCAN with EPS of 3 ALGORITHM of auto distance METRIC of manhattan\n",
      "[[0, 7743, 179, 483]]\n",
      "Done with iteration with EPS of 3 ALGORITHM of auto distance METRIC of manhattan\n",
      "Starting DBSCAN with EPS of 6 ALGORITHM of auto distance METRIC of manhattan\n",
      "[[0, 7743, 179, 483]]\n",
      "Done with iteration with EPS of 6 ALGORITHM of auto distance METRIC of manhattan\n",
      "Starting DBSCAN with EPS of 12 ALGORITHM of auto distance METRIC of manhattan\n",
      "[[0, 7743, 179, 483]]\n",
      "Done with iteration with EPS of 12 ALGORITHM of auto distance METRIC of manhattan\n",
      "Starting DBSCAN with EPS of 0.1 ALGORITHM of auto distance METRIC of chebyshev\n",
      "[[-1, 5262, 179, 483], [0, 2337, 0, 0], [1, 111, 0, 0], [2, 10, 0, 0], [3, 10, 0, 0], [4, 13, 0, 0]]\n",
      "Done with iteration with EPS of 0.1 ALGORITHM of auto distance METRIC of chebyshev\n",
      "Starting DBSCAN with EPS of 0.2 ALGORITHM of auto distance METRIC of chebyshev\n",
      "[[-1, 1432, 149, 272], [0, 5791, 28, 211], [1, 517, 0, 0], [2, 3, 2, 0]]\n",
      "Done with iteration with EPS of 0.2 ALGORITHM of auto distance METRIC of chebyshev\n",
      "Starting DBSCAN with EPS of 0.3 ALGORITHM of auto distance METRIC of chebyshev\n",
      "[[-1, 634, 68, 94], [0, 7095, 111, 389], [1, 14, 0, 0]]\n",
      "Done with iteration with EPS of 0.3 ALGORITHM of auto distance METRIC of chebyshev\n",
      "Starting DBSCAN with EPS of 0.4 ALGORITHM of auto distance METRIC of chebyshev\n",
      "[[-1, 337, 31, 44], [0, 7406, 148, 439]]\n",
      "Done with iteration with EPS of 0.4 ALGORITHM of auto distance METRIC of chebyshev\n",
      "Starting DBSCAN with EPS of 0.5 ALGORITHM of auto distance METRIC of chebyshev\n",
      "[[-1, 111, 7, 9], [0, 7629, 172, 467], [1, 3, 0, 7]]\n",
      "Done with iteration with EPS of 0.5 ALGORITHM of auto distance METRIC of chebyshev\n",
      "Starting DBSCAN with EPS of 0.6 ALGORITHM of auto distance METRIC of chebyshev\n",
      "[[-1, 12, 3, 1], [0, 7731, 176, 482]]\n",
      "Done with iteration with EPS of 0.6 ALGORITHM of auto distance METRIC of chebyshev\n",
      "Starting DBSCAN with EPS of 0.7 ALGORITHM of auto distance METRIC of chebyshev\n",
      "[[-1, 1, 0, 0], [0, 7742, 179, 483]]\n",
      "Done with iteration with EPS of 0.7 ALGORITHM of auto distance METRIC of chebyshev\n",
      "Starting DBSCAN with EPS of 0.8 ALGORITHM of auto distance METRIC of chebyshev\n",
      "[[0, 7743, 179, 483]]\n",
      "Done with iteration with EPS of 0.8 ALGORITHM of auto distance METRIC of chebyshev\n",
      "Starting DBSCAN with EPS of 0.9 ALGORITHM of auto distance METRIC of chebyshev\n",
      "[[0, 7743, 179, 483]]\n",
      "Done with iteration with EPS of 0.9 ALGORITHM of auto distance METRIC of chebyshev\n",
      "Starting DBSCAN with EPS of 1 ALGORITHM of auto distance METRIC of chebyshev\n",
      "[[0, 7743, 179, 483]]\n",
      "Done with iteration with EPS of 1 ALGORITHM of auto distance METRIC of chebyshev\n",
      "Starting DBSCAN with EPS of 1.4 ALGORITHM of auto distance METRIC of chebyshev\n",
      "[[0, 7743, 179, 483]]\n",
      "Done with iteration with EPS of 1.4 ALGORITHM of auto distance METRIC of chebyshev\n",
      "Starting DBSCAN with EPS of 1.8 ALGORITHM of auto distance METRIC of chebyshev\n",
      "[[0, 7743, 179, 483]]\n",
      "Done with iteration with EPS of 1.8 ALGORITHM of auto distance METRIC of chebyshev\n",
      "Starting DBSCAN with EPS of 3 ALGORITHM of auto distance METRIC of chebyshev\n",
      "[[0, 7743, 179, 483]]\n",
      "Done with iteration with EPS of 3 ALGORITHM of auto distance METRIC of chebyshev\n",
      "Starting DBSCAN with EPS of 6 ALGORITHM of auto distance METRIC of chebyshev\n",
      "[[0, 7743, 179, 483]]\n",
      "Done with iteration with EPS of 6 ALGORITHM of auto distance METRIC of chebyshev\n",
      "Starting DBSCAN with EPS of 12 ALGORITHM of auto distance METRIC of chebyshev\n",
      "[[0, 7743, 179, 483]]\n",
      "Done with iteration with EPS of 12 ALGORITHM of auto distance METRIC of chebyshev\n",
      "Starting DBSCAN with EPS of 0.1 ALGORITHM of auto distance METRIC of canberra\n",
      "[[-1, 7743, 179, 483]]\n",
      "Done with iteration with EPS of 0.1 ALGORITHM of auto distance METRIC of canberra\n",
      "Starting DBSCAN with EPS of 0.2 ALGORITHM of auto distance METRIC of canberra\n",
      "[[-1, 7688, 179, 483], [0, 19, 0, 0], [1, 16, 0, 0], [2, 10, 0, 0], [3, 10, 0, 0]]\n",
      "Done with iteration with EPS of 0.2 ALGORITHM of auto distance METRIC of canberra\n",
      "Starting DBSCAN with EPS of 0.3 ALGORITHM of auto distance METRIC of canberra\n",
      "[[-1, 6279, 179, 483], [0, 226, 0, 0], [1, 482, 0, 0], [2, 209, 0, 0], [3, 518, 0, 0], [4, 9, 0, 0], [5, 10, 0, 0], [6, 10, 0, 0]]\n",
      "Done with iteration with EPS of 0.3 ALGORITHM of auto distance METRIC of canberra\n",
      "Starting DBSCAN with EPS of 0.4 ALGORITHM of auto distance METRIC of canberra\n",
      "[[-1, 5223, 179, 482], [0, 811, 0, 0], [1, 9, 0, 1], [2, 832, 0, 0], [3, 384, 0, 0], [4, 356, 0, 0], [5, 90, 0, 0], [6, 14, 0, 0], [7, 9, 0, 0], [8, 15, 0, 0]]\n",
      "Done with iteration with EPS of 0.4 ALGORITHM of auto distance METRIC of canberra\n",
      "Starting DBSCAN with EPS of 0.5 ALGORITHM of auto distance METRIC of canberra\n",
      "[[-1, 4401, 169, 465], [0, 975, 0, 0], [1, 157, 0, 12], [2, 956, 0, 0], [3, 470, 0, 0], [4, 408, 0, 0], [5, 6, 0, 4], [6, 19, 0, 0], [7, 207, 0, 0], [8, 24, 0, 0], [9, 25, 0, 1], [10, 13, 0, 0], [11, 9, 0, 1], [12, 10, 0, 0], [13, 57, 0, 0], [14, 1, 10, 0], [15, 5, 0, 0]]\n",
      "Done with iteration with EPS of 0.5 ALGORITHM of auto distance METRIC of canberra\n",
      "Starting DBSCAN with EPS of 0.6 ALGORITHM of auto distance METRIC of canberra\n",
      "[[-1, 3629, 147, 404], [0, 1053, 0, 0], [1, 289, 0, 31], [2, 1045, 0, 0], [3, 4, 32, 0], [4, 189, 0, 3], [5, 532, 0, 0], [6, 77, 0, 45], [7, 437, 0, 0], [8, 242, 0, 0], [9, 6, 0, 0], [10, 20, 0, 0], [11, 56, 0, 0], [12, 31, 0, 0], [13, 23, 0, 0], [14, 81, 0, 0], [15, 19, 0, 0], [16, 10, 0, 0]]\n",
      "Done with iteration with EPS of 0.6 ALGORITHM of auto distance METRIC of canberra\n",
      "Starting DBSCAN with EPS of 0.7 ALGORITHM of auto distance METRIC of canberra\n",
      "[[-1, 2916, 113, 295], [0, 1090, 0, 0], [1, 390, 0, 48], [2, 568, 0, 0], [3, 451, 0, 0], [4, 43, 0, 0], [5, 1106, 0, 0], [6, 10, 0, 0], [7, 77, 66, 4], [8, 138, 0, 0], [9, 290, 0, 5], [10, 23, 0, 0], [11, 152, 0, 79], [12, 21, 0, 39], [13, 281, 0, 0], [14, 36, 0, 0], [15, 1, 0, 11], [16, 121, 0, 0], [17, 13, 0, 2], [18, 6, 0, 0], [19, 10, 0, 0]]\n",
      "Done with iteration with EPS of 0.7 ALGORITHM of auto distance METRIC of canberra\n",
      "Starting DBSCAN with EPS of 0.8 ALGORITHM of auto distance METRIC of canberra\n",
      "[[-1, 2248, 87, 203], [0, 130, 0, 0], [1, 1115, 0, 0], [2, 468, 1, 69], [3, 599, 0, 0], [4, 457, 0, 0], [5, 80, 0, 0], [6, 209, 0, 111], [7, 1140, 0, 0], [8, 228, 0, 0], [9, 68, 0, 0], [10, 132, 84, 8], [11, 368, 0, 8], [12, 56, 0, 1], [13, 49, 0, 69], [14, 312, 0, 0], [15, 45, 0, 12], [16, 5, 0, 2], [17, 31, 0, 0], [18, 3, 7, 0]]\n",
      "Done with iteration with EPS of 0.8 ALGORITHM of auto distance METRIC of canberra\n",
      "Starting DBSCAN with EPS of 0.9 ALGORITHM of auto distance METRIC of canberra\n",
      "[[-1, 1732, 54, 143], [0, 130, 0, 0], [1, 619, 0, 0], [2, 1141, 0, 0], [3, 519, 1, 80], [4, 464, 0, 0], [5, 119, 1, 0], [6, 243, 1, 127], [7, 170, 95, 9], [8, 1161, 0, 0], [9, 283, 0, 0], [10, 105, 0, 2], [11, 76, 0, 20], [12, 391, 1, 8], [13, 85, 0, 2], [14, 62, 0, 92], [15, 325, 0, 0], [16, 25, 0, 0], [17, 68, 0, 0], [18, 15, 26, 0], [19, 10, 0, 0]]\n",
      "Done with iteration with EPS of 0.9 ALGORITHM of auto distance METRIC of canberra\n",
      "Starting DBSCAN with EPS of 1 ALGORITHM of auto distance METRIC of canberra\n",
      "[[-1, 1298, 36, 85], [0, 133, 0, 0], [1, 629, 0, 0], [2, 1152, 0, 0], [3, 554, 2, 89], [4, 469, 0, 0], [5, 203, 100, 14], [6, 136, 1, 0], [7, 271, 1, 138], [8, 1175, 0, 0], [9, 312, 0, 0], [10, 127, 2, 2], [11, 128, 0, 26], [12, 412, 1, 10], [13, 50, 0, 0], [14, 112, 0, 5], [15, 83, 0, 113], [16, 341, 0, 0], [17, 30, 35, 1], [18, 76, 0, 0], [19, 25, 1, 0], [20, 17, 0, 0], [21, 10, 0, 0]]\n",
      "Done with iteration with EPS of 1 ALGORITHM of auto distance METRIC of canberra\n",
      "Starting DBSCAN with EPS of 1.4 ALGORITHM of auto distance METRIC of canberra\n",
      "[[-1, 175, 7, 10], [0, 7568, 172, 473]]\n",
      "Done with iteration with EPS of 1.4 ALGORITHM of auto distance METRIC of canberra\n",
      "Starting DBSCAN with EPS of 1.8 ALGORITHM of auto distance METRIC of canberra\n",
      "[[-1, 15, 0, 1], [0, 7728, 179, 482]]\n",
      "Done with iteration with EPS of 1.8 ALGORITHM of auto distance METRIC of canberra\n",
      "Starting DBSCAN with EPS of 3 ALGORITHM of auto distance METRIC of canberra\n",
      "[[0, 7743, 179, 483]]\n",
      "Done with iteration with EPS of 3 ALGORITHM of auto distance METRIC of canberra\n",
      "Starting DBSCAN with EPS of 6 ALGORITHM of auto distance METRIC of canberra\n",
      "[[0, 7743, 179, 483]]\n",
      "Done with iteration with EPS of 6 ALGORITHM of auto distance METRIC of canberra\n",
      "Starting DBSCAN with EPS of 12 ALGORITHM of auto distance METRIC of canberra\n",
      "[[0, 7743, 179, 483]]\n",
      "Done with iteration with EPS of 12 ALGORITHM of auto distance METRIC of canberra\n",
      "Starting DBSCAN with EPS of 0.1 ALGORITHM of auto distance METRIC of braycurtis\n",
      "[[-1, 2194, 144, 274], [0, 612, 0, 0], [1, 3313, 0, 0], [2, 1612, 8, 209], [3, 4, 18, 0], [4, 8, 0, 0], [5, 0, 9, 0]]\n",
      "Done with iteration with EPS of 0.1 ALGORITHM of auto distance METRIC of braycurtis\n",
      "Starting DBSCAN with EPS of 0.2 ALGORITHM of auto distance METRIC of braycurtis\n",
      "[[-1, 266, 4, 12], [0, 7423, 175, 471], [1, 30, 0, 0], [2, 24, 0, 0]]\n",
      "Done with iteration with EPS of 0.2 ALGORITHM of auto distance METRIC of braycurtis\n",
      "Starting DBSCAN with EPS of 0.3 ALGORITHM of auto distance METRIC of braycurtis\n",
      "[[-1, 16, 0, 2], [0, 7727, 179, 481]]\n",
      "Done with iteration with EPS of 0.3 ALGORITHM of auto distance METRIC of braycurtis\n",
      "Starting DBSCAN with EPS of 0.4 ALGORITHM of auto distance METRIC of braycurtis\n",
      "[[-1, 2, 0, 1], [0, 7741, 179, 482]]\n",
      "Done with iteration with EPS of 0.4 ALGORITHM of auto distance METRIC of braycurtis\n",
      "Starting DBSCAN with EPS of 0.5 ALGORITHM of auto distance METRIC of braycurtis\n",
      "[[0, 7743, 179, 483]]\n",
      "Done with iteration with EPS of 0.5 ALGORITHM of auto distance METRIC of braycurtis\n",
      "Starting DBSCAN with EPS of 0.6 ALGORITHM of auto distance METRIC of braycurtis\n",
      "[[0, 7743, 179, 483]]\n",
      "Done with iteration with EPS of 0.6 ALGORITHM of auto distance METRIC of braycurtis\n",
      "Starting DBSCAN with EPS of 0.7 ALGORITHM of auto distance METRIC of braycurtis\n",
      "[[0, 7743, 179, 483]]\n",
      "Done with iteration with EPS of 0.7 ALGORITHM of auto distance METRIC of braycurtis\n",
      "Starting DBSCAN with EPS of 0.8 ALGORITHM of auto distance METRIC of braycurtis\n",
      "[[0, 7743, 179, 483]]\n",
      "Done with iteration with EPS of 0.8 ALGORITHM of auto distance METRIC of braycurtis\n",
      "Starting DBSCAN with EPS of 0.9 ALGORITHM of auto distance METRIC of braycurtis\n",
      "[[0, 7743, 179, 483]]\n",
      "Done with iteration with EPS of 0.9 ALGORITHM of auto distance METRIC of braycurtis\n",
      "Starting DBSCAN with EPS of 1 ALGORITHM of auto distance METRIC of braycurtis\n",
      "[[0, 7743, 179, 483]]\n",
      "Done with iteration with EPS of 1 ALGORITHM of auto distance METRIC of braycurtis\n",
      "Starting DBSCAN with EPS of 1.4 ALGORITHM of auto distance METRIC of braycurtis\n",
      "[[0, 7743, 179, 483]]\n",
      "Done with iteration with EPS of 1.4 ALGORITHM of auto distance METRIC of braycurtis\n",
      "Starting DBSCAN with EPS of 1.8 ALGORITHM of auto distance METRIC of braycurtis\n",
      "[[0, 7743, 179, 483]]\n",
      "Done with iteration with EPS of 1.8 ALGORITHM of auto distance METRIC of braycurtis\n",
      "Starting DBSCAN with EPS of 3 ALGORITHM of auto distance METRIC of braycurtis\n",
      "[[0, 7743, 179, 483]]\n",
      "Done with iteration with EPS of 3 ALGORITHM of auto distance METRIC of braycurtis\n",
      "Starting DBSCAN with EPS of 6 ALGORITHM of auto distance METRIC of braycurtis\n",
      "[[0, 7743, 179, 483]]\n",
      "Done with iteration with EPS of 6 ALGORITHM of auto distance METRIC of braycurtis\n",
      "Starting DBSCAN with EPS of 12 ALGORITHM of auto distance METRIC of braycurtis\n",
      "[[0, 7743, 179, 483]]\n",
      "Done with iteration with EPS of 12 ALGORITHM of auto distance METRIC of braycurtis\n"
     ]
    }
   ],
   "source": [
    "for met in metric_:\n",
    "    for algo in algorithm_:\n",
    "        if met in metric_auto_only:\n",
    "            if algo != \"auto\":\n",
    "                continue\n",
    "        for eps_ in eps_param:\n",
    "            dbsc = None; labels = None; DB_PCA = None; DB_PCA_df = None;\n",
    "            # Do DBSCAN on the PCAd data\n",
    "            print(\"Starting DBSCAN with EPS of \" + str(eps_) + \" ALGORITHM of \" + algo\\\n",
    "                 + \" distance METRIC of \" + met)\n",
    "            dbsc = DBSCAN(eps = eps_,min_samples=10, algorithm = algo, metric = met).fit(my_data_scaled_PCA_DBSCAN0)\n",
    "            labels = dbsc.labels_\n",
    "            core_samples = np.zeros_like(labels, dtype = bool)\n",
    "            core_samples[dbsc.core_sample_indices_] = True\n",
    "            unique_labels = np.unique(labels)\n",
    "\n",
    "            # Done with DBSCAN, plot it\n",
    "            DB_PCA = [] # This will be a list of lists where the 1st entry is the cluster ID, 2nd: is\n",
    "            ## how many \"unlabelled\" are in that cluster, 3rd: number of blast, 4th: number of healthy.\n",
    "            #print(\"Double-check that reindexing step below is working the way that you think it is\")\n",
    "            for i in xrange(len(unique_labels)):\n",
    "                clst_index = my_data_scaled_PCA_DBSCAN0_labels[np.where(labels==unique_labels[i])[0]]\n",
    "                if clst_index.empty == True:\n",
    "                    print(\"Cluster index and original data don't line up right. STOP AND FIX\")\n",
    "                    break\n",
    "                DB_PCA.append([unique_labels[i],sum(clst_index=='unlabelled'),\n",
    "                                 sum(clst_index=='blast'),sum(clst_index=='healthy')])\n",
    "                #print(str(unique_labels2[i])+\"--\") # prints cluster name plus two \"--\"s\n",
    "                #print len(tsne_out_mink2[np.where(labels2==unique_labels2[i])[0],0]) # prints how many cells are in that cluster\n",
    "            print(DB_PCA) # This was print(tsne_db_2)\n",
    "\n",
    "            # Convert the list of lists to a pandas dataframe\n",
    "            DB_PCA_df = pd.DataFrame(DB_PCA,columns=[\"Cluster Label\",\"Unlabelled\",\"Blast\",\"Healthy\"])\n",
    "            DB_PCA_df_melted = pd.melt(DB_PCA_df,value_vars=[\"Unlabelled\",\"Blast\",\"Healthy\"],id_vars=\"Cluster Label\")\n",
    "\n",
    "            # Plot the results\n",
    "            plt.gcf().clear()\n",
    "            ax = sns.barplot(hue=\"variable\",y=\"value\",x=\"Cluster Label\",data=DB_PCA_df_melted,log='y')\n",
    "            plt.title(\"DBSCAN results with eps of \" + str(eps_))\n",
    "            plt.ylim(0, plt.ylim()[1])\n",
    "            plt.savefig(filename + \"__PCA10_DBSCAN-euc-0.85-auto_DBSCAN_eps-\" + str(eps_) + \"_algo-\" + algo + \"_dist-metric-\" + met + \"_results.png\")\n",
    "            plt.close()\n",
    "            print(\"Done with iteration with EPS of \" + str(eps_) + \" ALGORITHM of \" + algo\\\n",
    "                 + \" distance METRIC of \" + met)\n"
   ]
  },
  {
   "cell_type": "markdown",
   "metadata": {
    "collapsed": true
   },
   "source": [
    "# Note that I need to re-do the indexing if I want to output any of these clusters"
   ]
  },
  {
   "cell_type": "code",
   "execution_count": null,
   "metadata": {
    "collapsed": true
   },
   "outputs": [],
   "source": []
  },
  {
   "cell_type": "code",
   "execution_count": null,
   "metadata": {
    "collapsed": true
   },
   "outputs": [],
   "source": []
  },
  {
   "cell_type": "code",
   "execution_count": null,
   "metadata": {
    "collapsed": true
   },
   "outputs": [],
   "source": []
  },
  {
   "cell_type": "markdown",
   "metadata": {
    "collapsed": true
   },
   "source": [
    "# Big "
   ]
  },
  {
   "cell_type": "markdown",
   "metadata": {
    "collapsed": true
   },
   "source": [
    "## Less Big"
   ]
  },
  {
   "cell_type": "markdown",
   "metadata": {
    "collapsed": true
   },
   "source": [
    "###### Smallest "
   ]
  },
  {
   "cell_type": "markdown",
   "metadata": {
    "collapsed": true
   },
   "source": [
    "# <font color = \"red\"/> Big and red <font> "
   ]
  },
  {
   "cell_type": "code",
   "execution_count": null,
   "metadata": {
    "collapsed": true
   },
   "outputs": [],
   "source": []
  }
 ],
 "metadata": {
  "kernelspec": {
   "display_name": "Python [py2-env]",
   "language": "python",
   "name": "Python [py2-env]"
  },
  "language_info": {
   "codemirror_mode": {
    "name": "ipython",
    "version": 2
   },
   "file_extension": ".py",
   "mimetype": "text/x-python",
   "name": "python",
   "nbconvert_exporter": "python",
   "pygments_lexer": "ipython2",
   "version": "2.7.12"
  }
 },
 "nbformat": 4,
 "nbformat_minor": 0
}
