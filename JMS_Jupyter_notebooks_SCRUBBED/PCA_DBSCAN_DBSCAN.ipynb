{
 "cells": [
  {
   "cell_type": "markdown",
   "metadata": {},
   "source": [
    "# Try DBSCAN on PCAd and non-PCAd data"
   ]
  },
  {
   "cell_type": "code",
   "execution_count": 1,
   "metadata": {
    "collapsed": true
   },
   "outputs": [],
   "source": [
    "import os\n",
    "import glob\n",
    "\n",
    "import numpy as np\n",
    "import pandas as pd\n",
    "import matplotlib.pyplot as plt\n",
    "import seaborn as sns\n",
    "\n",
    "\n",
    "from sklearn import decomposition, metrics\n",
    "from sklearn.preprocessing import scale, robust_scale\n",
    "from sklearn.cluster import DBSCAN\n",
    "#from sklearn.manifold import TSNE\n",
    "%matplotlib inline"
   ]
  },
  {
   "cell_type": "code",
   "execution_count": null,
   "metadata": {
    "collapsed": true
   },
   "outputs": [],
   "source": []
  },
  {
   "cell_type": "code",
   "execution_count": 2,
   "metadata": {
    "collapsed": true
   },
   "outputs": [],
   "source": [
    "# Read in data\n",
    "filename = '/Users/tswenson/Documents/Joels/Health_Data_Science/COMPANY_consulting_project/datasets/merged_csvs/LABELLED_by_cell_type_screen_525_cell_plate_1_well_c03.csv'\n",
    "my_data=pd.read_csv(filename, index_col=0)"
   ]
  },
  {
   "cell_type": "code",
   "execution_count": 3,
   "metadata": {
    "collapsed": true
   },
   "outputs": [],
   "source": [
    "# Find data columns\n",
    "my_data_headers = list(my_data)\n",
    "meta_headers = [\"Width\",\"cell_label\",\"cell_plate\",\"lineage\",\"screen\",\"well\",\"Time\"]\n",
    "my_data_data_headers = [x for x in my_data_headers if not x in meta_headers]\n",
    "# Scale the data columns\n",
    "my_scaled_data = scale(my_data[my_data_data_headers])\n",
    "# Make a list where cell_label is converted to numbers for plotting\n",
    "word_as_num=[]\n",
    "for word in my_data['cell_label']:\n",
    "    if word == \"unlabelled\":\n",
    "        word_as_num.append(\"0\")\n",
    "    if word == \"blast\":\n",
    "        word_as_num.append(\"0.5\")\n",
    "    if word == \"healthy\":\n",
    "        word_as_num.append(\"1\")"
   ]
  },
  {
   "cell_type": "code",
   "execution_count": 4,
   "metadata": {
    "collapsed": false
   },
   "outputs": [
    {
     "data": {
      "text/plain": [
       "PCA(copy=True, iterated_power='auto', n_components=None, random_state=None,\n",
       "  svd_solver='auto', tol=0.0, whiten=False)"
      ]
     },
     "execution_count": 4,
     "metadata": {},
     "output_type": "execute_result"
    }
   ],
   "source": [
    "# Do PCA\n",
    "# Perform PCA\n",
    "pca = decomposition.PCA()\n",
    "pca.fit(my_scaled_data)"
   ]
  },
  {
   "cell_type": "code",
   "execution_count": 5,
   "metadata": {
    "collapsed": false
   },
   "outputs": [
    {
     "data": {
      "text/plain": [
       "[<matplotlib.lines.Line2D at 0x1184d4410>]"
      ]
     },
     "execution_count": 5,
     "metadata": {},
     "output_type": "execute_result"
    },
    {
     "data": {
      "image/png": "[encoded data removed]",
      "text/plain": [
       "<matplotlib.figure.Figure at 0x117e32690>"
      ]
     },
     "metadata": {},
     "output_type": "display_data"
    }
   ],
   "source": [
    "# Plot var explained per component\n",
    "#The amount of variance that each PC explains\n",
    "var=pca.explained_variance_ratio_\n",
    "plt.plot(var)"
   ]
  },
  {
   "cell_type": "code",
   "execution_count": 6,
   "metadata": {
    "collapsed": false
   },
   "outputs": [
    {
     "data": {
      "text/plain": [
       "[<matplotlib.lines.Line2D at 0x11978e9d0>]"
      ]
     },
     "execution_count": 6,
     "metadata": {},
     "output_type": "execute_result"
    },
    {
     "data": {
      "image/png": "[encoded data removed]",
      "text/plain": [
       "<matplotlib.figure.Figure at 0x1185515d0>"
      ]
     },
     "metadata": {},
     "output_type": "display_data"
    }
   ],
   "source": [
    "#Cumulative Variance explains\n",
    "var1=np.cumsum(np.round(pca.explained_variance_ratio_, decimals=4)*100)\n",
    "plt.plot(var1)"
   ]
  },
  {
   "cell_type": "code",
   "execution_count": 7,
   "metadata": {
    "collapsed": true
   },
   "outputs": [],
   "source": [
    "# Transform my data based on the PCA results\n",
    "pca = decomposition.PCA(n_components = 10)\n",
    "my_scaled_data_transformed = pca.fit_transform(my_scaled_data)"
   ]
  },
  {
   "cell_type": "code",
   "execution_count": 8,
   "metadata": {
    "collapsed": true
   },
   "outputs": [],
   "source": [
    "# Convert transformed data into a pandas dataframe and then combine it with the meta data\n",
    "my_scaled_data_transformed_pd = pd.DataFrame(my_scaled_data_transformed)\n",
    "\n",
    "# Combine it with the meta data\n",
    "my_scaled_data_transformed_pd_meta = pd.concat([my_scaled_data_transformed_pd, my_data[meta_headers]], axis=1);\n",
    "# Note that the above line works because they have the same index, if they didn't and I \n",
    "## wanted to perform a cbind, I could say my_scaled_data_transformed_pd.reset_index(drop=True)"
   ]
  },
  {
   "cell_type": "code",
   "execution_count": 9,
   "metadata": {
    "collapsed": false
   },
   "outputs": [
    {
     "name": "stdout",
     "output_type": "stream",
     "text": [
      "    Width  cell_label    cell_plate lineage      screen      well    Time\n",
      "0  5288.0  unlabelled  cell_plate_1  parent  screen_525  well_c03  8377.0\n",
      "1    36.0  unlabelled  cell_plate_1  parent  screen_525  well_c03  8377.0\n",
      "NEXT------------------------\n",
      "           0          1          2          3          4          5  \\\n",
      "0  43.121483 -13.213300  84.447944  65.967352  62.290093 -12.051840   \n",
      "1  -0.722782   0.013042   1.482393  -0.021735   0.747183   0.620735   \n",
      "\n",
      "           6         7         8         9  \n",
      "0 -20.514745 -6.116189 -1.487342  5.565701  \n",
      "1   1.950386  0.500923  0.290363  0.043255  \n",
      "NEXT------------------------\n",
      "           0          1          2          3          4          5  \\\n",
      "0  43.121483 -13.213300  84.447944  65.967352  62.290093 -12.051840   \n",
      "1  -0.722782   0.013042   1.482393  -0.021735   0.747183   0.620735   \n",
      "\n",
      "           6         7         8         9   Width  cell_label    cell_plate  \\\n",
      "0 -20.514745 -6.116189 -1.487342  5.565701  5288.0  unlabelled  cell_plate_1   \n",
      "1   1.950386  0.500923  0.290363  0.043255    36.0  unlabelled  cell_plate_1   \n",
      "\n",
      "  lineage      screen      well    Time  \n",
      "0  parent  screen_525  well_c03  8377.0  \n",
      "1  parent  screen_525  well_c03  8377.0  \n"
     ]
    }
   ],
   "source": [
    "print(my_data[meta_headers].head(n=2))\n",
    "print(\"NEXT------------------------\")\n",
    "print(my_scaled_data_transformed_pd.head(n=2))\n",
    "print(\"NEXT------------------------\")\n",
    "print(my_scaled_data_transformed_pd_meta.head(n=2))"
   ]
  },
  {
   "cell_type": "code",
   "execution_count": 10,
   "metadata": {
    "collapsed": false
   },
   "outputs": [
    {
     "name": "stdout",
     "output_type": "stream",
     "text": [
      "Starting DBSCAN\n"
     ]
    }
   ],
   "source": [
    "# Do DBSCAN on the PCAd data\n",
    "print(\"Starting DBSCAN\")\n",
    "dbsc = DBSCAN(eps = .85,min_samples=10, metric = \"euclidean\").fit(my_scaled_data_transformed_pd)\n",
    "labels = dbsc.labels_\n",
    "core_samples = np.zeros_like(labels, dtype = bool)\n",
    "core_samples[dbsc.core_sample_indices_] = True\n",
    "unique_labels = np.unique(labels)"
   ]
  },
  {
   "cell_type": "code",
   "execution_count": 11,
   "metadata": {
    "collapsed": false
   },
   "outputs": [
    {
     "name": "stdout",
     "output_type": "stream",
     "text": [
      "[[-1, 970, 34, 57], [0, 7429, 155, 436]]\n"
     ]
    }
   ],
   "source": [
    "DB_PCA = [] # This will be a list of lists where the 1st entry is the cluster ID, 2nd: is\n",
    "## how many \"unlabelled\" are in that cluster, 3rd: number of blast, 4th: number of healthy.\n",
    "for i in xrange(len(unique_labels)):\n",
    "    clst_index = my_data['cell_label'][np.where(labels==unique_labels[i])[0]]\n",
    "    if clst_index.empty == True:\n",
    "        print(\"Cluster index and original data don't line up right. STOP AND FIX\")\n",
    "        break\n",
    "    DB_PCA.append([unique_labels[i],sum(clst_index=='unlabelled'),\n",
    "                     sum(clst_index=='blast'),sum(clst_index=='healthy')])\n",
    "    #print(str(unique_labels2[i])+\"--\") # prints cluster name plus two \"--\"s\n",
    "    #print len(tsne_out_mink2[np.where(labels2==unique_labels2[i])[0],0]) # prints how many cells are in that cluster\n",
    "print(DB_PCA) # This was print(tsne_db_2)"
   ]
  },
  {
   "cell_type": "code",
   "execution_count": 12,
   "metadata": {
    "collapsed": false
   },
   "outputs": [
    {
     "data": {
      "text/plain": [
       "(34.0, 10000.0)"
      ]
     },
     "execution_count": 12,
     "metadata": {},
     "output_type": "execute_result"
    },
    {
     "data": {
      "image/png": "[encoded data removed]",
      "text/plain": [
       "<matplotlib.figure.Figure at 0x11c411210>"
      ]
     },
     "metadata": {},
     "output_type": "display_data"
    }
   ],
   "source": [
    "# Convert the list of lists to a pandas dataframe\n",
    "DB_PCA_df = pd.DataFrame(DB_PCA,columns=[\"Cluster Label\",\"Unlabelled\",\"Blast\",\"Healthy\"])\n",
    "DB_PCA_df_melted = pd.melt(DB_PCA_df,value_vars=[\"Unlabelled\",\"Blast\",\"Healthy\"],id_vars=\"Cluster Label\")\n",
    "# Plot the results\n",
    "ax = sns.barplot(hue=\"variable\",y=\"value\",x=\"Cluster Label\",data=DB_PCA_df_melted,log='y')\n",
    "plt.title(\"PCAd_eps=0.6\")\n",
    "plt.ylim(0, plt.ylim()[1])\n",
    "#plt.ylim(plt.ylim()[0]-100, plt.ylim()[1])"
   ]
  },
  {
   "cell_type": "code",
   "execution_count": null,
   "metadata": {
    "collapsed": true
   },
   "outputs": [],
   "source": [
    "'''\n",
    "### Only plot clusters with more than 50 events\n",
    "tsne_db_df_50 = tsne_db_df[tsne_db_df.sum(axis=1)>50]\n",
    "tsne_db_df_50_melted = pd.melt(tsne_db_df_50,value_vars=[\"Unlabelled\",\"Blast\",\"Healthy\"],id_vars=\"Cluster Label\")\n",
    "ax = sns.barplot(hue=\"variable\",y=\"value\",x=\"Cluster Label\",data=tsne_db_df_50_melted,log='y')\n",
    "plt.savefig('C03_large_clstrs_only__barplot.png')\n",
    "plt.close()\n",
    "'''"
   ]
  },
  {
   "cell_type": "code",
   "execution_count": 13,
   "metadata": {
    "collapsed": false
   },
   "outputs": [
    {
     "data": {
      "text/plain": [
       "array([-1,  0])"
      ]
     },
     "execution_count": 13,
     "metadata": {},
     "output_type": "execute_result"
    }
   ],
   "source": [
    "unique_labels"
   ]
  },
  {
   "cell_type": "markdown",
   "metadata": {},
   "source": [
    "# Take everything in cluster 0 and then cluster on that "
   ]
  },
  {
   "cell_type": "code",
   "execution_count": 14,
   "metadata": {
    "collapsed": true
   },
   "outputs": [],
   "source": [
    "# Unique_labels is a list of unique cluster labels\n",
    "# Below line subsets the original data based on what was in a specific cluster (in this case the cluster at index 1 or cluster \"0\")\n",
    "my_data_scaled_PCA_DBSCAN0 = my_scaled_data_transformed_pd.iloc[np.where(labels==unique_labels[1])[0]]\n",
    "my_data_scaled_PCA_DBSCAN0_labels = my_data['cell_label'][np.where(labels==unique_labels[1])[0]]"
   ]
  },
  {
   "cell_type": "code",
   "execution_count": 64,
   "metadata": {
    "collapsed": false
   },
   "outputs": [],
   "source": [
    "#my_scaled_data_transformed_pd.iloc[np.where(labels==unique_labels[1])[0]]\n",
    "#my_data['cell_label'][np.where(labels==unique_labels[1])[0]]"
   ]
  },
  {
   "cell_type": "code",
   "execution_count": 30,
   "metadata": {
    "collapsed": false
   },
   "outputs": [
    {
     "data": {
      "text/plain": [
       "1     unlabelled\n",
       "2     unlabelled\n",
       "5     unlabelled\n",
       "9     unlabelled\n",
       "18    unlabelled\n",
       "19    unlabelled\n",
       "20    unlabelled\n",
       "25    unlabelled\n",
       "30    unlabelled\n",
       "31    unlabelled\n",
       "Name: cell_label, dtype: object"
      ]
     },
     "execution_count": 30,
     "metadata": {},
     "output_type": "execute_result"
    }
   ],
   "source": [
    "#type(my_data_scaled_PCA_DBSCAN0) # pandas.core.frame.DataFrame\n",
    "#type(my_data_scaled_PCA_DBSCAN0_labels) # pandas.core.series.Series\n",
    "#my_data_scaled_PCA_DBSCAN0_labels.head(n=10) # Note the indices are not reset for either of the above pandas objects!!!!"
   ]
  },
  {
   "cell_type": "markdown",
   "metadata": {},
   "source": [
    "# Need to reset the index of the pandas object"
   ]
  },
  {
   "cell_type": "code",
   "execution_count": 15,
   "metadata": {
    "collapsed": false
   },
   "outputs": [],
   "source": [
    "my_data_scaled_PCA_DBSCAN0 = my_data_scaled_PCA_DBSCAN0.reset_index(drop=True)\n",
    "my_data_scaled_PCA_DBSCAN0_labels = my_data_scaled_PCA_DBSCAN0_labels.reset_index(drop=True)"
   ]
  },
  {
   "cell_type": "code",
   "execution_count": 16,
   "metadata": {
    "collapsed": false
   },
   "outputs": [
    {
     "name": "stdout",
     "output_type": "stream",
     "text": [
      "Double-check that reindexing step below is working the way that you think it is\n",
      "[[0, 7429, 155, 436]]\n"
     ]
    }
   ],
   "source": [
    "# Sanity check is below which should be formalized as a test.\n",
    "'''\n",
    "dbsc = DBSCAN(eps = .85,min_samples=10, metric = \"euclidean\").fit(my_data_scaled_PCA_DBSCAN0)\n",
    "labels = dbsc.labels_\n",
    "core_samples = np.zeros_like(labels, dtype = bool)\n",
    "core_samples[dbsc.core_sample_indices_] = True\n",
    "unique_labels = np.unique(labels)\n",
    "\n",
    "# Done with DBSCAN, plot it\n",
    "DB_PCA = [] # This will be a list of lists where the 1st entry is the cluster ID, 2nd: is\n",
    "## how many \"unlabelled\" are in that cluster, 3rd: number of blast, 4th: number of healthy.\n",
    "print(\"Double-check that reindexing step below is working the way that you think it is\")\n",
    "for i in xrange(len(unique_labels)):\n",
    "    clst_index = my_data_scaled_PCA_DBSCAN0_labels[np.where(labels==unique_labels[i])[0]]\n",
    "    if clst_index.empty == True:\n",
    "        print(\"Cluster index and original data don't line up right. STOP AND FIX\")\n",
    "        break\n",
    "    DB_PCA.append([unique_labels[i],sum(clst_index=='unlabelled'),\n",
    "                     sum(clst_index=='blast'),sum(clst_index=='healthy')])\n",
    "    #print(str(unique_labels2[i])+\"--\") # prints cluster name plus two \"--\"s\n",
    "    #print len(tsne_out_mink2[np.where(labels2==unique_labels2[i])[0],0]) # prints how many cells are in that cluster\n",
    "print(DB_PCA) # This was print(tsne_db_2)\n",
    "'''\n",
    "# The output for each cluster from this should block should add up to the cluster it was originally pulled from, so\n",
    "## sum up element 1, 2 and 3 and make sure that is the same as the cluster you subsetted from"
   ]
  },
  {
   "cell_type": "markdown",
   "metadata": {},
   "source": [
    "# Plug in the preprocessed dataset and play with the hyper-parameters for the next round of clustering"
   ]
  },
  {
   "cell_type": "code",
   "execution_count": 17,
   "metadata": {
    "collapsed": true
   },
   "outputs": [],
   "source": [
    "eps_param = [0.1, 0.2, 0.3, 0.4, 0.5, 0.6, 0.7, 0.8, 0.9, 1, 1.4, 1.8, 3, 6, 12]\n",
    "algorithm_ = [\"auto\"]#, \"ball_tree\",\"kd_tree\",\"brute\"]\n",
    "metric_ = [\"cityblock\",\"euclidean\",\"l1\",\"l2\",\"manhattan\",\\\n",
    "           \"chebyshev\", \"canberra\",\"braycurtis\"]\n",
    "### The below were usually uninformative\n",
    "#           \"dice\", \"hamming\", \"jaccard\", \"kulsinski\", \\\n",
    "#           \"matching\", \"rogerstanimoto\", \"russellrao\",\\\n",
    "#           \"sokalmichener\", \"sokalsneath\", \"yule\"]\n"
   ]
  },
  {
   "cell_type": "code",
   "execution_count": 18,
   "metadata": {
    "collapsed": false
   },
   "outputs": [],
   "source": [
    "metric_auto_only = [ \"braycurtis\", \"canberra\",\\\n",
    "           \"dice\", \"hamming\",\"jaccard\", \"kulsinski\", \\\n",
    "           \"matching\", \"rogerstanimoto\", \"russellrao\",\\\n",
    "           \"sokalmichener\", \"sokalsneath\", \"yule\"]"
   ]
  },
  {
   "cell_type": "code",
   "execution_count": 19,
   "metadata": {
    "collapsed": false
   },
   "outputs": [],
   "source": [
    "#metric_ = [\"canberra\"]\n",
    "#eps_param = [float(x)/20 for x in list(range(10,50,1))]\n",
    "#eps_param"
   ]
  },
  {
   "cell_type": "code",
   "execution_count": 75,
   "metadata": {
    "collapsed": false
   },
   "outputs": [],
   "source": [
    "metric_ = [\"canberra\",\"braycurtis\"]"
   ]
  },
  {
   "cell_type": "code",
   "execution_count": 19,
   "metadata": {
    "collapsed": false
   },
   "outputs": [
    {
     "name": "stdout",
     "output_type": "stream",
     "text": [
      "Starting DBSCAN with EPS of 0.1 ALGORITHM of auto distance METRIC of cityblock\n",
      "[[-1, 7429, 155, 436]]\n",
      "Done with iteration with EPS of 0.1 ALGORITHM of auto distance METRIC of cityblock\n",
      "Starting DBSCAN with EPS of 0.2 ALGORITHM of auto distance METRIC of cityblock\n",
      "[[-1, 7429, 155, 436]]\n",
      "Done with iteration with EPS of 0.2 ALGORITHM of auto distance METRIC of cityblock\n",
      "Starting DBSCAN with EPS of 0.3 ALGORITHM of auto distance METRIC of cityblock\n",
      "[[-1, 7429, 155, 436]]\n",
      "Done with iteration with EPS of 0.3 ALGORITHM of auto distance METRIC of cityblock\n",
      "Starting DBSCAN with EPS of 0.4 ALGORITHM of auto distance METRIC of cityblock\n",
      "[[-1, 7429, 155, 436]]\n",
      "Done with iteration with EPS of 0.4 ALGORITHM of auto distance METRIC of cityblock\n",
      "Starting DBSCAN with EPS of 0.5 ALGORITHM of auto distance METRIC of cityblock\n",
      "[[-1, 6701, 155, 436], [0, 662, 0, 0], [1, 7, 0, 0], [2, 5, 0, 0], [3, 43, 0, 0], [4, 11, 0, 0]]\n",
      "Done with iteration with EPS of 0.5 ALGORITHM of auto distance METRIC of cityblock\n",
      "Starting DBSCAN with EPS of 0.6 ALGORITHM of auto distance METRIC of cityblock\n",
      "[[-1, 5461, 155, 436], [0, 1885, 0, 0], [1, 83, 0, 0]]\n",
      "Done with iteration with EPS of 0.6 ALGORITHM of auto distance METRIC of cityblock\n",
      "Starting DBSCAN with EPS of 0.7 ALGORITHM of auto distance METRIC of cityblock\n",
      "[[-1, 4550, 155, 436], [0, 2589, 0, 0], [1, 14, 0, 0], [2, 26, 0, 0], [3, 250, 0, 0]]\n",
      "Done with iteration with EPS of 0.7 ALGORITHM of auto distance METRIC of cityblock\n",
      "Starting DBSCAN with EPS of 0.8 ALGORITHM of auto distance METRIC of cityblock\n",
      "[[-1, 3517, 155, 433], [0, 2965, 0, 0], [1, 579, 0, 3], [2, 360, 0, 0], [3, 8, 0, 0]]\n",
      "Done with iteration with EPS of 0.8 ALGORITHM of auto distance METRIC of cityblock\n",
      "Starting DBSCAN with EPS of 0.9 ALGORITHM of auto distance METRIC of cityblock\n",
      "[[-1, 2526, 155, 402], [0, 3215, 0, 0], [1, 1260, 0, 34], [2, 422, 0, 0], [3, 6, 0, 0]]\n",
      "Done with iteration with EPS of 0.9 ALGORITHM of auto distance METRIC of cityblock\n",
      "Starting DBSCAN with EPS of 1 ALGORITHM of auto distance METRIC of cityblock\n",
      "[[-1, 1772, 154, 353], [0, 5174, 1, 83], [1, 483, 0, 0]]\n",
      "Done with iteration with EPS of 1 ALGORITHM of auto distance METRIC of cityblock\n",
      "Starting DBSCAN with EPS of 1.4 ALGORITHM of auto distance METRIC of cityblock\n",
      "[[-1, 593, 91, 130], [0, 6265, 55, 296], [1, 563, 0, 0], [2, 5, 0, 1], [3, 1, 9, 0], [4, 2, 0, 9]]\n",
      "Done with iteration with EPS of 1.4 ALGORITHM of auto distance METRIC of cityblock\n",
      "Starting DBSCAN with EPS of 1.8 ALGORITHM of auto distance METRIC of cityblock\n",
      "[[-1, 179, 23, 29], [0, 7250, 132, 407]]\n",
      "Done with iteration with EPS of 1.8 ALGORITHM of auto distance METRIC of cityblock\n",
      "Starting DBSCAN with EPS of 3 ALGORITHM of auto distance METRIC of cityblock\n",
      "[[0, 7429, 155, 436]]\n",
      "Done with iteration with EPS of 3 ALGORITHM of auto distance METRIC of cityblock\n",
      "Starting DBSCAN with EPS of 6 ALGORITHM of auto distance METRIC of cityblock\n",
      "[[0, 7429, 155, 436]]\n",
      "Done with iteration with EPS of 6 ALGORITHM of auto distance METRIC of cityblock\n",
      "Starting DBSCAN with EPS of 12 ALGORITHM of auto distance METRIC of cityblock\n",
      "[[0, 7429, 155, 436]]\n",
      "Done with iteration with EPS of 12 ALGORITHM of auto distance METRIC of cityblock\n",
      "Starting DBSCAN with EPS of 0.1 ALGORITHM of auto distance METRIC of euclidean\n",
      "[[-1, 7429, 155, 436]]\n",
      "Done with iteration with EPS of 0.1 ALGORITHM of auto distance METRIC of euclidean\n",
      "Starting DBSCAN with EPS of 0.2 ALGORITHM of auto distance METRIC of euclidean\n",
      "[[-1, 6683, 155, 436], [0, 703, 0, 0], [1, 43, 0, 0]]\n",
      "Done with iteration with EPS of 0.2 ALGORITHM of auto distance METRIC of euclidean\n",
      "Starting DBSCAN with EPS of 0.3 ALGORITHM of auto distance METRIC of euclidean\n",
      "[[-1, 4086, 155, 436], [0, 234, 0, 0], [1, 2788, 0, 0], [2, 297, 0, 0], [3, 5, 0, 0], [4, 10, 0, 0], [5, 9, 0, 0]]\n",
      "Done with iteration with EPS of 0.3 ALGORITHM of auto distance METRIC of euclidean\n",
      "Starting DBSCAN with EPS of 0.4 ALGORITHM of auto distance METRIC of euclidean\n",
      "[[-1, 1772, 155, 363], [0, 5178, 0, 73], [1, 479, 0, 0]]\n",
      "Done with iteration with EPS of 0.4 ALGORITHM of auto distance METRIC of euclidean\n",
      "Starting DBSCAN with EPS of 0.5 ALGORITHM of auto distance METRIC of euclidean\n",
      "[[-1, 864, 128, 198], [0, 6020, 27, 238], [1, 545, 0, 0]]\n",
      "Done with iteration with EPS of 0.5 ALGORITHM of auto distance METRIC of euclidean\n",
      "Starting DBSCAN with EPS of 0.6 ALGORITHM of auto distance METRIC of euclidean\n",
      "[[-1, 456, 60, 103], [0, 6953, 83, 333], [1, 3, 12, 0], [2, 17, 0, 0]]\n",
      "Done with iteration with EPS of 0.6 ALGORITHM of auto distance METRIC of euclidean\n",
      "Starting DBSCAN with EPS of 0.7 ALGORITHM of auto distance METRIC of euclidean\n",
      "[[-1, 205, 25, 35], [0, 7224, 130, 401]]\n",
      "Done with iteration with EPS of 0.7 ALGORITHM of auto distance METRIC of euclidean\n",
      "Starting DBSCAN with EPS of 0.8 ALGORITHM of auto distance METRIC of euclidean\n",
      "[[-1, 60, 7, 16], [0, 7369, 148, 420]]\n",
      "Done with iteration with EPS of 0.8 ALGORITHM of auto distance METRIC of euclidean\n",
      "Starting DBSCAN with EPS of 0.9 ALGORITHM of auto distance METRIC of euclidean\n",
      "[[0, 7429, 155, 436]]\n",
      "Done with iteration with EPS of 0.9 ALGORITHM of auto distance METRIC of euclidean\n",
      "Starting DBSCAN with EPS of 1 ALGORITHM of auto distance METRIC of euclidean\n",
      "[[0, 7429, 155, 436]]\n",
      "Done with iteration with EPS of 1 ALGORITHM of auto distance METRIC of euclidean\n",
      "Starting DBSCAN with EPS of 1.4 ALGORITHM of auto distance METRIC of euclidean\n",
      "[[0, 7429, 155, 436]]\n",
      "Done with iteration with EPS of 1.4 ALGORITHM of auto distance METRIC of euclidean\n",
      "Starting DBSCAN with EPS of 1.8 ALGORITHM of auto distance METRIC of euclidean\n",
      "[[0, 7429, 155, 436]]\n",
      "Done with iteration with EPS of 1.8 ALGORITHM of auto distance METRIC of euclidean\n",
      "Starting DBSCAN with EPS of 3 ALGORITHM of auto distance METRIC of euclidean\n",
      "[[0, 7429, 155, 436]]\n",
      "Done with iteration with EPS of 3 ALGORITHM of auto distance METRIC of euclidean\n",
      "Starting DBSCAN with EPS of 6 ALGORITHM of auto distance METRIC of euclidean\n",
      "[[0, 7429, 155, 436]]\n",
      "Done with iteration with EPS of 6 ALGORITHM of auto distance METRIC of euclidean\n",
      "Starting DBSCAN with EPS of 12 ALGORITHM of auto distance METRIC of euclidean\n",
      "[[0, 7429, 155, 436]]\n",
      "Done with iteration with EPS of 12 ALGORITHM of auto distance METRIC of euclidean\n",
      "Starting DBSCAN with EPS of 0.1 ALGORITHM of auto distance METRIC of l1\n",
      "[[-1, 7429, 155, 436]]\n",
      "Done with iteration with EPS of 0.1 ALGORITHM of auto distance METRIC of l1\n",
      "Starting DBSCAN with EPS of 0.2 ALGORITHM of auto distance METRIC of l1\n",
      "[[-1, 7429, 155, 436]]\n",
      "Done with iteration with EPS of 0.2 ALGORITHM of auto distance METRIC of l1\n",
      "Starting DBSCAN with EPS of 0.3 ALGORITHM of auto distance METRIC of l1\n",
      "[[-1, 7429, 155, 436]]\n",
      "Done with iteration with EPS of 0.3 ALGORITHM of auto distance METRIC of l1\n",
      "Starting DBSCAN with EPS of 0.4 ALGORITHM of auto distance METRIC of l1\n",
      "[[-1, 7429, 155, 436]]\n",
      "Done with iteration with EPS of 0.4 ALGORITHM of auto distance METRIC of l1\n",
      "Starting DBSCAN with EPS of 0.5 ALGORITHM of auto distance METRIC of l1\n",
      "[[-1, 6701, 155, 436], [0, 662, 0, 0], [1, 7, 0, 0], [2, 5, 0, 0], [3, 43, 0, 0], [4, 11, 0, 0]]\n",
      "Done with iteration with EPS of 0.5 ALGORITHM of auto distance METRIC of l1\n",
      "Starting DBSCAN with EPS of 0.6 ALGORITHM of auto distance METRIC of l1\n",
      "[[-1, 5461, 155, 436], [0, 1885, 0, 0], [1, 83, 0, 0]]\n",
      "Done with iteration with EPS of 0.6 ALGORITHM of auto distance METRIC of l1\n",
      "Starting DBSCAN with EPS of 0.7 ALGORITHM of auto distance METRIC of l1\n",
      "[[-1, 4550, 155, 436], [0, 2589, 0, 0], [1, 14, 0, 0], [2, 26, 0, 0], [3, 250, 0, 0]]\n",
      "Done with iteration with EPS of 0.7 ALGORITHM of auto distance METRIC of l1\n",
      "Starting DBSCAN with EPS of 0.8 ALGORITHM of auto distance METRIC of l1\n",
      "[[-1, 3517, 155, 433], [0, 2965, 0, 0], [1, 579, 0, 3], [2, 360, 0, 0], [3, 8, 0, 0]]\n",
      "Done with iteration with EPS of 0.8 ALGORITHM of auto distance METRIC of l1\n",
      "Starting DBSCAN with EPS of 0.9 ALGORITHM of auto distance METRIC of l1\n",
      "[[-1, 2526, 155, 402], [0, 3215, 0, 0], [1, 1260, 0, 34], [2, 422, 0, 0], [3, 6, 0, 0]]\n",
      "Done with iteration with EPS of 0.9 ALGORITHM of auto distance METRIC of l1\n",
      "Starting DBSCAN with EPS of 1 ALGORITHM of auto distance METRIC of l1\n",
      "[[-1, 1772, 154, 353], [0, 5174, 1, 83], [1, 483, 0, 0]]\n",
      "Done with iteration with EPS of 1 ALGORITHM of auto distance METRIC of l1\n",
      "Starting DBSCAN with EPS of 1.4 ALGORITHM of auto distance METRIC of l1\n",
      "[[-1, 593, 91, 130], [0, 6265, 55, 296], [1, 563, 0, 0], [2, 5, 0, 1], [3, 1, 9, 0], [4, 2, 0, 9]]\n",
      "Done with iteration with EPS of 1.4 ALGORITHM of auto distance METRIC of l1\n",
      "Starting DBSCAN with EPS of 1.8 ALGORITHM of auto distance METRIC of l1\n",
      "[[-1, 179, 23, 29], [0, 7250, 132, 407]]\n",
      "Done with iteration with EPS of 1.8 ALGORITHM of auto distance METRIC of l1\n",
      "Starting DBSCAN with EPS of 3 ALGORITHM of auto distance METRIC of l1\n",
      "[[0, 7429, 155, 436]]\n",
      "Done with iteration with EPS of 3 ALGORITHM of auto distance METRIC of l1\n",
      "Starting DBSCAN with EPS of 6 ALGORITHM of auto distance METRIC of l1\n",
      "[[0, 7429, 155, 436]]\n",
      "Done with iteration with EPS of 6 ALGORITHM of auto distance METRIC of l1\n",
      "Starting DBSCAN with EPS of 12 ALGORITHM of auto distance METRIC of l1\n",
      "[[0, 7429, 155, 436]]\n",
      "Done with iteration with EPS of 12 ALGORITHM of auto distance METRIC of l1\n",
      "Starting DBSCAN with EPS of 0.1 ALGORITHM of auto distance METRIC of l2\n",
      "[[-1, 7429, 155, 436]]\n",
      "Done with iteration with EPS of 0.1 ALGORITHM of auto distance METRIC of l2\n",
      "Starting DBSCAN with EPS of 0.2 ALGORITHM of auto distance METRIC of l2\n",
      "[[-1, 6683, 155, 436], [0, 703, 0, 0], [1, 43, 0, 0]]\n",
      "Done with iteration with EPS of 0.2 ALGORITHM of auto distance METRIC of l2\n",
      "Starting DBSCAN with EPS of 0.3 ALGORITHM of auto distance METRIC of l2\n",
      "[[-1, 4086, 155, 436], [0, 234, 0, 0], [1, 2788, 0, 0], [2, 297, 0, 0], [3, 5, 0, 0], [4, 10, 0, 0], [5, 9, 0, 0]]\n",
      "Done with iteration with EPS of 0.3 ALGORITHM of auto distance METRIC of l2\n",
      "Starting DBSCAN with EPS of 0.4 ALGORITHM of auto distance METRIC of l2\n",
      "[[-1, 1772, 155, 363], [0, 5178, 0, 73], [1, 479, 0, 0]]\n",
      "Done with iteration with EPS of 0.4 ALGORITHM of auto distance METRIC of l2\n",
      "Starting DBSCAN with EPS of 0.5 ALGORITHM of auto distance METRIC of l2\n",
      "[[-1, 864, 128, 198], [0, 6020, 27, 238], [1, 545, 0, 0]]\n",
      "Done with iteration with EPS of 0.5 ALGORITHM of auto distance METRIC of l2\n",
      "Starting DBSCAN with EPS of 0.6 ALGORITHM of auto distance METRIC of l2\n",
      "[[-1, 456, 60, 103], [0, 6953, 83, 333], [1, 3, 12, 0], [2, 17, 0, 0]]\n",
      "Done with iteration with EPS of 0.6 ALGORITHM of auto distance METRIC of l2\n",
      "Starting DBSCAN with EPS of 0.7 ALGORITHM of auto distance METRIC of l2\n",
      "[[-1, 205, 25, 35], [0, 7224, 130, 401]]\n",
      "Done with iteration with EPS of 0.7 ALGORITHM of auto distance METRIC of l2\n",
      "Starting DBSCAN with EPS of 0.8 ALGORITHM of auto distance METRIC of l2\n",
      "[[-1, 60, 7, 16], [0, 7369, 148, 420]]\n",
      "Done with iteration with EPS of 0.8 ALGORITHM of auto distance METRIC of l2\n",
      "Starting DBSCAN with EPS of 0.9 ALGORITHM of auto distance METRIC of l2\n",
      "[[0, 7429, 155, 436]]\n",
      "Done with iteration with EPS of 0.9 ALGORITHM of auto distance METRIC of l2\n",
      "Starting DBSCAN with EPS of 1 ALGORITHM of auto distance METRIC of l2\n",
      "[[0, 7429, 155, 436]]\n",
      "Done with iteration with EPS of 1 ALGORITHM of auto distance METRIC of l2\n",
      "Starting DBSCAN with EPS of 1.4 ALGORITHM of auto distance METRIC of l2\n",
      "[[0, 7429, 155, 436]]\n",
      "Done with iteration with EPS of 1.4 ALGORITHM of auto distance METRIC of l2\n",
      "Starting DBSCAN with EPS of 1.8 ALGORITHM of auto distance METRIC of l2\n",
      "[[0, 7429, 155, 436]]\n",
      "Done with iteration with EPS of 1.8 ALGORITHM of auto distance METRIC of l2\n",
      "Starting DBSCAN with EPS of 3 ALGORITHM of auto distance METRIC of l2\n",
      "[[0, 7429, 155, 436]]\n",
      "Done with iteration with EPS of 3 ALGORITHM of auto distance METRIC of l2\n",
      "Starting DBSCAN with EPS of 6 ALGORITHM of auto distance METRIC of l2\n",
      "[[0, 7429, 155, 436]]\n",
      "Done with iteration with EPS of 6 ALGORITHM of auto distance METRIC of l2\n",
      "Starting DBSCAN with EPS of 12 ALGORITHM of auto distance METRIC of l2\n",
      "[[0, 7429, 155, 436]]\n",
      "Done with iteration with EPS of 12 ALGORITHM of auto distance METRIC of l2\n",
      "Starting DBSCAN with EPS of 0.1 ALGORITHM of auto distance METRIC of manhattan\n",
      "[[-1, 7429, 155, 436]]\n",
      "Done with iteration with EPS of 0.1 ALGORITHM of auto distance METRIC of manhattan\n",
      "Starting DBSCAN with EPS of 0.2 ALGORITHM of auto distance METRIC of manhattan\n",
      "[[-1, 7429, 155, 436]]\n",
      "Done with iteration with EPS of 0.2 ALGORITHM of auto distance METRIC of manhattan\n",
      "Starting DBSCAN with EPS of 0.3 ALGORITHM of auto distance METRIC of manhattan\n",
      "[[-1, 7429, 155, 436]]\n",
      "Done with iteration with EPS of 0.3 ALGORITHM of auto distance METRIC of manhattan\n",
      "Starting DBSCAN with EPS of 0.4 ALGORITHM of auto distance METRIC of manhattan\n",
      "[[-1, 7429, 155, 436]]\n",
      "Done with iteration with EPS of 0.4 ALGORITHM of auto distance METRIC of manhattan\n",
      "Starting DBSCAN with EPS of 0.5 ALGORITHM of auto distance METRIC of manhattan\n",
      "[[-1, 6701, 155, 436], [0, 662, 0, 0], [1, 7, 0, 0], [2, 5, 0, 0], [3, 43, 0, 0], [4, 11, 0, 0]]\n",
      "Done with iteration with EPS of 0.5 ALGORITHM of auto distance METRIC of manhattan\n",
      "Starting DBSCAN with EPS of 0.6 ALGORITHM of auto distance METRIC of manhattan\n",
      "[[-1, 5461, 155, 436], [0, 1885, 0, 0], [1, 83, 0, 0]]\n",
      "Done with iteration with EPS of 0.6 ALGORITHM of auto distance METRIC of manhattan\n",
      "Starting DBSCAN with EPS of 0.7 ALGORITHM of auto distance METRIC of manhattan\n",
      "[[-1, 4550, 155, 436], [0, 2589, 0, 0], [1, 14, 0, 0], [2, 26, 0, 0], [3, 250, 0, 0]]\n",
      "Done with iteration with EPS of 0.7 ALGORITHM of auto distance METRIC of manhattan\n",
      "Starting DBSCAN with EPS of 0.8 ALGORITHM of auto distance METRIC of manhattan\n",
      "[[-1, 3517, 155, 433], [0, 2965, 0, 0], [1, 579, 0, 3], [2, 360, 0, 0], [3, 8, 0, 0]]\n",
      "Done with iteration with EPS of 0.8 ALGORITHM of auto distance METRIC of manhattan\n",
      "Starting DBSCAN with EPS of 0.9 ALGORITHM of auto distance METRIC of manhattan\n",
      "[[-1, 2526, 155, 402], [0, 3215, 0, 0], [1, 1260, 0, 34], [2, 422, 0, 0], [3, 6, 0, 0]]\n",
      "Done with iteration with EPS of 0.9 ALGORITHM of auto distance METRIC of manhattan\n",
      "Starting DBSCAN with EPS of 1 ALGORITHM of auto distance METRIC of manhattan\n",
      "[[-1, 1772, 154, 353], [0, 5174, 1, 83], [1, 483, 0, 0]]\n",
      "Done with iteration with EPS of 1 ALGORITHM of auto distance METRIC of manhattan\n",
      "Starting DBSCAN with EPS of 1.4 ALGORITHM of auto distance METRIC of manhattan\n",
      "[[-1, 593, 91, 130], [0, 6265, 55, 296], [1, 563, 0, 0], [2, 5, 0, 1], [3, 1, 9, 0], [4, 2, 0, 9]]\n",
      "Done with iteration with EPS of 1.4 ALGORITHM of auto distance METRIC of manhattan\n",
      "Starting DBSCAN with EPS of 1.8 ALGORITHM of auto distance METRIC of manhattan\n",
      "[[-1, 179, 23, 29], [0, 7250, 132, 407]]\n",
      "Done with iteration with EPS of 1.8 ALGORITHM of auto distance METRIC of manhattan\n",
      "Starting DBSCAN with EPS of 3 ALGORITHM of auto distance METRIC of manhattan\n",
      "[[0, 7429, 155, 436]]\n",
      "Done with iteration with EPS of 3 ALGORITHM of auto distance METRIC of manhattan\n",
      "Starting DBSCAN with EPS of 6 ALGORITHM of auto distance METRIC of manhattan\n",
      "[[0, 7429, 155, 436]]\n",
      "Done with iteration with EPS of 6 ALGORITHM of auto distance METRIC of manhattan\n",
      "Starting DBSCAN with EPS of 12 ALGORITHM of auto distance METRIC of manhattan\n",
      "[[0, 7429, 155, 436]]\n",
      "Done with iteration with EPS of 12 ALGORITHM of auto distance METRIC of manhattan\n",
      "Starting DBSCAN with EPS of 0.1 ALGORITHM of auto distance METRIC of chebyshev\n",
      "[[-1, 7320, 155, 436], [0, 17, 0, 0], [1, 31, 0, 0], [2, 10, 0, 0], [3, 10, 0, 0], [4, 9, 0, 0], [5, 10, 0, 0], [6, 11, 0, 0], [7, 11, 0, 0]]\n",
      "Done with iteration with EPS of 0.1 ALGORITHM of auto distance METRIC of chebyshev\n",
      "Starting DBSCAN with EPS of 0.2 ALGORITHM of auto distance METRIC of chebyshev\n",
      "[[-1, 2591, 155, 407], [0, 3207, 0, 0], [1, 1219, 0, 28], [2, 406, 0, 0], [3, 6, 0, 1]]\n",
      "Done with iteration with EPS of 0.2 ALGORITHM of auto distance METRIC of chebyshev\n",
      "Starting DBSCAN with EPS of 0.3 ALGORITHM of auto distance METRIC of chebyshev\n",
      "[[-1, 693, 112, 164], [0, 6177, 43, 272], [1, 559, 0, 0]]\n",
      "Done with iteration with EPS of 0.3 ALGORITHM of auto distance METRIC of chebyshev\n",
      "Starting DBSCAN with EPS of 0.4 ALGORITHM of auto distance METRIC of chebyshev\n",
      "[[-1, 179, 19, 33], [0, 7250, 136, 403]]\n",
      "Done with iteration with EPS of 0.4 ALGORITHM of auto distance METRIC of chebyshev\n",
      "Starting DBSCAN with EPS of 0.5 ALGORITHM of auto distance METRIC of chebyshev\n",
      "[[-1, 18, 0, 5], [0, 7411, 155, 431]]\n",
      "Done with iteration with EPS of 0.5 ALGORITHM of auto distance METRIC of chebyshev\n",
      "Starting DBSCAN with EPS of 0.6 ALGORITHM of auto distance METRIC of chebyshev\n",
      "[[0, 7429, 155, 436]]\n",
      "Done with iteration with EPS of 0.6 ALGORITHM of auto distance METRIC of chebyshev\n",
      "Starting DBSCAN with EPS of 0.7 ALGORITHM of auto distance METRIC of chebyshev\n",
      "[[0, 7429, 155, 436]]\n",
      "Done with iteration with EPS of 0.7 ALGORITHM of auto distance METRIC of chebyshev\n",
      "Starting DBSCAN with EPS of 0.8 ALGORITHM of auto distance METRIC of chebyshev\n",
      "[[0, 7429, 155, 436]]\n",
      "Done with iteration with EPS of 0.8 ALGORITHM of auto distance METRIC of chebyshev\n",
      "Starting DBSCAN with EPS of 0.9 ALGORITHM of auto distance METRIC of chebyshev\n",
      "[[0, 7429, 155, 436]]\n",
      "Done with iteration with EPS of 0.9 ALGORITHM of auto distance METRIC of chebyshev\n",
      "Starting DBSCAN with EPS of 1 ALGORITHM of auto distance METRIC of chebyshev\n",
      "[[0, 7429, 155, 436]]\n",
      "Done with iteration with EPS of 1 ALGORITHM of auto distance METRIC of chebyshev\n",
      "Starting DBSCAN with EPS of 1.4 ALGORITHM of auto distance METRIC of chebyshev\n",
      "[[0, 7429, 155, 436]]\n",
      "Done with iteration with EPS of 1.4 ALGORITHM of auto distance METRIC of chebyshev\n",
      "Starting DBSCAN with EPS of 1.8 ALGORITHM of auto distance METRIC of chebyshev\n",
      "[[0, 7429, 155, 436]]\n",
      "Done with iteration with EPS of 1.8 ALGORITHM of auto distance METRIC of chebyshev\n",
      "Starting DBSCAN with EPS of 3 ALGORITHM of auto distance METRIC of chebyshev\n",
      "[[0, 7429, 155, 436]]\n",
      "Done with iteration with EPS of 3 ALGORITHM of auto distance METRIC of chebyshev\n",
      "Starting DBSCAN with EPS of 6 ALGORITHM of auto distance METRIC of chebyshev\n",
      "[[0, 7429, 155, 436]]\n",
      "Done with iteration with EPS of 6 ALGORITHM of auto distance METRIC of chebyshev\n",
      "Starting DBSCAN with EPS of 12 ALGORITHM of auto distance METRIC of chebyshev\n",
      "[[0, 7429, 155, 436]]\n",
      "Done with iteration with EPS of 12 ALGORITHM of auto distance METRIC of chebyshev\n",
      "Starting DBSCAN with EPS of 0.1 ALGORITHM of auto distance METRIC of canberra\n",
      "[[-1, 7429, 155, 436]]\n",
      "Done with iteration with EPS of 0.1 ALGORITHM of auto distance METRIC of canberra\n",
      "Starting DBSCAN with EPS of 0.2 ALGORITHM of auto distance METRIC of canberra\n",
      "[[-1, 7429, 155, 436]]\n",
      "Done with iteration with EPS of 0.2 ALGORITHM of auto distance METRIC of canberra\n",
      "Starting DBSCAN with EPS of 0.3 ALGORITHM of auto distance METRIC of canberra\n",
      "[[-1, 7429, 155, 436]]\n",
      "Done with iteration with EPS of 0.3 ALGORITHM of auto distance METRIC of canberra\n",
      "Starting DBSCAN with EPS of 0.4 ALGORITHM of auto distance METRIC of canberra\n",
      "[[-1, 7429, 155, 436]]\n",
      "Done with iteration with EPS of 0.4 ALGORITHM of auto distance METRIC of canberra\n",
      "Starting DBSCAN with EPS of 0.5 ALGORITHM of auto distance METRIC of canberra\n",
      "[[-1, 7429, 155, 436]]\n",
      "Done with iteration with EPS of 0.5 ALGORITHM of auto distance METRIC of canberra\n",
      "Starting DBSCAN with EPS of 0.6 ALGORITHM of auto distance METRIC of canberra\n",
      "[[-1, 7429, 155, 436]]\n",
      "Done with iteration with EPS of 0.6 ALGORITHM of auto distance METRIC of canberra\n",
      "Starting DBSCAN with EPS of 0.7 ALGORITHM of auto distance METRIC of canberra\n",
      "[[-1, 7429, 155, 436]]\n",
      "Done with iteration with EPS of 0.7 ALGORITHM of auto distance METRIC of canberra\n",
      "Starting DBSCAN with EPS of 0.8 ALGORITHM of auto distance METRIC of canberra\n",
      "[[-1, 7429, 155, 436]]\n",
      "Done with iteration with EPS of 0.8 ALGORITHM of auto distance METRIC of canberra\n",
      "Starting DBSCAN with EPS of 0.9 ALGORITHM of auto distance METRIC of canberra\n",
      "[[-1, 7419, 155, 436], [0, 10, 0, 0]]\n",
      "Done with iteration with EPS of 0.9 ALGORITHM of auto distance METRIC of canberra\n",
      "Starting DBSCAN with EPS of 1 ALGORITHM of auto distance METRIC of canberra\n",
      "[[-1, 7345, 155, 436], [0, 23, 0, 0], [1, 12, 0, 0], [2, 10, 0, 0], [3, 25, 0, 0], [4, 14, 0, 0]]\n",
      "Done with iteration with EPS of 1 ALGORITHM of auto distance METRIC of canberra\n",
      "Starting DBSCAN with EPS of 1.4 ALGORITHM of auto distance METRIC of canberra\n",
      "[[-1, 6075, 145, 436], [0, 169, 0, 0], [1, 814, 0, 0], [2, 159, 0, 0], [3, 93, 0, 0], [4, 46, 0, 0], [5, 1, 10, 0], [6, 15, 0, 0], [7, 15, 0, 0], [8, 13, 0, 0], [9, 10, 0, 0], [10, 19, 0, 0]]\n",
      "Done with iteration with EPS of 1.4 ALGORITHM of auto distance METRIC of canberra\n",
      "Starting DBSCAN with EPS of 1.8 ALGORITHM of auto distance METRIC of canberra\n",
      "[[-1, 4428, 125, 436], [0, 2399, 0, 0], [1, 489, 0, 0], [2, 57, 0, 0], [3, 6, 30, 0], [4, 12, 0, 0], [5, 27, 0, 0], [6, 11, 0, 0]]\n",
      "Done with iteration with EPS of 1.8 ALGORITHM of auto distance METRIC of canberra\n",
      "Starting DBSCAN with EPS of 3 ALGORITHM of auto distance METRIC of canberra\n",
      "[[-1, 667, 24, 85], [0, 6762, 131, 351]]\n",
      "Done with iteration with EPS of 3 ALGORITHM of auto distance METRIC of canberra\n",
      "Starting DBSCAN with EPS of 6 ALGORITHM of auto distance METRIC of canberra\n",
      "[[0, 7429, 155, 436]]\n",
      "Done with iteration with EPS of 6 ALGORITHM of auto distance METRIC of canberra\n",
      "Starting DBSCAN with EPS of 12 ALGORITHM of auto distance METRIC of canberra\n",
      "[[0, 7429, 155, 436]]\n",
      "Done with iteration with EPS of 12 ALGORITHM of auto distance METRIC of canberra\n",
      "Starting DBSCAN with EPS of 0.1 ALGORITHM of auto distance METRIC of braycurtis\n",
      "[[-1, 4029, 155, 436], [0, 2868, 0, 0], [1, 504, 0, 0], [2, 28, 0, 0]]\n",
      "Done with iteration with EPS of 0.1 ALGORITHM of auto distance METRIC of braycurtis\n",
      "Starting DBSCAN with EPS of 0.2 ALGORITHM of auto distance METRIC of braycurtis\n",
      "[[-1, 741, 30, 86], [0, 4257, 0, 0], [1, 2414, 125, 350], [2, 17, 0, 0]]\n",
      "Done with iteration with EPS of 0.2 ALGORITHM of auto distance METRIC of braycurtis\n",
      "Starting DBSCAN with EPS of 0.3 ALGORITHM of auto distance METRIC of braycurtis\n",
      "[[-1, 80, 2, 2], [0, 7349, 153, 434]]\n",
      "Done with iteration with EPS of 0.3 ALGORITHM of auto distance METRIC of braycurtis\n",
      "Starting DBSCAN with EPS of 0.4 ALGORITHM of auto distance METRIC of braycurtis\n",
      "[[-1, 4, 0, 1], [0, 7425, 155, 435]]\n",
      "Done with iteration with EPS of 0.4 ALGORITHM of auto distance METRIC of braycurtis\n",
      "Starting DBSCAN with EPS of 0.5 ALGORITHM of auto distance METRIC of braycurtis\n",
      "[[0, 7429, 155, 436]]\n",
      "Done with iteration with EPS of 0.5 ALGORITHM of auto distance METRIC of braycurtis\n",
      "Starting DBSCAN with EPS of 0.6 ALGORITHM of auto distance METRIC of braycurtis\n",
      "[[0, 7429, 155, 436]]\n",
      "Done with iteration with EPS of 0.6 ALGORITHM of auto distance METRIC of braycurtis\n",
      "Starting DBSCAN with EPS of 0.7 ALGORITHM of auto distance METRIC of braycurtis\n",
      "[[0, 7429, 155, 436]]\n",
      "Done with iteration with EPS of 0.7 ALGORITHM of auto distance METRIC of braycurtis\n",
      "Starting DBSCAN with EPS of 0.8 ALGORITHM of auto distance METRIC of braycurtis\n",
      "[[0, 7429, 155, 436]]\n",
      "Done with iteration with EPS of 0.8 ALGORITHM of auto distance METRIC of braycurtis\n",
      "Starting DBSCAN with EPS of 0.9 ALGORITHM of auto distance METRIC of braycurtis\n",
      "[[0, 7429, 155, 436]]\n",
      "Done with iteration with EPS of 0.9 ALGORITHM of auto distance METRIC of braycurtis\n",
      "Starting DBSCAN with EPS of 1 ALGORITHM of auto distance METRIC of braycurtis\n",
      "[[0, 7429, 155, 436]]\n",
      "Done with iteration with EPS of 1 ALGORITHM of auto distance METRIC of braycurtis\n",
      "Starting DBSCAN with EPS of 1.4 ALGORITHM of auto distance METRIC of braycurtis\n",
      "[[0, 7429, 155, 436]]\n",
      "Done with iteration with EPS of 1.4 ALGORITHM of auto distance METRIC of braycurtis\n",
      "Starting DBSCAN with EPS of 1.8 ALGORITHM of auto distance METRIC of braycurtis\n",
      "[[0, 7429, 155, 436]]\n",
      "Done with iteration with EPS of 1.8 ALGORITHM of auto distance METRIC of braycurtis\n",
      "Starting DBSCAN with EPS of 3 ALGORITHM of auto distance METRIC of braycurtis\n",
      "[[0, 7429, 155, 436]]\n",
      "Done with iteration with EPS of 3 ALGORITHM of auto distance METRIC of braycurtis\n",
      "Starting DBSCAN with EPS of 6 ALGORITHM of auto distance METRIC of braycurtis\n",
      "[[0, 7429, 155, 436]]\n",
      "Done with iteration with EPS of 6 ALGORITHM of auto distance METRIC of braycurtis\n",
      "Starting DBSCAN with EPS of 12 ALGORITHM of auto distance METRIC of braycurtis\n",
      "[[0, 7429, 155, 436]]\n",
      "Done with iteration with EPS of 12 ALGORITHM of auto distance METRIC of braycurtis\n"
     ]
    }
   ],
   "source": [
    "for met in metric_:\n",
    "    for algo in algorithm_:\n",
    "        if met in metric_auto_only:\n",
    "            if algo != \"auto\":\n",
    "                continue\n",
    "        for eps_ in eps_param:\n",
    "            dbsc = None; labels = None; DB_PCA = None; DB_PCA_df = None;\n",
    "            # Do DBSCAN on the PCAd data\n",
    "            print(\"Starting DBSCAN with EPS of \" + str(eps_) + \" ALGORITHM of \" + algo\\\n",
    "                 + \" distance METRIC of \" + met)\n",
    "            dbsc = DBSCAN(eps = eps_,min_samples=10, algorithm = algo, metric = met).fit(my_data_scaled_PCA_DBSCAN0)\n",
    "            labels = dbsc.labels_\n",
    "            core_samples = np.zeros_like(labels, dtype = bool)\n",
    "            core_samples[dbsc.core_sample_indices_] = True\n",
    "            unique_labels = np.unique(labels)\n",
    "\n",
    "            # Done with DBSCAN, plot it\n",
    "            DB_PCA = [] # This will be a list of lists where the 1st entry is the cluster ID, 2nd: is\n",
    "            ## how many \"unlabelled\" are in that cluster, 3rd: number of blast, 4th: number of healthy.\n",
    "            #print(\"Double-check that reindexing step below is working the way that you think it is\")\n",
    "            for i in xrange(len(unique_labels)):\n",
    "                clst_index = my_data_scaled_PCA_DBSCAN0_labels[np.where(labels==unique_labels[i])[0]]\n",
    "                if clst_index.empty == True:\n",
    "                    print(\"Cluster index and original data don't line up right. STOP AND FIX\")\n",
    "                    break\n",
    "                DB_PCA.append([unique_labels[i],sum(clst_index=='unlabelled'),\n",
    "                                 sum(clst_index=='blast'),sum(clst_index=='healthy')])\n",
    "                #print(str(unique_labels2[i])+\"--\") # prints cluster name plus two \"--\"s\n",
    "                #print len(tsne_out_mink2[np.where(labels2==unique_labels2[i])[0],0]) # prints how many cells are in that cluster\n",
    "            print(DB_PCA) # This was print(tsne_db_2)\n",
    "\n",
    "            # Convert the list of lists to a pandas dataframe\n",
    "            DB_PCA_df = pd.DataFrame(DB_PCA,columns=[\"Cluster Label\",\"Unlabelled\",\"Blast\",\"Healthy\"])\n",
    "            DB_PCA_df_melted = pd.melt(DB_PCA_df,value_vars=[\"Unlabelled\",\"Blast\",\"Healthy\"],id_vars=\"Cluster Label\")\n",
    "\n",
    "            # Plot the results\n",
    "            plt.gcf().clear()\n",
    "            ax = sns.barplot(hue=\"variable\",y=\"value\",x=\"Cluster Label\",data=DB_PCA_df_melted,log='y')\n",
    "            plt.title(\"DBSCAN results with eps of \" + str(eps_))\n",
    "            plt.ylim(0, plt.ylim()[1])\n",
    "            plt.savefig(filename + \"__PCA10_DBSCAN-euc-0.85-auto_DBSCAN_eps-\" + str(eps_) + \"_algo-\" + algo + \"_dist-metric-\" + met + \"_results.png\")\n",
    "            plt.close()\n",
    "            print(\"Done with iteration with EPS of \" + str(eps_) + \" ALGORITHM of \" + algo\\\n",
    "                 + \" distance METRIC of \" + met)\n"
   ]
  },
  {
   "cell_type": "markdown",
   "metadata": {
    "collapsed": true
   },
   "source": [
    "# Note that I need to re-do the indexing if I want to output any of these clusters"
   ]
  },
  {
   "cell_type": "code",
   "execution_count": null,
   "metadata": {
    "collapsed": true
   },
   "outputs": [],
   "source": []
  },
  {
   "cell_type": "code",
   "execution_count": null,
   "metadata": {
    "collapsed": true
   },
   "outputs": [],
   "source": []
  },
  {
   "cell_type": "code",
   "execution_count": null,
   "metadata": {
    "collapsed": true
   },
   "outputs": [],
   "source": []
  },
  {
   "cell_type": "code",
   "execution_count": null,
   "metadata": {
    "collapsed": true
   },
   "outputs": [],
   "source": []
  },
  {
   "cell_type": "code",
   "execution_count": null,
   "metadata": {
    "collapsed": true
   },
   "outputs": [],
   "source": []
  },
  {
   "cell_type": "code",
   "execution_count": null,
   "metadata": {
    "collapsed": true
   },
   "outputs": [],
   "source": []
  },
  {
   "cell_type": "code",
   "execution_count": null,
   "metadata": {
    "collapsed": true
   },
   "outputs": [],
   "source": []
  }
 ],
 "metadata": {
  "kernelspec": {
   "display_name": "Python [py2-env]",
   "language": "python",
   "name": "Python [py2-env]"
  },
  "language_info": {
   "codemirror_mode": {
    "name": "ipython",
    "version": 2
   },
   "file_extension": ".py",
   "mimetype": "text/x-python",
   "name": "python",
   "nbconvert_exporter": "python",
   "pygments_lexer": "ipython2",
   "version": "2.7.12"
  }
 },
 "nbformat": 4,
 "nbformat_minor": 0
}
