{
 "cells": [
  {
   "cell_type": "code",
   "execution_count": 95,
   "metadata": {
    "collapsed": true
   },
   "outputs": [],
   "source": [
    "import processing\n",
    "# functions of interest from processing: load_and_process_data puts a bunch of fcs files into one dataframe,\n",
    "## load_fcs_files_from_dropbox returns a list of pandas dataframes (each dataframe is one fcs file)\n",
    "import os\n",
    "\n",
    "import pandas as pd\n",
    "import numpy as np\n",
    "import glob"
   ]
  },
  {
   "cell_type": "code",
   "execution_count": 2,
   "metadata": {
    "collapsed": false
   },
   "outputs": [
    {
     "name": "stdout",
     "output_type": "stream",
     "text": [
      "Loading: /Users/tswenson/Dropbox (COMPANY)/screens/screen_525/cell_plate_1/merged/Well_C03.fcs\n",
      "Loading: /Users/tswenson/Dropbox (COMPANY)/screens/screen_525/cell_plate_1/merged/Well_C03_cluster_blast.fcs\n",
      "Loading: /Users/tswenson/Dropbox (COMPANY)/screens/screen_525/cell_plate_1/merged/Well_C03_cluster_healthy.fcs\n",
      "Loading: /Users/tswenson/Dropbox (COMPANY)/screens/screen_525/cell_plate_1/merged/Well_C04.fcs\n",
      "Loading: /Users/tswenson/Dropbox (COMPANY)/screens/screen_525/cell_plate_1/merged/Well_C05.fcs\n",
      "Loading: /Users/tswenson/Dropbox (COMPANY)/screens/screen_525/cell_plate_1/merged/Well_C06.fcs\n",
      "Loading: /Users/tswenson/Dropbox (COMPANY)/screens/screen_525/cell_plate_1/merged/Well_C07.fcs\n",
      "Loading: /Users/tswenson/Dropbox (COMPANY)/screens/screen_525/cell_plate_1/merged/Well_C08.fcs\n",
      "Loading: /Users/tswenson/Dropbox (COMPANY)/screens/screen_525/cell_plate_1/merged/Well_C09.fcs\n",
      "Loading: /Users/tswenson/Dropbox (COMPANY)/screens/screen_525/cell_plate_1/merged/Well_C10.fcs\n",
      "Loading: /Users/tswenson/Dropbox (COMPANY)/screens/screen_525/cell_plate_1/merged/Well_C11.fcs\n",
      "Loading: /Users/tswenson/Dropbox (COMPANY)/screens/screen_525/cell_plate_1/merged/Well_C12.fcs\n",
      "Loading: /Users/tswenson/Dropbox (COMPANY)/screens/screen_525/cell_plate_1/merged/Well_C12_cluster_blast.fcs\n",
      "Loading: /Users/tswenson/Dropbox (COMPANY)/screens/screen_525/cell_plate_1/merged/Well_C12_cluster_healthy.fcs\n",
      "Loading: /Users/tswenson/Dropbox (COMPANY)/screens/screen_525/cell_plate_1/merged/Well_C13.fcs\n",
      "Loading: /Users/tswenson/Dropbox (COMPANY)/screens/screen_525/cell_plate_1/merged/Well_C14.fcs\n",
      "Loading: /Users/tswenson/Dropbox (COMPANY)/screens/screen_525/cell_plate_1/merged/Well_C15.fcs\n",
      "Loading: /Users/tswenson/Dropbox (COMPANY)/screens/screen_525/cell_plate_1/merged/Well_C16.fcs\n",
      "Loading: /Users/tswenson/Dropbox (COMPANY)/screens/screen_525/cell_plate_1/merged/Well_C16_cluster_blast.fcs\n",
      "Loading: /Users/tswenson/Dropbox (COMPANY)/screens/screen_525/cell_plate_1/merged/Well_C16_cluster_healthy.fcs\n",
      "Loading: /Users/tswenson/Dropbox (COMPANY)/screens/screen_525/cell_plate_1/merged/Well_C17.fcs\n",
      "Loading: /Users/tswenson/Dropbox (COMPANY)/screens/screen_525/cell_plate_1/merged/Well_C18.fcs\n",
      "Loading: /Users/tswenson/Dropbox (COMPANY)/screens/screen_525/cell_plate_1/merged/Well_C19.fcs\n",
      "Loading: /Users/tswenson/Dropbox (COMPANY)/screens/screen_525/cell_plate_1/merged/Well_C20.fcs\n",
      "Loading: /Users/tswenson/Dropbox (COMPANY)/screens/screen_525/cell_plate_1/merged/Well_C21.fcs\n",
      "Loading: /Users/tswenson/Dropbox (COMPANY)/screens/screen_525/cell_plate_1/merged/Well_C22.fcs\n",
      "Loading: /Users/tswenson/Dropbox (COMPANY)/screens/screen_525/cell_plate_1/merged/Well_D03.fcs\n",
      "Loading: /Users/tswenson/Dropbox (COMPANY)/screens/screen_525/cell_plate_1/merged/Well_D04.fcs\n",
      "Loading: /Users/tswenson/Dropbox (COMPANY)/screens/screen_525/cell_plate_1/merged/Well_D05.fcs\n",
      "Loading: /Users/tswenson/Dropbox (COMPANY)/screens/screen_525/cell_plate_1/merged/Well_D06.fcs\n",
      "Loading: /Users/tswenson/Dropbox (COMPANY)/screens/screen_525/cell_plate_1/merged/Well_D07.fcs\n",
      "Loading: /Users/tswenson/Dropbox (COMPANY)/screens/screen_525/cell_plate_1/merged/Well_D08.fcs\n",
      "Loading: /Users/tswenson/Dropbox (COMPANY)/screens/screen_525/cell_plate_1/merged/Well_D09.fcs\n",
      "Loading: /Users/tswenson/Dropbox (COMPANY)/screens/screen_525/cell_plate_1/merged/Well_D10.fcs\n",
      "Loading: /Users/tswenson/Dropbox (COMPANY)/screens/screen_525/cell_plate_1/merged/Well_D11.fcs\n",
      "Loading: /Users/tswenson/Dropbox (COMPANY)/screens/screen_525/cell_plate_1/merged/Well_D12.fcs\n",
      "Loading: /Users/tswenson/Dropbox (COMPANY)/screens/screen_525/cell_plate_1/merged/Well_D13.fcs\n",
      "Loading: /Users/tswenson/Dropbox (COMPANY)/screens/screen_525/cell_plate_1/merged/Well_D14.fcs\n",
      "Loading: /Users/tswenson/Dropbox (COMPANY)/screens/screen_525/cell_plate_1/merged/Well_D15.fcs\n",
      "Loading: /Users/tswenson/Dropbox (COMPANY)/screens/screen_525/cell_plate_1/merged/Well_D16.fcs\n",
      "Loading: /Users/tswenson/Dropbox (COMPANY)/screens/screen_525/cell_plate_1/merged/Well_D17.fcs\n",
      "Loading: /Users/tswenson/Dropbox (COMPANY)/screens/screen_525/cell_plate_1/merged/Well_D18.fcs\n",
      "Loading: /Users/tswenson/Dropbox (COMPANY)/screens/screen_525/cell_plate_1/merged/Well_D19.fcs\n",
      "Loading: /Users/tswenson/Dropbox (COMPANY)/screens/screen_525/cell_plate_1/merged/Well_D19_cluster_blast.fcs\n",
      "Loading: /Users/tswenson/Dropbox (COMPANY)/screens/screen_525/cell_plate_1/merged/Well_D19_cluster_healthy.fcs\n",
      "Loading: /Users/tswenson/Dropbox (COMPANY)/screens/screen_525/cell_plate_1/merged/Well_D20.fcs\n",
      "Loading: /Users/tswenson/Dropbox (COMPANY)/screens/screen_525/cell_plate_1/merged/Well_D20_cluster_blast.fcs\n",
      "Loading: /Users/tswenson/Dropbox (COMPANY)/screens/screen_525/cell_plate_1/merged/Well_D20_cluster_healthy.fcs\n",
      "Loading: /Users/tswenson/Dropbox (COMPANY)/screens/screen_525/cell_plate_1/merged/Well_D21.fcs\n",
      "Loading: /Users/tswenson/Dropbox (COMPANY)/screens/screen_525/cell_plate_1/merged/Well_D22.fcs\n",
      "Loading: /Users/tswenson/Dropbox (COMPANY)/screens/screen_525/cell_plate_1/merged/Well_E03.fcs\n",
      "Loading: /Users/tswenson/Dropbox (COMPANY)/screens/screen_525/cell_plate_1/merged/Well_E04.fcs\n",
      "Loading: /Users/tswenson/Dropbox (COMPANY)/screens/screen_525/cell_plate_1/merged/Well_E04_cluster_blast.fcs\n",
      "Loading: /Users/tswenson/Dropbox (COMPANY)/screens/screen_525/cell_plate_1/merged/Well_E04_cluster_healthy.fcs\n",
      "Loading: /Users/tswenson/Dropbox (COMPANY)/screens/screen_525/cell_plate_1/merged/Well_E05.fcs\n",
      "Loading: /Users/tswenson/Dropbox (COMPANY)/screens/screen_525/cell_plate_1/merged/Well_E05_cluster_blast.fcs\n",
      "Loading: /Users/tswenson/Dropbox (COMPANY)/screens/screen_525/cell_plate_1/merged/Well_E05_cluster_healthy.fcs\n",
      "Loading: /Users/tswenson/Dropbox (COMPANY)/screens/screen_525/cell_plate_1/merged/Well_E06.fcs\n",
      "Loading: /Users/tswenson/Dropbox (COMPANY)/screens/screen_525/cell_plate_1/merged/Well_E07.fcs\n",
      "Loading: /Users/tswenson/Dropbox (COMPANY)/screens/screen_525/cell_plate_1/merged/Well_E08.fcs\n",
      "Loading: /Users/tswenson/Dropbox (COMPANY)/screens/screen_525/cell_plate_1/merged/Well_E09.fcs\n",
      "Loading: /Users/tswenson/Dropbox (COMPANY)/screens/screen_525/cell_plate_1/merged/Well_E10.fcs\n",
      "Loading: /Users/tswenson/Dropbox (COMPANY)/screens/screen_525/cell_plate_1/merged/Well_E11.fcs\n",
      "Loading: /Users/tswenson/Dropbox (COMPANY)/screens/screen_525/cell_plate_1/merged/Well_E12.fcs\n",
      "Loading: /Users/tswenson/Dropbox (COMPANY)/screens/screen_525/cell_plate_1/merged/Well_E13.fcs\n",
      "Loading: /Users/tswenson/Dropbox (COMPANY)/screens/screen_525/cell_plate_1/merged/Well_E14.fcs\n",
      "Loading: /Users/tswenson/Dropbox (COMPANY)/screens/screen_525/cell_plate_1/merged/Well_E15.fcs\n",
      "Loading: /Users/tswenson/Dropbox (COMPANY)/screens/screen_525/cell_plate_1/merged/Well_E16.fcs\n",
      "Loading: /Users/tswenson/Dropbox (COMPANY)/screens/screen_525/cell_plate_1/merged/Well_E17.fcs\n",
      "Loading: /Users/tswenson/Dropbox (COMPANY)/screens/screen_525/cell_plate_1/merged/Well_E17_cluster_blast.fcs\n",
      "Loading: /Users/tswenson/Dropbox (COMPANY)/screens/screen_525/cell_plate_1/merged/Well_E17_cluster_healthy.fcs\n",
      "Loading: /Users/tswenson/Dropbox (COMPANY)/screens/screen_525/cell_plate_1/merged/Well_E18.fcs\n",
      "Loading: /Users/tswenson/Dropbox (COMPANY)/screens/screen_525/cell_plate_1/merged/Well_E19.fcs\n",
      "Loading: /Users/tswenson/Dropbox (COMPANY)/screens/screen_525/cell_plate_1/merged/Well_E19_cluster_blast.fcs\n",
      "Loading: /Users/tswenson/Dropbox (COMPANY)/screens/screen_525/cell_plate_1/merged/Well_E19_cluster_healthy.fcs\n",
      "Loading: /Users/tswenson/Dropbox (COMPANY)/screens/screen_525/cell_plate_1/merged/Well_E20.fcs\n",
      "Loading: /Users/tswenson/Dropbox (COMPANY)/screens/screen_525/cell_plate_1/merged/Well_E21.fcs\n",
      "Loading: /Users/tswenson/Dropbox (COMPANY)/screens/screen_525/cell_plate_1/merged/Well_E21_cluster_blast.fcs\n",
      "Loading: /Users/tswenson/Dropbox (COMPANY)/screens/screen_525/cell_plate_1/merged/Well_E21_cluster_healthy.fcs\n",
      "Loading: /Users/tswenson/Dropbox (COMPANY)/screens/screen_525/cell_plate_1/merged/Well_E22.fcs\n",
      "Loading: /Users/tswenson/Dropbox (COMPANY)/screens/screen_525/cell_plate_1/merged/Well_F03.fcs\n",
      "Loading: /Users/tswenson/Dropbox (COMPANY)/screens/screen_525/cell_plate_1/merged/Well_F03_cluster_blast.fcs\n",
      "Loading: /Users/tswenson/Dropbox (COMPANY)/screens/screen_525/cell_plate_1/merged/Well_F03_cluster_healthy.fcs\n",
      "Loading: /Users/tswenson/Dropbox (COMPANY)/screens/screen_525/cell_plate_1/merged/Well_F04.fcs\n",
      "Loading: /Users/tswenson/Dropbox (COMPANY)/screens/screen_525/cell_plate_1/merged/Well_F05.fcs\n",
      "Loading: /Users/tswenson/Dropbox (COMPANY)/screens/screen_525/cell_plate_1/merged/Well_F06.fcs\n",
      "Loading: /Users/tswenson/Dropbox (COMPANY)/screens/screen_525/cell_plate_1/merged/Well_F07.fcs\n",
      "Loading: /Users/tswenson/Dropbox (COMPANY)/screens/screen_525/cell_plate_1/merged/Well_F08.fcs\n",
      "Loading: /Users/tswenson/Dropbox (COMPANY)/screens/screen_525/cell_plate_1/merged/Well_F08_cluster_blast.fcs\n",
      "Loading: /Users/tswenson/Dropbox (COMPANY)/screens/screen_525/cell_plate_1/merged/Well_F08_cluster_healthy.fcs\n",
      "Loading: /Users/tswenson/Dropbox (COMPANY)/screens/screen_525/cell_plate_1/merged/Well_F09.fcs\n",
      "Loading: /Users/tswenson/Dropbox (COMPANY)/screens/screen_525/cell_plate_1/merged/Well_F09_cluster_blast.fcs\n",
      "Loading: /Users/tswenson/Dropbox (COMPANY)/screens/screen_525/cell_plate_1/merged/Well_F09_cluster_healthy.fcs\n",
      "Loading: /Users/tswenson/Dropbox (COMPANY)/screens/screen_525/cell_plate_1/merged/Well_F10.fcs\n",
      "Loading: /Users/tswenson/Dropbox (COMPANY)/screens/screen_525/cell_plate_1/merged/Well_F11.fcs\n",
      "Loading: /Users/tswenson/Dropbox (COMPANY)/screens/screen_525/cell_plate_1/merged/Well_F12.fcs\n",
      "Loading: /Users/tswenson/Dropbox (COMPANY)/screens/screen_525/cell_plate_1/merged/Well_F13.fcs\n",
      "Loading: /Users/tswenson/Dropbox (COMPANY)/screens/screen_525/cell_plate_1/merged/Well_F14.fcs\n",
      "Loading: /Users/tswenson/Dropbox (COMPANY)/screens/screen_525/cell_plate_1/merged/Well_F15.fcs\n",
      "Loading: /Users/tswenson/Dropbox (COMPANY)/screens/screen_525/cell_plate_1/merged/Well_F16.fcs\n",
      "Loading: /Users/tswenson/Dropbox (COMPANY)/screens/screen_525/cell_plate_1/merged/Well_F17.fcs\n",
      "Loading: /Users/tswenson/Dropbox (COMPANY)/screens/screen_525/cell_plate_1/merged/Well_F18.fcs\n",
      "Loading: /Users/tswenson/Dropbox (COMPANY)/screens/screen_525/cell_plate_1/merged/Well_F19.fcs\n",
      "Loading: /Users/tswenson/Dropbox (COMPANY)/screens/screen_525/cell_plate_1/merged/Well_F20.fcs\n",
      "Loading: /Users/tswenson/Dropbox (COMPANY)/screens/screen_525/cell_plate_1/merged/Well_F21.fcs\n",
      "Loading: /Users/tswenson/Dropbox (COMPANY)/screens/screen_525/cell_plate_1/merged/Well_F22.fcs\n",
      "Loading: /Users/tswenson/Dropbox (COMPANY)/screens/screen_525/cell_plate_1/merged/Well_G03.fcs\n",
      "Loading: /Users/tswenson/Dropbox (COMPANY)/screens/screen_525/cell_plate_1/merged/Well_G04.fcs\n",
      "Loading: /Users/tswenson/Dropbox (COMPANY)/screens/screen_525/cell_plate_1/merged/Well_G05.fcs\n",
      "Loading: /Users/tswenson/Dropbox (COMPANY)/screens/screen_525/cell_plate_1/merged/Well_G06.fcs\n",
      "Loading: /Users/tswenson/Dropbox (COMPANY)/screens/screen_525/cell_plate_1/merged/Well_G07.fcs\n",
      "Loading: /Users/tswenson/Dropbox (COMPANY)/screens/screen_525/cell_plate_1/merged/Well_G08.fcs\n",
      "Loading: /Users/tswenson/Dropbox (COMPANY)/screens/screen_525/cell_plate_1/merged/Well_G09.fcs\n",
      "Loading: /Users/tswenson/Dropbox (COMPANY)/screens/screen_525/cell_plate_1/merged/Well_G10.fcs\n",
      "Loading: /Users/tswenson/Dropbox (COMPANY)/screens/screen_525/cell_plate_1/merged/Well_G11.fcs\n",
      "Loading: /Users/tswenson/Dropbox (COMPANY)/screens/screen_525/cell_plate_1/merged/Well_G11_cluster_blast.fcs\n",
      "Loading: /Users/tswenson/Dropbox (COMPANY)/screens/screen_525/cell_plate_1/merged/Well_G11_cluster_healthy.fcs\n",
      "Loading: /Users/tswenson/Dropbox (COMPANY)/screens/screen_525/cell_plate_1/merged/Well_G12.fcs\n",
      "Loading: /Users/tswenson/Dropbox (COMPANY)/screens/screen_525/cell_plate_1/merged/Well_G13.fcs\n",
      "Loading: /Users/tswenson/Dropbox (COMPANY)/screens/screen_525/cell_plate_1/merged/Well_G14.fcs\n",
      "Loading: /Users/tswenson/Dropbox (COMPANY)/screens/screen_525/cell_plate_1/merged/Well_G15.fcs\n",
      "Loading: /Users/tswenson/Dropbox (COMPANY)/screens/screen_525/cell_plate_1/merged/Well_G16.fcs\n",
      "Loading: /Users/tswenson/Dropbox (COMPANY)/screens/screen_525/cell_plate_1/merged/Well_G17.fcs\n",
      "Loading: /Users/tswenson/Dropbox (COMPANY)/screens/screen_525/cell_plate_1/merged/Well_G18.fcs\n",
      "Loading: /Users/tswenson/Dropbox (COMPANY)/screens/screen_525/cell_plate_1/merged/Well_G19.fcs\n",
      "Loading: /Users/tswenson/Dropbox (COMPANY)/screens/screen_525/cell_plate_1/merged/Well_G20.fcs\n",
      "Loading: /Users/tswenson/Dropbox (COMPANY)/screens/screen_525/cell_plate_1/merged/Well_G20_cluster_blast.fcs\n",
      "Loading: /Users/tswenson/Dropbox (COMPANY)/screens/screen_525/cell_plate_1/merged/Well_G20_cluster_healthy.fcs\n",
      "Loading: /Users/tswenson/Dropbox (COMPANY)/screens/screen_525/cell_plate_1/merged/Well_G21.fcs\n",
      "Loading: /Users/tswenson/Dropbox (COMPANY)/screens/screen_525/cell_plate_1/merged/Well_G22.fcs\n",
      "Loading: /Users/tswenson/Dropbox (COMPANY)/screens/screen_525/cell_plate_1/merged/Well_H03.fcs\n",
      "Loading: /Users/tswenson/Dropbox (COMPANY)/screens/screen_525/cell_plate_1/merged/Well_H04.fcs\n",
      "Loading: /Users/tswenson/Dropbox (COMPANY)/screens/screen_525/cell_plate_1/merged/Well_H05.fcs\n",
      "Loading: /Users/tswenson/Dropbox (COMPANY)/screens/screen_525/cell_plate_1/merged/Well_H06.fcs\n",
      "Loading: /Users/tswenson/Dropbox (COMPANY)/screens/screen_525/cell_plate_1/merged/Well_H07.fcs\n",
      "Loading: /Users/tswenson/Dropbox (COMPANY)/screens/screen_525/cell_plate_1/merged/Well_H08.fcs\n",
      "Loading: /Users/tswenson/Dropbox (COMPANY)/screens/screen_525/cell_plate_1/merged/Well_H08_cluster_blast.fcs\n",
      "Loading: /Users/tswenson/Dropbox (COMPANY)/screens/screen_525/cell_plate_1/merged/Well_H08_cluster_healthy.fcs\n",
      "Loading: /Users/tswenson/Dropbox (COMPANY)/screens/screen_525/cell_plate_1/merged/Well_H09.fcs\n",
      "Loading: /Users/tswenson/Dropbox (COMPANY)/screens/screen_525/cell_plate_1/merged/Well_H10.fcs\n",
      "Loading: /Users/tswenson/Dropbox (COMPANY)/screens/screen_525/cell_plate_1/merged/Well_H11.fcs\n",
      "Loading: /Users/tswenson/Dropbox (COMPANY)/screens/screen_525/cell_plate_1/merged/Well_H12.fcs\n",
      "Loading: /Users/tswenson/Dropbox (COMPANY)/screens/screen_525/cell_plate_1/merged/Well_H13.fcs\n",
      "Loading: /Users/tswenson/Dropbox (COMPANY)/screens/screen_525/cell_plate_1/merged/Well_H14.fcs\n",
      "Loading: /Users/tswenson/Dropbox (COMPANY)/screens/screen_525/cell_plate_1/merged/Well_H15.fcs\n",
      "Loading: /Users/tswenson/Dropbox (COMPANY)/screens/screen_525/cell_plate_1/merged/Well_H16.fcs\n",
      "Loading: /Users/tswenson/Dropbox (COMPANY)/screens/screen_525/cell_plate_1/merged/Well_H16_cluster_blast.fcs\n",
      "Loading: /Users/tswenson/Dropbox (COMPANY)/screens/screen_525/cell_plate_1/merged/Well_H16_cluster_healthy.fcs\n",
      "Loading: /Users/tswenson/Dropbox (COMPANY)/screens/screen_525/cell_plate_1/merged/Well_H17.fcs\n",
      "Loading: /Users/tswenson/Dropbox (COMPANY)/screens/screen_525/cell_plate_1/merged/Well_H18.fcs\n",
      "Loading: /Users/tswenson/Dropbox (COMPANY)/screens/screen_525/cell_plate_1/merged/Well_H19.fcs\n",
      "Loading: /Users/tswenson/Dropbox (COMPANY)/screens/screen_525/cell_plate_1/merged/Well_H20.fcs\n",
      "Loading: /Users/tswenson/Dropbox (COMPANY)/screens/screen_525/cell_plate_1/merged/Well_H21.fcs\n",
      "Loading: /Users/tswenson/Dropbox (COMPANY)/screens/screen_525/cell_plate_1/merged/Well_H22.fcs\n",
      "Loading: /Users/tswenson/Dropbox (COMPANY)/screens/screen_525/cell_plate_1/merged/Well_I03.fcs\n",
      "Loading: /Users/tswenson/Dropbox (COMPANY)/screens/screen_525/cell_plate_1/merged/Well_I04.fcs\n",
      "Loading: /Users/tswenson/Dropbox (COMPANY)/screens/screen_525/cell_plate_1/merged/Well_I05.fcs\n",
      "Loading: /Users/tswenson/Dropbox (COMPANY)/screens/screen_525/cell_plate_1/merged/Well_I06.fcs\n",
      "Loading: /Users/tswenson/Dropbox (COMPANY)/screens/screen_525/cell_plate_1/merged/Well_I07.fcs\n",
      "Loading: /Users/tswenson/Dropbox (COMPANY)/screens/screen_525/cell_plate_1/merged/Well_I08.fcs\n",
      "Loading: /Users/tswenson/Dropbox (COMPANY)/screens/screen_525/cell_plate_1/merged/Well_I09.fcs\n",
      "Loading: /Users/tswenson/Dropbox (COMPANY)/screens/screen_525/cell_plate_1/merged/Well_I10.fcs\n",
      "Loading: /Users/tswenson/Dropbox (COMPANY)/screens/screen_525/cell_plate_1/merged/Well_I11.fcs\n",
      "Loading: /Users/tswenson/Dropbox (COMPANY)/screens/screen_525/cell_plate_1/merged/Well_I12.fcs\n",
      "Loading: /Users/tswenson/Dropbox (COMPANY)/screens/screen_525/cell_plate_1/merged/Well_I12_cluster_blast.fcs\n",
      "Loading: /Users/tswenson/Dropbox (COMPANY)/screens/screen_525/cell_plate_1/merged/Well_I12_cluster_healthy.fcs\n",
      "Loading: /Users/tswenson/Dropbox (COMPANY)/screens/screen_525/cell_plate_1/merged/Well_I13.fcs\n",
      "Loading: /Users/tswenson/Dropbox (COMPANY)/screens/screen_525/cell_plate_1/merged/Well_I14.fcs\n",
      "Loading: /Users/tswenson/Dropbox (COMPANY)/screens/screen_525/cell_plate_1/merged/Well_I15.fcs\n",
      "Loading: /Users/tswenson/Dropbox (COMPANY)/screens/screen_525/cell_plate_1/merged/Well_I16.fcs\n",
      "Loading: /Users/tswenson/Dropbox (COMPANY)/screens/screen_525/cell_plate_1/merged/Well_I17.fcs\n",
      "Loading: /Users/tswenson/Dropbox (COMPANY)/screens/screen_525/cell_plate_1/merged/Well_I18.fcs\n",
      "Loading: /Users/tswenson/Dropbox (COMPANY)/screens/screen_525/cell_plate_1/merged/Well_I19.fcs\n",
      "Loading: /Users/tswenson/Dropbox (COMPANY)/screens/screen_525/cell_plate_1/merged/Well_I20.fcs\n",
      "Loading: /Users/tswenson/Dropbox (COMPANY)/screens/screen_525/cell_plate_1/merged/Well_I21.fcs\n",
      "Loading: /Users/tswenson/Dropbox (COMPANY)/screens/screen_525/cell_plate_1/merged/Well_I22.fcs\n",
      "Loading: /Users/tswenson/Dropbox (COMPANY)/screens/screen_525/cell_plate_1/merged/Well_J03.fcs\n",
      "Loading: /Users/tswenson/Dropbox (COMPANY)/screens/screen_525/cell_plate_1/merged/Well_J03_cluster_blast.fcs\n",
      "Loading: /Users/tswenson/Dropbox (COMPANY)/screens/screen_525/cell_plate_1/merged/Well_J03_cluster_healthy.fcs\n",
      "Loading: /Users/tswenson/Dropbox (COMPANY)/screens/screen_525/cell_plate_1/merged/Well_J04.fcs\n",
      "Loading: /Users/tswenson/Dropbox (COMPANY)/screens/screen_525/cell_plate_1/merged/Well_J05.fcs\n",
      "Loading: /Users/tswenson/Dropbox (COMPANY)/screens/screen_525/cell_plate_1/merged/Well_J06.fcs\n",
      "Loading: /Users/tswenson/Dropbox (COMPANY)/screens/screen_525/cell_plate_1/merged/Well_J06_cluster_blast.fcs\n",
      "Loading: /Users/tswenson/Dropbox (COMPANY)/screens/screen_525/cell_plate_1/merged/Well_J06_cluster_healthy.fcs\n",
      "Loading: /Users/tswenson/Dropbox (COMPANY)/screens/screen_525/cell_plate_1/merged/Well_J07.fcs\n",
      "Loading: /Users/tswenson/Dropbox (COMPANY)/screens/screen_525/cell_plate_1/merged/Well_J08.fcs\n",
      "Loading: /Users/tswenson/Dropbox (COMPANY)/screens/screen_525/cell_plate_1/merged/Well_J09.fcs\n",
      "Loading: /Users/tswenson/Dropbox (COMPANY)/screens/screen_525/cell_plate_1/merged/Well_J10.fcs\n",
      "Loading: /Users/tswenson/Dropbox (COMPANY)/screens/screen_525/cell_plate_1/merged/Well_J11.fcs\n",
      "Loading: /Users/tswenson/Dropbox (COMPANY)/screens/screen_525/cell_plate_1/merged/Well_J12.fcs\n",
      "Loading: /Users/tswenson/Dropbox (COMPANY)/screens/screen_525/cell_plate_1/merged/Well_J13.fcs\n",
      "Loading: /Users/tswenson/Dropbox (COMPANY)/screens/screen_525/cell_plate_1/merged/Well_J14.fcs\n",
      "Loading: /Users/tswenson/Dropbox (COMPANY)/screens/screen_525/cell_plate_1/merged/Well_J15.fcs\n",
      "Loading: /Users/tswenson/Dropbox (COMPANY)/screens/screen_525/cell_plate_1/merged/Well_J16.fcs\n",
      "Loading: /Users/tswenson/Dropbox (COMPANY)/screens/screen_525/cell_plate_1/merged/Well_J17.fcs\n",
      "Loading: /Users/tswenson/Dropbox (COMPANY)/screens/screen_525/cell_plate_1/merged/Well_J18.fcs\n",
      "Loading: /Users/tswenson/Dropbox (COMPANY)/screens/screen_525/cell_plate_1/merged/Well_J19.fcs\n",
      "Loading: /Users/tswenson/Dropbox (COMPANY)/screens/screen_525/cell_plate_1/merged/Well_J20.fcs\n",
      "Loading: /Users/tswenson/Dropbox (COMPANY)/screens/screen_525/cell_plate_1/merged/Well_J21.fcs\n",
      "Loading: /Users/tswenson/Dropbox (COMPANY)/screens/screen_525/cell_plate_1/merged/Well_J22.fcs\n"
     ]
    }
   ],
   "source": [
    "screen_path = '/Users/tswenson/Dropbox (COMPANY)/screens/screen_525/cell_plate_1/merged/';\n",
    "data = processing.load_fcs_files_from_dropbox(\\\n",
    "            location=screen_path, \\\n",
    "            filename_template='Well_*.fcs', screens=None, cell_plates=None, wells=None, verbose=True)"
   ]
  },
  {
   "cell_type": "code",
   "execution_count": 3,
   "metadata": {
    "collapsed": false
   },
   "outputs": [
    {
     "data": {
      "text/plain": [
       "200"
      ]
     },
     "execution_count": 3,
     "metadata": {},
     "output_type": "execute_result"
    }
   ],
   "source": [
    "#type(data) # list\n",
    "len(data)"
   ]
  },
  {
   "cell_type": "code",
   "execution_count": 4,
   "metadata": {
    "collapsed": false
   },
   "outputs": [
    {
     "data": {
      "text/html": [
       "<div>\n",
       "<table border=\"1\" class=\"dataframe\">\n",
       "  <thead>\n",
       "    <tr style=\"text-align: right;\">\n",
       "      <th></th>\n",
       "      <th>FSC-H</th>\n",
       "      <th>SSC-H</th>\n",
       "      <th>CD66B H : CD19 H : CD3 H : FITC H</th>\n",
       "      <th>CD14 H : PE H</th>\n",
       "      <th>BL3-H</th>\n",
       "      <th>7AAD H</th>\n",
       "      <th>BL5-H</th>\n",
       "      <th>CD16 H : APC H</th>\n",
       "      <th>RL2-H</th>\n",
       "      <th>KIT H : BV421 H</th>\n",
       "      <th>...</th>\n",
       "      <th>VL2-A</th>\n",
       "      <th>VL3-A</th>\n",
       "      <th>CD34 A : BV605 A</th>\n",
       "      <th>VL5-A</th>\n",
       "      <th>VL6-A</th>\n",
       "      <th>Width</th>\n",
       "      <th>Time</th>\n",
       "      <th>screen</th>\n",
       "      <th>well</th>\n",
       "      <th>cell_plate</th>\n",
       "    </tr>\n",
       "  </thead>\n",
       "  <tbody>\n",
       "    <tr>\n",
       "      <th>0</th>\n",
       "      <td>8528540.0</td>\n",
       "      <td>16772247.0</td>\n",
       "      <td>3821.0</td>\n",
       "      <td>4139.0</td>\n",
       "      <td>5925.0</td>\n",
       "      <td>5029.0</td>\n",
       "      <td>16137.0</td>\n",
       "      <td>5158.0</td>\n",
       "      <td>17185.0</td>\n",
       "      <td>4635.0</td>\n",
       "      <td>...</td>\n",
       "      <td>316971.0</td>\n",
       "      <td>-12522.0</td>\n",
       "      <td>155582.0</td>\n",
       "      <td>-91590.0</td>\n",
       "      <td>945194.0</td>\n",
       "      <td>5288.0</td>\n",
       "      <td>8377.0</td>\n",
       "      <td>screen_525</td>\n",
       "      <td>well_c03</td>\n",
       "      <td>cell_plate_1</td>\n",
       "    </tr>\n",
       "    <tr>\n",
       "      <th>1</th>\n",
       "      <td>127292.0</td>\n",
       "      <td>1324132.0</td>\n",
       "      <td>975.0</td>\n",
       "      <td>329.0</td>\n",
       "      <td>566.0</td>\n",
       "      <td>2359.0</td>\n",
       "      <td>1185.0</td>\n",
       "      <td>1853.0</td>\n",
       "      <td>2624.0</td>\n",
       "      <td>260.0</td>\n",
       "      <td>...</td>\n",
       "      <td>-648.0</td>\n",
       "      <td>215.0</td>\n",
       "      <td>1932.0</td>\n",
       "      <td>-1637.0</td>\n",
       "      <td>1780.0</td>\n",
       "      <td>36.0</td>\n",
       "      <td>8377.0</td>\n",
       "      <td>screen_525</td>\n",
       "      <td>well_c03</td>\n",
       "      <td>cell_plate_1</td>\n",
       "    </tr>\n",
       "    <tr>\n",
       "      <th>2</th>\n",
       "      <td>478161.0</td>\n",
       "      <td>1274648.0</td>\n",
       "      <td>1754.0</td>\n",
       "      <td>162.0</td>\n",
       "      <td>1188.0</td>\n",
       "      <td>1808.0</td>\n",
       "      <td>3478.0</td>\n",
       "      <td>2451.0</td>\n",
       "      <td>3397.0</td>\n",
       "      <td>100.0</td>\n",
       "      <td>...</td>\n",
       "      <td>3492.0</td>\n",
       "      <td>-938.0</td>\n",
       "      <td>2128.0</td>\n",
       "      <td>958.0</td>\n",
       "      <td>-740.0</td>\n",
       "      <td>44.0</td>\n",
       "      <td>8377.0</td>\n",
       "      <td>screen_525</td>\n",
       "      <td>well_c03</td>\n",
       "      <td>cell_plate_1</td>\n",
       "    </tr>\n",
       "    <tr>\n",
       "      <th>3</th>\n",
       "      <td>1170827.0</td>\n",
       "      <td>1227014.0</td>\n",
       "      <td>1001.0</td>\n",
       "      <td>-35.0</td>\n",
       "      <td>822.0</td>\n",
       "      <td>3033.0</td>\n",
       "      <td>2302.0</td>\n",
       "      <td>973.0</td>\n",
       "      <td>4077.0</td>\n",
       "      <td>13.0</td>\n",
       "      <td>...</td>\n",
       "      <td>2930.0</td>\n",
       "      <td>-2144.0</td>\n",
       "      <td>1290.0</td>\n",
       "      <td>3499.0</td>\n",
       "      <td>-2381.0</td>\n",
       "      <td>47.0</td>\n",
       "      <td>8377.0</td>\n",
       "      <td>screen_525</td>\n",
       "      <td>well_c03</td>\n",
       "      <td>cell_plate_1</td>\n",
       "    </tr>\n",
       "    <tr>\n",
       "      <th>4</th>\n",
       "      <td>5478338.0</td>\n",
       "      <td>1183836.0</td>\n",
       "      <td>2100.0</td>\n",
       "      <td>1163.0</td>\n",
       "      <td>2980.0</td>\n",
       "      <td>1791.0</td>\n",
       "      <td>2835.0</td>\n",
       "      <td>2861.0</td>\n",
       "      <td>5149.0</td>\n",
       "      <td>1309.0</td>\n",
       "      <td>...</td>\n",
       "      <td>20443.0</td>\n",
       "      <td>416.0</td>\n",
       "      <td>2095.0</td>\n",
       "      <td>7209.0</td>\n",
       "      <td>-2710.0</td>\n",
       "      <td>282.0</td>\n",
       "      <td>8377.0</td>\n",
       "      <td>screen_525</td>\n",
       "      <td>well_c03</td>\n",
       "      <td>cell_plate_1</td>\n",
       "    </tr>\n",
       "  </tbody>\n",
       "</table>\n",
       "<p>5 rows × 35 columns</p>\n",
       "</div>"
      ],
      "text/plain": [
       "       FSC-H       SSC-H  CD66B H : CD19 H : CD3 H : FITC H  CD14 H : PE H  \\\n",
       "0  8528540.0  16772247.0                             3821.0         4139.0   \n",
       "1   127292.0   1324132.0                              975.0          329.0   \n",
       "2   478161.0   1274648.0                             1754.0          162.0   \n",
       "3  1170827.0   1227014.0                             1001.0          -35.0   \n",
       "4  5478338.0   1183836.0                             2100.0         1163.0   \n",
       "\n",
       "    BL3-H  7AAD H    BL5-H  CD16 H : APC H    RL2-H  KIT H : BV421 H  \\\n",
       "0  5925.0  5029.0  16137.0          5158.0  17185.0           4635.0   \n",
       "1   566.0  2359.0   1185.0          1853.0   2624.0            260.0   \n",
       "2  1188.0  1808.0   3478.0          2451.0   3397.0            100.0   \n",
       "3   822.0  3033.0   2302.0           973.0   4077.0             13.0   \n",
       "4  2980.0  1791.0   2835.0          2861.0   5149.0           1309.0   \n",
       "\n",
       "       ...          VL2-A    VL3-A  CD34 A : BV605 A    VL5-A     VL6-A  \\\n",
       "0      ...       316971.0 -12522.0          155582.0 -91590.0  945194.0   \n",
       "1      ...         -648.0    215.0            1932.0  -1637.0    1780.0   \n",
       "2      ...         3492.0   -938.0            2128.0    958.0    -740.0   \n",
       "3      ...         2930.0  -2144.0            1290.0   3499.0   -2381.0   \n",
       "4      ...        20443.0    416.0            2095.0   7209.0   -2710.0   \n",
       "\n",
       "    Width    Time      screen      well    cell_plate  \n",
       "0  5288.0  8377.0  screen_525  well_c03  cell_plate_1  \n",
       "1    36.0  8377.0  screen_525  well_c03  cell_plate_1  \n",
       "2    44.0  8377.0  screen_525  well_c03  cell_plate_1  \n",
       "3    47.0  8377.0  screen_525  well_c03  cell_plate_1  \n",
       "4   282.0  8377.0  screen_525  well_c03  cell_plate_1  \n",
       "\n",
       "[5 rows x 35 columns]"
      ]
     },
     "execution_count": 4,
     "metadata": {},
     "output_type": "execute_result"
    }
   ],
   "source": [
    "type(data[0])\n",
    "data[0].head()"
   ]
  },
  {
   "cell_type": "code",
   "execution_count": 5,
   "metadata": {
    "collapsed": false
   },
   "outputs": [],
   "source": [
    "cwd = os.getcwd()"
   ]
  },
  {
   "cell_type": "code",
   "execution_count": 6,
   "metadata": {
    "collapsed": false
   },
   "outputs": [
    {
     "name": "stdout",
     "output_type": "stream",
     "text": [
      "/Users/tswenson/Documents/Joels/Health_Data_Science/COMPANY_consulting_project/python_code/automated-flow-alpha/code\n"
     ]
    }
   ],
   "source": [
    "print(cwd)"
   ]
  },
  {
   "cell_type": "markdown",
   "metadata": {},
   "source": [
    "### Make a new directory for the csv files "
   ]
  },
  {
   "cell_type": "code",
   "execution_count": 7,
   "metadata": {
    "collapsed": false
   },
   "outputs": [],
   "source": [
    "dataset_dir = '/Users/tswenson/Documents/Joels/Health_Data_Science/COMPANY_consulting_project/datasets/'\n",
    "exp_name = screen_path.strip().split('/')[-2]"
   ]
  },
  {
   "cell_type": "code",
   "execution_count": 8,
   "metadata": {
    "collapsed": false
   },
   "outputs": [
    {
     "name": "stdout",
     "output_type": "stream",
     "text": [
      "merged\n"
     ]
    }
   ],
   "source": [
    "print(exp_name)"
   ]
  },
  {
   "cell_type": "code",
   "execution_count": 9,
   "metadata": {
    "collapsed": false
   },
   "outputs": [
    {
     "name": "stdout",
     "output_type": "stream",
     "text": [
      "Making directory called/Users/tswenson/Documents/Joels/Health_Data_Science/COMPANY_consulting_project/datasets/merged_csvs\n"
     ]
    }
   ],
   "source": [
    "directory = dataset_dir + exp_name + \"_csvs\"\n",
    "if not os.path.exists(directory):\n",
    "    print(\"Making directory called\" + directory)\n",
    "    os.makedirs(directory)\n",
    "else:\n",
    "    print(\"Direct with the following name already exists: \" + directory + '/')"
   ]
  },
  {
   "cell_type": "code",
   "execution_count": 10,
   "metadata": {
    "collapsed": false
   },
   "outputs": [
    {
     "data": {
      "text/html": [
       "<div>\n",
       "<table border=\"1\" class=\"dataframe\">\n",
       "  <thead>\n",
       "    <tr style=\"text-align: right;\">\n",
       "      <th></th>\n",
       "      <th>FSC-H</th>\n",
       "      <th>SSC-H</th>\n",
       "      <th>CD66B H : CD19 H : CD3 H : FITC H</th>\n",
       "      <th>CD14 H : PE H</th>\n",
       "      <th>BL3-H</th>\n",
       "      <th>7AAD H</th>\n",
       "      <th>BL5-H</th>\n",
       "      <th>CD16 H : APC H</th>\n",
       "      <th>RL2-H</th>\n",
       "      <th>KIT H : BV421 H</th>\n",
       "      <th>...</th>\n",
       "      <th>VL2-A</th>\n",
       "      <th>VL3-A</th>\n",
       "      <th>CD34 A : BV605 A</th>\n",
       "      <th>VL5-A</th>\n",
       "      <th>VL6-A</th>\n",
       "      <th>Width</th>\n",
       "      <th>Time</th>\n",
       "      <th>screen</th>\n",
       "      <th>well</th>\n",
       "      <th>cell_plate</th>\n",
       "    </tr>\n",
       "  </thead>\n",
       "  <tbody>\n",
       "    <tr>\n",
       "      <th>0</th>\n",
       "      <td>8528540.0</td>\n",
       "      <td>16772247.0</td>\n",
       "      <td>3821.0</td>\n",
       "      <td>4139.0</td>\n",
       "      <td>5925.0</td>\n",
       "      <td>5029.0</td>\n",
       "      <td>16137.0</td>\n",
       "      <td>5158.0</td>\n",
       "      <td>17185.0</td>\n",
       "      <td>4635.0</td>\n",
       "      <td>...</td>\n",
       "      <td>316971.0</td>\n",
       "      <td>-12522.0</td>\n",
       "      <td>155582.0</td>\n",
       "      <td>-91590.0</td>\n",
       "      <td>945194.0</td>\n",
       "      <td>5288.0</td>\n",
       "      <td>8377.0</td>\n",
       "      <td>screen_525</td>\n",
       "      <td>well_c03</td>\n",
       "      <td>cell_plate_1</td>\n",
       "    </tr>\n",
       "    <tr>\n",
       "      <th>1</th>\n",
       "      <td>127292.0</td>\n",
       "      <td>1324132.0</td>\n",
       "      <td>975.0</td>\n",
       "      <td>329.0</td>\n",
       "      <td>566.0</td>\n",
       "      <td>2359.0</td>\n",
       "      <td>1185.0</td>\n",
       "      <td>1853.0</td>\n",
       "      <td>2624.0</td>\n",
       "      <td>260.0</td>\n",
       "      <td>...</td>\n",
       "      <td>-648.0</td>\n",
       "      <td>215.0</td>\n",
       "      <td>1932.0</td>\n",
       "      <td>-1637.0</td>\n",
       "      <td>1780.0</td>\n",
       "      <td>36.0</td>\n",
       "      <td>8377.0</td>\n",
       "      <td>screen_525</td>\n",
       "      <td>well_c03</td>\n",
       "      <td>cell_plate_1</td>\n",
       "    </tr>\n",
       "    <tr>\n",
       "      <th>2</th>\n",
       "      <td>478161.0</td>\n",
       "      <td>1274648.0</td>\n",
       "      <td>1754.0</td>\n",
       "      <td>162.0</td>\n",
       "      <td>1188.0</td>\n",
       "      <td>1808.0</td>\n",
       "      <td>3478.0</td>\n",
       "      <td>2451.0</td>\n",
       "      <td>3397.0</td>\n",
       "      <td>100.0</td>\n",
       "      <td>...</td>\n",
       "      <td>3492.0</td>\n",
       "      <td>-938.0</td>\n",
       "      <td>2128.0</td>\n",
       "      <td>958.0</td>\n",
       "      <td>-740.0</td>\n",
       "      <td>44.0</td>\n",
       "      <td>8377.0</td>\n",
       "      <td>screen_525</td>\n",
       "      <td>well_c03</td>\n",
       "      <td>cell_plate_1</td>\n",
       "    </tr>\n",
       "    <tr>\n",
       "      <th>3</th>\n",
       "      <td>1170827.0</td>\n",
       "      <td>1227014.0</td>\n",
       "      <td>1001.0</td>\n",
       "      <td>-35.0</td>\n",
       "      <td>822.0</td>\n",
       "      <td>3033.0</td>\n",
       "      <td>2302.0</td>\n",
       "      <td>973.0</td>\n",
       "      <td>4077.0</td>\n",
       "      <td>13.0</td>\n",
       "      <td>...</td>\n",
       "      <td>2930.0</td>\n",
       "      <td>-2144.0</td>\n",
       "      <td>1290.0</td>\n",
       "      <td>3499.0</td>\n",
       "      <td>-2381.0</td>\n",
       "      <td>47.0</td>\n",
       "      <td>8377.0</td>\n",
       "      <td>screen_525</td>\n",
       "      <td>well_c03</td>\n",
       "      <td>cell_plate_1</td>\n",
       "    </tr>\n",
       "    <tr>\n",
       "      <th>4</th>\n",
       "      <td>5478338.0</td>\n",
       "      <td>1183836.0</td>\n",
       "      <td>2100.0</td>\n",
       "      <td>1163.0</td>\n",
       "      <td>2980.0</td>\n",
       "      <td>1791.0</td>\n",
       "      <td>2835.0</td>\n",
       "      <td>2861.0</td>\n",
       "      <td>5149.0</td>\n",
       "      <td>1309.0</td>\n",
       "      <td>...</td>\n",
       "      <td>20443.0</td>\n",
       "      <td>416.0</td>\n",
       "      <td>2095.0</td>\n",
       "      <td>7209.0</td>\n",
       "      <td>-2710.0</td>\n",
       "      <td>282.0</td>\n",
       "      <td>8377.0</td>\n",
       "      <td>screen_525</td>\n",
       "      <td>well_c03</td>\n",
       "      <td>cell_plate_1</td>\n",
       "    </tr>\n",
       "  </tbody>\n",
       "</table>\n",
       "<p>5 rows × 35 columns</p>\n",
       "</div>"
      ],
      "text/plain": [
       "       FSC-H       SSC-H  CD66B H : CD19 H : CD3 H : FITC H  CD14 H : PE H  \\\n",
       "0  8528540.0  16772247.0                             3821.0         4139.0   \n",
       "1   127292.0   1324132.0                              975.0          329.0   \n",
       "2   478161.0   1274648.0                             1754.0          162.0   \n",
       "3  1170827.0   1227014.0                             1001.0          -35.0   \n",
       "4  5478338.0   1183836.0                             2100.0         1163.0   \n",
       "\n",
       "    BL3-H  7AAD H    BL5-H  CD16 H : APC H    RL2-H  KIT H : BV421 H  \\\n",
       "0  5925.0  5029.0  16137.0          5158.0  17185.0           4635.0   \n",
       "1   566.0  2359.0   1185.0          1853.0   2624.0            260.0   \n",
       "2  1188.0  1808.0   3478.0          2451.0   3397.0            100.0   \n",
       "3   822.0  3033.0   2302.0           973.0   4077.0             13.0   \n",
       "4  2980.0  1791.0   2835.0          2861.0   5149.0           1309.0   \n",
       "\n",
       "       ...          VL2-A    VL3-A  CD34 A : BV605 A    VL5-A     VL6-A  \\\n",
       "0      ...       316971.0 -12522.0          155582.0 -91590.0  945194.0   \n",
       "1      ...         -648.0    215.0            1932.0  -1637.0    1780.0   \n",
       "2      ...         3492.0   -938.0            2128.0    958.0    -740.0   \n",
       "3      ...         2930.0  -2144.0            1290.0   3499.0   -2381.0   \n",
       "4      ...        20443.0    416.0            2095.0   7209.0   -2710.0   \n",
       "\n",
       "    Width    Time      screen      well    cell_plate  \n",
       "0  5288.0  8377.0  screen_525  well_c03  cell_plate_1  \n",
       "1    36.0  8377.0  screen_525  well_c03  cell_plate_1  \n",
       "2    44.0  8377.0  screen_525  well_c03  cell_plate_1  \n",
       "3    47.0  8377.0  screen_525  well_c03  cell_plate_1  \n",
       "4   282.0  8377.0  screen_525  well_c03  cell_plate_1  \n",
       "\n",
       "[5 rows x 35 columns]"
      ]
     },
     "execution_count": 10,
     "metadata": {},
     "output_type": "execute_result"
    }
   ],
   "source": [
    "data[0].head()"
   ]
  },
  {
   "cell_type": "code",
   "execution_count": null,
   "metadata": {
    "collapsed": false,
    "scrolled": true
   },
   "outputs": [],
   "source": []
  },
  {
   "cell_type": "code",
   "execution_count": 12,
   "metadata": {
    "collapsed": false,
    "scrolled": true
   },
   "outputs": [
    {
     "name": "stdout",
     "output_type": "stream",
     "text": [
      "screen_525_cell_plate_1_well_c03.csv\n",
      "0\n",
      "screen_525_cell_plate_1_well_c03_cluster_blast.csv\n",
      "1\n",
      "screen_525_cell_plate_1_well_c03_cluster_healthy.csv\n",
      "2\n",
      "screen_525_cell_plate_1_well_c04.csv\n",
      "3\n",
      "screen_525_cell_plate_1_well_c05.csv\n",
      "4\n",
      "screen_525_cell_plate_1_well_c06.csv\n",
      "5\n",
      "screen_525_cell_plate_1_well_c07.csv\n",
      "6\n",
      "screen_525_cell_plate_1_well_c08.csv\n",
      "7\n",
      "screen_525_cell_plate_1_well_c09.csv\n",
      "8\n",
      "screen_525_cell_plate_1_well_c10.csv\n",
      "9\n",
      "screen_525_cell_plate_1_well_c11.csv\n",
      "10\n",
      "screen_525_cell_plate_1_well_c12.csv\n",
      "11\n",
      "screen_525_cell_plate_1_well_c12_cluster_blast.csv\n",
      "12\n",
      "screen_525_cell_plate_1_well_c12_cluster_healthy.csv\n",
      "13\n",
      "screen_525_cell_plate_1_well_c13.csv\n",
      "14\n",
      "screen_525_cell_plate_1_well_c14.csv\n",
      "15\n",
      "screen_525_cell_plate_1_well_c15.csv\n",
      "16\n",
      "screen_525_cell_plate_1_well_c16.csv\n",
      "17\n",
      "screen_525_cell_plate_1_well_c16_cluster_blast.csv\n",
      "18\n",
      "screen_525_cell_plate_1_well_c16_cluster_healthy.csv\n",
      "19\n",
      "screen_525_cell_plate_1_well_c17.csv\n",
      "20\n",
      "screen_525_cell_plate_1_well_c18.csv\n",
      "21\n",
      "screen_525_cell_plate_1_well_c19.csv\n",
      "22\n",
      "screen_525_cell_plate_1_well_c20.csv\n",
      "23\n",
      "screen_525_cell_plate_1_well_c21.csv\n",
      "24\n",
      "screen_525_cell_plate_1_well_c22.csv\n",
      "25\n",
      "screen_525_cell_plate_1_well_d03.csv\n",
      "26\n",
      "screen_525_cell_plate_1_well_d04.csv\n",
      "27\n",
      "screen_525_cell_plate_1_well_d05.csv\n",
      "28\n",
      "screen_525_cell_plate_1_well_d06.csv\n",
      "29\n",
      "screen_525_cell_plate_1_well_d07.csv\n",
      "30\n",
      "screen_525_cell_plate_1_well_d08.csv\n",
      "31\n",
      "screen_525_cell_plate_1_well_d09.csv\n",
      "32\n",
      "screen_525_cell_plate_1_well_d10.csv\n",
      "33\n",
      "screen_525_cell_plate_1_well_d11.csv\n",
      "34\n",
      "screen_525_cell_plate_1_well_d12.csv\n",
      "35\n",
      "screen_525_cell_plate_1_well_d13.csv\n",
      "36\n",
      "screen_525_cell_plate_1_well_d14.csv\n",
      "37\n",
      "screen_525_cell_plate_1_well_d15.csv\n",
      "38\n",
      "screen_525_cell_plate_1_well_d16.csv\n",
      "39\n",
      "screen_525_cell_plate_1_well_d17.csv\n",
      "40\n",
      "screen_525_cell_plate_1_well_d18.csv\n",
      "41\n",
      "screen_525_cell_plate_1_well_d19.csv\n",
      "42\n",
      "screen_525_cell_plate_1_well_d19_cluster_blast.csv\n",
      "43\n",
      "screen_525_cell_plate_1_well_d19_cluster_healthy.csv\n",
      "44\n",
      "screen_525_cell_plate_1_well_d20.csv\n",
      "45\n",
      "screen_525_cell_plate_1_well_d20_cluster_blast.csv\n",
      "46\n",
      "screen_525_cell_plate_1_well_d20_cluster_healthy.csv\n",
      "47\n",
      "screen_525_cell_plate_1_well_d21.csv\n",
      "48\n",
      "screen_525_cell_plate_1_well_d22.csv\n",
      "49\n",
      "screen_525_cell_plate_1_well_e03.csv\n",
      "50\n",
      "screen_525_cell_plate_1_well_e04.csv\n",
      "51\n",
      "screen_525_cell_plate_1_well_e04_cluster_blast.csv\n",
      "52\n",
      "screen_525_cell_plate_1_well_e04_cluster_healthy.csv\n",
      "53\n",
      "screen_525_cell_plate_1_well_e05.csv\n",
      "54\n",
      "screen_525_cell_plate_1_well_e05_cluster_blast.csv\n",
      "55\n",
      "screen_525_cell_plate_1_well_e05_cluster_healthy.csv\n",
      "56\n",
      "screen_525_cell_plate_1_well_e06.csv\n",
      "57\n",
      "screen_525_cell_plate_1_well_e07.csv\n",
      "58\n",
      "screen_525_cell_plate_1_well_e08.csv\n",
      "59\n",
      "screen_525_cell_plate_1_well_e09.csv\n",
      "60\n",
      "screen_525_cell_plate_1_well_e10.csv\n",
      "61\n",
      "screen_525_cell_plate_1_well_e11.csv\n",
      "62\n",
      "screen_525_cell_plate_1_well_e12.csv\n",
      "63\n",
      "screen_525_cell_plate_1_well_e13.csv\n",
      "64\n",
      "screen_525_cell_plate_1_well_e14.csv\n",
      "65\n",
      "screen_525_cell_plate_1_well_e15.csv\n",
      "66\n",
      "screen_525_cell_plate_1_well_e16.csv\n",
      "67\n",
      "screen_525_cell_plate_1_well_e17.csv\n",
      "68\n",
      "screen_525_cell_plate_1_well_e17_cluster_blast.csv\n",
      "69\n",
      "screen_525_cell_plate_1_well_e17_cluster_healthy.csv\n",
      "70\n",
      "screen_525_cell_plate_1_well_e18.csv\n",
      "71\n",
      "screen_525_cell_plate_1_well_e19.csv\n",
      "72\n",
      "screen_525_cell_plate_1_well_e19_cluster_blast.csv\n",
      "73\n",
      "screen_525_cell_plate_1_well_e19_cluster_healthy.csv\n",
      "74\n",
      "screen_525_cell_plate_1_well_e20.csv\n",
      "75\n",
      "screen_525_cell_plate_1_well_e21.csv\n",
      "76\n",
      "screen_525_cell_plate_1_well_e21_cluster_blast.csv\n",
      "77\n",
      "screen_525_cell_plate_1_well_e21_cluster_healthy.csv\n",
      "78\n",
      "screen_525_cell_plate_1_well_e22.csv\n",
      "79\n",
      "screen_525_cell_plate_1_well_f03.csv\n",
      "80\n",
      "screen_525_cell_plate_1_well_f03_cluster_blast.csv\n",
      "81\n",
      "screen_525_cell_plate_1_well_f03_cluster_healthy.csv\n",
      "82\n",
      "screen_525_cell_plate_1_well_f04.csv\n",
      "83\n",
      "screen_525_cell_plate_1_well_f05.csv\n",
      "84\n",
      "screen_525_cell_plate_1_well_f06.csv\n",
      "85\n",
      "screen_525_cell_plate_1_well_f07.csv\n",
      "86\n",
      "screen_525_cell_plate_1_well_f08.csv\n",
      "87\n",
      "screen_525_cell_plate_1_well_f08_cluster_blast.csv\n",
      "88\n",
      "screen_525_cell_plate_1_well_f08_cluster_healthy.csv\n",
      "89\n",
      "screen_525_cell_plate_1_well_f09.csv\n",
      "90\n",
      "screen_525_cell_plate_1_well_f09_cluster_blast.csv\n",
      "91\n",
      "screen_525_cell_plate_1_well_f09_cluster_healthy.csv\n",
      "92\n",
      "screen_525_cell_plate_1_well_f10.csv\n",
      "93\n",
      "screen_525_cell_plate_1_well_f11.csv\n",
      "94\n",
      "screen_525_cell_plate_1_well_f12.csv\n",
      "95\n",
      "screen_525_cell_plate_1_well_f13.csv\n",
      "96\n",
      "screen_525_cell_plate_1_well_f14.csv\n",
      "97\n",
      "screen_525_cell_plate_1_well_f15.csv\n",
      "98\n",
      "screen_525_cell_plate_1_well_f16.csv\n",
      "99\n",
      "screen_525_cell_plate_1_well_f17.csv\n",
      "100\n",
      "screen_525_cell_plate_1_well_f18.csv\n",
      "101\n",
      "screen_525_cell_plate_1_well_f19.csv\n",
      "102\n",
      "screen_525_cell_plate_1_well_f20.csv\n",
      "103\n",
      "screen_525_cell_plate_1_well_f21.csv\n",
      "104\n",
      "screen_525_cell_plate_1_well_f22.csv\n",
      "105\n",
      "screen_525_cell_plate_1_well_g03.csv\n",
      "106\n",
      "screen_525_cell_plate_1_well_g04.csv\n",
      "107\n",
      "screen_525_cell_plate_1_well_g05.csv\n",
      "108\n",
      "screen_525_cell_plate_1_well_g06.csv\n",
      "109\n",
      "screen_525_cell_plate_1_well_g07.csv\n",
      "110\n",
      "screen_525_cell_plate_1_well_g08.csv\n",
      "111\n",
      "screen_525_cell_plate_1_well_g09.csv\n",
      "112\n",
      "screen_525_cell_plate_1_well_g10.csv\n",
      "113\n",
      "screen_525_cell_plate_1_well_g11.csv\n",
      "114\n",
      "screen_525_cell_plate_1_well_g11_cluster_blast.csv\n",
      "115\n",
      "screen_525_cell_plate_1_well_g11_cluster_healthy.csv\n",
      "116\n",
      "screen_525_cell_plate_1_well_g12.csv\n",
      "117\n",
      "screen_525_cell_plate_1_well_g13.csv\n",
      "118\n",
      "screen_525_cell_plate_1_well_g14.csv\n",
      "119\n",
      "screen_525_cell_plate_1_well_g15.csv\n",
      "120\n",
      "screen_525_cell_plate_1_well_g16.csv\n",
      "121\n",
      "screen_525_cell_plate_1_well_g17.csv\n",
      "122\n",
      "screen_525_cell_plate_1_well_g18.csv\n",
      "123\n",
      "screen_525_cell_plate_1_well_g19.csv\n",
      "124\n",
      "screen_525_cell_plate_1_well_g20.csv\n",
      "125\n",
      "screen_525_cell_plate_1_well_g20_cluster_blast.csv\n",
      "126\n",
      "screen_525_cell_plate_1_well_g20_cluster_healthy.csv\n",
      "127\n",
      "screen_525_cell_plate_1_well_g21.csv\n",
      "128\n",
      "screen_525_cell_plate_1_well_g22.csv\n",
      "129\n",
      "screen_525_cell_plate_1_well_h03.csv\n",
      "130\n",
      "screen_525_cell_plate_1_well_h04.csv\n",
      "131\n",
      "screen_525_cell_plate_1_well_h05.csv\n",
      "132\n",
      "screen_525_cell_plate_1_well_h06.csv\n",
      "133\n",
      "screen_525_cell_plate_1_well_h07.csv\n",
      "134\n",
      "screen_525_cell_plate_1_well_h08.csv\n",
      "135\n",
      "screen_525_cell_plate_1_well_h08_cluster_blast.csv\n",
      "136\n",
      "screen_525_cell_plate_1_well_h08_cluster_healthy.csv\n",
      "137\n",
      "screen_525_cell_plate_1_well_h09.csv\n",
      "138\n",
      "screen_525_cell_plate_1_well_h10.csv\n",
      "139\n",
      "screen_525_cell_plate_1_well_h11.csv\n",
      "140\n",
      "screen_525_cell_plate_1_well_h12.csv\n",
      "141\n",
      "screen_525_cell_plate_1_well_h13.csv\n",
      "142\n",
      "screen_525_cell_plate_1_well_h14.csv\n",
      "143\n",
      "screen_525_cell_plate_1_well_h15.csv\n",
      "144\n",
      "screen_525_cell_plate_1_well_h16.csv\n",
      "145\n",
      "screen_525_cell_plate_1_well_h16_cluster_blast.csv\n",
      "146\n",
      "screen_525_cell_plate_1_well_h16_cluster_healthy.csv\n",
      "147\n",
      "screen_525_cell_plate_1_well_h17.csv\n",
      "148\n",
      "screen_525_cell_plate_1_well_h18.csv\n",
      "149\n",
      "screen_525_cell_plate_1_well_h19.csv\n",
      "150\n",
      "screen_525_cell_plate_1_well_h20.csv\n",
      "151\n",
      "screen_525_cell_plate_1_well_h21.csv\n",
      "152\n",
      "screen_525_cell_plate_1_well_h22.csv\n",
      "153\n",
      "screen_525_cell_plate_1_well_i03.csv\n",
      "154\n",
      "screen_525_cell_plate_1_well_i04.csv\n",
      "155\n",
      "screen_525_cell_plate_1_well_i05.csv\n",
      "156\n",
      "screen_525_cell_plate_1_well_i06.csv\n",
      "157\n",
      "screen_525_cell_plate_1_well_i07.csv\n",
      "158\n",
      "screen_525_cell_plate_1_well_i08.csv\n",
      "159\n",
      "screen_525_cell_plate_1_well_i09.csv\n",
      "160\n",
      "screen_525_cell_plate_1_well_i10.csv\n",
      "161\n",
      "screen_525_cell_plate_1_well_i11.csv\n",
      "162\n",
      "screen_525_cell_plate_1_well_i12.csv\n",
      "163\n",
      "screen_525_cell_plate_1_well_i12_cluster_blast.csv\n",
      "164\n",
      "screen_525_cell_plate_1_well_i12_cluster_healthy.csv\n",
      "165\n",
      "screen_525_cell_plate_1_well_i13.csv\n",
      "166\n",
      "screen_525_cell_plate_1_well_i14.csv\n",
      "167\n",
      "screen_525_cell_plate_1_well_i15.csv\n",
      "168\n",
      "screen_525_cell_plate_1_well_i16.csv\n",
      "169\n",
      "screen_525_cell_plate_1_well_i17.csv\n",
      "170\n",
      "screen_525_cell_plate_1_well_i18.csv\n",
      "171\n",
      "screen_525_cell_plate_1_well_i19.csv\n",
      "172\n",
      "screen_525_cell_plate_1_well_i20.csv\n",
      "173\n",
      "screen_525_cell_plate_1_well_i21.csv\n",
      "174\n",
      "screen_525_cell_plate_1_well_i22.csv\n",
      "175\n",
      "screen_525_cell_plate_1_well_j03.csv\n",
      "176\n",
      "screen_525_cell_plate_1_well_j03_cluster_blast.csv\n",
      "177\n",
      "screen_525_cell_plate_1_well_j03_cluster_healthy.csv\n",
      "178\n",
      "screen_525_cell_plate_1_well_j04.csv\n",
      "179\n",
      "screen_525_cell_plate_1_well_j05.csv\n",
      "180\n",
      "screen_525_cell_plate_1_well_j06.csv\n",
      "181\n",
      "screen_525_cell_plate_1_well_j06_cluster_blast.csv\n",
      "182\n",
      "screen_525_cell_plate_1_well_j06_cluster_healthy.csv\n",
      "183\n",
      "screen_525_cell_plate_1_well_j07.csv\n",
      "184\n",
      "screen_525_cell_plate_1_well_j08.csv\n",
      "185\n",
      "screen_525_cell_plate_1_well_j09.csv\n",
      "186\n",
      "screen_525_cell_plate_1_well_j10.csv\n",
      "187\n",
      "screen_525_cell_plate_1_well_j11.csv\n",
      "188\n",
      "screen_525_cell_plate_1_well_j12.csv\n",
      "189\n",
      "screen_525_cell_plate_1_well_j13.csv\n",
      "190\n",
      "screen_525_cell_plate_1_well_j14.csv\n",
      "191\n",
      "screen_525_cell_plate_1_well_j15.csv\n",
      "192\n",
      "screen_525_cell_plate_1_well_j16.csv\n",
      "193\n",
      "screen_525_cell_plate_1_well_j17.csv\n",
      "194\n",
      "screen_525_cell_plate_1_well_j18.csv\n",
      "195\n",
      "screen_525_cell_plate_1_well_j19.csv\n",
      "196\n",
      "screen_525_cell_plate_1_well_j20.csv\n",
      "197\n",
      "screen_525_cell_plate_1_well_j21.csv\n",
      "198\n",
      "screen_525_cell_plate_1_well_j22.csv\n",
      "199\n"
     ]
    }
   ],
   "source": [
    "idx = 0; file_name = [];\n",
    "for fcs_df in data:\n",
    "    file_name.append(fcs_df.iloc[0]['screen'] + '_' + fcs_df.iloc[0]['cell_plate']\\\n",
    "                     + '_' + fcs_df.iloc[0]['well'] + \".csv\")\n",
    "    #print(file_name[idx])\n",
    "    #print(idx)\n",
    "    fcs_df.to_csv(directory + '/' + file_name[idx])\n",
    "    idx += 1"
   ]
  },
  {
   "cell_type": "code",
   "execution_count": 24,
   "metadata": {
    "collapsed": false
   },
   "outputs": [
    {
     "name": "stdout",
     "output_type": "stream",
     "text": [
      "[u'FSC-H', u'SSC-H', u'CD66B H : CD19 H : CD3 H : FITC H', u'CD14 H : PE H', u'BL3-H', u'7AAD H', u'BL5-H', u'CD16 H : APC H', u'RL2-H', u'KIT H : BV421 H', u'VL2-H', u'VL3-H', u'CD34 H : BV605 H', u'VL5-H', u'VL6-H', u'FSC-A', u'SSC-A', u'CD66B A : CD19 A : CD3 A : FITC A', u'CD14 A : PE A', u'BL3-A', u'7AAD A', u'BL5-A', u'CD16 A : APC A', u'RL2-A', u'KIT A : BV421 A', u'VL2-A', u'VL3-A', u'CD34 A : BV605 A', u'VL5-A', u'VL6-A', u'Width', u'Time', 'screen', 'well', 'cell_plate']\n",
      "[u'FSC-A', u'FSC-H', u'SSC-A', u'SSC-H', u'CD66B A : CD19 A : CD3 A : FITC A', u'CD66B H : CD19 H : CD3 H : FITC H', u'CD14 A : PE A', u'CD14 H : PE H', u'BL3-A', u'BL3-H', u'7AAD A', u'7AAD H', u'BL5-A', u'BL5-H', u'CD16 A : APC A', u'CD16 H : APC H', u'RL2-A', u'RL2-H', u'KIT A : BV421 A', u'KIT H : BV421 H', u'VL2-A', u'VL2-H', u'VL3-A', u'VL3-H', u'CD34 A : BV605 A', u'CD34 H : BV605 H', u'VL5-A', u'VL5-H', u'VL6-A', u'VL6-H', u'Time', 'screen', 'well', 'cell_plate']\n",
      "[u'FSC-A', u'FSC-H', u'SSC-A', u'SSC-H', u'CD66B A : CD19 A : CD3 A : FITC A', u'CD66B H : CD19 H : CD3 H : FITC H', u'CD14 A : PE A', u'CD14 H : PE H', u'BL3-A', u'BL3-H', u'7AAD A', u'7AAD H', u'BL5-A', u'BL5-H', u'CD16 A : APC A', u'CD16 H : APC H', u'RL2-A', u'RL2-H', u'KIT A : BV421 A', u'KIT H : BV421 H', u'VL2-A', u'VL2-H', u'VL3-A', u'VL3-H', u'CD34 A : BV605 A', u'CD34 H : BV605 H', u'VL5-A', u'VL5-H', u'VL6-A', u'VL6-H', u'Time', 'screen', 'well', 'cell_plate']\n"
     ]
    }
   ],
   "source": [
    "# data[0], data[1] and data[2] are parent, blast, normal (respectively). Ditto for 11, 12, 13\n",
    "# Note that the column orders are different between the parent and children and that the parent has a \"width\" column\n",
    "## while the children don't\n",
    "\n",
    "print(list(data[0].columns.values))\n",
    "print(list(data[1].columns.values))\n",
    "print(list(data[2].columns.values))\n",
    "\n",
    "\n"
   ]
  },
  {
   "cell_type": "code",
   "execution_count": 132,
   "metadata": {
    "collapsed": false
   },
   "outputs": [
    {
     "name": "stdout",
     "output_type": "stream",
     "text": [
      "       FSC-H       SSC-H  CD66B H : CD19 H : CD3 H : FITC H  CD14 H : PE H  \\\n",
      "0  8528540.0  16772247.0                             3821.0         4139.0   \n",
      "\n",
      "    BL3-H  7AAD H    BL5-H  CD16 H : APC H    RL2-H  KIT H : BV421 H  \\\n",
      "0  5925.0  5029.0  16137.0          5158.0  17185.0           4635.0   \n",
      "\n",
      "       ...          VL2-A    VL3-A  CD34 A : BV605 A    VL5-A     VL6-A  \\\n",
      "0      ...       316971.0 -12522.0          155582.0 -91590.0  945194.0   \n",
      "\n",
      "    Width    Time      screen      well    cell_plate  \n",
      "0  5288.0  8377.0  screen_525  well_c03  cell_plate_1  \n",
      "\n",
      "[1 rows x 35 columns]\n",
      "      FSC-A      FSC-H    SSC-A     SSC-H  CD66B A : CD19 A : CD3 A : FITC A  \\\n",
      "0  939045.0  1966693.0  99553.0  344426.0                            41750.0   \n",
      "\n",
      "   CD66B H : CD19 H : CD3 H : FITC H  CD14 A : PE A  CD14 H : PE H   BL3-A  \\\n",
      "0                            34418.0       -21164.0         5334.0 -7524.0   \n",
      "\n",
      "     BL3-H      ...       CD34 A : BV605 A  CD34 H : BV605 H    VL5-A  \\\n",
      "0  10667.0      ...               142439.0           80051.0  74544.0   \n",
      "\n",
      "     VL5-H   VL6-A   VL6-H        Time      screen                    well  \\\n",
      "0  32057.0  1176.0  4579.0  89000952.0  screen_525  well_c03_cluster_blast   \n",
      "\n",
      "     cell_plate  \n",
      "0  cell_plate_1  \n",
      "\n",
      "[1 rows x 34 columns]\n",
      "      FSC-A      FSC-H    SSC-A     SSC-H  CD66B A : CD19 A : CD3 A : FITC A  \\\n",
      "0  719351.0  1649228.0  36465.0  177984.0                           947248.0   \n",
      "\n",
      "   CD66B H : CD19 H : CD3 H : FITC H  CD14 A : PE A  CD14 H : PE H    BL3-A  \\\n",
      "0                           225735.0       -23230.0        14055.0 -13978.0   \n",
      "\n",
      "    BL3-H      ...       CD34 A : BV605 A  CD34 H : BV605 H   VL5-A   VL5-H  \\\n",
      "0  3053.0      ...               308311.0           75986.0 -9208.0  8816.0   \n",
      "\n",
      "   VL6-A   VL6-H        Time      screen                      well  \\\n",
      "0  -42.0  3648.0  89000952.0  screen_525  well_c03_cluster_healthy   \n",
      "\n",
      "     cell_plate  \n",
      "0  cell_plate_1  \n",
      "\n",
      "[1 rows x 34 columns]\n"
     ]
    }
   ],
   "source": [
    "print(data[0].head(n=1))\n",
    "print(data[1].head(n=1))\n",
    "print(data[2].head(n=1))"
   ]
  },
  {
   "cell_type": "code",
   "execution_count": 29,
   "metadata": {
    "collapsed": false
   },
   "outputs": [],
   "source": [
    "# Check if individual datasets have duplicate values\n",
    "idx = 0;\n",
    "for temp in data:\n",
    "    if temp.duplicated().sum() > 0:\n",
    "        print(\"data number \" + idx + \"has cuplicated rows\")"
   ]
  },
  {
   "cell_type": "markdown",
   "metadata": {},
   "source": [
    "#### Articulate the problem"
   ]
  },
  {
   "cell_type": "markdown",
   "metadata": {},
   "source": [
    "I have 3 dataframes  \n",
    "    1) lets call it \"parent\" or \"p1\". It is ~10,000 rows and 30 columns\n",
    "    2) lets call it \"child1\" or \"f1\". It is ~1,000 rows and 29 columns. This dataframe is a subset of \"parent\".\n",
    "    3) \"child2\" or \"f2\". It is ~200 rows and 29 columns and is also a subset of \"parent\".\n",
    "I want to identify which rows in \"parent\" match a row in \"child1\" (e.g. healthy cells) or \"child2\" and then add a column to \"parent\" with a label of \"child1\" or \"child2\".\n",
    "\n",
    "To do this, \n",
    "    1) I add a \"lineage\" column with a value of either \"parent\" or \"child1\" or \"child2\" to an entire dataframe.\n",
    "    2) Also add a \"cell_label\" column with a value of \"unlabelled\" or \"blast\" or \"healthy\"\n",
    "    3) Concatenate \"parent\" to \"child1\" and then use duplicate to identify and label events in \"parent\" as \"healthy\", then drop \"child1\" from that dataframe\n",
    "    4) Repeat step 3 for \"child2\"."
   ]
  },
  {
   "cell_type": "code",
   "execution_count": 174,
   "metadata": {
    "collapsed": false
   },
   "outputs": [],
   "source": [
    "def label_dup_rows(parent_df, healthy_child_df, blast_child_df):\n",
    "    '''\n",
    "    parent, healthy_child and blast_child are pandas dataframes and should be entered in that order\n",
    "    I have 3 dataframes  \n",
    "    1) lets call it \"parent_df\" or \"p1_df\". It is ~10,000 rows and 30 columns\n",
    "    2) lets call it \"child1_df\" or \"f1_df\". It is ~1,000 rows and 29 columns. This dataframe is a subset of \"parent_df\".\n",
    "    3) \"child2_df\" or \"f2_df\". It is ~200 rows and 29 columns and is also a subset of \"parent_df\".\n",
    "I want to identify which rows in \"parent_df\" match a row in \"child1_df\" (e.g. healthy cells) or \"child2_df\" and \n",
    "    then add a column to \"parent_df\" with a label of \"child1\" or \"child2\".\n",
    "\n",
    "To do this, \n",
    "    1) I add a \"lineage\" column with a value of either \"parent\" or \"child1\" or \"child2\" to an entire dataframe.\n",
    "    2) Also add a \"cell_label\" column with a value of \"unlabelled\" or \"blast\" or \"healthy\"\n",
    "    3) Concatenate \"parent\" to \"child1\" and then use duplicate to identify and label events in\n",
    "        \"parent\" as \"healthy\", then drop \"child1\" from that dataframe\n",
    "    4) Repeat step 3 for \"child2\".\n",
    "    '''\n",
    "    # Label the lineage and cell type\n",
    "    parent_df['cell_label'] = \"unlabelled\"\n",
    "    parent_df['lineage'] = \"parent\"\n",
    "    healthy_child_df['cell_label'] = \"healthy\"\n",
    "    healthy_child_df['lineage'] = \"child1\"\n",
    "    blast_child_df['cell_label'] = \"blast\"\n",
    "    blast_child_df['lineage'] = \"child2\"\n",
    "\n",
    "    # Select all columns that you expect to match when looking for duplicates\n",
    "    cols_of_int = [x for x in list(parent_df.columns.values) if x not in [\"Width\",\"lineage\",\"cell_label\",\\\n",
    "                                                                          \"screen\",\"well\",\"cell_plate\",\"Time\"]]\n",
    "    #print(cols_of_int)\n",
    "    \n",
    "    ##### CHILD 1 = healthy\n",
    "    # Merge the parent to child1\n",
    "    concat_pd = pd.concat([parent_df, healthy_child_df], ignore_index = True)\n",
    "        \n",
    "    # Find all duplicated rows \n",
    "    dup_rows = concat_pd.duplicated(cols_of_int, keep = False)\n",
    "\n",
    "    # Set the \"cell_label\" in duplicated rows = to the child1 label\n",
    "    concat_pd.loc[dup_rows,\"cell_label\"] = \"healthy\"\n",
    "\n",
    "    # Now drop the child dataframe from the parent dataframe\n",
    "    labelled_parent = concat_pd[concat_pd.lineage != \"child1\"]\n",
    "\n",
    "    ##### CHILD 2 = blast....it might be worth generalizing the code for more labels\n",
    "    # Merge the parent to child2\n",
    "    concat_pd1 = pd.concat([labelled_parent, blast_child_df], ignore_index = True)\n",
    "        \n",
    "    # Find all duplicated rows \n",
    "    dup_rows1 = concat_pd1.duplicated(cols_of_int, keep = False)\n",
    "\n",
    "    # Set the \"cell_label\" in duplicated rows = to the child2 label\n",
    "    concat_pd1.loc[dup_rows1,\"cell_label\"] = \"blast\"\n",
    "\n",
    "    # Now drop the child dataframe from the parent dataframe\n",
    "    labelled_parent1 = concat_pd1[concat_pd1.lineage != \"child2\"]\n",
    "    \n",
    "#    print(\"one1\")\n",
    "#    print(sum(dup_rows)/2)\n",
    "#    print(\"two2\")\n",
    "#    print(sum(dup_rows1)/2)\n",
    "#    print(\"three3\")\n",
    "#    print(blast_child_df.shape)\n",
    "#    print(\"four4\")\n",
    "#    print(healthy_child_df.shape)\n",
    "#    print(\"five5\")\n",
    "#    print(parent_df.shape)\n",
    "    \n",
    "    \n",
    "    return labelled_parent1"
   ]
  },
  {
   "cell_type": "code",
   "execution_count": 175,
   "metadata": {
    "collapsed": false
   },
   "outputs": [
    {
     "data": {
      "text/plain": [
       "unlabelled    8399\n",
       "healthy        493\n",
       "blast          189\n",
       "Name: cell_label, dtype: int64"
      ]
     },
     "execution_count": 175,
     "metadata": {},
     "output_type": "execute_result"
    }
   ],
   "source": [
    "labelled_test = label_dup_rows(data[0],data[2],data[1])\n",
    "labelled_test[\"cell_label\"].value_counts()"
   ]
  },
  {
   "cell_type": "code",
   "execution_count": 49,
   "metadata": {
    "collapsed": false
   },
   "outputs": [
    {
     "name": "stdout",
     "output_type": "stream",
     "text": [
      "    A   B   C   D\n",
      "0  78  12  42  48\n",
      "1  45  90  45  10\n",
      "2  44  83  27  91\n",
      "3  55  90  25  38\n",
      "4  76  59  71  99\n",
      "5   1  18  46  70\n",
      "6  50   0   6  51\n",
      "7   4   9  12   0\n",
      "8  91   7  24   1\n",
      "9  70  85  48  16\n"
     ]
    }
   ],
   "source": [
    "pd_test = pd.DataFrame(np.random.randint(0,100,size=(10, 4)), columns=list('ABCD'))\n",
    "print(pd_test)"
   ]
  },
  {
   "cell_type": "code",
   "execution_count": 50,
   "metadata": {
    "collapsed": false
   },
   "outputs": [
    {
     "name": "stdout",
     "output_type": "stream",
     "text": [
      "    A   D   B\n",
      "0   1  70  18\n",
      "1  91   1   7\n"
     ]
    }
   ],
   "source": [
    "pd_test_subset = pd.DataFrame(columns=[\"A\",\"D\",\"B\"], data = [[1,70,18],[91,1,7]])\n",
    "print(pd_test_subset)"
   ]
  },
  {
   "cell_type": "code",
   "execution_count": 83,
   "metadata": {
    "collapsed": false
   },
   "outputs": [
    {
     "name": "stdout",
     "output_type": "stream",
     "text": [
      "    A   B   C   D cell_label lineage\n",
      "0  78  12  42  48  all_cells  parent\n",
      "1  45  90  45  10  all_cells  parent\n",
      "2  44  83  27  91  all_cells  parent\n",
      "3  55  90  25  38  all_cells  parent\n",
      "4  76  59  71  99  all_cells  parent\n",
      "5   1  18  46  70  all_cells  parent\n",
      "6  50   0   6  51  all_cells  parent\n",
      "7   4   9  12   0  all_cells  parent\n",
      "8  91   7  24   1  all_cells  parent\n",
      "9  70  85  48  16  all_cells  parent\n"
     ]
    }
   ],
   "source": [
    "pd_test['cell_label'] = \"all_cells\"\n",
    "pd_test['lineage'] = \"parent\"\n",
    "print(pd_test)"
   ]
  },
  {
   "cell_type": "code",
   "execution_count": 84,
   "metadata": {
    "collapsed": false
   },
   "outputs": [
    {
     "name": "stdout",
     "output_type": "stream",
     "text": [
      "    A   D   B cell_label lineage\n",
      "0   1  70  18        bad  child1\n",
      "1  91   1   7        bad  child1\n"
     ]
    }
   ],
   "source": [
    "pd_test_subset['cell_label'] = \"bad\"\n",
    "pd_test_subset['lineage'] = \"child1\"\n",
    "print(pd_test_subset)"
   ]
  },
  {
   "cell_type": "code",
   "execution_count": 85,
   "metadata": {
    "collapsed": false
   },
   "outputs": [
    {
     "name": "stdout",
     "output_type": "stream",
     "text": [
      "     A   B     C   D cell_label lineage\n",
      "0   78  12  42.0  48  all_cells  parent\n",
      "1   45  90  45.0  10  all_cells  parent\n",
      "2   44  83  27.0  91  all_cells  parent\n",
      "3   55  90  25.0  38  all_cells  parent\n",
      "4   76  59  71.0  99  all_cells  parent\n",
      "5    1  18  46.0  70  all_cells  parent\n",
      "6   50   0   6.0  51  all_cells  parent\n",
      "7    4   9  12.0   0  all_cells  parent\n",
      "8   91   7  24.0   1  all_cells  parent\n",
      "9   70  85  48.0  16  all_cells  parent\n",
      "10   1  18   NaN  70        bad  child1\n",
      "11  91   7   NaN   1        bad  child1\n"
     ]
    }
   ],
   "source": [
    "# Merge the parent to one of its children\n",
    "concat_pd = pd.concat([pd_test,pd_test_subset], ignore_index = True)\n",
    "print(concat_pd)"
   ]
  },
  {
   "cell_type": "code",
   "execution_count": 129,
   "metadata": {
    "collapsed": false
   },
   "outputs": [
    {
     "name": "stdout",
     "output_type": "stream",
     "text": [
      "['A', 'B', 'C', 'D', 'cell_label', 'lineage']\n"
     ]
    }
   ],
   "source": [
    "print(list(concat_pd.columns.values))"
   ]
  },
  {
   "cell_type": "code",
   "execution_count": 128,
   "metadata": {
    "collapsed": false
   },
   "outputs": [
    {
     "data": {
      "text/plain": [
       "['A', 'B', 'C', 'cell_label']"
      ]
     },
     "execution_count": 128,
     "metadata": {},
     "output_type": "execute_result"
    }
   ],
   "source": [
    "[x for x in list(concat_pd.columns.values) if x not in [\"D\",\"lineage\"]]"
   ]
  },
  {
   "cell_type": "code",
   "execution_count": 86,
   "metadata": {
    "collapsed": false
   },
   "outputs": [
    {
     "name": "stdout",
     "output_type": "stream",
     "text": [
      "0     False\n",
      "1     False\n",
      "2     False\n",
      "3     False\n",
      "4     False\n",
      "5      True\n",
      "6     False\n",
      "7     False\n",
      "8      True\n",
      "9     False\n",
      "10     True\n",
      "11     True\n",
      "dtype: bool\n"
     ]
    }
   ],
   "source": [
    "# Find all duplicated rows\n",
    "dup_rows = concat_pd.duplicated([\"A\",\"B\",\"D\"], keep = False)\n",
    "print(dup_rows)"
   ]
  },
  {
   "cell_type": "code",
   "execution_count": 87,
   "metadata": {
    "collapsed": false
   },
   "outputs": [
    {
     "name": "stdout",
     "output_type": "stream",
     "text": [
      "     A   B     C   D cell_label lineage\n",
      "0   78  12  42.0  48  all_cells  parent\n",
      "1   45  90  45.0  10  all_cells  parent\n",
      "2   44  83  27.0  91  all_cells  parent\n",
      "3   55  90  25.0  38  all_cells  parent\n",
      "4   76  59  71.0  99  all_cells  parent\n",
      "5    1  18  46.0  70        bad  parent\n",
      "6   50   0   6.0  51  all_cells  parent\n",
      "7    4   9  12.0   0  all_cells  parent\n",
      "8   91   7  24.0   1        bad  parent\n",
      "9   70  85  48.0  16  all_cells  parent\n",
      "10   1  18   NaN  70        bad  child1\n",
      "11  91   7   NaN   1        bad  child1\n"
     ]
    }
   ],
   "source": [
    "## Set the \"cell_label\" in duplicated rows = to the child1 label\n",
    "concat_pd.loc[dup_rows,\"cell_label\"] = \"bad\"\n",
    "print(concat_pd)"
   ]
  },
  {
   "cell_type": "code",
   "execution_count": 89,
   "metadata": {
    "collapsed": false
   },
   "outputs": [
    {
     "name": "stdout",
     "output_type": "stream",
     "text": [
      "    A   B     C   D cell_label lineage\n",
      "0  78  12  42.0  48  all_cells  parent\n",
      "1  45  90  45.0  10  all_cells  parent\n",
      "2  44  83  27.0  91  all_cells  parent\n",
      "3  55  90  25.0  38  all_cells  parent\n",
      "4  76  59  71.0  99  all_cells  parent\n",
      "5   1  18  46.0  70        bad  parent\n",
      "6  50   0   6.0  51  all_cells  parent\n",
      "7   4   9  12.0   0  all_cells  parent\n",
      "8  91   7  24.0   1        bad  parent\n",
      "9  70  85  48.0  16  all_cells  parent\n"
     ]
    }
   ],
   "source": [
    "## Now drop the child dataframe from the parent dataframe\n",
    "labelled_parent = concat_pd[concat_pd.lineage != \"child1\"]\n",
    "print(labelled_parent)"
   ]
  },
  {
   "cell_type": "markdown",
   "metadata": {},
   "source": [
    "##### Find all children files and match them to their parent"
   ]
  },
  {
   "cell_type": "markdown",
   "metadata": {},
   "source": [
    "######\n",
    "file_name is a list of all the csvs that I created and the pandasdataframe for each csv is in a list called data.\n",
    "so file_name[0] has the filename for the data in data[0].\n",
    "1) Find all datasets that have been labelled for healthy and blast\n",
    "2) Apply the above function (\"label_dup_rows\") to label the parent dataframe (p1) for both \"healthy\" and \"blast\"\n",
    "3) Output these labelled dataframes to csv files. Use extension \"cell_populations_labelled_for_blast.csv\"\n",
    "4) Keep track of which p1s that I have labelled\n",
    "5) Label the rest of the dataframes as \"cell_pops_not_labelled\" and output as csv files. use extension \"cell_populations_NOT_labelled_for_blast.csv\""
   ]
  },
  {
   "cell_type": "code",
   "execution_count": 93,
   "metadata": {
    "collapsed": false
   },
   "outputs": [],
   "source": [
    "# Sanity check to make sure that file_name and data are what I think that they are\n",
    "if not len(file_name) == len(data):\n",
    "    print(\"Well this was unexpected, wires got crossed somewhere, please panic\")"
   ]
  },
  {
   "cell_type": "code",
   "execution_count": 113,
   "metadata": {
    "collapsed": false
   },
   "outputs": [
    {
     "name": "stdout",
     "output_type": "stream",
     "text": [
      "['screen_525_cell_plate_1_well_c03_cluster_healthy.csv', 'screen_525_cell_plate_1_well_c12_cluster_healthy.csv', 'screen_525_cell_plate_1_well_c16_cluster_healthy.csv', 'screen_525_cell_plate_1_well_d19_cluster_healthy.csv', 'screen_525_cell_plate_1_well_d20_cluster_healthy.csv', 'screen_525_cell_plate_1_well_e04_cluster_healthy.csv', 'screen_525_cell_plate_1_well_e05_cluster_healthy.csv', 'screen_525_cell_plate_1_well_e17_cluster_healthy.csv', 'screen_525_cell_plate_1_well_e19_cluster_healthy.csv', 'screen_525_cell_plate_1_well_e21_cluster_healthy.csv', 'screen_525_cell_plate_1_well_f03_cluster_healthy.csv', 'screen_525_cell_plate_1_well_f08_cluster_healthy.csv', 'screen_525_cell_plate_1_well_f09_cluster_healthy.csv', 'screen_525_cell_plate_1_well_g11_cluster_healthy.csv', 'screen_525_cell_plate_1_well_g20_cluster_healthy.csv', 'screen_525_cell_plate_1_well_h08_cluster_healthy.csv', 'screen_525_cell_plate_1_well_h16_cluster_healthy.csv', 'screen_525_cell_plate_1_well_i12_cluster_healthy.csv', 'screen_525_cell_plate_1_well_j03_cluster_healthy.csv', 'screen_525_cell_plate_1_well_j06_cluster_healthy.csv']\n",
      "<type 'list'>\n",
      "['screen', '525', 'cell', 'plate', '1', 'well', 'c03']\n",
      "screen_525_cell_plate_1_well_c03\n"
     ]
    }
   ],
   "source": [
    "# Find all the data sets that have been labelled with healthy, use \n",
    "##  this to find the corresponding blast and parent dataset\n",
    "matches = [x for x in file_name if \"healthy\" in x]\n",
    "print(matches)\n",
    "print(type(matches[0].split('_')[:-2]))\n",
    "print(matches[0].split('_')[:-2])\n",
    "exp_base_name = \"_\".join(matches[0].split('_')[:-2])\n",
    "print(exp_base_name)"
   ]
  },
  {
   "cell_type": "code",
   "execution_count": 122,
   "metadata": {
    "collapsed": false
   },
   "outputs": [
    {
     "name": "stdout",
     "output_type": "stream",
     "text": [
      "['screen_525_cell_plate_1_well_c03.csv', 'screen_525_cell_plate_1_well_c03_cluster_blast.csv', 'screen_525_cell_plate_1_well_c03_cluster_healthy.csv']\n"
     ]
    }
   ],
   "source": [
    "base_matches = [x for x in file_name if exp_base_name in x]\n",
    "print(base_matches)"
   ]
  },
  {
   "cell_type": "code",
   "execution_count": 124,
   "metadata": {
    "collapsed": false
   },
   "outputs": [
    {
     "data": {
      "text/plain": [
       "['screen_525_cell_plate_1_well_c03.csv']"
      ]
     },
     "execution_count": 124,
     "metadata": {},
     "output_type": "execute_result"
    }
   ],
   "source": [
    "p1 = [x for x in base_matches if not \"cluster\" in x]"
   ]
  },
  {
   "cell_type": "code",
   "execution_count": null,
   "metadata": {
    "collapsed": true
   },
   "outputs": [],
   "source": []
  },
  {
   "cell_type": "markdown",
   "metadata": {},
   "source": [
    "#### Add a width column to the children (populate it with NaNs)"
   ]
  },
  {
   "cell_type": "code",
   "execution_count": null,
   "metadata": {
    "collapsed": true
   },
   "outputs": [],
   "source": []
  },
  {
   "cell_type": "markdown",
   "metadata": {},
   "source": [
    "#### Rearrange the column labels?"
   ]
  },
  {
   "cell_type": "code",
   "execution_count": null,
   "metadata": {
    "collapsed": true
   },
   "outputs": [],
   "source": []
  },
  {
   "cell_type": "markdown",
   "metadata": {},
   "source": [
    "#### Try to label the parent based on the child's name...I may need to add a width column"
   ]
  },
  {
   "cell_type": "code",
   "execution_count": null,
   "metadata": {
    "collapsed": true
   },
   "outputs": [],
   "source": []
  },
  {
   "cell_type": "code",
   "execution_count": null,
   "metadata": {
    "collapsed": true
   },
   "outputs": [],
   "source": []
  },
  {
   "cell_type": "code",
   "execution_count": null,
   "metadata": {
    "collapsed": true
   },
   "outputs": [],
   "source": []
  },
  {
   "cell_type": "markdown",
   "metadata": {},
   "source": [
    "\n",
    "# Add a column to label the \"total well\" csv file with either healthy, blast or other  "
   ]
  },
  {
   "cell_type": "markdown",
   "metadata": {},
   "source": [
    "#### Match files to each other by reimporting files? This is dumb, do something else "
   ]
  },
  {
   "cell_type": "markdown",
   "metadata": {},
   "source": [
    "print(\"Not including the following file in list_of_files:   \" + os.listdir(directory)[0])\n",
    "list_of_files = os.listdir(directory)[1::] ## get rid of the first file because on a mac it is .ds_store"
   ]
  },
  {
   "cell_type": "markdown",
   "metadata": {},
   "source": [
    "psuedocode: Use glob to find all files that end in a number, iterate over that list to find which ones have healthy and blast labelled. If they have healthy and blast labels, then:\n",
    "            label a subset of the original pandas dataframe which the appropriate label, label the rest of that dataframe with \"unlabeled\". Call the new file: annotated-by-JS.csv\n",
    "        else:\n",
    "            label the entire dataframe with \"dataset_unlabelled\". Call the new file: dataset-unlabelled-annotated-by-JS.csv\n",
    "            \n",
    "import glob\n",
    "glob.glob(directory + '/' + 'screen_525_cell_plate_1_well_d19*csv')\n",
    "\n",
    "for filename in os.listdir(directory):\n",
    "    if filename.endswith(\".asm\") or filename.endswith(\".py\"): \n",
    "        # print(os.path.join(directory, filename))\n",
    "        continue\n",
    "    else:\n",
    "        continue"
   ]
  },
  {
   "cell_type": "markdown",
   "metadata": {},
   "source": [
    "#### Match full dataframes to their subsets and then label the full dataframe "
   ]
  },
  {
   "cell_type": "code",
   "execution_count": null,
   "metadata": {
    "collapsed": false
   },
   "outputs": [],
   "source": [
    "if not len(file_name) == len(data):\n",
    "    print(\"Well this was unexpected, wire got crossed somewhere, please panic\")\n",
    "    break"
   ]
  },
  {
   "cell_type": "code",
   "execution_count": null,
   "metadata": {
    "collapsed": true
   },
   "outputs": [],
   "source": []
  },
  {
   "cell_type": "code",
   "execution_count": null,
   "metadata": {
    "collapsed": true
   },
   "outputs": [],
   "source": []
  },
  {
   "cell_type": "code",
   "execution_count": null,
   "metadata": {
    "collapsed": true
   },
   "outputs": [],
   "source": []
  },
  {
   "cell_type": "code",
   "execution_count": null,
   "metadata": {
    "collapsed": true
   },
   "outputs": [],
   "source": []
  },
  {
   "cell_type": "code",
   "execution_count": null,
   "metadata": {
    "collapsed": true
   },
   "outputs": [],
   "source": []
  },
  {
   "cell_type": "code",
   "execution_count": null,
   "metadata": {
    "collapsed": false
   },
   "outputs": [],
   "source": []
  },
  {
   "cell_type": "code",
   "execution_count": null,
   "metadata": {
    "collapsed": false
   },
   "outputs": [],
   "source": []
  },
  {
   "cell_type": "markdown",
   "metadata": {},
   "source": []
  },
  {
   "cell_type": "code",
   "execution_count": null,
   "metadata": {
    "collapsed": true
   },
   "outputs": [],
   "source": []
  },
  {
   "cell_type": "code",
   "execution_count": null,
   "metadata": {
    "collapsed": true
   },
   "outputs": [],
   "source": []
  },
  {
   "cell_type": "code",
   "execution_count": null,
   "metadata": {
    "collapsed": true
   },
   "outputs": [],
   "source": []
  },
  {
   "cell_type": "code",
   "execution_count": null,
   "metadata": {
    "collapsed": true
   },
   "outputs": [],
   "source": []
  }
 ],
 "metadata": {
  "kernelspec": {
   "display_name": "Python [py2-env]",
   "language": "python",
   "name": "Python [py2-env]"
  },
  "language_info": {
   "codemirror_mode": {
    "name": "ipython",
    "version": 2
   },
   "file_extension": ".py",
   "mimetype": "text/x-python",
   "name": "python",
   "nbconvert_exporter": "python",
   "pygments_lexer": "ipython2",
   "version": "2.7.12"
  }
 },
 "nbformat": 4,
 "nbformat_minor": 0
}
