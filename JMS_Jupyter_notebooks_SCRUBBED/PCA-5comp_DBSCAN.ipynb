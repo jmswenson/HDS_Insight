{
 "cells": [
  {
   "cell_type": "markdown",
   "metadata": {},
   "source": [
    "# Try DBSCAN on PCAd and non-PCAd data"
   ]
  },
  {
   "cell_type": "code",
   "execution_count": 1,
   "metadata": {
    "collapsed": true
   },
   "outputs": [],
   "source": [
    "import os\n",
    "import glob\n",
    "\n",
    "import numpy as np\n",
    "import pandas as pd\n",
    "import matplotlib.pyplot as plt\n",
    "import seaborn as sns\n",
    "\n",
    "\n",
    "from sklearn import decomposition, metrics\n",
    "from sklearn.preprocessing import scale, robust_scale\n",
    "from sklearn.cluster import DBSCAN\n",
    "#from sklearn.manifold import TSNE\n",
    "%matplotlib inline"
   ]
  },
  {
   "cell_type": "code",
   "execution_count": null,
   "metadata": {
    "collapsed": true
   },
   "outputs": [],
   "source": []
  },
  {
   "cell_type": "code",
   "execution_count": 2,
   "metadata": {
    "collapsed": true
   },
   "outputs": [],
   "source": [
    "# Read in data\n",
    "filename = '/Users/tswenson/Documents/Joels/Health_Data_Science/COMPANY_consulting_project/datasets/merged_csvs/LABELLED_by_cell_type_screen_525_cell_plate_1_well_c03.csv'\n",
    "my_data=pd.read_csv(filename, index_col=0)"
   ]
  },
  {
   "cell_type": "code",
   "execution_count": 3,
   "metadata": {
    "collapsed": true
   },
   "outputs": [],
   "source": [
    "# Find data columns\n",
    "my_data_headers = list(my_data)\n",
    "meta_headers = [\"Width\",\"cell_label\",\"cell_plate\",\"lineage\",\"screen\",\"well\",\"Time\"]\n",
    "my_data_data_headers = [x for x in my_data_headers if not x in meta_headers]\n",
    "# Scale the data columns\n",
    "my_scaled_data = scale(my_data[my_data_data_headers])\n",
    "# Make a list where cell_label is converted to numbers for plotting\n",
    "word_as_num=[]\n",
    "for word in my_data['cell_label']:\n",
    "    if word == \"unlabelled\":\n",
    "        word_as_num.append(\"0\")\n",
    "    if word == \"blast\":\n",
    "        word_as_num.append(\"0.5\")\n",
    "    if word == \"healthy\":\n",
    "        word_as_num.append(\"1\")"
   ]
  },
  {
   "cell_type": "code",
   "execution_count": 4,
   "metadata": {
    "collapsed": false
   },
   "outputs": [
    {
     "data": {
      "text/plain": [
       "PCA(copy=True, n_components=None, whiten=False)"
      ]
     },
     "execution_count": 4,
     "metadata": {},
     "output_type": "execute_result"
    }
   ],
   "source": [
    "# Do PCA\n",
    "# Perform PCA\n",
    "pca = decomposition.PCA()\n",
    "pca.fit(my_scaled_data)"
   ]
  },
  {
   "cell_type": "code",
   "execution_count": 5,
   "metadata": {
    "collapsed": false
   },
   "outputs": [
    {
     "data": {
      "text/plain": [
       "[<matplotlib.lines.Line2D at 0x118e84e10>]"
      ]
     },
     "execution_count": 5,
     "metadata": {},
     "output_type": "execute_result"
    },
    {
     "data": {
      "image/png": "[encoded data removed]",
      "text/plain": [
       "<matplotlib.figure.Figure at 0x103dcefd0>"
      ]
     },
     "metadata": {},
     "output_type": "display_data"
    }
   ],
   "source": [
    "# Plot var explained per component\n",
    "#The amount of variance that each PC explains\n",
    "var=pca.explained_variance_ratio_\n",
    "plt.plot(var)"
   ]
  },
  {
   "cell_type": "code",
   "execution_count": 6,
   "metadata": {
    "collapsed": false
   },
   "outputs": [
    {
     "data": {
      "text/plain": [
       "[<matplotlib.lines.Line2D at 0x11c1053d0>]"
      ]
     },
     "execution_count": 6,
     "metadata": {},
     "output_type": "execute_result"
    },
    {
     "data": {
      "image/png": "[encoded data removed]",
      "text/plain": [
       "<matplotlib.figure.Figure at 0x118e94850>"
      ]
     },
     "metadata": {},
     "output_type": "display_data"
    }
   ],
   "source": [
    "#Cumulative Variance explains\n",
    "var1=np.cumsum(np.round(pca.explained_variance_ratio_, decimals=4)*100)\n",
    "plt.plot(var1)"
   ]
  },
  {
   "cell_type": "code",
   "execution_count": 7,
   "metadata": {
    "collapsed": true
   },
   "outputs": [],
   "source": [
    "# Transform my data based on the PCA results\n",
    "pca = decomposition.PCA(n_components = 5)\n",
    "my_scaled_data_transformed = pca.fit_transform(my_scaled_data)"
   ]
  },
  {
   "cell_type": "code",
   "execution_count": 8,
   "metadata": {
    "collapsed": true
   },
   "outputs": [],
   "source": [
    "# Convert transformed data into a pandas dataframe and then combine it with the meta data\n",
    "my_scaled_data_transformed_pd = pd.DataFrame(my_scaled_data_transformed)\n",
    "\n",
    "# Combine it with the meta data\n",
    "my_scaled_data_transformed_pd_meta = pd.concat([my_scaled_data_transformed_pd, my_data[meta_headers]], axis=1);\n",
    "# Note that the above line works because they have the same index, if they didn't and I \n",
    "## wanted to perform a cbind, I could say my_scaled_data_transformed_pd.reset_index(drop=True)"
   ]
  },
  {
   "cell_type": "code",
   "execution_count": 9,
   "metadata": {
    "collapsed": false
   },
   "outputs": [
    {
     "name": "stdout",
     "output_type": "stream",
     "text": [
      "    Width  cell_label    cell_plate lineage      screen      well    Time\n",
      "0  5288.0  unlabelled  cell_plate_1  parent  screen_525  well_c03  8377.0\n",
      "1    36.0  unlabelled  cell_plate_1  parent  screen_525  well_c03  8377.0\n",
      "NEXT------------------------\n",
      "           0          1          2          3          4\n",
      "0 -43.121483 -13.213300  84.447944  65.967352 -62.290093\n",
      "1   0.722782   0.013042   1.482393  -0.021735  -0.747183\n",
      "NEXT------------------------\n",
      "           0          1          2          3          4   Width  cell_label  \\\n",
      "0 -43.121483 -13.213300  84.447944  65.967352 -62.290093  5288.0  unlabelled   \n",
      "1   0.722782   0.013042   1.482393  -0.021735  -0.747183    36.0  unlabelled   \n",
      "\n",
      "     cell_plate lineage      screen      well    Time  \n",
      "0  cell_plate_1  parent  screen_525  well_c03  8377.0  \n",
      "1  cell_plate_1  parent  screen_525  well_c03  8377.0  \n"
     ]
    }
   ],
   "source": [
    "print(my_data[meta_headers].head(n=2))\n",
    "print(\"NEXT------------------------\")\n",
    "print(my_scaled_data_transformed_pd.head(n=2))\n",
    "print(\"NEXT------------------------\")\n",
    "print(my_scaled_data_transformed_pd_meta.head(n=2))"
   ]
  },
  {
   "cell_type": "code",
   "execution_count": 10,
   "metadata": {
    "collapsed": false
   },
   "outputs": [
    {
     "name": "stdout",
     "output_type": "stream",
     "text": [
      "Starting DBSCAN\n"
     ]
    },
    {
     "data": {
      "text/plain": [
       "'\\nprint(\"Plotting DBSCAN\")\\n# Plot the DBSCAN results\\nplt.figure(figsize=(20, 10))\\nplt.gcf().clear()\\nplt.subplot(121)\\ncol = np.linspace(0,1,len(unique_labels))\\nfor i in xrange(len(unique_labels)):\\n    plt.plot(tsne_out_mink[np.where(labels==unique_labels[i])[0], 0], \\n         tsne_out_mink[np.where(labels==unique_labels[i])[0], 1],\\n            #\\'o\\', mfc=plt.cm.viridis(col[i]), label=unique_labels[i])\\n            \\'o\\', mfc=plt.cm.nipy_spectral(col[i]), label=unique_labels[i])\\n            #\\'o\\', mfc=plt.cm.prism(col[i]), label=unique_labels[i])\\n            #\\'o\\', mfc=plt.cm.flag(col[i]), label=unique_labels[i])\\nplt.legend(loc=\\'best\\', frameon=False)\\nplt.savefig(filename + \"__DBSCAN_of_tsne.png\")\\nplt.close()\\n'"
      ]
     },
     "execution_count": 10,
     "metadata": {},
     "output_type": "execute_result"
    }
   ],
   "source": [
    "# Do DBSCAN on the PCAd data\n",
    "print(\"Starting DBSCAN\")\n",
    "dbsc = DBSCAN(eps = .6,min_samples=10).fit(my_scaled_data_transformed_pd)\n",
    "labels = dbsc.labels_\n",
    "core_samples = np.zeros_like(labels, dtype = bool)\n",
    "core_samples[dbsc.core_sample_indices_] = True\n",
    "unique_labels = np.unique(labels)\n",
    "'''\n",
    "print(\"Plotting DBSCAN\")\n",
    "# Plot the DBSCAN results\n",
    "plt.figure(figsize=(20, 10))\n",
    "plt.gcf().clear()\n",
    "plt.subplot(121)\n",
    "col = np.linspace(0,1,len(unique_labels))\n",
    "for i in xrange(len(unique_labels)):\n",
    "    plt.plot(tsne_out_mink[np.where(labels==unique_labels[i])[0], 0], \n",
    "         tsne_out_mink[np.where(labels==unique_labels[i])[0], 1],\n",
    "            #'o', mfc=plt.cm.viridis(col[i]), label=unique_labels[i])\n",
    "            'o', mfc=plt.cm.nipy_spectral(col[i]), label=unique_labels[i])\n",
    "            #'o', mfc=plt.cm.prism(col[i]), label=unique_labels[i])\n",
    "            #'o', mfc=plt.cm.flag(col[i]), label=unique_labels[i])\n",
    "plt.legend(loc='best', frameon=False)\n",
    "plt.savefig(filename + \"__DBSCAN_of_tsne.png\")\n",
    "plt.close()\n",
    "'''"
   ]
  },
  {
   "cell_type": "code",
   "execution_count": 11,
   "metadata": {
    "collapsed": false
   },
   "outputs": [
    {
     "name": "stdout",
     "output_type": "stream",
     "text": [
      "[[-1, 643, 7, 10], [0, 7756, 182, 483]]\n"
     ]
    }
   ],
   "source": [
    "DB_PCA = [] # This will be a list of lists where the 1st entry is the cluster ID, 2nd: is\n",
    "## how many \"unlabelled\" are in that cluster, 3rd: number of blast, 4th: number of healthy.\n",
    "for i in xrange(len(unique_labels)):\n",
    "    clst_index = my_data['cell_label'][np.where(labels==unique_labels[i])[0]]\n",
    "    if clst_index.empty == True:\n",
    "        print(\"Cluster index and original data don't line up right. STOP AND FIX\")\n",
    "        break\n",
    "    DB_PCA.append([unique_labels[i],sum(clst_index=='unlabelled'),\n",
    "                     sum(clst_index=='blast'),sum(clst_index=='healthy')])\n",
    "    #print(str(unique_labels2[i])+\"--\") # prints cluster name plus two \"--\"s\n",
    "    #print len(tsne_out_mink2[np.where(labels2==unique_labels2[i])[0],0]) # prints how many cells are in that cluster\n",
    "print(DB_PCA) # This was print(tsne_db_2)"
   ]
  },
  {
   "cell_type": "code",
   "execution_count": 12,
   "metadata": {
    "collapsed": false
   },
   "outputs": [
    {
     "data": {
      "text/plain": [
       "(7.0, 10000.0)"
      ]
     },
     "execution_count": 12,
     "metadata": {},
     "output_type": "execute_result"
    },
    {
     "data": {
      "image/png": "[encoded data removed]",
      "text/plain": [
       "<matplotlib.figure.Figure at 0x118f57ed0>"
      ]
     },
     "metadata": {},
     "output_type": "display_data"
    }
   ],
   "source": [
    "# Convert the list of lists to a pandas dataframe\n",
    "DB_PCA_df = pd.DataFrame(DB_PCA,columns=[\"Cluster Label\",\"Unlabelled\",\"Blast\",\"Healthy\"])\n",
    "DB_PCA_df_melted = pd.melt(DB_PCA_df,value_vars=[\"Unlabelled\",\"Blast\",\"Healthy\"],id_vars=\"Cluster Label\")\n",
    "# Plot the results\n",
    "ax = sns.barplot(hue=\"variable\",y=\"value\",x=\"Cluster Label\",data=DB_PCA_df_melted,log='y')\n",
    "plt.title(\"PCAd_eps=0.6\")\n",
    "plt.ylim(0, plt.ylim()[1])\n",
    "#plt.ylim(plt.ylim()[0]-100, plt.ylim()[1])"
   ]
  },
  {
   "cell_type": "code",
   "execution_count": 13,
   "metadata": {
    "collapsed": false
   },
   "outputs": [
    {
     "data": {
      "text/plain": [
       "'\\n### Only plot clusters with more than 50 events\\ntsne_db_df_50 = tsne_db_df[tsne_db_df.sum(axis=1)>50]\\ntsne_db_df_50_melted = pd.melt(tsne_db_df_50,value_vars=[\"Unlabelled\",\"Blast\",\"Healthy\"],id_vars=\"Cluster Label\")\\nax = sns.barplot(hue=\"variable\",y=\"value\",x=\"Cluster Label\",data=tsne_db_df_50_melted,log=\\'y\\')\\nplt.savefig(\\'C03_large_clstrs_only__barplot.png\\')\\nplt.close()\\n'"
      ]
     },
     "execution_count": 13,
     "metadata": {},
     "output_type": "execute_result"
    }
   ],
   "source": [
    "'''\n",
    "### Only plot clusters with more than 50 events\n",
    "tsne_db_df_50 = tsne_db_df[tsne_db_df.sum(axis=1)>50]\n",
    "tsne_db_df_50_melted = pd.melt(tsne_db_df_50,value_vars=[\"Unlabelled\",\"Blast\",\"Healthy\"],id_vars=\"Cluster Label\")\n",
    "ax = sns.barplot(hue=\"variable\",y=\"value\",x=\"Cluster Label\",data=tsne_db_df_50_melted,log='y')\n",
    "plt.savefig('C03_large_clstrs_only__barplot.png')\n",
    "plt.close()\n",
    "'''"
   ]
  },
  {
   "cell_type": "markdown",
   "metadata": {},
   "source": [
    "# Automate the above and play with the hyper-parameters"
   ]
  },
  {
   "cell_type": "code",
   "execution_count": 18,
   "metadata": {
    "collapsed": true
   },
   "outputs": [],
   "source": [
    "eps_param = [0.1, 0.2, 0.3, 0.4, 0.5, 0.6, 0.7, 0.8, 0.9, 1, 1.4, 1.8, 3, 6, 12]\n",
    "algorithm_ = [\"auto\", \"ball_tree\",\"kd_tree\",\"brute\"]\n",
    "metric_ = [\"cityblock\",\"euclidean\",\"l1\",\"l2\",\"manhattan\",\\\n",
    "           \"chebyshev\", \"braycurtis\", \"canberra\",\\\n",
    "           \"dice\", \"hamming\", \"jaccard\", \"kulsinski\", \\\n",
    "           \"matching\", \"rogerstanimoto\", \"russellrao\",\\\n",
    "           \"sokalmichener\", \"sokalsneath\", \"yule\"]\n",
    "# metric not run with auto: \"cosine\", \"correlation\", \"mahalanobis\", \\\n",
    "# \"minkowski\", \"seuclidean\", \"sqeuclidean\", \"yule\"\n",
    "# \"braycurtis\", \"canberra\" only run with auto and ball_tree"
   ]
  },
  {
   "cell_type": "code",
   "execution_count": 25,
   "metadata": {
    "collapsed": false
   },
   "outputs": [],
   "source": [
    "\n",
    "metric_ = [\"jaccard\", \"kulsinski\", \\\n",
    "           \"matching\", \"rogerstanimoto\", \"russellrao\",\\\n",
    "           \"sokalmichener\", \"sokalsneath\", \"yule\"]\n",
    "metric_auto_only = [ \"braycurtis\", \"canberra\",\\\n",
    "           \"dice\", \"hamming\",\"jaccard\", \"kulsinski\", \\\n",
    "           \"matching\", \"rogerstanimoto\", \"russellrao\",\\\n",
    "           \"sokalmichener\", \"sokalsneath\", \"yule\"]"
   ]
  },
  {
   "cell_type": "code",
   "execution_count": 26,
   "metadata": {
    "collapsed": false
   },
   "outputs": [
    {
     "name": "stdout",
     "output_type": "stream",
     "text": [
      "Starting DBSCAN with EPS of 0.1 ALGORITHM of auto distance METRIC of jaccard\n",
      "[[0, 8399, 189, 493]]\n",
      "Done with iteration with EPS of 0.1 ALGORITHM of auto distance METRIC of jaccard\n",
      "Starting DBSCAN with EPS of 0.2 ALGORITHM of auto distance METRIC of jaccard\n",
      "[[0, 8399, 189, 493]]\n",
      "Done with iteration with EPS of 0.2 ALGORITHM of auto distance METRIC of jaccard\n",
      "Starting DBSCAN with EPS of 0.3 ALGORITHM of auto distance METRIC of jaccard\n",
      "[[0, 8399, 189, 493]]\n",
      "Done with iteration with EPS of 0.3 ALGORITHM of auto distance METRIC of jaccard\n",
      "Starting DBSCAN with EPS of 0.4 ALGORITHM of auto distance METRIC of jaccard\n",
      "[[0, 8399, 189, 493]]\n",
      "Done with iteration with EPS of 0.4 ALGORITHM of auto distance METRIC of jaccard\n",
      "Starting DBSCAN with EPS of 0.5 ALGORITHM of auto distance METRIC of jaccard\n",
      "[[0, 8399, 189, 493]]\n",
      "Done with iteration with EPS of 0.5 ALGORITHM of auto distance METRIC of jaccard\n",
      "Starting DBSCAN with EPS of 0.6 ALGORITHM of auto distance METRIC of jaccard\n",
      "[[0, 8399, 189, 493]]\n",
      "Done with iteration with EPS of 0.6 ALGORITHM of auto distance METRIC of jaccard\n",
      "Starting DBSCAN with EPS of 0.7 ALGORITHM of auto distance METRIC of jaccard\n",
      "[[0, 8399, 189, 493]]\n",
      "Done with iteration with EPS of 0.7 ALGORITHM of auto distance METRIC of jaccard\n",
      "Starting DBSCAN with EPS of 0.8 ALGORITHM of auto distance METRIC of jaccard\n",
      "[[0, 8399, 189, 493]]\n",
      "Done with iteration with EPS of 0.8 ALGORITHM of auto distance METRIC of jaccard\n",
      "Starting DBSCAN with EPS of 0.9 ALGORITHM of auto distance METRIC of jaccard\n",
      "[[0, 8399, 189, 493]]\n",
      "Done with iteration with EPS of 0.9 ALGORITHM of auto distance METRIC of jaccard\n",
      "Starting DBSCAN with EPS of 1 ALGORITHM of auto distance METRIC of jaccard\n",
      "[[0, 8399, 189, 493]]\n",
      "Done with iteration with EPS of 1 ALGORITHM of auto distance METRIC of jaccard\n",
      "Starting DBSCAN with EPS of 1.4 ALGORITHM of auto distance METRIC of jaccard\n",
      "[[0, 8399, 189, 493]]\n",
      "Done with iteration with EPS of 1.4 ALGORITHM of auto distance METRIC of jaccard\n",
      "Starting DBSCAN with EPS of 1.8 ALGORITHM of auto distance METRIC of jaccard\n",
      "[[0, 8399, 189, 493]]\n",
      "Done with iteration with EPS of 1.8 ALGORITHM of auto distance METRIC of jaccard\n",
      "Starting DBSCAN with EPS of 3 ALGORITHM of auto distance METRIC of jaccard\n",
      "[[0, 8399, 189, 493]]\n",
      "Done with iteration with EPS of 3 ALGORITHM of auto distance METRIC of jaccard\n",
      "Starting DBSCAN with EPS of 6 ALGORITHM of auto distance METRIC of jaccard\n",
      "[[0, 8399, 189, 493]]\n",
      "Done with iteration with EPS of 6 ALGORITHM of auto distance METRIC of jaccard\n",
      "Starting DBSCAN with EPS of 12 ALGORITHM of auto distance METRIC of jaccard\n",
      "[[0, 8399, 189, 493]]\n",
      "Done with iteration with EPS of 12 ALGORITHM of auto distance METRIC of jaccard\n",
      "Starting DBSCAN with EPS of 0.1 ALGORITHM of auto distance METRIC of kulsinski\n",
      "[[0, 8399, 189, 493]]\n",
      "Done with iteration with EPS of 0.1 ALGORITHM of auto distance METRIC of kulsinski\n",
      "Starting DBSCAN with EPS of 0.2 ALGORITHM of auto distance METRIC of kulsinski\n",
      "[[0, 8399, 189, 493]]\n",
      "Done with iteration with EPS of 0.2 ALGORITHM of auto distance METRIC of kulsinski\n",
      "Starting DBSCAN with EPS of 0.3 ALGORITHM of auto distance METRIC of kulsinski\n",
      "[[0, 8399, 189, 493]]\n",
      "Done with iteration with EPS of 0.3 ALGORITHM of auto distance METRIC of kulsinski\n",
      "Starting DBSCAN with EPS of 0.4 ALGORITHM of auto distance METRIC of kulsinski\n",
      "[[0, 8399, 189, 493]]\n",
      "Done with iteration with EPS of 0.4 ALGORITHM of auto distance METRIC of kulsinski\n",
      "Starting DBSCAN with EPS of 0.5 ALGORITHM of auto distance METRIC of kulsinski\n",
      "[[0, 8399, 189, 493]]\n",
      "Done with iteration with EPS of 0.5 ALGORITHM of auto distance METRIC of kulsinski\n",
      "Starting DBSCAN with EPS of 0.6 ALGORITHM of auto distance METRIC of kulsinski\n",
      "[[0, 8399, 189, 493]]\n",
      "Done with iteration with EPS of 0.6 ALGORITHM of auto distance METRIC of kulsinski\n",
      "Starting DBSCAN with EPS of 0.7 ALGORITHM of auto distance METRIC of kulsinski\n",
      "[[0, 8399, 189, 493]]\n",
      "Done with iteration with EPS of 0.7 ALGORITHM of auto distance METRIC of kulsinski\n",
      "Starting DBSCAN with EPS of 0.8 ALGORITHM of auto distance METRIC of kulsinski\n",
      "[[0, 8399, 189, 493]]\n",
      "Done with iteration with EPS of 0.8 ALGORITHM of auto distance METRIC of kulsinski\n",
      "Starting DBSCAN with EPS of 0.9 ALGORITHM of auto distance METRIC of kulsinski\n",
      "[[0, 8399, 189, 493]]\n",
      "Done with iteration with EPS of 0.9 ALGORITHM of auto distance METRIC of kulsinski\n",
      "Starting DBSCAN with EPS of 1 ALGORITHM of auto distance METRIC of kulsinski\n",
      "[[0, 8399, 189, 493]]\n",
      "Done with iteration with EPS of 1 ALGORITHM of auto distance METRIC of kulsinski\n",
      "Starting DBSCAN with EPS of 1.4 ALGORITHM of auto distance METRIC of kulsinski\n",
      "[[0, 8399, 189, 493]]\n",
      "Done with iteration with EPS of 1.4 ALGORITHM of auto distance METRIC of kulsinski\n",
      "Starting DBSCAN with EPS of 1.8 ALGORITHM of auto distance METRIC of kulsinski\n",
      "[[0, 8399, 189, 493]]\n",
      "Done with iteration with EPS of 1.8 ALGORITHM of auto distance METRIC of kulsinski\n",
      "Starting DBSCAN with EPS of 3 ALGORITHM of auto distance METRIC of kulsinski\n",
      "[[0, 8399, 189, 493]]\n",
      "Done with iteration with EPS of 3 ALGORITHM of auto distance METRIC of kulsinski\n",
      "Starting DBSCAN with EPS of 6 ALGORITHM of auto distance METRIC of kulsinski\n",
      "[[0, 8399, 189, 493]]\n",
      "Done with iteration with EPS of 6 ALGORITHM of auto distance METRIC of kulsinski\n",
      "Starting DBSCAN with EPS of 12 ALGORITHM of auto distance METRIC of kulsinski\n",
      "[[0, 8399, 189, 493]]\n",
      "Done with iteration with EPS of 12 ALGORITHM of auto distance METRIC of kulsinski\n",
      "Starting DBSCAN with EPS of 0.1 ALGORITHM of auto distance METRIC of matching\n",
      "[[0, 8399, 189, 493]]\n",
      "Done with iteration with EPS of 0.1 ALGORITHM of auto distance METRIC of matching\n",
      "Starting DBSCAN with EPS of 0.2 ALGORITHM of auto distance METRIC of matching\n",
      "[[0, 8399, 189, 493]]\n",
      "Done with iteration with EPS of 0.2 ALGORITHM of auto distance METRIC of matching\n",
      "Starting DBSCAN with EPS of 0.3 ALGORITHM of auto distance METRIC of matching\n",
      "[[0, 8399, 189, 493]]\n",
      "Done with iteration with EPS of 0.3 ALGORITHM of auto distance METRIC of matching\n",
      "Starting DBSCAN with EPS of 0.4 ALGORITHM of auto distance METRIC of matching\n",
      "[[0, 8399, 189, 493]]\n",
      "Done with iteration with EPS of 0.4 ALGORITHM of auto distance METRIC of matching\n",
      "Starting DBSCAN with EPS of 0.5 ALGORITHM of auto distance METRIC of matching\n",
      "[[0, 8399, 189, 493]]\n",
      "Done with iteration with EPS of 0.5 ALGORITHM of auto distance METRIC of matching\n",
      "Starting DBSCAN with EPS of 0.6 ALGORITHM of auto distance METRIC of matching\n",
      "[[0, 8399, 189, 493]]\n",
      "Done with iteration with EPS of 0.6 ALGORITHM of auto distance METRIC of matching\n",
      "Starting DBSCAN with EPS of 0.7 ALGORITHM of auto distance METRIC of matching\n",
      "[[0, 8399, 189, 493]]\n",
      "Done with iteration with EPS of 0.7 ALGORITHM of auto distance METRIC of matching\n",
      "Starting DBSCAN with EPS of 0.8 ALGORITHM of auto distance METRIC of matching\n",
      "[[0, 8399, 189, 493]]\n",
      "Done with iteration with EPS of 0.8 ALGORITHM of auto distance METRIC of matching\n",
      "Starting DBSCAN with EPS of 0.9 ALGORITHM of auto distance METRIC of matching\n",
      "[[0, 8399, 189, 493]]\n",
      "Done with iteration with EPS of 0.9 ALGORITHM of auto distance METRIC of matching\n",
      "Starting DBSCAN with EPS of 1 ALGORITHM of auto distance METRIC of matching\n",
      "[[0, 8399, 189, 493]]\n",
      "Done with iteration with EPS of 1 ALGORITHM of auto distance METRIC of matching\n",
      "Starting DBSCAN with EPS of 1.4 ALGORITHM of auto distance METRIC of matching\n",
      "[[0, 8399, 189, 493]]\n",
      "Done with iteration with EPS of 1.4 ALGORITHM of auto distance METRIC of matching\n",
      "Starting DBSCAN with EPS of 1.8 ALGORITHM of auto distance METRIC of matching\n",
      "[[0, 8399, 189, 493]]\n",
      "Done with iteration with EPS of 1.8 ALGORITHM of auto distance METRIC of matching\n",
      "Starting DBSCAN with EPS of 3 ALGORITHM of auto distance METRIC of matching\n",
      "[[0, 8399, 189, 493]]\n",
      "Done with iteration with EPS of 3 ALGORITHM of auto distance METRIC of matching\n",
      "Starting DBSCAN with EPS of 6 ALGORITHM of auto distance METRIC of matching\n",
      "[[0, 8399, 189, 493]]\n",
      "Done with iteration with EPS of 6 ALGORITHM of auto distance METRIC of matching\n",
      "Starting DBSCAN with EPS of 12 ALGORITHM of auto distance METRIC of matching\n",
      "[[0, 8399, 189, 493]]\n",
      "Done with iteration with EPS of 12 ALGORITHM of auto distance METRIC of matching\n",
      "Starting DBSCAN with EPS of 0.1 ALGORITHM of auto distance METRIC of rogerstanimoto\n",
      "[[0, 8399, 189, 493]]\n",
      "Done with iteration with EPS of 0.1 ALGORITHM of auto distance METRIC of rogerstanimoto\n",
      "Starting DBSCAN with EPS of 0.2 ALGORITHM of auto distance METRIC of rogerstanimoto\n",
      "[[0, 8399, 189, 493]]\n",
      "Done with iteration with EPS of 0.2 ALGORITHM of auto distance METRIC of rogerstanimoto\n",
      "Starting DBSCAN with EPS of 0.3 ALGORITHM of auto distance METRIC of rogerstanimoto\n",
      "[[0, 8399, 189, 493]]\n",
      "Done with iteration with EPS of 0.3 ALGORITHM of auto distance METRIC of rogerstanimoto\n",
      "Starting DBSCAN with EPS of 0.4 ALGORITHM of auto distance METRIC of rogerstanimoto\n",
      "[[0, 8399, 189, 493]]\n",
      "Done with iteration with EPS of 0.4 ALGORITHM of auto distance METRIC of rogerstanimoto\n",
      "Starting DBSCAN with EPS of 0.5 ALGORITHM of auto distance METRIC of rogerstanimoto\n",
      "[[0, 8399, 189, 493]]\n",
      "Done with iteration with EPS of 0.5 ALGORITHM of auto distance METRIC of rogerstanimoto\n",
      "Starting DBSCAN with EPS of 0.6 ALGORITHM of auto distance METRIC of rogerstanimoto\n",
      "[[0, 8399, 189, 493]]\n",
      "Done with iteration with EPS of 0.6 ALGORITHM of auto distance METRIC of rogerstanimoto\n",
      "Starting DBSCAN with EPS of 0.7 ALGORITHM of auto distance METRIC of rogerstanimoto\n",
      "[[0, 8399, 189, 493]]\n",
      "Done with iteration with EPS of 0.7 ALGORITHM of auto distance METRIC of rogerstanimoto\n",
      "Starting DBSCAN with EPS of 0.8 ALGORITHM of auto distance METRIC of rogerstanimoto\n",
      "[[0, 8399, 189, 493]]\n",
      "Done with iteration with EPS of 0.8 ALGORITHM of auto distance METRIC of rogerstanimoto\n",
      "Starting DBSCAN with EPS of 0.9 ALGORITHM of auto distance METRIC of rogerstanimoto\n",
      "[[0, 8399, 189, 493]]\n",
      "Done with iteration with EPS of 0.9 ALGORITHM of auto distance METRIC of rogerstanimoto\n",
      "Starting DBSCAN with EPS of 1 ALGORITHM of auto distance METRIC of rogerstanimoto\n",
      "[[0, 8399, 189, 493]]\n",
      "Done with iteration with EPS of 1 ALGORITHM of auto distance METRIC of rogerstanimoto\n",
      "Starting DBSCAN with EPS of 1.4 ALGORITHM of auto distance METRIC of rogerstanimoto\n",
      "[[0, 8399, 189, 493]]\n",
      "Done with iteration with EPS of 1.4 ALGORITHM of auto distance METRIC of rogerstanimoto\n",
      "Starting DBSCAN with EPS of 1.8 ALGORITHM of auto distance METRIC of rogerstanimoto\n",
      "[[0, 8399, 189, 493]]\n",
      "Done with iteration with EPS of 1.8 ALGORITHM of auto distance METRIC of rogerstanimoto\n",
      "Starting DBSCAN with EPS of 3 ALGORITHM of auto distance METRIC of rogerstanimoto\n",
      "[[0, 8399, 189, 493]]\n",
      "Done with iteration with EPS of 3 ALGORITHM of auto distance METRIC of rogerstanimoto\n",
      "Starting DBSCAN with EPS of 6 ALGORITHM of auto distance METRIC of rogerstanimoto\n",
      "[[0, 8399, 189, 493]]\n",
      "Done with iteration with EPS of 6 ALGORITHM of auto distance METRIC of rogerstanimoto\n",
      "Starting DBSCAN with EPS of 12 ALGORITHM of auto distance METRIC of rogerstanimoto\n",
      "[[0, 8399, 189, 493]]\n",
      "Done with iteration with EPS of 12 ALGORITHM of auto distance METRIC of rogerstanimoto\n",
      "Starting DBSCAN with EPS of 0.1 ALGORITHM of auto distance METRIC of russellrao\n",
      "[[0, 8399, 189, 493]]\n",
      "Done with iteration with EPS of 0.1 ALGORITHM of auto distance METRIC of russellrao\n",
      "Starting DBSCAN with EPS of 0.2 ALGORITHM of auto distance METRIC of russellrao\n",
      "[[0, 8399, 189, 493]]\n",
      "Done with iteration with EPS of 0.2 ALGORITHM of auto distance METRIC of russellrao\n",
      "Starting DBSCAN with EPS of 0.3 ALGORITHM of auto distance METRIC of russellrao\n",
      "[[0, 8399, 189, 493]]\n",
      "Done with iteration with EPS of 0.3 ALGORITHM of auto distance METRIC of russellrao\n",
      "Starting DBSCAN with EPS of 0.4 ALGORITHM of auto distance METRIC of russellrao\n",
      "[[0, 8399, 189, 493]]\n",
      "Done with iteration with EPS of 0.4 ALGORITHM of auto distance METRIC of russellrao\n",
      "Starting DBSCAN with EPS of 0.5 ALGORITHM of auto distance METRIC of russellrao\n",
      "[[0, 8399, 189, 493]]\n",
      "Done with iteration with EPS of 0.5 ALGORITHM of auto distance METRIC of russellrao\n",
      "Starting DBSCAN with EPS of 0.6 ALGORITHM of auto distance METRIC of russellrao\n",
      "[[0, 8399, 189, 493]]\n",
      "Done with iteration with EPS of 0.6 ALGORITHM of auto distance METRIC of russellrao\n",
      "Starting DBSCAN with EPS of 0.7 ALGORITHM of auto distance METRIC of russellrao\n",
      "[[0, 8399, 189, 493]]\n",
      "Done with iteration with EPS of 0.7 ALGORITHM of auto distance METRIC of russellrao\n",
      "Starting DBSCAN with EPS of 0.8 ALGORITHM of auto distance METRIC of russellrao\n",
      "[[0, 8399, 189, 493]]\n",
      "Done with iteration with EPS of 0.8 ALGORITHM of auto distance METRIC of russellrao\n",
      "Starting DBSCAN with EPS of 0.9 ALGORITHM of auto distance METRIC of russellrao\n",
      "[[0, 8399, 189, 493]]\n",
      "Done with iteration with EPS of 0.9 ALGORITHM of auto distance METRIC of russellrao\n",
      "Starting DBSCAN with EPS of 1 ALGORITHM of auto distance METRIC of russellrao\n",
      "[[0, 8399, 189, 493]]\n",
      "Done with iteration with EPS of 1 ALGORITHM of auto distance METRIC of russellrao\n",
      "Starting DBSCAN with EPS of 1.4 ALGORITHM of auto distance METRIC of russellrao\n",
      "[[0, 8399, 189, 493]]\n",
      "Done with iteration with EPS of 1.4 ALGORITHM of auto distance METRIC of russellrao\n",
      "Starting DBSCAN with EPS of 1.8 ALGORITHM of auto distance METRIC of russellrao\n",
      "[[0, 8399, 189, 493]]\n",
      "Done with iteration with EPS of 1.8 ALGORITHM of auto distance METRIC of russellrao\n",
      "Starting DBSCAN with EPS of 3 ALGORITHM of auto distance METRIC of russellrao\n",
      "[[0, 8399, 189, 493]]\n",
      "Done with iteration with EPS of 3 ALGORITHM of auto distance METRIC of russellrao\n",
      "Starting DBSCAN with EPS of 6 ALGORITHM of auto distance METRIC of russellrao\n",
      "[[0, 8399, 189, 493]]\n",
      "Done with iteration with EPS of 6 ALGORITHM of auto distance METRIC of russellrao\n",
      "Starting DBSCAN with EPS of 12 ALGORITHM of auto distance METRIC of russellrao\n",
      "[[0, 8399, 189, 493]]\n",
      "Done with iteration with EPS of 12 ALGORITHM of auto distance METRIC of russellrao\n",
      "Starting DBSCAN with EPS of 0.1 ALGORITHM of auto distance METRIC of sokalmichener\n",
      "[[0, 8399, 189, 493]]\n",
      "Done with iteration with EPS of 0.1 ALGORITHM of auto distance METRIC of sokalmichener\n",
      "Starting DBSCAN with EPS of 0.2 ALGORITHM of auto distance METRIC of sokalmichener\n",
      "[[0, 8399, 189, 493]]\n",
      "Done with iteration with EPS of 0.2 ALGORITHM of auto distance METRIC of sokalmichener\n",
      "Starting DBSCAN with EPS of 0.3 ALGORITHM of auto distance METRIC of sokalmichener\n",
      "[[0, 8399, 189, 493]]\n",
      "Done with iteration with EPS of 0.3 ALGORITHM of auto distance METRIC of sokalmichener\n",
      "Starting DBSCAN with EPS of 0.4 ALGORITHM of auto distance METRIC of sokalmichener\n",
      "[[0, 8399, 189, 493]]\n",
      "Done with iteration with EPS of 0.4 ALGORITHM of auto distance METRIC of sokalmichener\n",
      "Starting DBSCAN with EPS of 0.5 ALGORITHM of auto distance METRIC of sokalmichener\n",
      "[[0, 8399, 189, 493]]\n",
      "Done with iteration with EPS of 0.5 ALGORITHM of auto distance METRIC of sokalmichener\n",
      "Starting DBSCAN with EPS of 0.6 ALGORITHM of auto distance METRIC of sokalmichener\n",
      "[[0, 8399, 189, 493]]\n",
      "Done with iteration with EPS of 0.6 ALGORITHM of auto distance METRIC of sokalmichener\n",
      "Starting DBSCAN with EPS of 0.7 ALGORITHM of auto distance METRIC of sokalmichener\n",
      "[[0, 8399, 189, 493]]\n",
      "Done with iteration with EPS of 0.7 ALGORITHM of auto distance METRIC of sokalmichener\n",
      "Starting DBSCAN with EPS of 0.8 ALGORITHM of auto distance METRIC of sokalmichener\n",
      "[[0, 8399, 189, 493]]\n",
      "Done with iteration with EPS of 0.8 ALGORITHM of auto distance METRIC of sokalmichener\n",
      "Starting DBSCAN with EPS of 0.9 ALGORITHM of auto distance METRIC of sokalmichener\n",
      "[[0, 8399, 189, 493]]\n",
      "Done with iteration with EPS of 0.9 ALGORITHM of auto distance METRIC of sokalmichener\n",
      "Starting DBSCAN with EPS of 1 ALGORITHM of auto distance METRIC of sokalmichener\n",
      "[[0, 8399, 189, 493]]\n",
      "Done with iteration with EPS of 1 ALGORITHM of auto distance METRIC of sokalmichener\n",
      "Starting DBSCAN with EPS of 1.4 ALGORITHM of auto distance METRIC of sokalmichener\n",
      "[[0, 8399, 189, 493]]\n",
      "Done with iteration with EPS of 1.4 ALGORITHM of auto distance METRIC of sokalmichener\n",
      "Starting DBSCAN with EPS of 1.8 ALGORITHM of auto distance METRIC of sokalmichener\n",
      "[[0, 8399, 189, 493]]\n",
      "Done with iteration with EPS of 1.8 ALGORITHM of auto distance METRIC of sokalmichener\n",
      "Starting DBSCAN with EPS of 3 ALGORITHM of auto distance METRIC of sokalmichener\n",
      "[[0, 8399, 189, 493]]\n",
      "Done with iteration with EPS of 3 ALGORITHM of auto distance METRIC of sokalmichener\n",
      "Starting DBSCAN with EPS of 6 ALGORITHM of auto distance METRIC of sokalmichener\n",
      "[[0, 8399, 189, 493]]\n",
      "Done with iteration with EPS of 6 ALGORITHM of auto distance METRIC of sokalmichener\n",
      "Starting DBSCAN with EPS of 12 ALGORITHM of auto distance METRIC of sokalmichener\n",
      "[[0, 8399, 189, 493]]\n",
      "Done with iteration with EPS of 12 ALGORITHM of auto distance METRIC of sokalmichener\n",
      "Starting DBSCAN with EPS of 0.1 ALGORITHM of auto distance METRIC of sokalsneath\n",
      "[[0, 8399, 189, 493]]\n",
      "Done with iteration with EPS of 0.1 ALGORITHM of auto distance METRIC of sokalsneath\n",
      "Starting DBSCAN with EPS of 0.2 ALGORITHM of auto distance METRIC of sokalsneath\n",
      "[[0, 8399, 189, 493]]\n",
      "Done with iteration with EPS of 0.2 ALGORITHM of auto distance METRIC of sokalsneath\n",
      "Starting DBSCAN with EPS of 0.3 ALGORITHM of auto distance METRIC of sokalsneath\n",
      "[[0, 8399, 189, 493]]\n",
      "Done with iteration with EPS of 0.3 ALGORITHM of auto distance METRIC of sokalsneath\n",
      "Starting DBSCAN with EPS of 0.4 ALGORITHM of auto distance METRIC of sokalsneath\n",
      "[[0, 8399, 189, 493]]\n",
      "Done with iteration with EPS of 0.4 ALGORITHM of auto distance METRIC of sokalsneath\n",
      "Starting DBSCAN with EPS of 0.5 ALGORITHM of auto distance METRIC of sokalsneath\n",
      "[[0, 8399, 189, 493]]\n",
      "Done with iteration with EPS of 0.5 ALGORITHM of auto distance METRIC of sokalsneath\n",
      "Starting DBSCAN with EPS of 0.6 ALGORITHM of auto distance METRIC of sokalsneath\n",
      "[[0, 8399, 189, 493]]\n",
      "Done with iteration with EPS of 0.6 ALGORITHM of auto distance METRIC of sokalsneath\n",
      "Starting DBSCAN with EPS of 0.7 ALGORITHM of auto distance METRIC of sokalsneath\n",
      "[[0, 8399, 189, 493]]\n",
      "Done with iteration with EPS of 0.7 ALGORITHM of auto distance METRIC of sokalsneath\n",
      "Starting DBSCAN with EPS of 0.8 ALGORITHM of auto distance METRIC of sokalsneath\n",
      "[[0, 8399, 189, 493]]\n",
      "Done with iteration with EPS of 0.8 ALGORITHM of auto distance METRIC of sokalsneath\n",
      "Starting DBSCAN with EPS of 0.9 ALGORITHM of auto distance METRIC of sokalsneath\n",
      "[[0, 8399, 189, 493]]\n",
      "Done with iteration with EPS of 0.9 ALGORITHM of auto distance METRIC of sokalsneath\n",
      "Starting DBSCAN with EPS of 1 ALGORITHM of auto distance METRIC of sokalsneath\n",
      "[[0, 8399, 189, 493]]\n",
      "Done with iteration with EPS of 1 ALGORITHM of auto distance METRIC of sokalsneath\n",
      "Starting DBSCAN with EPS of 1.4 ALGORITHM of auto distance METRIC of sokalsneath\n",
      "[[0, 8399, 189, 493]]\n",
      "Done with iteration with EPS of 1.4 ALGORITHM of auto distance METRIC of sokalsneath\n",
      "Starting DBSCAN with EPS of 1.8 ALGORITHM of auto distance METRIC of sokalsneath\n",
      "[[0, 8399, 189, 493]]\n",
      "Done with iteration with EPS of 1.8 ALGORITHM of auto distance METRIC of sokalsneath\n",
      "Starting DBSCAN with EPS of 3 ALGORITHM of auto distance METRIC of sokalsneath\n",
      "[[0, 8399, 189, 493]]\n",
      "Done with iteration with EPS of 3 ALGORITHM of auto distance METRIC of sokalsneath\n",
      "Starting DBSCAN with EPS of 6 ALGORITHM of auto distance METRIC of sokalsneath\n",
      "[[0, 8399, 189, 493]]\n",
      "Done with iteration with EPS of 6 ALGORITHM of auto distance METRIC of sokalsneath\n",
      "Starting DBSCAN with EPS of 12 ALGORITHM of auto distance METRIC of sokalsneath\n",
      "[[0, 8399, 189, 493]]\n",
      "Done with iteration with EPS of 12 ALGORITHM of auto distance METRIC of sokalsneath\n",
      "Starting DBSCAN with EPS of 0.1 ALGORITHM of auto distance METRIC of yule\n"
     ]
    },
    {
     "ename": "ValueError",
     "evalue": "Metric 'yule' not valid for algorithm 'auto'",
     "output_type": "error",
     "traceback": [
      "\u001b[0;31m---------------------------------------------------------------------------\u001b[0m",
      "\u001b[0;31mValueError\u001b[0m                                Traceback (most recent call last)",
      "\u001b[0;32m<ipython-input-26-567c5439926c>\u001b[0m in \u001b[0;36m<module>\u001b[0;34m()\u001b[0m\n\u001b[1;32m      8\u001b[0m             \u001b[0;31m# Do DBSCAN on the PCAd data\u001b[0m\u001b[0;34m\u001b[0m\u001b[0;34m\u001b[0m\u001b[0m\n\u001b[1;32m      9\u001b[0m             \u001b[0;32mprint\u001b[0m\u001b[0;34m(\u001b[0m\u001b[0;34m\"Starting DBSCAN with EPS of \"\u001b[0m \u001b[0;34m+\u001b[0m \u001b[0mstr\u001b[0m\u001b[0;34m(\u001b[0m\u001b[0meps_\u001b[0m\u001b[0;34m)\u001b[0m \u001b[0;34m+\u001b[0m \u001b[0;34m\" ALGORITHM of \"\u001b[0m \u001b[0;34m+\u001b[0m \u001b[0malgo\u001b[0m                 \u001b[0;34m+\u001b[0m \u001b[0;34m\" distance METRIC of \"\u001b[0m \u001b[0;34m+\u001b[0m \u001b[0mmet\u001b[0m\u001b[0;34m)\u001b[0m\u001b[0;34m\u001b[0m\u001b[0m\n\u001b[0;32m---> 10\u001b[0;31m             \u001b[0mdbsc\u001b[0m \u001b[0;34m=\u001b[0m \u001b[0mDBSCAN\u001b[0m\u001b[0;34m(\u001b[0m\u001b[0meps\u001b[0m \u001b[0;34m=\u001b[0m \u001b[0meps_\u001b[0m\u001b[0;34m,\u001b[0m\u001b[0mmin_samples\u001b[0m\u001b[0;34m=\u001b[0m\u001b[0;36m10\u001b[0m\u001b[0;34m,\u001b[0m \u001b[0malgorithm\u001b[0m \u001b[0;34m=\u001b[0m \u001b[0malgo\u001b[0m\u001b[0;34m,\u001b[0m \u001b[0mmetric\u001b[0m \u001b[0;34m=\u001b[0m \u001b[0mmet\u001b[0m\u001b[0;34m)\u001b[0m\u001b[0;34m.\u001b[0m\u001b[0mfit\u001b[0m\u001b[0;34m(\u001b[0m\u001b[0mmy_scaled_data_transformed_pd\u001b[0m\u001b[0;34m)\u001b[0m\u001b[0;34m\u001b[0m\u001b[0m\n\u001b[0m\u001b[1;32m     11\u001b[0m             \u001b[0mlabels\u001b[0m \u001b[0;34m=\u001b[0m \u001b[0mdbsc\u001b[0m\u001b[0;34m.\u001b[0m\u001b[0mlabels_\u001b[0m\u001b[0;34m\u001b[0m\u001b[0m\n\u001b[1;32m     12\u001b[0m             \u001b[0mcore_samples\u001b[0m \u001b[0;34m=\u001b[0m \u001b[0mnp\u001b[0m\u001b[0;34m.\u001b[0m\u001b[0mzeros_like\u001b[0m\u001b[0;34m(\u001b[0m\u001b[0mlabels\u001b[0m\u001b[0;34m,\u001b[0m \u001b[0mdtype\u001b[0m \u001b[0;34m=\u001b[0m \u001b[0mbool\u001b[0m\u001b[0;34m)\u001b[0m\u001b[0;34m\u001b[0m\u001b[0m\n",
      "\u001b[0;32m//anaconda/envs/py2-env/lib/python2.7/site-packages/sklearn/cluster/dbscan_.pyc\u001b[0m in \u001b[0;36mfit\u001b[0;34m(self, X, y, sample_weight)\u001b[0m\n\u001b[1;32m    263\u001b[0m         \"\"\"\n\u001b[1;32m    264\u001b[0m         \u001b[0mX\u001b[0m \u001b[0;34m=\u001b[0m \u001b[0mcheck_array\u001b[0m\u001b[0;34m(\u001b[0m\u001b[0mX\u001b[0m\u001b[0;34m,\u001b[0m \u001b[0maccept_sparse\u001b[0m\u001b[0;34m=\u001b[0m\u001b[0;34m'csr'\u001b[0m\u001b[0;34m)\u001b[0m\u001b[0;34m\u001b[0m\u001b[0m\n\u001b[0;32m--> 265\u001b[0;31m         \u001b[0mclust\u001b[0m \u001b[0;34m=\u001b[0m \u001b[0mdbscan\u001b[0m\u001b[0;34m(\u001b[0m\u001b[0mX\u001b[0m\u001b[0;34m,\u001b[0m \u001b[0msample_weight\u001b[0m\u001b[0;34m=\u001b[0m\u001b[0msample_weight\u001b[0m\u001b[0;34m,\u001b[0m \u001b[0;34m**\u001b[0m\u001b[0mself\u001b[0m\u001b[0;34m.\u001b[0m\u001b[0mget_params\u001b[0m\u001b[0;34m(\u001b[0m\u001b[0;34m)\u001b[0m\u001b[0;34m)\u001b[0m\u001b[0;34m\u001b[0m\u001b[0m\n\u001b[0m\u001b[1;32m    266\u001b[0m         \u001b[0mself\u001b[0m\u001b[0;34m.\u001b[0m\u001b[0mcore_sample_indices_\u001b[0m\u001b[0;34m,\u001b[0m \u001b[0mself\u001b[0m\u001b[0;34m.\u001b[0m\u001b[0mlabels_\u001b[0m \u001b[0;34m=\u001b[0m \u001b[0mclust\u001b[0m\u001b[0;34m\u001b[0m\u001b[0m\n\u001b[1;32m    267\u001b[0m         \u001b[0;32mif\u001b[0m \u001b[0mlen\u001b[0m\u001b[0;34m(\u001b[0m\u001b[0mself\u001b[0m\u001b[0;34m.\u001b[0m\u001b[0mcore_sample_indices_\u001b[0m\u001b[0;34m)\u001b[0m\u001b[0;34m:\u001b[0m\u001b[0;34m\u001b[0m\u001b[0m\n",
      "\u001b[0;32m//anaconda/envs/py2-env/lib/python2.7/site-packages/sklearn/cluster/dbscan_.pyc\u001b[0m in \u001b[0;36mdbscan\u001b[0;34m(X, eps, min_samples, metric, algorithm, leaf_size, p, sample_weight, random_state)\u001b[0m\n\u001b[1;32m    140\u001b[0m         neighbors_model = NearestNeighbors(radius=eps, algorithm=algorithm,\n\u001b[1;32m    141\u001b[0m                                            \u001b[0mleaf_size\u001b[0m\u001b[0;34m=\u001b[0m\u001b[0mleaf_size\u001b[0m\u001b[0;34m,\u001b[0m\u001b[0;34m\u001b[0m\u001b[0m\n\u001b[0;32m--> 142\u001b[0;31m                                            metric=metric, p=p)\n\u001b[0m\u001b[1;32m    143\u001b[0m         \u001b[0mneighbors_model\u001b[0m\u001b[0;34m.\u001b[0m\u001b[0mfit\u001b[0m\u001b[0;34m(\u001b[0m\u001b[0mX\u001b[0m\u001b[0;34m)\u001b[0m\u001b[0;34m\u001b[0m\u001b[0m\n\u001b[1;32m    144\u001b[0m         \u001b[0;31m# This has worst case O(n^2) memory complexity\u001b[0m\u001b[0;34m\u001b[0m\u001b[0;34m\u001b[0m\u001b[0m\n",
      "\u001b[0;32m//anaconda/envs/py2-env/lib/python2.7/site-packages/sklearn/neighbors/unsupervised.pyc\u001b[0m in \u001b[0;36m__init__\u001b[0;34m(self, n_neighbors, radius, algorithm, leaf_size, metric, p, metric_params, n_jobs, **kwargs)\u001b[0m\n\u001b[1;32m    121\u001b[0m                           \u001b[0malgorithm\u001b[0m\u001b[0;34m=\u001b[0m\u001b[0malgorithm\u001b[0m\u001b[0;34m,\u001b[0m\u001b[0;34m\u001b[0m\u001b[0m\n\u001b[1;32m    122\u001b[0m                           \u001b[0mleaf_size\u001b[0m\u001b[0;34m=\u001b[0m\u001b[0mleaf_size\u001b[0m\u001b[0;34m,\u001b[0m \u001b[0mmetric\u001b[0m\u001b[0;34m=\u001b[0m\u001b[0mmetric\u001b[0m\u001b[0;34m,\u001b[0m \u001b[0mp\u001b[0m\u001b[0;34m=\u001b[0m\u001b[0mp\u001b[0m\u001b[0;34m,\u001b[0m\u001b[0;34m\u001b[0m\u001b[0m\n\u001b[0;32m--> 123\u001b[0;31m                           metric_params=metric_params, n_jobs=n_jobs, **kwargs)\n\u001b[0m",
      "\u001b[0;32m//anaconda/envs/py2-env/lib/python2.7/site-packages/sklearn/neighbors/base.pyc\u001b[0m in \u001b[0;36m_init_params\u001b[0;34m(self, n_neighbors, radius, algorithm, leaf_size, metric, p, metric_params, n_jobs, **kwargs)\u001b[0m\n\u001b[1;32m    158\u001b[0m         \u001b[0;32melif\u001b[0m \u001b[0mmetric\u001b[0m \u001b[0;32mnot\u001b[0m \u001b[0;32min\u001b[0m \u001b[0mVALID_METRICS\u001b[0m\u001b[0;34m[\u001b[0m\u001b[0malg_check\u001b[0m\u001b[0;34m]\u001b[0m\u001b[0;34m:\u001b[0m\u001b[0;34m\u001b[0m\u001b[0m\n\u001b[1;32m    159\u001b[0m             raise ValueError(\"Metric '%s' not valid for algorithm '%s'\"\n\u001b[0;32m--> 160\u001b[0;31m                              % (metric, algorithm))\n\u001b[0m\u001b[1;32m    161\u001b[0m \u001b[0;34m\u001b[0m\u001b[0m\n\u001b[1;32m    162\u001b[0m         \u001b[0;32mif\u001b[0m \u001b[0mself\u001b[0m\u001b[0;34m.\u001b[0m\u001b[0mmetric_params\u001b[0m \u001b[0;32mis\u001b[0m \u001b[0;32mnot\u001b[0m \u001b[0mNone\u001b[0m \u001b[0;32mand\u001b[0m \u001b[0;34m'p'\u001b[0m \u001b[0;32min\u001b[0m \u001b[0mself\u001b[0m\u001b[0;34m.\u001b[0m\u001b[0mmetric_params\u001b[0m\u001b[0;34m:\u001b[0m\u001b[0;34m\u001b[0m\u001b[0m\n",
      "\u001b[0;31mValueError\u001b[0m: Metric 'yule' not valid for algorithm 'auto'"
     ]
    }
   ],
   "source": [
    "for met in metric_:\n",
    "    for algo in algorithm_:\n",
    "        if met in metric_auto_only:\n",
    "            if algo != \"auto\":\n",
    "                continue\n",
    "        for eps_ in eps_param:\n",
    "            dbsc = None; labels = None; DB_PCA = None; DB_PCA_df = None;\n",
    "            # Do DBSCAN on the PCAd data\n",
    "            print(\"Starting DBSCAN with EPS of \" + str(eps_) + \" ALGORITHM of \" + algo\\\n",
    "                 + \" distance METRIC of \" + met)\n",
    "            dbsc = DBSCAN(eps = eps_,min_samples=10, algorithm = algo, metric = met).fit(my_scaled_data_transformed_pd)\n",
    "            labels = dbsc.labels_\n",
    "            core_samples = np.zeros_like(labels, dtype = bool)\n",
    "            core_samples[dbsc.core_sample_indices_] = True\n",
    "            unique_labels = np.unique(labels)\n",
    "\n",
    "            # Done with DBSCAN, plot it\n",
    "            DB_PCA = [] # This will be a list of lists where the 1st entry is the cluster ID, 2nd: is\n",
    "            ## how many \"unlabelled\" are in that cluster, 3rd: number of blast, 4th: number of healthy.\n",
    "            for i in xrange(len(unique_labels)):\n",
    "                clst_index = my_data['cell_label'][np.where(labels==unique_labels[i])[0]]\n",
    "                if clst_index.empty == True:\n",
    "                    print(\"Cluster index and original data don't line up right. STOP AND FIX\")\n",
    "                    break\n",
    "                DB_PCA.append([unique_labels[i],sum(clst_index=='unlabelled'),\n",
    "                                 sum(clst_index=='blast'),sum(clst_index=='healthy')])\n",
    "                #print(str(unique_labels2[i])+\"--\") # prints cluster name plus two \"--\"s\n",
    "                #print len(tsne_out_mink2[np.where(labels2==unique_labels2[i])[0],0]) # prints how many cells are in that cluster\n",
    "            print(DB_PCA) # This was print(tsne_db_2)\n",
    "\n",
    "            # Convert the list of lists to a pandas dataframe\n",
    "            DB_PCA_df = pd.DataFrame(DB_PCA,columns=[\"Cluster Label\",\"Unlabelled\",\"Blast\",\"Healthy\"])\n",
    "            DB_PCA_df_melted = pd.melt(DB_PCA_df,value_vars=[\"Unlabelled\",\"Blast\",\"Healthy\"],id_vars=\"Cluster Label\")\n",
    "\n",
    "            # Plot the results\n",
    "            plt.gcf().clear()\n",
    "            ax = sns.barplot(hue=\"variable\",y=\"value\",x=\"Cluster Label\",data=DB_PCA_df_melted,log='y')\n",
    "            plt.title(\"DBSCAN results with eps of \" + str(eps_))\n",
    "            plt.ylim(0, plt.ylim()[1])\n",
    "            plt.savefig(filename + \"__PCA5_DBSCAN_eps-\" + str(eps_) + \"_algo-\" + algo + \"_dist-metric-\" + met + \"_results.png\")\n",
    "            plt.close()\n",
    "            print(\"Done with iteration with EPS of \" + str(eps_) + \" ALGORITHM of \" + algo\\\n",
    "                 + \" distance METRIC of \" + met)\n"
   ]
  },
  {
   "cell_type": "code",
   "execution_count": null,
   "metadata": {
    "collapsed": true
   },
   "outputs": [],
   "source": []
  },
  {
   "cell_type": "code",
   "execution_count": null,
   "metadata": {
    "collapsed": true
   },
   "outputs": [],
   "source": []
  },
  {
   "cell_type": "code",
   "execution_count": null,
   "metadata": {
    "collapsed": true
   },
   "outputs": [],
   "source": []
  },
  {
   "cell_type": "code",
   "execution_count": null,
   "metadata": {
    "collapsed": true
   },
   "outputs": [],
   "source": []
  },
  {
   "cell_type": "code",
   "execution_count": null,
   "metadata": {
    "collapsed": true
   },
   "outputs": [],
   "source": []
  },
  {
   "cell_type": "code",
   "execution_count": null,
   "metadata": {
    "collapsed": true
   },
   "outputs": [],
   "source": []
  },
  {
   "cell_type": "code",
   "execution_count": null,
   "metadata": {
    "collapsed": true
   },
   "outputs": [],
   "source": []
  },
  {
   "cell_type": "code",
   "execution_count": null,
   "metadata": {
    "collapsed": true
   },
   "outputs": [],
   "source": []
  }
 ],
 "metadata": {
  "kernelspec": {
   "display_name": "Python [py2-env]",
   "language": "python",
   "name": "Python [py2-env]"
  },
  "language_info": {
   "codemirror_mode": {
    "name": "ipython",
    "version": 2
   },
   "file_extension": ".py",
   "mimetype": "text/x-python",
   "name": "python",
   "nbconvert_exporter": "python",
   "pygments_lexer": "ipython2",
   "version": "2.7.12"
  }
 },
 "nbformat": 4,
 "nbformat_minor": 0
}
