{
 "cells": [
  {
   "cell_type": "markdown",
   "metadata": {},
   "source": [
    "# For a set of csv files, read them in one at a time, perform Guassian Mixture Model "
   ]
  },
  {
   "cell_type": "code",
   "execution_count": 29,
   "metadata": {
    "collapsed": false
   },
   "outputs": [],
   "source": [
    "from sklearn import mixture\n",
    "from sklearn.preprocessing import scale, robust_scale\n",
    "from sklearn import decomposition, metrics\n",
    "\n",
    "import pandas as pd\n",
    "import numpy as np\n",
    "import os\n",
    "import glob\n",
    "import matplotlib.pyplot as plt"
   ]
  },
  {
   "cell_type": "code",
   "execution_count": 30,
   "metadata": {
    "collapsed": true
   },
   "outputs": [],
   "source": [
    "%matplotlib inline"
   ]
  },
  {
   "cell_type": "code",
   "execution_count": 31,
   "metadata": {
    "collapsed": false
   },
   "outputs": [
    {
     "data": {
      "text/plain": [
       "'\\nos.chdir(os.path.expanduser(\"~/gmtest\"))\\ndata = np.loadtxt(open(\\'foo.csv\\',\"rb\"),delimiter=\",\",skiprows=0)\\ngmm = mixture.GMM( n_components=14,n_iter=5000, covariance_type=\\'full\\')\\ngmm.fit(data)\\n\\nclasses = gmm.predict(data)\\npyplot.scatter(data[:,0], data[:,1], c=classes)\\npyplot.show()\\n'"
      ]
     },
     "execution_count": 31,
     "metadata": {},
     "output_type": "execute_result"
    }
   ],
   "source": [
    "# Example from http://stackoverflow.com/questions/28438855/mixture-of-gaussians-using-scikit-learn-mixture\n",
    "'''\n",
    "os.chdir(os.path.expanduser(\"~/gmtest\"))\n",
    "data = np.loadtxt(open('foo.csv',\"rb\"),delimiter=\",\",skiprows=0)\n",
    "gmm = mixture.GMM( n_components=14,n_iter=5000, covariance_type='full')\n",
    "gmm.fit(data)\n",
    "\n",
    "classes = gmm.predict(data)\n",
    "pyplot.scatter(data[:,0], data[:,1], c=classes)\n",
    "pyplot.show()\n",
    "'''"
   ]
  },
  {
   "cell_type": "code",
   "execution_count": 93,
   "metadata": {
    "collapsed": false
   },
   "outputs": [
    {
     "name": "stdout",
     "output_type": "stream",
     "text": [
      "Read in/Users/tswenson/Documents/Joels/Health_Data_Science/COMPANY_consulting_project/datasets/merged_csvs/LABELLED_by_cell_type_screen_525_cell_plate_1_well_c03.csv\n"
     ]
    }
   ],
   "source": [
    "directory = '/Users/tswenson/Documents/Joels/Health_Data_Science/COMPANY_consulting_project/datasets/merged_csvs/'\n",
    "#directory = '/Users/tswenson/Documents/Joels/Health_Data_Science/COMPANY_consulting_project/datasets/screen_357_cell_plate_1_labeled_merged_csvs/'\n",
    "df = []\n",
    "#for filename in glob.glob(directory + \"LABELLED*.csv\"): # reads through all files in this directory looking for *.csv and ignores sub-directories\n",
    "for filename in glob.glob(directory + \"LABELLED*c03.csv\"): # reads through all files in this directory looking for *.csv and ignores sub-directories\n",
    "#for filename in glob.glob(directory + \"LABELLED*e21.csv\"): # reads through all files in this directory looking for *.csv and ignores sub-directories\n",
    "    print(\"Read in\" + filename)\n"
   ]
  },
  {
   "cell_type": "code",
   "execution_count": 94,
   "metadata": {
    "collapsed": false
   },
   "outputs": [],
   "source": [
    "my_data=pd.read_csv(filename, index_col=0)\n",
    "my_data_headers = list(my_data)\n",
    "meta_headers = [\"Width\",\"cell_label\",\"cell_plate\",\"lineage\",\"screen\",\"well\",\"Time\"]\n",
    "my_data_data_headers = [x for x in my_data_headers if not x in meta_headers]\n",
    "# Scale the data columns\n",
    "my_scaled_data = scale(my_data[my_data_data_headers])\n",
    "# Make a list where cell_label is converted to numbers for plotting\n",
    "word_as_num=[]\n",
    "for word in my_data['cell_label']:\n",
    "    if word == \"unlabelled\":\n",
    "        word_as_num.append(\"0\")\n",
    "    if word == \"blast\":\n",
    "        word_as_num.append(\"0.5\")\n",
    "    if word == \"healthy\":\n",
    "        word_as_num.append(\"1\")\n"
   ]
  },
  {
   "cell_type": "code",
   "execution_count": 100,
   "metadata": {
    "collapsed": false,
    "scrolled": true
   },
   "outputs": [
    {
     "data": {
      "text/plain": [
       "GaussianMixture(covariance_type='spherical', init_params='kmeans',\n",
       "        max_iter=100, means_init=None, n_components=3, n_init=1,\n",
       "        precisions_init=None, random_state=None, reg_covar=1e-06,\n",
       "        tol=0.001, verbose=0, verbose_interval=10, warm_start=False,\n",
       "        weights_init=None)"
      ]
     },
     "execution_count": 100,
     "metadata": {},
     "output_type": "execute_result"
    }
   ],
   "source": [
    "gmm = mixture.GaussianMixture( n_components=3, covariance_type='spherical') # 'full', 'tied', 'diag', 'spherical' \n",
    "gmm.fit(my_scaled_data)"
   ]
  },
  {
   "cell_type": "code",
   "execution_count": 101,
   "metadata": {
    "collapsed": false
   },
   "outputs": [],
   "source": [
    "classes = gmm.predict(my_scaled_data)"
   ]
  },
  {
   "cell_type": "code",
   "execution_count": 102,
   "metadata": {
    "collapsed": false
   },
   "outputs": [],
   "source": [
    "unique_labels = np.unique(classes)"
   ]
  },
  {
   "cell_type": "code",
   "execution_count": 103,
   "metadata": {
    "collapsed": true
   },
   "outputs": [],
   "source": [
    "#pyplot.scatter(my_scaled_data[:,0], my_scaled_data[:,1], c=classes)\n",
    "#pyplot.show()"
   ]
  },
  {
   "cell_type": "code",
   "execution_count": 104,
   "metadata": {
    "collapsed": false
   },
   "outputs": [
    {
     "name": "stdout",
     "output_type": "stream",
     "text": [
      "[[0, 3600, 0, 0], [1, 4174, 171, 467], [2, 625, 18, 26]]\n"
     ]
    }
   ],
   "source": [
    "gmm_out = [] # This will be a list of lists where the 1st entry is the cluster ID, 2nd: is\n",
    "## how many \"unlabelled\" are in that cluster, 3rd: number of blast, 4th: number of healthy.\n",
    "for i in xrange(len(unique_labels)):\n",
    "    clst_index = my_data['cell_label'][np.where(classes==unique_labels[i])[0]]\n",
    "    if clst_index.empty == True:\n",
    "        print(\"Cluster index and original data don't line up right. STOP AND FIX\")\n",
    "        break\n",
    "    gmm_out.append([unique_labels[i],sum(clst_index=='unlabelled'),\n",
    "                     sum(clst_index=='blast'),sum(clst_index=='healthy')])\n",
    "    #print(str(unique_labels2[i])+\"--\") # prints cluster name plus two \"--\"s\n",
    "    #print len(tsne_out_mink2[np.where(labels2==unique_labels2[i])[0],0]) # prints how many cells are in that cluster\n",
    "print(gmm_out)"
   ]
  },
  {
   "cell_type": "markdown",
   "metadata": {
    "collapsed": true
   },
   "source": [
    "## Do another round of GMM"
   ]
  },
  {
   "cell_type": "code",
   "execution_count": 69,
   "metadata": {
    "collapsed": false
   },
   "outputs": [],
   "source": [
    "# Convert transformed data into a pandas dataframe\n",
    "my_scaled_data_pd = pd.DataFrame(my_scaled_data)"
   ]
  },
  {
   "cell_type": "code",
   "execution_count": 70,
   "metadata": {
    "collapsed": false
   },
   "outputs": [],
   "source": [
    "my_data_scaled_GMM_clstr3 = my_scaled_data_pd.iloc[np.where(classes==unique_labels[1])[0]]\n",
    "my_data_scaled_GMM_clstr3_labels = my_data['cell_label'][np.where(classes==unique_labels[1])[0]]"
   ]
  },
  {
   "cell_type": "markdown",
   "metadata": {},
   "source": [
    "# Need to re-index the pandas dataframe"
   ]
  },
  {
   "cell_type": "code",
   "execution_count": 71,
   "metadata": {
    "collapsed": true
   },
   "outputs": [],
   "source": [
    "my_data_scaled_GMM_clstr3 = my_data_scaled_GMM_clstr3.reset_index(drop=True)\n",
    "my_data_scaled_GMM_clstr3_labels = my_data_scaled_GMM_clstr3_labels.reset_index(drop=True)"
   ]
  },
  {
   "cell_type": "code",
   "execution_count": 72,
   "metadata": {
    "collapsed": false
   },
   "outputs": [],
   "source": [
    "#print(my_data_scaled_GMM_clstr10)"
   ]
  },
  {
   "cell_type": "code",
   "execution_count": 73,
   "metadata": {
    "collapsed": false
   },
   "outputs": [],
   "source": [
    "#my_data_scaled_GMM_clstr10.shape"
   ]
  },
  {
   "cell_type": "code",
   "execution_count": 74,
   "metadata": {
    "collapsed": false
   },
   "outputs": [],
   "source": [
    "gmm1 = mixture.GaussianMixture( n_components=7, covariance_type='diag',) #'full', 'tied', 'diag', 'spherical'\n",
    "gmm1.fit(my_data_scaled_GMM_clstr3)\n",
    "classes1 = gmm1.predict(my_data_scaled_GMM_clstr3)\n",
    "unique_labels1 = np.unique(classes1)"
   ]
  },
  {
   "cell_type": "code",
   "execution_count": 75,
   "metadata": {
    "collapsed": false
   },
   "outputs": [
    {
     "name": "stdout",
     "output_type": "stream",
     "text": [
      "[[0, 436, 0, 232], [1, 286, 159, 1], [2, 1305, 0, 2], [3, 960, 0, 185], [4, 289, 12, 46], [5, 287, 0, 1], [6, 611, 0, 0]]\n"
     ]
    }
   ],
   "source": [
    "gmm_out1 = [] # This will be a list of lists where the 1st entry is the cluster ID, 2nd: is\n",
    "## how many \"unlabelled\" are in that cluster, 3rd: number of blast, 4th: number of healthy.\n",
    "for i in xrange(len(unique_labels1)):\n",
    "    clst_index1 = my_data_scaled_GMM_clstr3_labels[np.where(classes1==unique_labels1[i])[0]]\n",
    "    #clst_index1 = my_data['cell_label'][np.where(classes1==unique_labels1[i])[0]]\n",
    "    if clst_index1.isnull().sum() > 0:\n",
    "        print(\"Dangit, the indexing is screwed up\")\n",
    "        break\n",
    "    #print(clst_index1.shape)\n",
    "    #clst_index = my_data_scaled_PCA_DBSCAN0_labels[np.where(labels==unique_labels[i])[0]]\n",
    "    if clst_index1.empty == True:\n",
    "        print(\"Cluster index and original data don't line up right. STOP AND FIX\")\n",
    "        break\n",
    "    gmm_out1.append([unique_labels1[i],sum(clst_index1=='unlabelled'),\n",
    "                     sum(clst_index1=='blast'),sum(clst_index1=='healthy')])\n",
    "    #print(str(unique_labels2[i])+\"--\") # prints cluster name plus two \"--\"s\n",
    "    #print len(tsne_out_mink2[np.where(labels2==unique_labels2[i])[0],0]) # prints how many cells are in that cluster\n",
    "print(gmm_out1)"
   ]
  },
  {
   "cell_type": "code",
   "execution_count": null,
   "metadata": {
    "collapsed": true
   },
   "outputs": [],
   "source": [
    "# Sanity check is below which should be formalized as a test.\n",
    "\n",
    "# The output for each cluster from this should block should add up to the cluster it was originally pulled from, so\n",
    "## sum up element 1, 2 and 3 and make sure that is the same as the cluster you subsetted from"
   ]
  },
  {
   "cell_type": "markdown",
   "metadata": {},
   "source": [
    "# Note that I need to re-do the indexing if I want to output any of these clusters"
   ]
  },
  {
   "cell_type": "code",
   "execution_count": null,
   "metadata": {
    "collapsed": true
   },
   "outputs": [],
   "source": []
  },
  {
   "cell_type": "code",
   "execution_count": null,
   "metadata": {
    "collapsed": true
   },
   "outputs": [],
   "source": []
  },
  {
   "cell_type": "code",
   "execution_count": null,
   "metadata": {
    "collapsed": true
   },
   "outputs": [],
   "source": []
  },
  {
   "cell_type": "code",
   "execution_count": null,
   "metadata": {
    "collapsed": true
   },
   "outputs": [],
   "source": []
  },
  {
   "cell_type": "code",
   "execution_count": null,
   "metadata": {
    "collapsed": true
   },
   "outputs": [],
   "source": []
  },
  {
   "cell_type": "code",
   "execution_count": null,
   "metadata": {
    "collapsed": true
   },
   "outputs": [],
   "source": []
  },
  {
   "cell_type": "code",
   "execution_count": null,
   "metadata": {
    "collapsed": true
   },
   "outputs": [],
   "source": []
  },
  {
   "cell_type": "markdown",
   "metadata": {},
   "source": [
    "# Perform PCA and then do Guassian mixture modelling"
   ]
  },
  {
   "cell_type": "code",
   "execution_count": 340,
   "metadata": {
    "collapsed": true
   },
   "outputs": [],
   "source": [
    "#my_scaled_data = robust_scale(my_data[my_data_data_headers])\n",
    "my_scaled_data = scale(my_data[my_data_data_headers])"
   ]
  },
  {
   "cell_type": "code",
   "execution_count": 341,
   "metadata": {
    "collapsed": false
   },
   "outputs": [
    {
     "data": {
      "text/plain": [
       "[<matplotlib.lines.Line2D at 0x12913d150>]"
      ]
     },
     "execution_count": 341,
     "metadata": {},
     "output_type": "execute_result"
    },
    {
     "data": {
      "image/png": "[encoded data removed]",
      "text/plain": [
       "<matplotlib.figure.Figure at 0x128b6cd10>"
      ]
     },
     "metadata": {},
     "output_type": "display_data"
    }
   ],
   "source": [
    "# Perform PCA\n",
    "pca = decomposition.PCA()\n",
    "pca.fit(my_scaled_data)\n",
    "var=pca.explained_variance_ratio_\n",
    "plt.plot(var)"
   ]
  },
  {
   "cell_type": "code",
   "execution_count": 342,
   "metadata": {
    "collapsed": false
   },
   "outputs": [
    {
     "data": {
      "text/plain": [
       "[<matplotlib.lines.Line2D at 0x129290e10>]"
      ]
     },
     "execution_count": 342,
     "metadata": {},
     "output_type": "execute_result"
    },
    {
     "data": {
      "image/png": "[encoded data removed]",
      "text/plain": [
       "<matplotlib.figure.Figure at 0x129153290>"
      ]
     },
     "metadata": {},
     "output_type": "display_data"
    }
   ],
   "source": [
    "var1=np.cumsum(np.round(pca.explained_variance_ratio_, decimals=4)*100)\n",
    "plt.plot(var1)"
   ]
  },
  {
   "cell_type": "code",
   "execution_count": 343,
   "metadata": {
    "collapsed": true
   },
   "outputs": [],
   "source": [
    "#### Based on the above transform the data\n",
    "pca = decomposition.PCA(n_components = 10)\n",
    "my_scaled_data_transformed = pca.fit_transform(my_scaled_data)"
   ]
  },
  {
   "cell_type": "code",
   "execution_count": 344,
   "metadata": {
    "collapsed": false
   },
   "outputs": [
    {
     "data": {
      "image/png": "[encoded data removed]",
      "text/plain": [
       "<matplotlib.figure.Figure at 0x1292ac7d0>"
      ]
     },
     "metadata": {},
     "output_type": "display_data"
    }
   ],
   "source": [
    "fig = plt.figure()\n",
    "ax = plt.gca()\n",
    "ax.scatter(my_scaled_data_transformed[:,[0]],my_scaled_data_transformed[:,[1]])\n",
    "#ax.set_yscale('log')\n",
    "#ax.set_xscale('log')\n",
    "#plt.xlim(0,20)\n",
    "plt.show()\n",
    "#plt.xscale(\"log\")\n",
    "#plt.yscale(\"log\")\n",
    "#plt.scatter(my_scaled_data_transformed[:,[0]],my_scaled_data_transformed[:,[1]])"
   ]
  },
  {
   "cell_type": "code",
   "execution_count": null,
   "metadata": {
    "collapsed": true
   },
   "outputs": [],
   "source": []
  },
  {
   "cell_type": "code",
   "execution_count": null,
   "metadata": {
    "collapsed": true
   },
   "outputs": [],
   "source": []
  },
  {
   "cell_type": "code",
   "execution_count": null,
   "metadata": {
    "collapsed": true
   },
   "outputs": [],
   "source": []
  },
  {
   "cell_type": "markdown",
   "metadata": {},
   "source": [
    "# Do GMM "
   ]
  },
  {
   "cell_type": "code",
   "execution_count": 353,
   "metadata": {
    "collapsed": false
   },
   "outputs": [],
   "source": [
    "gmm = mixture.GaussianMixture( n_components=14, covariance_type='full') #'full', 'tied', 'diag', 'spherical'\n",
    "gmm.fit(my_scaled_data_transformed)\n",
    "classes = gmm.predict(my_scaled_data_transformed)"
   ]
  },
  {
   "cell_type": "code",
   "execution_count": 354,
   "metadata": {
    "collapsed": true
   },
   "outputs": [],
   "source": [
    "unique_labels = np.unique(classes)"
   ]
  },
  {
   "cell_type": "code",
   "execution_count": 355,
   "metadata": {
    "collapsed": true
   },
   "outputs": [],
   "source": [
    "#pyplot.scatter(my_scaled_data_transformed[:,0], my_scaled_data_transformed[:,1], c=classes)\n",
    "#pyplot.show()"
   ]
  },
  {
   "cell_type": "code",
   "execution_count": 356,
   "metadata": {
    "collapsed": false
   },
   "outputs": [
    {
     "name": "stdout",
     "output_type": "stream",
     "text": [
      "[[0, 3293, 6, 180], [1, 3, 0, 0], [2, 2, 0, 0], [3, 2, 0, 0], [4, 32, 0, 0], [5, 1, 0, 0], [6, 246, 1, 6], [7, 2834, 0, 0], [8, 4, 0, 0], [9, 1, 0, 0], [10, 81, 6, 0], [11, 636, 0, 0], [12, 862, 176, 298], [13, 402, 0, 9]]\n"
     ]
    }
   ],
   "source": [
    "gmm_out = [] # This will be a list of lists where the 1st entry is the cluster ID, 2nd: is\n",
    "## how many \"unlabelled\" are in that cluster, 3rd: number of blast, 4th: number of healthy.\n",
    "for i in xrange(len(unique_labels)):\n",
    "    clst_index = my_data['cell_label'][np.where(classes==unique_labels[i])[0]]\n",
    "    if clst_index.empty == True:\n",
    "        print(\"Cluster index and original data don't line up right. STOP AND FIX\")\n",
    "        break\n",
    "    gmm_out.append([unique_labels[i],sum(clst_index=='unlabelled'),\n",
    "                     sum(clst_index=='blast'),sum(clst_index=='healthy')])\n",
    "    #print(str(unique_labels2[i])+\"--\") # prints cluster name plus two \"--\"s\n",
    "    #print len(tsne_out_mink2[np.where(labels2==unique_labels2[i])[0],0]) # prints how many cells are in that cluster\n",
    "print(gmm_out)"
   ]
  },
  {
   "cell_type": "markdown",
   "metadata": {
    "collapsed": true
   },
   "source": [
    "## Do another round of GMM"
   ]
  },
  {
   "cell_type": "code",
   "execution_count": 21,
   "metadata": {
    "collapsed": false
   },
   "outputs": [],
   "source": [
    "# Convert transformed data into a pandas dataframe\n",
    "my_scaled_data_transformed_pd = pd.DataFrame(my_scaled_data_transformed)"
   ]
  },
  {
   "cell_type": "code",
   "execution_count": 24,
   "metadata": {
    "collapsed": false
   },
   "outputs": [],
   "source": [
    "my_data_scaled_GMM_clstr10 = my_scaled_data_transformed_pd.iloc[np.where(classes==unique_labels[11])[0]]\n",
    "my_data_scaled_GMM_clstr10_labels = my_data['cell_label'][np.where(classes==unique_labels[11])[0]]"
   ]
  },
  {
   "cell_type": "markdown",
   "metadata": {},
   "source": [
    "# Need to re-index the pandas dataframe"
   ]
  },
  {
   "cell_type": "code",
   "execution_count": 25,
   "metadata": {
    "collapsed": true
   },
   "outputs": [],
   "source": [
    "my_data_scaled_GMM_clstr10 = my_data_scaled_GMM_clstr10.reset_index(drop=True)\n",
    "my_data_scaled_GMM_clstr10_labels = my_data_scaled_GMM_clstr10_labels.reset_index(drop=True)"
   ]
  },
  {
   "cell_type": "code",
   "execution_count": 208,
   "metadata": {
    "collapsed": false
   },
   "outputs": [],
   "source": [
    "#print(my_data_scaled_GMM_clstr10)"
   ]
  },
  {
   "cell_type": "code",
   "execution_count": 209,
   "metadata": {
    "collapsed": false
   },
   "outputs": [
    {
     "data": {
      "text/plain": [
       "(1102, 10)"
      ]
     },
     "execution_count": 209,
     "metadata": {},
     "output_type": "execute_result"
    }
   ],
   "source": [
    "#my_data_scaled_GMM_clstr10.shape"
   ]
  },
  {
   "cell_type": "code",
   "execution_count": 30,
   "metadata": {
    "collapsed": false
   },
   "outputs": [],
   "source": [
    "gmm1 = mixture.GaussianMixture( n_components=3, covariance_type='full') #'full', 'tied', 'diag', 'spherical'\n",
    "gmm1.fit(my_data_scaled_GMM_clstr10)\n",
    "classes1 = gmm1.predict(my_data_scaled_GMM_clstr10)\n",
    "unique_labels1 = np.unique(classes1)"
   ]
  },
  {
   "cell_type": "code",
   "execution_count": 31,
   "metadata": {
    "collapsed": false
   },
   "outputs": [
    {
     "name": "stdout",
     "output_type": "stream",
     "text": [
      "[[0, 109, 40, 0], [1, 5, 0, 0], [2, 319, 123, 14]]\n"
     ]
    }
   ],
   "source": [
    "gmm_out1 = [] # This will be a list of lists where the 1st entry is the cluster ID, 2nd: is\n",
    "## how many \"unlabelled\" are in that cluster, 3rd: number of blast, 4th: number of healthy.\n",
    "for i in xrange(len(unique_labels1)):\n",
    "    clst_index1 = my_data_scaled_GMM_clstr10_labels[np.where(classes1==unique_labels1[i])[0]]\n",
    "    #clst_index1 = my_data['cell_label'][np.where(classes1==unique_labels1[i])[0]]\n",
    "    if clst_index1.isnull().sum() > 0:\n",
    "        print(\"Dangit, the indexing is screwed up\")\n",
    "        break\n",
    "    #print(clst_index1.shape)\n",
    "    #clst_index = my_data_scaled_PCA_DBSCAN0_labels[np.where(labels==unique_labels[i])[0]]\n",
    "    if clst_index1.empty == True:\n",
    "        print(\"Cluster index and original data don't line up right. STOP AND FIX\")\n",
    "        break\n",
    "    gmm_out1.append([unique_labels1[i],sum(clst_index1=='unlabelled'),\n",
    "                     sum(clst_index1=='blast'),sum(clst_index1=='healthy')])\n",
    "    #print(str(unique_labels2[i])+\"--\") # prints cluster name plus two \"--\"s\n",
    "    #print len(tsne_out_mink2[np.where(labels2==unique_labels2[i])[0],0]) # prints how many cells are in that cluster\n",
    "print(gmm_out1)"
   ]
  },
  {
   "cell_type": "code",
   "execution_count": null,
   "metadata": {
    "collapsed": true
   },
   "outputs": [],
   "source": [
    "# Sanity check is below which should be formalized as a test.\n",
    "\n",
    "# The output for each cluster from this should block should add up to the cluster it was originally pulled from, so\n",
    "## sum up element 1, 2 and 3 and make sure that is the same as the cluster you subsetted from"
   ]
  },
  {
   "cell_type": "markdown",
   "metadata": {},
   "source": [
    "# Note that I need to re-do the indexing if I want to output any of these clusters"
   ]
  },
  {
   "cell_type": "code",
   "execution_count": null,
   "metadata": {
    "collapsed": true
   },
   "outputs": [],
   "source": []
  },
  {
   "cell_type": "code",
   "execution_count": null,
   "metadata": {
    "collapsed": true
   },
   "outputs": [],
   "source": []
  },
  {
   "cell_type": "code",
   "execution_count": null,
   "metadata": {
    "collapsed": true
   },
   "outputs": [],
   "source": []
  },
  {
   "cell_type": "code",
   "execution_count": null,
   "metadata": {
    "collapsed": true
   },
   "outputs": [],
   "source": []
  },
  {
   "cell_type": "code",
   "execution_count": null,
   "metadata": {
    "collapsed": true
   },
   "outputs": [],
   "source": []
  },
  {
   "cell_type": "code",
   "execution_count": null,
   "metadata": {
    "collapsed": true
   },
   "outputs": [],
   "source": []
  },
  {
   "cell_type": "code",
   "execution_count": null,
   "metadata": {
    "collapsed": true
   },
   "outputs": [],
   "source": []
  },
  {
   "cell_type": "code",
   "execution_count": null,
   "metadata": {
    "collapsed": true
   },
   "outputs": [],
   "source": []
  },
  {
   "cell_type": "code",
   "execution_count": null,
   "metadata": {
    "collapsed": true
   },
   "outputs": [],
   "source": []
  },
  {
   "cell_type": "code",
   "execution_count": 5,
   "metadata": {
    "collapsed": false
   },
   "outputs": [],
   "source": [
    "import os\n",
    "import glob\n",
    "\n",
    "import numpy as np\n",
    "import pandas as pd\n",
    "import matplotlib.pyplot as plt\n",
    "import seaborn as sns\n",
    "\n",
    "\n",
    "from sklearn import decomposition, metrics\n",
    "from sklearn.preprocessing import scale, robust_scale\n",
    "from sklearn.cluster import DBSCAN\n",
    "from sklearn.manifold import TSNE"
   ]
  },
  {
   "cell_type": "code",
   "execution_count": 7,
   "metadata": {
    "collapsed": false
   },
   "outputs": [
    {
     "name": "stdout",
     "output_type": "stream",
     "text": [
      "Read in/Users/tswenson/Documents/Joels/Health_Data_Science/COMPANY_consulting_project/datasets/screen_357_cell_plate_1_labeled_merged_csvs/LABELLED_by_cell_type_screen_357_cell_plate_1_labeled_merged_screen_357_cell_plate_1_labeled_merged_well_n09.csv\n",
      "Starting t-SNE calculation\n",
      "Done with t-SNE calculation\n",
      "Starting DBSCAN\n",
      "Plotting DBSCAN\n",
      "[[-1, 46, 0, 0], [0, 13, 0, 0], [1, 425, 0, 0], [2, 10054, 32, 0], [3, 64, 0, 0], [4, 326, 513, 0], [5, 343, 0, 0], [6, 421, 0, 0], [7, 105, 0, 0], [8, 200, 0, 0], [9, 42, 0, 0], [10, 108, 0, 0], [11, 47, 297, 0], [12, 31, 0, 0], [13, 187, 0, 0], [14, 77, 0, 0], [15, 55, 91, 0], [16, 165, 0, 0], [17, 253, 0, 0], [18, 71, 0, 0], [19, 40, 0, 0], [20, 13, 0, 0], [21, 40, 0, 0], [22, 16, 93, 0], [23, 28, 28, 0], [24, 7, 12, 0], [25, 87, 0, 0], [26, 20, 0, 0], [27, 11, 0, 0], [28, 26, 0, 0]]\n",
      "Plotting grouped barplots\n"
     ]
    },
    {
     "ename": "ValueError",
     "evalue": "zero-size array to reduction operation minimum which has no identity",
     "output_type": "error",
     "traceback": [
      "\u001b[0;31m---------------------------------------------------------------------------\u001b[0m",
      "\u001b[0;31mValueError\u001b[0m                                Traceback (most recent call last)",
      "\u001b[0;32m<ipython-input-7-2e4035cc388a>\u001b[0m in \u001b[0;36m<module>\u001b[0;34m()\u001b[0m\n\u001b[1;32m     76\u001b[0m     \u001b[0mtsne_db_df_melted\u001b[0m \u001b[0;34m=\u001b[0m \u001b[0mpd\u001b[0m\u001b[0;34m.\u001b[0m\u001b[0mmelt\u001b[0m\u001b[0;34m(\u001b[0m\u001b[0mtsne_db_df\u001b[0m\u001b[0;34m,\u001b[0m\u001b[0mvalue_vars\u001b[0m\u001b[0;34m=\u001b[0m\u001b[0;34m[\u001b[0m\u001b[0;34m\"Unlabelled\"\u001b[0m\u001b[0;34m,\u001b[0m\u001b[0;34m\"Blast\"\u001b[0m\u001b[0;34m,\u001b[0m\u001b[0;34m\"Healthy\"\u001b[0m\u001b[0;34m]\u001b[0m\u001b[0;34m,\u001b[0m\u001b[0mid_vars\u001b[0m\u001b[0;34m=\u001b[0m\u001b[0;34m\"Cluster Label\"\u001b[0m\u001b[0;34m)\u001b[0m\u001b[0;34m\u001b[0m\u001b[0m\n\u001b[1;32m     77\u001b[0m     \u001b[0mplt\u001b[0m\u001b[0;34m.\u001b[0m\u001b[0mgcf\u001b[0m\u001b[0;34m(\u001b[0m\u001b[0;34m)\u001b[0m\u001b[0;34m.\u001b[0m\u001b[0mclear\u001b[0m\u001b[0;34m(\u001b[0m\u001b[0;34m)\u001b[0m\u001b[0;34m\u001b[0m\u001b[0m\n\u001b[0;32m---> 78\u001b[0;31m     \u001b[0max\u001b[0m \u001b[0;34m=\u001b[0m \u001b[0msns\u001b[0m\u001b[0;34m.\u001b[0m\u001b[0mbarplot\u001b[0m\u001b[0;34m(\u001b[0m\u001b[0mhue\u001b[0m\u001b[0;34m=\u001b[0m\u001b[0;34m\"variable\"\u001b[0m\u001b[0;34m,\u001b[0m\u001b[0my\u001b[0m\u001b[0;34m=\u001b[0m\u001b[0;34m\"value\"\u001b[0m\u001b[0;34m,\u001b[0m\u001b[0mx\u001b[0m\u001b[0;34m=\u001b[0m\u001b[0;34m\"Cluster Label\"\u001b[0m\u001b[0;34m,\u001b[0m\u001b[0mdata\u001b[0m\u001b[0;34m=\u001b[0m\u001b[0mtsne_db_df_melted\u001b[0m\u001b[0;34m,\u001b[0m\u001b[0mlog\u001b[0m\u001b[0;34m=\u001b[0m\u001b[0;34m'y'\u001b[0m\u001b[0;34m)\u001b[0m\u001b[0;34m\u001b[0m\u001b[0m\n\u001b[0m\u001b[1;32m     79\u001b[0m     \u001b[0mplt\u001b[0m\u001b[0;34m.\u001b[0m\u001b[0msavefig\u001b[0m\u001b[0;34m(\u001b[0m\u001b[0mfilename\u001b[0m \u001b[0;34m+\u001b[0m \u001b[0;34m'__barplot.png'\u001b[0m\u001b[0;34m)\u001b[0m\u001b[0;34m\u001b[0m\u001b[0m\n\u001b[1;32m     80\u001b[0m     \u001b[0mplt\u001b[0m\u001b[0;34m.\u001b[0m\u001b[0mclose\u001b[0m\u001b[0;34m(\u001b[0m\u001b[0;34m)\u001b[0m\u001b[0;34m\u001b[0m\u001b[0m\n",
      "\u001b[0;32m//anaconda/envs/py2-env/lib/python2.7/site-packages/seaborn/categorical.pyc\u001b[0m in \u001b[0;36mbarplot\u001b[0;34m(x, y, hue, data, order, hue_order, estimator, ci, n_boot, units, orient, color, palette, saturation, errcolor, errwidth, capsize, ax, **kwargs)\u001b[0m\n\u001b[1;32m   2902\u001b[0m         \u001b[0max\u001b[0m \u001b[0;34m=\u001b[0m \u001b[0mplt\u001b[0m\u001b[0;34m.\u001b[0m\u001b[0mgca\u001b[0m\u001b[0;34m(\u001b[0m\u001b[0;34m)\u001b[0m\u001b[0;34m\u001b[0m\u001b[0m\n\u001b[1;32m   2903\u001b[0m \u001b[0;34m\u001b[0m\u001b[0m\n\u001b[0;32m-> 2904\u001b[0;31m     \u001b[0mplotter\u001b[0m\u001b[0;34m.\u001b[0m\u001b[0mplot\u001b[0m\u001b[0;34m(\u001b[0m\u001b[0max\u001b[0m\u001b[0;34m,\u001b[0m \u001b[0mkwargs\u001b[0m\u001b[0;34m)\u001b[0m\u001b[0;34m\u001b[0m\u001b[0m\n\u001b[0m\u001b[1;32m   2905\u001b[0m     \u001b[0;32mreturn\u001b[0m \u001b[0max\u001b[0m\u001b[0;34m\u001b[0m\u001b[0m\n\u001b[1;32m   2906\u001b[0m \u001b[0;34m\u001b[0m\u001b[0m\n",
      "\u001b[0;32m//anaconda/envs/py2-env/lib/python2.7/site-packages/seaborn/categorical.pyc\u001b[0m in \u001b[0;36mplot\u001b[0;34m(self, ax, bar_kws)\u001b[0m\n\u001b[1;32m   1593\u001b[0m     \u001b[0;32mdef\u001b[0m \u001b[0mplot\u001b[0m\u001b[0;34m(\u001b[0m\u001b[0mself\u001b[0m\u001b[0;34m,\u001b[0m \u001b[0max\u001b[0m\u001b[0;34m,\u001b[0m \u001b[0mbar_kws\u001b[0m\u001b[0;34m)\u001b[0m\u001b[0;34m:\u001b[0m\u001b[0;34m\u001b[0m\u001b[0m\n\u001b[1;32m   1594\u001b[0m         \u001b[0;34m\"\"\"Make the plot.\"\"\"\u001b[0m\u001b[0;34m\u001b[0m\u001b[0m\n\u001b[0;32m-> 1595\u001b[0;31m         \u001b[0mself\u001b[0m\u001b[0;34m.\u001b[0m\u001b[0mdraw_bars\u001b[0m\u001b[0;34m(\u001b[0m\u001b[0max\u001b[0m\u001b[0;34m,\u001b[0m \u001b[0mbar_kws\u001b[0m\u001b[0;34m)\u001b[0m\u001b[0;34m\u001b[0m\u001b[0m\n\u001b[0m\u001b[1;32m   1596\u001b[0m         \u001b[0mself\u001b[0m\u001b[0;34m.\u001b[0m\u001b[0mannotate_axes\u001b[0m\u001b[0;34m(\u001b[0m\u001b[0max\u001b[0m\u001b[0;34m)\u001b[0m\u001b[0;34m\u001b[0m\u001b[0m\n\u001b[1;32m   1597\u001b[0m         \u001b[0;32mif\u001b[0m \u001b[0mself\u001b[0m\u001b[0;34m.\u001b[0m\u001b[0morient\u001b[0m \u001b[0;34m==\u001b[0m \u001b[0;34m\"h\"\u001b[0m\u001b[0;34m:\u001b[0m\u001b[0;34m\u001b[0m\u001b[0m\n",
      "\u001b[0;32m//anaconda/envs/py2-env/lib/python2.7/site-packages/seaborn/categorical.pyc\u001b[0m in \u001b[0;36mdraw_bars\u001b[0;34m(self, ax, kws)\u001b[0m\n\u001b[1;32m   1578\u001b[0m                 barfunc(offpos, self.statistic[:, j], self.nested_width,\n\u001b[1;32m   1579\u001b[0m                         \u001b[0mcolor\u001b[0m\u001b[0;34m=\u001b[0m\u001b[0mself\u001b[0m\u001b[0;34m.\u001b[0m\u001b[0mcolors\u001b[0m\u001b[0;34m[\u001b[0m\u001b[0mj\u001b[0m\u001b[0;34m]\u001b[0m\u001b[0;34m,\u001b[0m \u001b[0malign\u001b[0m\u001b[0;34m=\u001b[0m\u001b[0;34m\"center\"\u001b[0m\u001b[0;34m,\u001b[0m\u001b[0;34m\u001b[0m\u001b[0m\n\u001b[0;32m-> 1580\u001b[0;31m                         label=hue_level, **kws)\n\u001b[0m\u001b[1;32m   1581\u001b[0m \u001b[0;34m\u001b[0m\u001b[0m\n\u001b[1;32m   1582\u001b[0m                 \u001b[0;31m# Draw the confidence intervals\u001b[0m\u001b[0;34m\u001b[0m\u001b[0;34m\u001b[0m\u001b[0m\n",
      "\u001b[0;32m//anaconda/envs/py2-env/lib/python2.7/site-packages/matplotlib/__init__.pyc\u001b[0m in \u001b[0;36minner\u001b[0;34m(ax, *args, **kwargs)\u001b[0m\n\u001b[1;32m   1810\u001b[0m                     warnings.warn(msg % (label_namer, func.__name__),\n\u001b[1;32m   1811\u001b[0m                                   RuntimeWarning, stacklevel=2)\n\u001b[0;32m-> 1812\u001b[0;31m             \u001b[0;32mreturn\u001b[0m \u001b[0mfunc\u001b[0m\u001b[0;34m(\u001b[0m\u001b[0max\u001b[0m\u001b[0;34m,\u001b[0m \u001b[0;34m*\u001b[0m\u001b[0margs\u001b[0m\u001b[0;34m,\u001b[0m \u001b[0;34m**\u001b[0m\u001b[0mkwargs\u001b[0m\u001b[0;34m)\u001b[0m\u001b[0;34m\u001b[0m\u001b[0m\n\u001b[0m\u001b[1;32m   1813\u001b[0m         \u001b[0mpre_doc\u001b[0m \u001b[0;34m=\u001b[0m \u001b[0minner\u001b[0m\u001b[0;34m.\u001b[0m\u001b[0m__doc__\u001b[0m\u001b[0;34m\u001b[0m\u001b[0m\n\u001b[1;32m   1814\u001b[0m         \u001b[0;32mif\u001b[0m \u001b[0mpre_doc\u001b[0m \u001b[0;32mis\u001b[0m \u001b[0mNone\u001b[0m\u001b[0;34m:\u001b[0m\u001b[0;34m\u001b[0m\u001b[0m\n",
      "\u001b[0;32m//anaconda/envs/py2-env/lib/python2.7/site-packages/matplotlib/axes/_axes.pyc\u001b[0m in \u001b[0;36mbar\u001b[0;34m(self, left, height, width, bottom, **kwargs)\u001b[0m\n\u001b[1;32m   2170\u001b[0m         \u001b[0;32mif\u001b[0m \u001b[0madjust_ylim\u001b[0m\u001b[0;34m:\u001b[0m\u001b[0;34m\u001b[0m\u001b[0m\n\u001b[1;32m   2171\u001b[0m             \u001b[0mymin\u001b[0m\u001b[0;34m,\u001b[0m \u001b[0mymax\u001b[0m \u001b[0;34m=\u001b[0m \u001b[0mself\u001b[0m\u001b[0;34m.\u001b[0m\u001b[0mdataLim\u001b[0m\u001b[0;34m.\u001b[0m\u001b[0mintervaly\u001b[0m\u001b[0;34m\u001b[0m\u001b[0m\n\u001b[0;32m-> 2172\u001b[0;31m             \u001b[0mymin\u001b[0m \u001b[0;34m=\u001b[0m \u001b[0mnp\u001b[0m\u001b[0;34m.\u001b[0m\u001b[0mamin\u001b[0m\u001b[0;34m(\u001b[0m\u001b[0;34m[\u001b[0m\u001b[0mh\u001b[0m \u001b[0;32mfor\u001b[0m \u001b[0mh\u001b[0m \u001b[0;32min\u001b[0m \u001b[0mheight\u001b[0m \u001b[0;32mif\u001b[0m \u001b[0mh\u001b[0m \u001b[0;34m>\u001b[0m \u001b[0;36m0\u001b[0m\u001b[0;34m]\u001b[0m\u001b[0;34m)\u001b[0m\u001b[0;34m\u001b[0m\u001b[0m\n\u001b[0m\u001b[1;32m   2173\u001b[0m             \u001b[0;32mif\u001b[0m \u001b[0myerr\u001b[0m \u001b[0;32mis\u001b[0m \u001b[0;32mnot\u001b[0m \u001b[0mNone\u001b[0m\u001b[0;34m:\u001b[0m\u001b[0;34m\u001b[0m\u001b[0m\n\u001b[1;32m   2174\u001b[0m                 \u001b[0mymin\u001b[0m \u001b[0;34m=\u001b[0m \u001b[0mymin\u001b[0m \u001b[0;34m-\u001b[0m \u001b[0mnp\u001b[0m\u001b[0;34m.\u001b[0m\u001b[0mamax\u001b[0m\u001b[0;34m(\u001b[0m\u001b[0myerr\u001b[0m\u001b[0;34m)\u001b[0m\u001b[0;34m\u001b[0m\u001b[0m\n",
      "\u001b[0;32m//anaconda/envs/py2-env/lib/python2.7/site-packages/numpy/core/fromnumeric.pyc\u001b[0m in \u001b[0;36mamin\u001b[0;34m(a, axis, out, keepdims)\u001b[0m\n\u001b[1;32m   2352\u001b[0m         \u001b[0;32mexcept\u001b[0m \u001b[0mAttributeError\u001b[0m\u001b[0;34m:\u001b[0m\u001b[0;34m\u001b[0m\u001b[0m\n\u001b[1;32m   2353\u001b[0m             return _methods._amin(a, axis=axis,\n\u001b[0;32m-> 2354\u001b[0;31m                                   out=out, keepdims=keepdims)\n\u001b[0m\u001b[1;32m   2355\u001b[0m         \u001b[0;31m# NOTE: Dropping the keepdims parameter\u001b[0m\u001b[0;34m\u001b[0m\u001b[0;34m\u001b[0m\u001b[0m\n\u001b[1;32m   2356\u001b[0m         \u001b[0;32mreturn\u001b[0m \u001b[0mamin\u001b[0m\u001b[0;34m(\u001b[0m\u001b[0maxis\u001b[0m\u001b[0;34m=\u001b[0m\u001b[0maxis\u001b[0m\u001b[0;34m,\u001b[0m \u001b[0mout\u001b[0m\u001b[0;34m=\u001b[0m\u001b[0mout\u001b[0m\u001b[0;34m)\u001b[0m\u001b[0;34m\u001b[0m\u001b[0m\n",
      "\u001b[0;32m//anaconda/envs/py2-env/lib/python2.7/site-packages/numpy/core/_methods.pyc\u001b[0m in \u001b[0;36m_amin\u001b[0;34m(a, axis, out, keepdims)\u001b[0m\n\u001b[1;32m     27\u001b[0m \u001b[0;34m\u001b[0m\u001b[0m\n\u001b[1;32m     28\u001b[0m \u001b[0;32mdef\u001b[0m \u001b[0m_amin\u001b[0m\u001b[0;34m(\u001b[0m\u001b[0ma\u001b[0m\u001b[0;34m,\u001b[0m \u001b[0maxis\u001b[0m\u001b[0;34m=\u001b[0m\u001b[0mNone\u001b[0m\u001b[0;34m,\u001b[0m \u001b[0mout\u001b[0m\u001b[0;34m=\u001b[0m\u001b[0mNone\u001b[0m\u001b[0;34m,\u001b[0m \u001b[0mkeepdims\u001b[0m\u001b[0;34m=\u001b[0m\u001b[0mFalse\u001b[0m\u001b[0;34m)\u001b[0m\u001b[0;34m:\u001b[0m\u001b[0;34m\u001b[0m\u001b[0m\n\u001b[0;32m---> 29\u001b[0;31m     \u001b[0;32mreturn\u001b[0m \u001b[0mumr_minimum\u001b[0m\u001b[0;34m(\u001b[0m\u001b[0ma\u001b[0m\u001b[0;34m,\u001b[0m \u001b[0maxis\u001b[0m\u001b[0;34m,\u001b[0m \u001b[0mNone\u001b[0m\u001b[0;34m,\u001b[0m \u001b[0mout\u001b[0m\u001b[0;34m,\u001b[0m \u001b[0mkeepdims\u001b[0m\u001b[0;34m)\u001b[0m\u001b[0;34m\u001b[0m\u001b[0m\n\u001b[0m\u001b[1;32m     30\u001b[0m \u001b[0;34m\u001b[0m\u001b[0m\n\u001b[1;32m     31\u001b[0m \u001b[0;32mdef\u001b[0m \u001b[0m_sum\u001b[0m\u001b[0;34m(\u001b[0m\u001b[0ma\u001b[0m\u001b[0;34m,\u001b[0m \u001b[0maxis\u001b[0m\u001b[0;34m=\u001b[0m\u001b[0mNone\u001b[0m\u001b[0;34m,\u001b[0m \u001b[0mdtype\u001b[0m\u001b[0;34m=\u001b[0m\u001b[0mNone\u001b[0m\u001b[0;34m,\u001b[0m \u001b[0mout\u001b[0m\u001b[0;34m=\u001b[0m\u001b[0mNone\u001b[0m\u001b[0;34m,\u001b[0m \u001b[0mkeepdims\u001b[0m\u001b[0;34m=\u001b[0m\u001b[0mFalse\u001b[0m\u001b[0;34m)\u001b[0m\u001b[0;34m:\u001b[0m\u001b[0;34m\u001b[0m\u001b[0m\n",
      "\u001b[0;31mValueError\u001b[0m: zero-size array to reduction operation minimum which has no identity"
     ]
    }
   ],
   "source": [
    "directory = '/Users/tswenson/Documents/Joels/Health_Data_Science/COMPANY_consulting_project/datasets/merged_csvs/'\n",
    "#directory = '/Users/tswenson/Documents/Joels/Health_Data_Science/COMPANY_consulting_project/datasets/screen_357_cell_plate_1_labeled_merged_csvs/'\n",
    "df = []\n",
    "do_boxplots = 0; # binary, 1 indicates that boxplots should be made\n",
    "#for filename in glob.glob(directory + \"LABELLED*.csv\"): # reads through all files in this directory looking for *.csv and ignores sub-directories\n",
    "for filename in glob.glob(directory + \"LABELLED*n09*.csv\"): # reads through all files in this directory looking for *.csv and ignores sub-directories\n",
    "    print(\"Read in\" + filename)\n",
    "    # Set some variables equal to \"None\" so that I don't have surprises later\n",
    "    my_data=None; my_data_headers=None; meta_headers=None; my_data_data_headers=None\n",
    "    my_scaled_data = None; word_as_num = None; tsne_out_mink = None; labels = None\n",
    "    \n",
    "    my_data=pd.read_csv(filename, index_col=0)\n",
    "    my_data_headers = list(my_data)\n",
    "    meta_headers = [\"Width\",\"cell_label\",\"cell_plate\",\"lineage\",\"screen\",\"well\",\"Time\"]\n",
    "    my_data_data_headers = [x for x in my_data_headers if not x in meta_headers]\n",
    "    # Scale the data columns\n",
    "    my_scaled_data = scale(my_data[my_data_data_headers])\n",
    "    # Make a list where cell_label is converted to numbers for plotting\n",
    "    word_as_num=[]\n",
    "    for word in my_data['cell_label']:\n",
    "        if word == \"unlabelled\":\n",
    "            word_as_num.append(\"0\")\n",
    "        if word == \"blast\":\n",
    "            word_as_num.append(\"0.5\")\n",
    "        if word == \"healthy\":\n",
    "            word_as_num.append(\"1\")\n",
    "    lr = 3000 # Set the learning rate for t-SNE\n",
    "    # Perform t-SNE\n",
    "    print(\"Starting t-SNE calculation\")\n",
    "    tsne_out_mink = TSNE(metric='minkowski', learning_rate=lr, n_iter=lr, random_state=11).fit_transform(my_scaled_data)\n",
    "    print(\"Done with t-SNE calculation\")\n",
    "    # Plot and save the output\n",
    "    plt.figure(figsize=(20, 10))\n",
    "    plt.gcf().clear()\n",
    "    plt.subplot(121)\n",
    "    plt.scatter(tsne_out_mink[:, 0], tsne_out_mink[:, 1], c= word_as_num, cmap=plt.cm.viridis)\n",
    "    plt.savefig(filename + \"__tsne.png\")\n",
    "    plt.close()\n",
    "    # Do DBSCAN on the tSNEd data\n",
    "    print(\"Starting DBSCAN\")\n",
    "    dbsc = DBSCAN(eps = .6,min_samples=10).fit(tsne_out_mink)\n",
    "    labels = dbsc.labels_\n",
    "    core_samples = np.zeros_like(labels, dtype = bool)\n",
    "    core_samples[dbsc.core_sample_indices_] = True\n",
    "    unique_labels = np.unique(labels)\n",
    "    print(\"Plotting DBSCAN\")\n",
    "    # Plot the DBSCAN results\n",
    "    plt.figure(figsize=(20, 10))\n",
    "    plt.gcf().clear()\n",
    "    plt.subplot(121)\n",
    "    col = np.linspace(0,1,len(unique_labels))\n",
    "    for i in xrange(len(unique_labels)):\n",
    "        plt.plot(tsne_out_mink[np.where(labels==unique_labels[i])[0], 0], \n",
    "             tsne_out_mink[np.where(labels==unique_labels[i])[0], 1],\n",
    "                #'o', mfc=plt.cm.viridis(col[i]), label=unique_labels[i])\n",
    "                'o', mfc=plt.cm.nipy_spectral(col[i]), label=unique_labels[i])\n",
    "                #'o', mfc=plt.cm.prism(col[i]), label=unique_labels[i])\n",
    "                #'o', mfc=plt.cm.flag(col[i]), label=unique_labels[i])\n",
    "    plt.legend(loc='best', frameon=False)\n",
    "    plt.savefig(filename + \"__DBSCAN_of_tsne.png\")\n",
    "    plt.close()\n",
    "    # Summarize the combination of tSNE and DBSCAN results\n",
    "    tsne_db = [] # This will be a list of lists where the 1st entry is the cluster ID, 2nd: is\n",
    "    ## how many \"unlabelled\" are in that cluster, 3rd: number of blast, 4th: number of healthy.\n",
    "    for i in xrange(len(unique_labels)):\n",
    "        clst_index = my_data['cell_label'][np.where(labels==unique_labels[i])[0]]\n",
    "        if clst_index.empty == True:\n",
    "            print(\"Cluster index and original data don't line up right. STOP AND FIX\")\n",
    "            break\n",
    "        tsne_db.append([unique_labels[i],sum(clst_index=='unlabelled'),\n",
    "                         sum(clst_index=='blast'),sum(clst_index=='healthy')])\n",
    "    print(tsne_db)\n",
    "    # Prepare to plot the results as grouped barplots\n",
    "    print(\"Plotting grouped barplots\")\n",
    "    tsne_db_df = pd.DataFrame(tsne_db,columns=[\"Cluster Label\",\"Unlabelled\",\"Blast\",\"Healthy\"])\n",
    "    tsne_db_df_melted = pd.melt(tsne_db_df,value_vars=[\"Unlabelled\",\"Blast\",\"Healthy\"],id_vars=\"Cluster Label\")\n",
    "    plt.gcf().clear()\n",
    "    ax = sns.barplot(hue=\"variable\",y=\"value\",x=\"Cluster Label\",data=tsne_db_df_melted,log='y')\n",
    "    plt.savefig(filename + '__barplot.png')\n",
    "    plt.close()\n",
    "    if do_boxplots == 1:\n",
    "        # For each cluster plot boxplots of each feature\n",
    "        print(\"Starting boxplots plotting\")\n",
    "        for i in xrange(len(unique_labels)):\n",
    "            clst_index = my_data.ix[np.where(labels==unique_labels[i])[0],my_data_data_headers]\n",
    "            clst_index_scaled = my_scaled_data[np.where(labels==unique_labels[i])[0],]\n",
    "            # Plot the unscaled data\n",
    "            locations = range(1,(len(my_data_data_headers)+1))\n",
    "            plt.figure()\n",
    "            plt.gcf().clear()\n",
    "            plt.boxplot(clst_index.as_matrix(),positions=locations)\n",
    "            plt.title(\"Cluster number \" + str(unique_labels[i]))\n",
    "            plt.ylabel('A.U.')\n",
    "            plt.xticks(locations, my_data_data_headers,rotation='vertical')\n",
    "            #plt.yscale('log')\n",
    "            percs = (clst_index.describe(percentiles=[0.1,0.5,0.9]))\n",
    "            plt.ylim(percs.iloc[4].min(),percs.iloc[6].max())\n",
    "            #plt.show()\n",
    "            plt.savefig(filename + \"__boxplots_of_cluster\" +str(unique_labels[i])+\".png\")\n",
    "            plt.close()\n",
    "            locations = range(1,(len(my_data_data_headers)+1))\n",
    "            # Plot the scaled data\n",
    "            plt.figure()\n",
    "            plt.gcf().clear()\n",
    "            plt.boxplot(clst_index_scaled,positions=locations)\n",
    "            plt.title(\"Cluster number \" + str(unique_labels[i]))\n",
    "            plt.ylabel('A.U.')\n",
    "            plt.xticks(locations, my_data_data_headers,rotation='vertical')\n",
    "            #plt.yscale('log')\n",
    "            percs_scaled = pd.DataFrame(clst_index_scaled).describe(percentiles=[0.1,0.5,0.9])\n",
    "            plt.ylim(percs_scaled.iloc[4].min(),percs_scaled.iloc[6].max())\n",
    "            plt.savefig(filename + \"__scaled_boxplots_of_cluster\" +str(unique_labels[i])+\".png\")\n",
    "            plt.close()\n",
    "    print(\"Done with \" + filename)"
   ]
  },
  {
   "cell_type": "markdown",
   "metadata": {},
   "source": [
    "# Add the following code to the above "
   ]
  },
  {
   "cell_type": "code",
   "execution_count": null,
   "metadata": {
    "collapsed": true
   },
   "outputs": [],
   "source": [
    "#### I started to work on this, but didn't finish. Psuedo code is mostly done.\n",
    "'''\n",
    "#### Export the labelled populations of a well\n",
    "# Find the fcs file that matches the csv file. \n",
    "## First get rid of the .csv, then get rid of the path and the LABELLED,\n",
    "## now add the path back to the core name identified above, check that \n",
    "## it only matches one file, print matches for user to verify\n",
    "output_name = filename.split(\".csv\")[0]\n",
    "filename_fcs = \n",
    "for i in xrange(len(unique_labels)):\n",
    "    fcs_file = FCSParser(path)\n",
    "    #cluster_data = my_data_keepers.iloc[np.where(labels==unique_labels[i])[0]].astype('float')\n",
    "    #new_fcs_file = fcs_file.clone(data=cluster_data.as_matrix().astype('float'))\n",
    "    new_fcs_file = fcs_file.clone(data= fcs_file.data[np.where(labels==unique_labels[i])[0]].astype('float'))\n",
    "    new_fcs_file.annotation['cluster_label'] = unique_labels[i]\n",
    "    #new_fcs_file.write_to_file(\"/Users/tswenson/Documents/Joels/TEST.fcs\")\n",
    "    new_fcs_file.write_to_file(output_name + '__cluster_' + str(unique_labels[i])\\\n",
    "                               + '_exported_'\\\n",
    "                               + datetime.datetime.now().strftime('%Y.%m.%d %I.%M.%S')\\\n",
    "                               + '.fcs')\n",
    "'''"
   ]
  },
  {
   "cell_type": "code",
   "execution_count": null,
   "metadata": {
    "collapsed": true
   },
   "outputs": [],
   "source": [
    "'''\n",
    "# Export Well C3 or my_data\n",
    "path = '/Users/tswenson/Documents/Joels/Health_Data_Science/COMPANY_consulting_project/datasets/training_set/screen_357_cell_plate_1_well_C3_original.fcs'\n",
    "output_name = path.split(\".fcs\")[0]\n",
    "for i in xrange(len(unique_labels)):\n",
    "    fcs_file = FCSParser(path)\n",
    "    #cluster_data = my_data_keepers.iloc[np.where(labels==unique_labels[i])[0]].astype('float')\n",
    "    #new_fcs_file = fcs_file.clone(data=cluster_data.as_matrix().astype('float'))\n",
    "    new_fcs_file = fcs_file.clone(data= fcs_file.data[np.where(labels==unique_labels[i])[0]].astype('float'))\n",
    "    new_fcs_file.annotation['cluster_label'] = unique_labels[i]\n",
    "    #new_fcs_file.write_to_file(\"/Users/tswenson/Documents/Joels/TEST.fcs\")\n",
    "    new_fcs_file.write_to_file(output_name + '__cluster_' + str(unique_labels[i])\\\n",
    "                               + '_exported_'\\\n",
    "                               + datetime.datetime.now().strftime('%Y.%m.%d %I.%M.%S')\\\n",
    "                               + '.fcs')\n",
    "'''"
   ]
  },
  {
   "cell_type": "code",
   "execution_count": null,
   "metadata": {
    "collapsed": true
   },
   "outputs": [],
   "source": []
  },
  {
   "cell_type": "code",
   "execution_count": 7,
   "metadata": {
    "collapsed": false
   },
   "outputs": [
    {
     "name": "stdout",
     "output_type": "stream",
     "text": [
      "10\n"
     ]
    }
   ],
   "source": [
    "### Only plot clusters with more than 50 events\n",
    "tsne_db_df_50 = tsne_db_df[tsne_db_df.sum(axis=1)>110]\n",
    "print(len(tsne_db_df_50))\n",
    "tsne_db_df_50_melted = pd.melt(tsne_db_df_50,value_vars=[\"Unlabelled\",\"Blast\",\"Healthy\"],id_vars=\"Cluster Label\")\n",
    "ax = sns.barplot(hue=\"variable\",y=\"value\",x=\"Cluster Label\",data=tsne_db_df_50_melted,log='y')\n",
    "plt.savefig('e21_largeR_clstrs_only__barplot.png')\n",
    "plt.close()\n"
   ]
  },
  {
   "cell_type": "code",
   "execution_count": null,
   "metadata": {
    "collapsed": true
   },
   "outputs": [],
   "source": []
  }
 ],
 "metadata": {
  "anaconda-cloud": {},
  "kernelspec": {
   "display_name": "Python [py2-env]",
   "language": "python",
   "name": "Python [py2-env]"
  },
  "language_info": {
   "codemirror_mode": {
    "name": "ipython",
    "version": 2
   },
   "file_extension": ".py",
   "mimetype": "text/x-python",
   "name": "python",
   "nbconvert_exporter": "python",
   "pygments_lexer": "ipython2",
   "version": "2.7.12"
  }
 },
 "nbformat": 4,
 "nbformat_minor": 0
}
