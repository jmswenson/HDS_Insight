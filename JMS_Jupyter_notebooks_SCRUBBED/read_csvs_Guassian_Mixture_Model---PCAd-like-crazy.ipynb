{
 "cells": [
  {
   "cell_type": "markdown",
   "metadata": {},
   "source": [
    "# For a set of csv files, read them in one at a time, perform Guassian Mixture Model "
   ]
  },
  {
   "cell_type": "code",
   "execution_count": 1,
   "metadata": {
    "collapsed": false
   },
   "outputs": [],
   "source": [
    "from sklearn import mixture\n",
    "from sklearn.preprocessing import scale, robust_scale\n",
    "from sklearn import decomposition, metrics\n",
    "\n",
    "import pandas as pd\n",
    "import numpy as np\n",
    "import os\n",
    "import glob\n",
    "import matplotlib.pyplot as plt"
   ]
  },
  {
   "cell_type": "code",
   "execution_count": 2,
   "metadata": {
    "collapsed": true
   },
   "outputs": [],
   "source": [
    "%matplotlib inline"
   ]
  },
  {
   "cell_type": "code",
   "execution_count": 3,
   "metadata": {
    "collapsed": false
   },
   "outputs": [
    {
     "data": {
      "text/plain": [
       "'\\nos.chdir(os.path.expanduser(\"~/gmtest\"))\\ndata = np.loadtxt(open(\\'foo.csv\\',\"rb\"),delimiter=\",\",skiprows=0)\\ngmm = mixture.GMM( n_components=14,n_iter=5000, covariance_type=\\'full\\')\\ngmm.fit(data)\\n\\nclasses = gmm.predict(data)\\npyplot.scatter(data[:,0], data[:,1], c=classes)\\npyplot.show()\\n'"
      ]
     },
     "execution_count": 3,
     "metadata": {},
     "output_type": "execute_result"
    }
   ],
   "source": [
    "# Example from http://stackoverflow.com/questions/28438855/mixture-of-gaussians-using-scikit-learn-mixture\n",
    "'''\n",
    "os.chdir(os.path.expanduser(\"~/gmtest\"))\n",
    "data = np.loadtxt(open('foo.csv',\"rb\"),delimiter=\",\",skiprows=0)\n",
    "gmm = mixture.GMM( n_components=14,n_iter=5000, covariance_type='full')\n",
    "gmm.fit(data)\n",
    "\n",
    "classes = gmm.predict(data)\n",
    "pyplot.scatter(data[:,0], data[:,1], c=classes)\n",
    "pyplot.show()\n",
    "'''"
   ]
  },
  {
   "cell_type": "code",
   "execution_count": 4,
   "metadata": {
    "collapsed": false
   },
   "outputs": [
    {
     "name": "stdout",
     "output_type": "stream",
     "text": [
      "Read in/Users/tswenson/Documents/Joels/Health_Data_Science/COMPANY_consulting_project/datasets/merged_csvs/LABELLED_by_cell_type_screen_525_cell_plate_1_well_c03.csv\n"
     ]
    }
   ],
   "source": [
    "directory = '/Users/tswenson/Documents/Joels/Health_Data_Science/COMPANY_consulting_project/datasets/merged_csvs/'\n",
    "#directory = '/Users/tswenson/Documents/Joels/Health_Data_Science/COMPANY_consulting_project/datasets/screen_357_cell_plate_1_labeled_merged_csvs/'\n",
    "df = []\n",
    "#for filename in glob.glob(directory + \"LABELLED*.csv\"): # reads through all files in this directory looking for *.csv and ignores sub-directories\n",
    "for filename in glob.glob(directory + \"LABELLED*c03.csv\"): # reads through all files in this directory looking for *.csv and ignores sub-directories\n",
    "    print(\"Read in\" + filename)\n"
   ]
  },
  {
   "cell_type": "code",
   "execution_count": 5,
   "metadata": {
    "collapsed": false
   },
   "outputs": [],
   "source": [
    "my_data=pd.read_csv(filename, index_col=0)\n",
    "my_data_headers = list(my_data)\n",
    "meta_headers = [\"Width\",\"cell_label\",\"cell_plate\",\"lineage\",\"screen\",\"well\",\"Time\"]\n",
    "my_data_data_headers = [x for x in my_data_headers if not x in meta_headers]\n",
    "# Scale the data columns\n",
    "my_scaled_data = scale(my_data[my_data_data_headers])\n",
    "# Make a list where cell_label is converted to numbers for plotting\n",
    "word_as_num=[]\n",
    "for word in my_data['cell_label']:\n",
    "    if word == \"unlabelled\":\n",
    "        word_as_num.append(\"0\")\n",
    "    if word == \"blast\":\n",
    "        word_as_num.append(\"0.5\")\n",
    "    if word == \"healthy\":\n",
    "        word_as_num.append(\"1\")\n"
   ]
  },
  {
   "cell_type": "code",
   "execution_count": 6,
   "metadata": {
    "collapsed": false,
    "scrolled": true
   },
   "outputs": [
    {
     "data": {
      "text/plain": [
       "GaussianMixture(covariance_type='spherical', init_params='kmeans',\n",
       "        max_iter=100, means_init=None, n_components=3, n_init=1,\n",
       "        precisions_init=None, random_state=None, reg_covar=1e-06,\n",
       "        tol=0.001, verbose=0, verbose_interval=10, warm_start=False,\n",
       "        weights_init=None)"
      ]
     },
     "execution_count": 6,
     "metadata": {},
     "output_type": "execute_result"
    }
   ],
   "source": [
    "gmm = mixture.GaussianMixture( n_components=3, covariance_type='spherical') # 'full', 'tied', 'diag', 'spherical' \n",
    "gmm.fit(my_scaled_data)"
   ]
  },
  {
   "cell_type": "code",
   "execution_count": 7,
   "metadata": {
    "collapsed": false
   },
   "outputs": [],
   "source": [
    "classes = gmm.predict(my_scaled_data)"
   ]
  },
  {
   "cell_type": "code",
   "execution_count": 8,
   "metadata": {
    "collapsed": false
   },
   "outputs": [],
   "source": [
    "unique_labels = np.unique(classes)"
   ]
  },
  {
   "cell_type": "code",
   "execution_count": 9,
   "metadata": {
    "collapsed": true
   },
   "outputs": [],
   "source": [
    "#pyplot.scatter(my_scaled_data[:,0], my_scaled_data[:,1], c=classes)\n",
    "#pyplot.show()"
   ]
  },
  {
   "cell_type": "code",
   "execution_count": 10,
   "metadata": {
    "collapsed": false
   },
   "outputs": [
    {
     "name": "stdout",
     "output_type": "stream",
     "text": [
      "[[0, 3600, 0, 0], [1, 4174, 171, 467], [2, 625, 18, 26]]\n"
     ]
    }
   ],
   "source": [
    "gmm_out = [] # This will be a list of lists where the 1st entry is the cluster ID, 2nd: is\n",
    "## how many \"unlabelled\" are in that cluster, 3rd: number of blast, 4th: number of healthy.\n",
    "for i in xrange(len(unique_labels)):\n",
    "    clst_index = my_data['cell_label'][np.where(classes==unique_labels[i])[0]]\n",
    "    if clst_index.empty == True:\n",
    "        print(\"Cluster index and original data don't line up right. STOP AND FIX\")\n",
    "        break\n",
    "    gmm_out.append([unique_labels[i],sum(clst_index=='unlabelled'),\n",
    "                     sum(clst_index=='blast'),sum(clst_index=='healthy')])\n",
    "    #print(str(unique_labels2[i])+\"--\") # prints cluster name plus two \"--\"s\n",
    "    #print len(tsne_out_mink2[np.where(labels2==unique_labels2[i])[0],0]) # prints how many cells are in that cluster\n",
    "print(gmm_out)"
   ]
  },
  {
   "cell_type": "markdown",
   "metadata": {
    "collapsed": true
   },
   "source": [
    "## Do another round of GMM"
   ]
  },
  {
   "cell_type": "code",
   "execution_count": 11,
   "metadata": {
    "collapsed": false
   },
   "outputs": [],
   "source": [
    "# Convert transformed data into a pandas dataframe\n",
    "my_scaled_data_pd = pd.DataFrame(my_scaled_data)"
   ]
  },
  {
   "cell_type": "code",
   "execution_count": 12,
   "metadata": {
    "collapsed": false
   },
   "outputs": [],
   "source": [
    "my_data_scaled_GMM_clstr3 = my_scaled_data_pd.iloc[np.where(classes==unique_labels[1])[0]]\n",
    "my_data_scaled_GMM_clstr3_labels = my_data['cell_label'][np.where(classes==unique_labels[1])[0]]"
   ]
  },
  {
   "cell_type": "markdown",
   "metadata": {},
   "source": [
    "# Need to re-index the pandas dataframe"
   ]
  },
  {
   "cell_type": "code",
   "execution_count": 13,
   "metadata": {
    "collapsed": true
   },
   "outputs": [],
   "source": [
    "my_data_scaled_GMM_clstr3 = my_data_scaled_GMM_clstr3.reset_index(drop=True)\n",
    "my_data_scaled_GMM_clstr3_labels = my_data_scaled_GMM_clstr3_labels.reset_index(drop=True)"
   ]
  },
  {
   "cell_type": "code",
   "execution_count": 14,
   "metadata": {
    "collapsed": false
   },
   "outputs": [],
   "source": [
    "#print(my_data_scaled_GMM_clstr10)"
   ]
  },
  {
   "cell_type": "code",
   "execution_count": 15,
   "metadata": {
    "collapsed": false
   },
   "outputs": [],
   "source": [
    "#my_data_scaled_GMM_clstr10.shape"
   ]
  },
  {
   "cell_type": "code",
   "execution_count": 16,
   "metadata": {
    "collapsed": false
   },
   "outputs": [],
   "source": [
    "gmm1 = mixture.GaussianMixture( n_components=7, covariance_type='diag',) #'full', 'tied', 'diag', 'spherical'\n",
    "gmm1.fit(my_data_scaled_GMM_clstr3)\n",
    "classes1 = gmm1.predict(my_data_scaled_GMM_clstr3)\n",
    "unique_labels1 = np.unique(classes1)"
   ]
  },
  {
   "cell_type": "code",
   "execution_count": 17,
   "metadata": {
    "collapsed": false
   },
   "outputs": [
    {
     "name": "stdout",
     "output_type": "stream",
     "text": [
      "[[0, 284, 0, 3], [1, 613, 0, 0], [2, 1124, 0, 0], [3, 478, 0, 236], [4, 330, 12, 82], [5, 1043, 0, 146], [6, 302, 159, 0]]\n"
     ]
    }
   ],
   "source": [
    "gmm_out1 = [] # This will be a list of lists where the 1st entry is the cluster ID, 2nd: is\n",
    "## how many \"unlabelled\" are in that cluster, 3rd: number of blast, 4th: number of healthy.\n",
    "for i in xrange(len(unique_labels1)):\n",
    "    clst_index1 = my_data_scaled_GMM_clstr3_labels[np.where(classes1==unique_labels1[i])[0]]\n",
    "    #clst_index1 = my_data['cell_label'][np.where(classes1==unique_labels1[i])[0]]\n",
    "    if clst_index1.isnull().sum() > 0:\n",
    "        print(\"Dangit, the indexing is screwed up\")\n",
    "        break\n",
    "    #print(clst_index1.shape)\n",
    "    #clst_index = my_data_scaled_PCA_DBSCAN0_labels[np.where(labels==unique_labels[i])[0]]\n",
    "    if clst_index1.empty == True:\n",
    "        print(\"Cluster index and original data don't line up right. STOP AND FIX\")\n",
    "        break\n",
    "    gmm_out1.append([unique_labels1[i],sum(clst_index1=='unlabelled'),\n",
    "                     sum(clst_index1=='blast'),sum(clst_index1=='healthy')])\n",
    "    #print(str(unique_labels2[i])+\"--\") # prints cluster name plus two \"--\"s\n",
    "    #print len(tsne_out_mink2[np.where(labels2==unique_labels2[i])[0],0]) # prints how many cells are in that cluster\n",
    "print(gmm_out1)"
   ]
  },
  {
   "cell_type": "code",
   "execution_count": 18,
   "metadata": {
    "collapsed": true
   },
   "outputs": [],
   "source": [
    "# Sanity check is below which should be formalized as a test.\n",
    "\n",
    "# The output for each cluster from this should block should add up to the cluster it was originally pulled from, so\n",
    "## sum up element 1, 2 and 3 and make sure that is the same as the cluster you subsetted from"
   ]
  },
  {
   "cell_type": "markdown",
   "metadata": {},
   "source": [
    "# Note that I need to re-do the indexing if I want to output any of these clusters"
   ]
  },
  {
   "cell_type": "code",
   "execution_count": null,
   "metadata": {
    "collapsed": true
   },
   "outputs": [],
   "source": []
  },
  {
   "cell_type": "code",
   "execution_count": null,
   "metadata": {
    "collapsed": true
   },
   "outputs": [],
   "source": []
  },
  {
   "cell_type": "code",
   "execution_count": null,
   "metadata": {
    "collapsed": true
   },
   "outputs": [],
   "source": []
  },
  {
   "cell_type": "code",
   "execution_count": null,
   "metadata": {
    "collapsed": true
   },
   "outputs": [],
   "source": []
  },
  {
   "cell_type": "code",
   "execution_count": null,
   "metadata": {
    "collapsed": true
   },
   "outputs": [],
   "source": []
  },
  {
   "cell_type": "code",
   "execution_count": null,
   "metadata": {
    "collapsed": true
   },
   "outputs": [],
   "source": []
  },
  {
   "cell_type": "code",
   "execution_count": null,
   "metadata": {
    "collapsed": true
   },
   "outputs": [],
   "source": []
  },
  {
   "cell_type": "markdown",
   "metadata": {},
   "source": [
    "# Perform PCA (getting rid of outliers) and then do Guassian mixture modelling"
   ]
  },
  {
   "cell_type": "code",
   "execution_count": 19,
   "metadata": {
    "collapsed": true
   },
   "outputs": [],
   "source": [
    "#my_scaled_data = robust_scale(my_data[my_data_data_headers])\n",
    "my_scaled_data = scale(my_data[my_data_data_headers])"
   ]
  },
  {
   "cell_type": "code",
   "execution_count": 20,
   "metadata": {
    "collapsed": false
   },
   "outputs": [
    {
     "data": {
      "text/plain": [
       "[<matplotlib.lines.Line2D at 0x118122910>]"
      ]
     },
     "execution_count": 20,
     "metadata": {},
     "output_type": "execute_result"
    },
    {
     "data": {
      "image/png": "[encoded data removed]",
      "text/plain": [
       "<matplotlib.figure.Figure at 0x1151d42d0>"
      ]
     },
     "metadata": {},
     "output_type": "display_data"
    }
   ],
   "source": [
    "# Perform PCA\n",
    "pca = decomposition.PCA()\n",
    "pca.fit(my_scaled_data)\n",
    "var=pca.explained_variance_ratio_\n",
    "plt.plot(var)"
   ]
  },
  {
   "cell_type": "code",
   "execution_count": 21,
   "metadata": {
    "collapsed": false
   },
   "outputs": [
    {
     "data": {
      "text/plain": [
       "[<matplotlib.lines.Line2D at 0x11bda10d0>]"
      ]
     },
     "execution_count": 21,
     "metadata": {},
     "output_type": "execute_result"
    },
    {
     "data": {
      "image/png": "[encoded data removed]",
      "text/plain": [
       "<matplotlib.figure.Figure at 0x11814f910>"
      ]
     },
     "metadata": {},
     "output_type": "display_data"
    }
   ],
   "source": [
    "var1=np.cumsum(np.round(pca.explained_variance_ratio_, decimals=4)*100)\n",
    "plt.plot(var1)"
   ]
  },
  {
   "cell_type": "code",
   "execution_count": 22,
   "metadata": {
    "collapsed": true
   },
   "outputs": [],
   "source": [
    "#### Based on the above transform the data\n",
    "pca = decomposition.PCA(n_components = 10)\n",
    "my_scaled_data_transformed = pca.fit_transform(my_scaled_data)"
   ]
  },
  {
   "cell_type": "code",
   "execution_count": 23,
   "metadata": {
    "collapsed": false
   },
   "outputs": [
    {
     "data": {
      "image/png": "[encoded data removed]",
      "text/plain": [
       "<matplotlib.figure.Figure at 0x118227590>"
      ]
     },
     "metadata": {},
     "output_type": "display_data"
    }
   ],
   "source": [
    "fig = plt.figure()\n",
    "ax = plt.gca()\n",
    "ax.scatter(my_scaled_data_transformed[:,[0]],my_scaled_data_transformed[:,[1]])\n",
    "#ax.set_yscale('log')\n",
    "#ax.set_xscale('log')\n",
    "#plt.xlim(0,20)\n",
    "plt.show()\n",
    "#plt.xscale(\"log\")\n",
    "#plt.yscale(\"log\")\n",
    "#plt.scatter(my_scaled_data_transformed[:,[0]],my_scaled_data_transformed[:,[1]])"
   ]
  },
  {
   "cell_type": "markdown",
   "metadata": {},
   "source": [
    "### Get rid of outliers during the fit step of PCA, then transform on all data point"
   ]
  },
  {
   "cell_type": "code",
   "execution_count": 24,
   "metadata": {
    "collapsed": false
   },
   "outputs": [
    {
     "data": {
      "text/plain": [
       "13"
      ]
     },
     "execution_count": 24,
     "metadata": {},
     "output_type": "execute_result"
    }
   ],
   "source": [
    "(my_scaled_data_transformed[:,[0]]>20).sum()"
   ]
  },
  {
   "cell_type": "code",
   "execution_count": 26,
   "metadata": {
    "collapsed": false
   },
   "outputs": [],
   "source": [
    "## Subset the data\n",
    "no_outliers_index = (my_scaled_data_transformed[:,[0]]<20).flatten()\n",
    "#my_scaled_data_transformed[no_outliers_index,0]\n",
    "my_scaled_data_subset1 = my_scaled_data[no_outliers_index]"
   ]
  },
  {
   "cell_type": "code",
   "execution_count": 27,
   "metadata": {
    "collapsed": false
   },
   "outputs": [
    {
     "name": "stdout",
     "output_type": "stream",
     "text": [
      "(9081, 30)\n",
      "(9068, 30)\n",
      "9068\n",
      "9081\n"
     ]
    }
   ],
   "source": [
    "print(my_scaled_data.shape)\n",
    "print(my_scaled_data_subset1.shape)\n",
    "print(no_outliers_index.sum())\n",
    "print(len(no_outliers_index))\n"
   ]
  },
  {
   "cell_type": "code",
   "execution_count": 28,
   "metadata": {
    "collapsed": false
   },
   "outputs": [
    {
     "data": {
      "text/plain": [
       "[<matplotlib.lines.Line2D at 0x11d239050>]"
      ]
     },
     "execution_count": 28,
     "metadata": {},
     "output_type": "execute_result"
    },
    {
     "data": {
      "image/png": "[encoded data removed]",
      "text/plain": [
       "<matplotlib.figure.Figure at 0x11c6d7ad0>"
      ]
     },
     "metadata": {},
     "output_type": "display_data"
    }
   ],
   "source": [
    "# Perform PCA\n",
    "pca = decomposition.PCA()\n",
    "pca.fit(my_scaled_data_subset1)\n",
    "var=pca.explained_variance_ratio_\n",
    "plt.plot(var)"
   ]
  },
  {
   "cell_type": "code",
   "execution_count": 29,
   "metadata": {
    "collapsed": false
   },
   "outputs": [
    {
     "data": {
      "text/plain": [
       "[<matplotlib.lines.Line2D at 0x11d625fd0>]"
      ]
     },
     "execution_count": 29,
     "metadata": {},
     "output_type": "execute_result"
    },
    {
     "data": {
      "image/png": "[encoded data removed]",
      "text/plain": [
       "<matplotlib.figure.Figure at 0x11d250510>"
      ]
     },
     "metadata": {},
     "output_type": "display_data"
    }
   ],
   "source": [
    "var1=np.cumsum(np.round(pca.explained_variance_ratio_, decimals=4)*100)\n",
    "plt.plot(var1)"
   ]
  },
  {
   "cell_type": "code",
   "execution_count": 30,
   "metadata": {
    "collapsed": false
   },
   "outputs": [],
   "source": [
    "#### Based on the above transform the data\n",
    "pca = decomposition.PCA(n_components = 5)\n",
    "my_scaled_data_transformed = pca.fit(my_scaled_data_subset1).transform(my_scaled_data_subset1)"
   ]
  },
  {
   "cell_type": "code",
   "execution_count": 31,
   "metadata": {
    "collapsed": false,
    "scrolled": true
   },
   "outputs": [
    {
     "data": {
      "text/plain": [
       "<matplotlib.collections.PathCollection at 0x11dcab1d0>"
      ]
     },
     "execution_count": 31,
     "metadata": {},
     "output_type": "execute_result"
    },
    {
     "data": {
      "image/png": "[encoded data removed]",
      "text/plain": [
       "<matplotlib.figure.Figure at 0x11d2507d0>"
      ]
     },
     "metadata": {},
     "output_type": "display_data"
    }
   ],
   "source": [
    "plt.scatter(my_scaled_data_transformed[:,[0]],my_scaled_data_transformed[:,[1]])"
   ]
  },
  {
   "cell_type": "code",
   "execution_count": 36,
   "metadata": {
    "collapsed": false,
    "scrolled": true
   },
   "outputs": [
    {
     "data": {
      "text/plain": [
       "(9049, 5)"
      ]
     },
     "execution_count": 36,
     "metadata": {},
     "output_type": "execute_result"
    }
   ],
   "source": [
    "#no_outliers_index = (my_scaled_data_transformed[:,[0]]<20).flatten()\n",
    "no_outliers1_index = ((my_scaled_data_transformed[:,[1]]<5).flatten()&(my_scaled_data_transformed[:,[1]]>-10).flatten())\n",
    "my_scaled_data_transformed[no_outliers1_index].shape"
   ]
  },
  {
   "cell_type": "markdown",
   "metadata": {},
   "source": [
    "### Subset the outliers again "
   ]
  },
  {
   "cell_type": "code",
   "execution_count": 38,
   "metadata": {
    "collapsed": false
   },
   "outputs": [
    {
     "data": {
      "text/plain": [
       "(9049, 30)"
      ]
     },
     "execution_count": 38,
     "metadata": {},
     "output_type": "execute_result"
    }
   ],
   "source": [
    "## Subset the data again\n",
    "my_scaled_data_subset2 = my_scaled_data_subset1[no_outliers1_index]\n",
    "my_scaled_data_subset2.shape"
   ]
  },
  {
   "cell_type": "markdown",
   "metadata": {},
   "source": [
    "### Do PCA again "
   ]
  },
  {
   "cell_type": "code",
   "execution_count": 39,
   "metadata": {
    "collapsed": false
   },
   "outputs": [
    {
     "data": {
      "text/plain": [
       "[<matplotlib.lines.Line2D at 0x11de19c10>]"
      ]
     },
     "execution_count": 39,
     "metadata": {},
     "output_type": "execute_result"
    },
    {
     "data": {
      "image/png": "[encoded data removed]",
      "text/plain": [
       "<matplotlib.figure.Figure at 0x11d26d0d0>"
      ]
     },
     "metadata": {},
     "output_type": "display_data"
    }
   ],
   "source": [
    "# Perform PCA\n",
    "pca = decomposition.PCA()\n",
    "pca.fit(my_scaled_data_subset2)\n",
    "var=pca.explained_variance_ratio_\n",
    "plt.plot(var)"
   ]
  },
  {
   "cell_type": "code",
   "execution_count": 40,
   "metadata": {
    "collapsed": false
   },
   "outputs": [
    {
     "data": {
      "text/plain": [
       "[<matplotlib.lines.Line2D at 0x11e3d1d10>]"
      ]
     },
     "execution_count": 40,
     "metadata": {},
     "output_type": "execute_result"
    },
    {
     "data": {
      "image/png": "[encoded data removed]",
      "text/plain": [
       "<matplotlib.figure.Figure at 0x11de40490>"
      ]
     },
     "metadata": {},
     "output_type": "display_data"
    }
   ],
   "source": [
    "var1=np.cumsum(np.round(pca.explained_variance_ratio_, decimals=4)*100)\n",
    "plt.plot(var1)"
   ]
  },
  {
   "cell_type": "code",
   "execution_count": 45,
   "metadata": {
    "collapsed": false
   },
   "outputs": [
    {
     "data": {
      "text/plain": [
       "<matplotlib.collections.PathCollection at 0x11e7e2a90>"
      ]
     },
     "execution_count": 45,
     "metadata": {},
     "output_type": "execute_result"
    },
    {
     "data": {
      "image/png": "[encoded data removed]",
      "text/plain": [
       "<matplotlib.figure.Figure at 0x11e57db10>"
      ]
     },
     "metadata": {},
     "output_type": "display_data"
    }
   ],
   "source": [
    "#### Based on the above transform the data\n",
    "pca = decomposition.PCA(n_components = 5)\n",
    "my_scaled_data_transformed2 = pca.fit(my_scaled_data_subset2).transform(my_scaled_data_subset2)\n",
    "plt.scatter(my_scaled_data_transformed2[:,[0]],my_scaled_data_transformed2[:,[1]])"
   ]
  },
  {
   "cell_type": "markdown",
   "metadata": {
    "collapsed": true
   },
   "source": [
    "### Apply the fit to transform the entire dataset"
   ]
  },
  {
   "cell_type": "code",
   "execution_count": 50,
   "metadata": {
    "collapsed": true
   },
   "outputs": [],
   "source": [
    "word_as_num=[]\n",
    "for word in my_data['cell_label']:\n",
    "    if word == \"unlabelled\":\n",
    "        word_as_num.append(\"0\")\n",
    "    if word == \"blast\":\n",
    "        word_as_num.append(\"0.5\")\n",
    "    if word == \"healthy\":\n",
    "        word_as_num.append(\"1\")"
   ]
  },
  {
   "cell_type": "code",
   "execution_count": 51,
   "metadata": {
    "collapsed": false
   },
   "outputs": [
    {
     "data": {
      "text/plain": [
       "(-10, 20)"
      ]
     },
     "execution_count": 51,
     "metadata": {},
     "output_type": "execute_result"
    },
    {
     "data": {
      "image/png": "[encoded data removed]",
      "text/plain": [
       "<matplotlib.figure.Figure at 0x11eba0a50>"
      ]
     },
     "metadata": {},
     "output_type": "display_data"
    }
   ],
   "source": [
    "my_scaled_data_transformed = None;\n",
    "pca = decomposition.PCA(n_components = 5)\n",
    "my_scaled_data_transformed = pca.fit(my_scaled_data_subset2).transform(my_scaled_data)\n",
    "plt.scatter(my_scaled_data_transformed[:,[0]],my_scaled_data_transformed[:,[1]],c=word_as_num)\n",
    "plt.xlim(-5,20)\n",
    "plt.ylim(-10,20)"
   ]
  },
  {
   "cell_type": "code",
   "execution_count": null,
   "metadata": {
    "collapsed": true
   },
   "outputs": [],
   "source": []
  },
  {
   "cell_type": "code",
   "execution_count": null,
   "metadata": {
    "collapsed": true
   },
   "outputs": [],
   "source": []
  },
  {
   "cell_type": "code",
   "execution_count": null,
   "metadata": {
    "collapsed": true
   },
   "outputs": [],
   "source": []
  },
  {
   "cell_type": "code",
   "execution_count": null,
   "metadata": {
    "collapsed": true
   },
   "outputs": [],
   "source": []
  },
  {
   "cell_type": "code",
   "execution_count": null,
   "metadata": {
    "collapsed": true
   },
   "outputs": [],
   "source": []
  },
  {
   "cell_type": "code",
   "execution_count": null,
   "metadata": {
    "collapsed": true
   },
   "outputs": [],
   "source": []
  },
  {
   "cell_type": "code",
   "execution_count": null,
   "metadata": {
    "collapsed": true
   },
   "outputs": [],
   "source": []
  },
  {
   "cell_type": "code",
   "execution_count": 64,
   "metadata": {
    "collapsed": false
   },
   "outputs": [
    {
     "data": {
      "text/plain": [
       "(9081, 5)"
      ]
     },
     "execution_count": 64,
     "metadata": {},
     "output_type": "execute_result"
    }
   ],
   "source": [
    "my_scaled_data_transformed.shape"
   ]
  },
  {
   "cell_type": "markdown",
   "metadata": {},
   "source": [
    "# Do GMM "
   ]
  },
  {
   "cell_type": "code",
   "execution_count": 81,
   "metadata": {
    "collapsed": false
   },
   "outputs": [],
   "source": [
    "gmm = mixture.GaussianMixture( n_components=2, covariance_type='full') #'full', 'tied', 'diag', 'spherical'\n",
    "gmm.fit(my_scaled_data_transformed)\n",
    "classes = gmm.predict(my_scaled_data_transformed)"
   ]
  },
  {
   "cell_type": "code",
   "execution_count": 82,
   "metadata": {
    "collapsed": true
   },
   "outputs": [],
   "source": [
    "unique_labels = np.unique(classes)"
   ]
  },
  {
   "cell_type": "code",
   "execution_count": 83,
   "metadata": {
    "collapsed": true
   },
   "outputs": [],
   "source": [
    "#pyplot.scatter(my_scaled_data_transformed[:,0], my_scaled_data_transformed[:,1], c=classes)\n",
    "#pyplot.show()"
   ]
  },
  {
   "cell_type": "code",
   "execution_count": 84,
   "metadata": {
    "collapsed": false
   },
   "outputs": [
    {
     "name": "stdout",
     "output_type": "stream",
     "text": [
      "[[0, 7413, 118, 419], [1, 986, 71, 74]]\n"
     ]
    }
   ],
   "source": [
    "gmm_out = [] # This will be a list of lists where the 1st entry is the cluster ID, 2nd: is\n",
    "## how many \"unlabelled\" are in that cluster, 3rd: number of blast, 4th: number of healthy.\n",
    "for i in xrange(len(unique_labels)):\n",
    "    clst_index = my_data['cell_label'][np.where(classes==unique_labels[i])[0]]\n",
    "    if clst_index.empty == True:\n",
    "        print(\"Cluster index and original data don't line up right. STOP AND FIX\")\n",
    "        break\n",
    "    gmm_out.append([unique_labels[i],sum(clst_index=='unlabelled'),\n",
    "                     sum(clst_index=='blast'),sum(clst_index=='healthy')])\n",
    "    #print(str(unique_labels2[i])+\"--\") # prints cluster name plus two \"--\"s\n",
    "    #print len(tsne_out_mink2[np.where(labels2==unique_labels2[i])[0],0]) # prints how many cells are in that cluster\n",
    "print(gmm_out)"
   ]
  },
  {
   "cell_type": "markdown",
   "metadata": {
    "collapsed": true
   },
   "source": [
    "## Do another round of GMM"
   ]
  },
  {
   "cell_type": "code",
   "execution_count": 86,
   "metadata": {
    "collapsed": false
   },
   "outputs": [],
   "source": [
    "# Convert transformed data into a pandas dataframe\n",
    "my_scaled_data_transformed_pd = pd.DataFrame(my_scaled_data_transformed)"
   ]
  },
  {
   "cell_type": "code",
   "execution_count": 87,
   "metadata": {
    "collapsed": false
   },
   "outputs": [],
   "source": [
    "my_data_scaled_GMM_clstr10 = my_scaled_data_transformed_pd.iloc[np.where(classes==unique_labels[0])[0]]\n",
    "my_data_scaled_GMM_clstr10_labels = my_data['cell_label'][np.where(classes==unique_labels[0])[0]]"
   ]
  },
  {
   "cell_type": "markdown",
   "metadata": {},
   "source": [
    "# Need to re-index the pandas dataframe"
   ]
  },
  {
   "cell_type": "code",
   "execution_count": 88,
   "metadata": {
    "collapsed": true
   },
   "outputs": [],
   "source": [
    "my_data_scaled_GMM_clstr10 = my_data_scaled_GMM_clstr10.reset_index(drop=True)\n",
    "my_data_scaled_GMM_clstr10_labels = my_data_scaled_GMM_clstr10_labels.reset_index(drop=True)"
   ]
  },
  {
   "cell_type": "code",
   "execution_count": 89,
   "metadata": {
    "collapsed": false
   },
   "outputs": [],
   "source": [
    "#print(my_data_scaled_GMM_clstr10)"
   ]
  },
  {
   "cell_type": "code",
   "execution_count": 90,
   "metadata": {
    "collapsed": false
   },
   "outputs": [],
   "source": [
    "#my_data_scaled_GMM_clstr10.shape"
   ]
  },
  {
   "cell_type": "code",
   "execution_count": 93,
   "metadata": {
    "collapsed": false
   },
   "outputs": [],
   "source": [
    "gmm1 = mixture.GaussianMixture( n_components=5, covariance_type='full') #'full', 'tied', 'diag', 'spherical'\n",
    "gmm1.fit(my_data_scaled_GMM_clstr10)\n",
    "classes1 = gmm1.predict(my_data_scaled_GMM_clstr10)\n",
    "unique_labels1 = np.unique(classes1)"
   ]
  },
  {
   "cell_type": "code",
   "execution_count": 94,
   "metadata": {
    "collapsed": false
   },
   "outputs": [
    {
     "name": "stdout",
     "output_type": "stream",
     "text": [
      "[[0, 1041, 1, 0], [1, 2618, 0, 0], [2, 778, 91, 219], [3, 569, 0, 0], [4, 2407, 26, 200]]\n"
     ]
    }
   ],
   "source": [
    "gmm_out1 = [] # This will be a list of lists where the 1st entry is the cluster ID, 2nd: is\n",
    "## how many \"unlabelled\" are in that cluster, 3rd: number of blast, 4th: number of healthy.\n",
    "for i in xrange(len(unique_labels1)):\n",
    "    clst_index1 = my_data_scaled_GMM_clstr10_labels[np.where(classes1==unique_labels1[i])[0]]\n",
    "    #clst_index1 = my_data['cell_label'][np.where(classes1==unique_labels1[i])[0]]\n",
    "    if clst_index1.isnull().sum() > 0:\n",
    "        print(\"Dangit, the indexing is screwed up\")\n",
    "        break\n",
    "    #print(clst_index1.shape)\n",
    "    #clst_index = my_data_scaled_PCA_DBSCAN0_labels[np.where(labels==unique_labels[i])[0]]\n",
    "    if clst_index1.empty == True:\n",
    "        print(\"Cluster index and original data don't line up right. STOP AND FIX\")\n",
    "        break\n",
    "    gmm_out1.append([unique_labels1[i],sum(clst_index1=='unlabelled'),\n",
    "                     sum(clst_index1=='blast'),sum(clst_index1=='healthy')])\n",
    "    #print(str(unique_labels2[i])+\"--\") # prints cluster name plus two \"--\"s\n",
    "    #print len(tsne_out_mink2[np.where(labels2==unique_labels2[i])[0],0]) # prints how many cells are in that cluster\n",
    "print(gmm_out1)"
   ]
  },
  {
   "cell_type": "code",
   "execution_count": 95,
   "metadata": {
    "collapsed": true
   },
   "outputs": [],
   "source": [
    "# Sanity check is below which should be formalized as a test.\n",
    "\n",
    "# The output for each cluster from this should block should add up to the cluster it was originally pulled from, so\n",
    "## sum up element 1, 2 and 3 and make sure that is the same as the cluster you subsetted from"
   ]
  },
  {
   "cell_type": "markdown",
   "metadata": {},
   "source": [
    "# Note that I need to re-do the indexing if I want to output any of these clusters"
   ]
  },
  {
   "cell_type": "code",
   "execution_count": null,
   "metadata": {
    "collapsed": true
   },
   "outputs": [],
   "source": []
  },
  {
   "cell_type": "code",
   "execution_count": null,
   "metadata": {
    "collapsed": true
   },
   "outputs": [],
   "source": []
  },
  {
   "cell_type": "code",
   "execution_count": null,
   "metadata": {
    "collapsed": true
   },
   "outputs": [],
   "source": []
  },
  {
   "cell_type": "code",
   "execution_count": null,
   "metadata": {
    "collapsed": true
   },
   "outputs": [],
   "source": []
  },
  {
   "cell_type": "code",
   "execution_count": null,
   "metadata": {
    "collapsed": true
   },
   "outputs": [],
   "source": []
  },
  {
   "cell_type": "code",
   "execution_count": null,
   "metadata": {
    "collapsed": true
   },
   "outputs": [],
   "source": []
  },
  {
   "cell_type": "code",
   "execution_count": null,
   "metadata": {
    "collapsed": true
   },
   "outputs": [],
   "source": []
  },
  {
   "cell_type": "code",
   "execution_count": null,
   "metadata": {
    "collapsed": true
   },
   "outputs": [],
   "source": []
  },
  {
   "cell_type": "code",
   "execution_count": null,
   "metadata": {
    "collapsed": true
   },
   "outputs": [],
   "source": []
  },
  {
   "cell_type": "code",
   "execution_count": null,
   "metadata": {
    "collapsed": true
   },
   "outputs": [],
   "source": []
  }
 ],
 "metadata": {
  "anaconda-cloud": {},
  "kernelspec": {
   "display_name": "Python [py2-env]",
   "language": "python",
   "name": "Python [py2-env]"
  },
  "language_info": {
   "codemirror_mode": {
    "name": "ipython",
    "version": 2
   },
   "file_extension": ".py",
   "mimetype": "text/x-python",
   "name": "python",
   "nbconvert_exporter": "python",
   "pygments_lexer": "ipython2",
   "version": "2.7.12"
  }
 },
 "nbformat": 4,
 "nbformat_minor": 0
}
