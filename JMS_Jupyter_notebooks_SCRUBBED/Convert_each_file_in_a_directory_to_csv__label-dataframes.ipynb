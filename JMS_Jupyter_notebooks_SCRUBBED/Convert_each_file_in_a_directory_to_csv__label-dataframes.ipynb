{
 "cells": [
  {
   "cell_type": "code",
   "execution_count": 1,
   "metadata": {
    "collapsed": false
   },
   "outputs": [
    {
     "name": "stderr",
     "output_type": "stream",
     "text": [
      "//anaconda/envs/py2-env/lib/python2.7/site-packages/sklearn/cross_validation.py:44: DeprecationWarning: This module was deprecated in version 0.18 in favor of the model_selection module into which all the refactored classes and functions are moved. Also note that the interface of the new CV iterators are different from that of this module. This module will be removed in 0.20.\n",
      "  \"This module will be removed in 0.20.\", DeprecationWarning)\n",
      "//anaconda/envs/py2-env/lib/python2.7/site-packages/sklearn/grid_search.py:43: DeprecationWarning: This module was deprecated in version 0.18 in favor of the model_selection module into which all the refactored classes and functions are moved. This module will be removed in 0.20.\n",
      "  DeprecationWarning)\n"
     ]
    }
   ],
   "source": [
    "import processing\n",
    "# functions of interest from processing: load_and_process_data puts a bunch of fcs files into one dataframe,\n",
    "## load_fcs_files_from_dropbox returns a list of pandas dataframes (each dataframe is one fcs file)\n",
    "import os\n",
    "\n",
    "import pandas as pd\n",
    "import numpy as np\n",
    "import glob"
   ]
  },
  {
   "cell_type": "markdown",
   "metadata": {},
   "source": [
    "Make sure that labelled cell popultion csvs are in the same directory as the entire well, otherwise the below name matching doesn't work. These are example file names: 'screen_525_cell_plate_1_well_c03.csv', 'screen_525_cell_plate_1_well_c03_cluster_blast.csv', 'screen_525_cell_plate_1_well_c03_cluster_healthy.csv'."
   ]
  },
  {
   "cell_type": "code",
   "execution_count": 51,
   "metadata": {
    "collapsed": false
   },
   "outputs": [
    {
     "name": "stdout",
     "output_type": "stream",
     "text": [
      "Loading: /Users/tswenson/Dropbox (COMPANY)/screens/screen_404/cell_plate_1/training_set/Well_C03_cluster_blast.fcs\n",
      "Loading: /Users/tswenson/Dropbox (COMPANY)/screens/screen_404/cell_plate_1/training_set/Well_C03_cluster_CD14+.fcs\n",
      "Loading: /Users/tswenson/Dropbox (COMPANY)/screens/screen_404/cell_plate_1/training_set/Well_C03_cluster_CD38+.fcs\n",
      "Loading: /Users/tswenson/Dropbox (COMPANY)/screens/screen_404/cell_plate_1/training_set/Well_C10_cluster_blast.fcs\n",
      "Loading: /Users/tswenson/Dropbox (COMPANY)/screens/screen_404/cell_plate_1/training_set/Well_C10_cluster_CD14+.fcs\n",
      "Loading: /Users/tswenson/Dropbox (COMPANY)/screens/screen_404/cell_plate_1/training_set/Well_C10_cluster_CD38+.fcs\n",
      "Loading: /Users/tswenson/Dropbox (COMPANY)/screens/screen_404/cell_plate_1/training_set/Well_C16_cluster_blast.fcs\n",
      "Loading: /Users/tswenson/Dropbox (COMPANY)/screens/screen_404/cell_plate_1/training_set/Well_C16_cluster_CD14+.fcs\n",
      "Loading: /Users/tswenson/Dropbox (COMPANY)/screens/screen_404/cell_plate_1/training_set/Well_C16_cluster_CD38+.fcs\n",
      "Loading: /Users/tswenson/Dropbox (COMPANY)/screens/screen_404/cell_plate_1/training_set/Well_C18_cluster_blast.fcs\n",
      "Loading: /Users/tswenson/Dropbox (COMPANY)/screens/screen_404/cell_plate_1/training_set/Well_C18_cluster_CD14+.fcs\n",
      "Loading: /Users/tswenson/Dropbox (COMPANY)/screens/screen_404/cell_plate_1/training_set/Well_C18_cluster_CD38+.fcs\n",
      "Loading: /Users/tswenson/Dropbox (COMPANY)/screens/screen_404/cell_plate_1/training_set/Well_E05_cluster_blast.fcs\n",
      "Loading: /Users/tswenson/Dropbox (COMPANY)/screens/screen_404/cell_plate_1/training_set/Well_E05_cluster_CD14+.fcs\n",
      "Loading: /Users/tswenson/Dropbox (COMPANY)/screens/screen_404/cell_plate_1/training_set/Well_E05_cluster_CD38+.fcs\n",
      "Loading: /Users/tswenson/Dropbox (COMPANY)/screens/screen_404/cell_plate_1/training_set/Well_E12_cluster_blast.fcs\n",
      "Loading: /Users/tswenson/Dropbox (COMPANY)/screens/screen_404/cell_plate_1/training_set/Well_E12_cluster_CD14+.fcs\n",
      "Loading: /Users/tswenson/Dropbox (COMPANY)/screens/screen_404/cell_plate_1/training_set/Well_E12_cluster_CD38+.fcs\n",
      "Loading: /Users/tswenson/Dropbox (COMPANY)/screens/screen_404/cell_plate_1/training_set/Well_E16_cluster_blast.fcs\n",
      "Loading: /Users/tswenson/Dropbox (COMPANY)/screens/screen_404/cell_plate_1/training_set/Well_E16_cluster_CD14+.fcs\n",
      "Loading: /Users/tswenson/Dropbox (COMPANY)/screens/screen_404/cell_plate_1/training_set/Well_E16_cluster_CD38+.fcs\n",
      "Loading: /Users/tswenson/Dropbox (COMPANY)/screens/screen_404/cell_plate_1/training_set/Well_F15_cluster_blast.fcs\n",
      "Loading: /Users/tswenson/Dropbox (COMPANY)/screens/screen_404/cell_plate_1/training_set/Well_F15_cluster_CD14+.fcs\n",
      "Loading: /Users/tswenson/Dropbox (COMPANY)/screens/screen_404/cell_plate_1/training_set/Well_F15_cluster_CD38+.fcs\n",
      "Loading: /Users/tswenson/Dropbox (COMPANY)/screens/screen_404/cell_plate_1/training_set/Well_F19_cluster_blast.fcs\n",
      "Loading: /Users/tswenson/Dropbox (COMPANY)/screens/screen_404/cell_plate_1/training_set/Well_F19_cluster_CD14+.fcs\n",
      "Loading: /Users/tswenson/Dropbox (COMPANY)/screens/screen_404/cell_plate_1/training_set/Well_F19_cluster_CD38+.fcs\n",
      "Loading: /Users/tswenson/Dropbox (COMPANY)/screens/screen_404/cell_plate_1/training_set/Well_F21_cluster_blast.fcs\n",
      "Loading: /Users/tswenson/Dropbox (COMPANY)/screens/screen_404/cell_plate_1/training_set/Well_F21_cluster_CD14+.fcs\n",
      "Loading: /Users/tswenson/Dropbox (COMPANY)/screens/screen_404/cell_plate_1/training_set/Well_F21_cluster_CD38+.fcs\n",
      "Loading: /Users/tswenson/Dropbox (COMPANY)/screens/screen_404/cell_plate_1/training_set/Well_G04_cluster_blast.fcs\n",
      "Loading: /Users/tswenson/Dropbox (COMPANY)/screens/screen_404/cell_plate_1/training_set/Well_G04_cluster_CD14+.fcs\n",
      "Loading: /Users/tswenson/Dropbox (COMPANY)/screens/screen_404/cell_plate_1/training_set/Well_G04_cluster_CD38+.fcs\n",
      "Loading: /Users/tswenson/Dropbox (COMPANY)/screens/screen_404/cell_plate_1/training_set/Well_G16_cluster_blast.fcs\n",
      "Loading: /Users/tswenson/Dropbox (COMPANY)/screens/screen_404/cell_plate_1/training_set/Well_G16_cluster_CD14+.fcs\n",
      "Loading: /Users/tswenson/Dropbox (COMPANY)/screens/screen_404/cell_plate_1/training_set/Well_G16_cluster_CD38+.fcs\n",
      "Loading: /Users/tswenson/Dropbox (COMPANY)/screens/screen_404/cell_plate_1/training_set/Well_H07_cluster_blast.fcs\n",
      "Loading: /Users/tswenson/Dropbox (COMPANY)/screens/screen_404/cell_plate_1/training_set/Well_H07_cluster_CD14+.fcs\n",
      "Loading: /Users/tswenson/Dropbox (COMPANY)/screens/screen_404/cell_plate_1/training_set/Well_H07_cluster_CD38+.fcs\n",
      "Loading: /Users/tswenson/Dropbox (COMPANY)/screens/screen_404/cell_plate_1/training_set/Well_H17_cluster_blast.fcs\n",
      "Loading: /Users/tswenson/Dropbox (COMPANY)/screens/screen_404/cell_plate_1/training_set/Well_H17_cluster_CD14+.fcs\n",
      "Loading: /Users/tswenson/Dropbox (COMPANY)/screens/screen_404/cell_plate_1/training_set/Well_H17_cluster_CD38+.fcs\n",
      "Loading: /Users/tswenson/Dropbox (COMPANY)/screens/screen_404/cell_plate_1/training_set/Well_J09_cluster_blast.fcs\n",
      "Loading: /Users/tswenson/Dropbox (COMPANY)/screens/screen_404/cell_plate_1/training_set/Well_J09_cluster_CD14+.fcs\n",
      "Loading: /Users/tswenson/Dropbox (COMPANY)/screens/screen_404/cell_plate_1/training_set/Well_J09_cluster_CD38+.fcs\n",
      "Loading: /Users/tswenson/Dropbox (COMPANY)/screens/screen_404/cell_plate_1/training_set/Well_J20_cluster_blast.fcs\n",
      "Loading: /Users/tswenson/Dropbox (COMPANY)/screens/screen_404/cell_plate_1/training_set/Well_J20_cluster_CD14+.fcs\n",
      "Loading: /Users/tswenson/Dropbox (COMPANY)/screens/screen_404/cell_plate_1/training_set/Well_J20_cluster_CD38+.fcs\n",
      "Loading: /Users/tswenson/Dropbox (COMPANY)/screens/screen_404/cell_plate_1/training_set/Well_K08_cluster_blast.fcs\n",
      "Loading: /Users/tswenson/Dropbox (COMPANY)/screens/screen_404/cell_plate_1/training_set/Well_K08_cluster_CD14+.fcs\n",
      "Loading: /Users/tswenson/Dropbox (COMPANY)/screens/screen_404/cell_plate_1/training_set/Well_K08_cluster_CD38+.fcs\n",
      "Loading: /Users/tswenson/Dropbox (COMPANY)/screens/screen_404/cell_plate_1/training_set/Well_K09_cluster_blast.fcs\n",
      "Loading: /Users/tswenson/Dropbox (COMPANY)/screens/screen_404/cell_plate_1/training_set/Well_K09_cluster_CD14+.fcs\n",
      "Loading: /Users/tswenson/Dropbox (COMPANY)/screens/screen_404/cell_plate_1/training_set/Well_K09_cluster_CD38+.fcs\n",
      "Loading: /Users/tswenson/Dropbox (COMPANY)/screens/screen_404/cell_plate_1/training_set/Well_K11_cluster_blast.fcs\n",
      "Loading: /Users/tswenson/Dropbox (COMPANY)/screens/screen_404/cell_plate_1/training_set/Well_K11_cluster_CD14+.fcs\n",
      "Loading: /Users/tswenson/Dropbox (COMPANY)/screens/screen_404/cell_plate_1/training_set/Well_K11_cluster_CD38+.fcs\n",
      "Loading: /Users/tswenson/Dropbox (COMPANY)/screens/screen_404/cell_plate_1/training_set/Well_K12_cluster_blast.fcs\n",
      "Loading: /Users/tswenson/Dropbox (COMPANY)/screens/screen_404/cell_plate_1/training_set/Well_K12_cluster_CD14+.fcs\n",
      "Loading: /Users/tswenson/Dropbox (COMPANY)/screens/screen_404/cell_plate_1/training_set/Well_K12_cluster_CD38+.fcs\n",
      "Loading: /Users/tswenson/Dropbox (COMPANY)/screens/screen_404/cell_plate_1/training_set/Well_K14_cluster_blast.fcs\n",
      "Loading: /Users/tswenson/Dropbox (COMPANY)/screens/screen_404/cell_plate_1/training_set/Well_K14_cluster_CD14+.fcs\n",
      "Loading: /Users/tswenson/Dropbox (COMPANY)/screens/screen_404/cell_plate_1/training_set/Well_K14_cluster_CD38+.fcs\n",
      "Loading: /Users/tswenson/Dropbox (COMPANY)/screens/screen_404/cell_plate_1/training_set/Well_M08_cluster_blast.fcs\n",
      "Loading: /Users/tswenson/Dropbox (COMPANY)/screens/screen_404/cell_plate_1/training_set/Well_M08_cluster_CD14+.fcs\n",
      "Loading: /Users/tswenson/Dropbox (COMPANY)/screens/screen_404/cell_plate_1/training_set/Well_M08_cluster_CD38+.fcs\n",
      "Loading: /Users/tswenson/Dropbox (COMPANY)/screens/screen_404/cell_plate_1/training_set/Well_N18_cluster_blast.fcs\n",
      "Loading: /Users/tswenson/Dropbox (COMPANY)/screens/screen_404/cell_plate_1/training_set/Well_N18_cluster_CD14+.fcs\n",
      "Loading: /Users/tswenson/Dropbox (COMPANY)/screens/screen_404/cell_plate_1/training_set/Well_N18_cluster_CD38+.fcs\n",
      "Loading: /Users/tswenson/Dropbox (COMPANY)/screens/screen_404/cell_plate_1/training_set/Well_N21_cluster_blast.fcs\n",
      "Loading: /Users/tswenson/Dropbox (COMPANY)/screens/screen_404/cell_plate_1/training_set/Well_N21_cluster_CD14+.fcs\n",
      "Loading: /Users/tswenson/Dropbox (COMPANY)/screens/screen_404/cell_plate_1/training_set/Well_N21_cluster_CD38+.fcs\n",
      "Loading: /Users/tswenson/Dropbox (COMPANY)/screens/screen_404/cell_plate_1/training_set/Well_N22_cluster_blast.fcs\n",
      "Loading: /Users/tswenson/Dropbox (COMPANY)/screens/screen_404/cell_plate_1/training_set/Well_N22_cluster_CD14+.fcs\n",
      "Loading: /Users/tswenson/Dropbox (COMPANY)/screens/screen_404/cell_plate_1/training_set/Well_N22_cluster_CD38+.fcs\n"
     ]
    }
   ],
   "source": [
    "screen_path = '/Users/tswenson/Dropbox (COMPANY)/screens/screen_525/cell_plate_1/merged/';\n",
    "#screen_path = '/Users/tswenson/Dropbox (COMPANY)/screens/screen_509/cell_plate_1/screen_509_cell_plate_1_labeled_merged/';\n",
    "#screen_path = '/Users/tswenson/Dropbox (COMPANY)/screens/screen_404/cell_plate_1/training_set/';\n",
    "#screen_path = '/Users/tswenson/Documents/Joels/Health_Data_Science/COMPANY_consulting_project/datasets/screen_357_labelled_merged/Well_';\n",
    "data = processing.load_fcs_files_from_dropbox(\\\n",
    "            location=screen_path, \\\n",
    "            filename_template='Well*.fcs', screens=None, cell_plates=None, wells=None, verbose=True)"
   ]
  },
  {
   "cell_type": "code",
   "execution_count": 52,
   "metadata": {
    "collapsed": false
   },
   "outputs": [
    {
     "data": {
      "text/plain": [
       "75"
      ]
     },
     "execution_count": 52,
     "metadata": {},
     "output_type": "execute_result"
    }
   ],
   "source": [
    "#type(data) # list\n",
    "len(data)"
   ]
  },
  {
   "cell_type": "code",
   "execution_count": 53,
   "metadata": {
    "collapsed": false
   },
   "outputs": [
    {
     "name": "stdout",
     "output_type": "stream",
     "text": [
      "<class 'pandas.core.frame.DataFrame'>\n",
      "       FSC-A      FSC-H     SSC-A     SSC-H  CD34 A : FITC A  CD34 H : FITC H  \\\n",
      "0  1252007.0  2824131.0  173886.0  518262.0          18346.0           8631.0   \n",
      "1  1046604.0  2321230.0  191444.0  498906.0          33866.0          20923.0   \n",
      "2   998666.0  2142893.0  201447.0  489040.0          44363.0           9008.0   \n",
      "3  1017947.0  2019501.0  289770.0  662070.0          48837.0          15303.0   \n",
      "4  1201963.0  2480745.0  246700.0  631443.0          52328.0          16416.0   \n",
      "\n",
      "   CD14 A : PE A  CD14 H : PE H    BL3-A    BL3-H      ...         VL4-A  \\\n",
      "0         8419.0         4759.0  10813.0   4042.0      ...        5265.0   \n",
      "1         6165.0         4233.0  18132.0   6908.0      ...       10128.0   \n",
      "2        39202.0        16919.0  25405.0  10205.0      ...       44631.0   \n",
      "3        43891.0         7672.0  36513.0   5317.0      ...       53700.0   \n",
      "4        31540.0         7776.0  19981.0   5350.0      ...       38790.0   \n",
      "\n",
      "     VL4-H    VL5-A    VL5-H  CD38 A : BV785 A  CD38 H : BV785 H        Time  \\\n",
      "0   7938.0   4339.0   4357.0            7849.0            4858.0  80907552.0   \n",
      "1   6475.0  22768.0   5317.0           11629.0            5302.0  80916744.0   \n",
      "2   9957.0  16065.0   4606.0           41956.0           10407.0  80925936.0   \n",
      "3  12968.0  22506.0  10180.0           49525.0            9772.0  80925936.0   \n",
      "4  14742.0  16310.0   4413.0           26409.0            7033.0  80925936.0   \n",
      "\n",
      "       screen                    well    cell_plate  \n",
      "0  screen_404  well_c03_cluster_blast  cell_plate_1  \n",
      "1  screen_404  well_c03_cluster_blast  cell_plate_1  \n",
      "2  screen_404  well_c03_cluster_blast  cell_plate_1  \n",
      "3  screen_404  well_c03_cluster_blast  cell_plate_1  \n",
      "4  screen_404  well_c03_cluster_blast  cell_plate_1  \n",
      "\n",
      "[5 rows x 34 columns]\n"
     ]
    }
   ],
   "source": [
    "print(type(data[0]))\n",
    "print(data[0].head())"
   ]
  },
  {
   "cell_type": "code",
   "execution_count": 39,
   "metadata": {
    "collapsed": false
   },
   "outputs": [],
   "source": [
    "cwd = os.getcwd()"
   ]
  },
  {
   "cell_type": "code",
   "execution_count": 40,
   "metadata": {
    "collapsed": false
   },
   "outputs": [
    {
     "name": "stdout",
     "output_type": "stream",
     "text": [
      "/Users/tswenson/Documents/Joels/Health_Data_Science/COMPANY_consulting_project/python_code/automated-flow-alpha/code\n"
     ]
    }
   ],
   "source": [
    "print(cwd)"
   ]
  },
  {
   "cell_type": "markdown",
   "metadata": {},
   "source": [
    "### Make a new directory for the csv files "
   ]
  },
  {
   "cell_type": "code",
   "execution_count": 54,
   "metadata": {
    "collapsed": false
   },
   "outputs": [],
   "source": [
    "dataset_dir = '/Users/tswenson/Documents/Joels/Health_Data_Science/COMPANY_consulting_project/datasets/'\n",
    "exp_name = screen_path.strip().split('/')[-2]"
   ]
  },
  {
   "cell_type": "code",
   "execution_count": 55,
   "metadata": {
    "collapsed": false
   },
   "outputs": [
    {
     "name": "stdout",
     "output_type": "stream",
     "text": [
      "training_set\n"
     ]
    }
   ],
   "source": [
    "print(exp_name)"
   ]
  },
  {
   "cell_type": "code",
   "execution_count": 56,
   "metadata": {
    "collapsed": false
   },
   "outputs": [
    {
     "name": "stdout",
     "output_type": "stream",
     "text": [
      "Making directory called/Users/tswenson/Documents/Joels/Health_Data_Science/COMPANY_consulting_project/datasets/training_set_csvs\n"
     ]
    }
   ],
   "source": [
    "directory = dataset_dir + exp_name + \"_csvs\"\n",
    "if not os.path.exists(directory):\n",
    "    print(\"Making directory called\" + directory)\n",
    "    os.makedirs(directory)\n",
    "else:\n",
    "    print(\"Direct with the following name already exists: \" + directory + '/')"
   ]
  },
  {
   "cell_type": "code",
   "execution_count": 44,
   "metadata": {
    "collapsed": false
   },
   "outputs": [
    {
     "data": {
      "text/html": [
       "<div>\n",
       "<table border=\"1\" class=\"dataframe\">\n",
       "  <thead>\n",
       "    <tr style=\"text-align: right;\">\n",
       "      <th></th>\n",
       "      <th>FSC-H</th>\n",
       "      <th>SSC-H</th>\n",
       "      <th>CD66B H : CD19 H : CD3 H : FITC H</th>\n",
       "      <th>KIT H : PE H</th>\n",
       "      <th>BL3-H</th>\n",
       "      <th>BL4-H</th>\n",
       "      <th>CD163 H : PE-CY7 H</th>\n",
       "      <th>CD33 H : APC H</th>\n",
       "      <th>RL2-H</th>\n",
       "      <th>DAPI H</th>\n",
       "      <th>...</th>\n",
       "      <th>VL2-A</th>\n",
       "      <th>VL3-A</th>\n",
       "      <th>CD34 A : BV605 A</th>\n",
       "      <th>VL5-A</th>\n",
       "      <th>CD45 A : BV785 A</th>\n",
       "      <th>Width</th>\n",
       "      <th>Time</th>\n",
       "      <th>screen</th>\n",
       "      <th>well</th>\n",
       "      <th>cell_plate</th>\n",
       "    </tr>\n",
       "  </thead>\n",
       "  <tbody>\n",
       "    <tr>\n",
       "      <th>0</th>\n",
       "      <td>8552874.0</td>\n",
       "      <td>16747756.0</td>\n",
       "      <td>2561.0</td>\n",
       "      <td>3197.0</td>\n",
       "      <td>4871.0</td>\n",
       "      <td>4552.0</td>\n",
       "      <td>13571.0</td>\n",
       "      <td>3888.0</td>\n",
       "      <td>16242.0</td>\n",
       "      <td>4453.0</td>\n",
       "      <td>...</td>\n",
       "      <td>318017.0</td>\n",
       "      <td>133264.0</td>\n",
       "      <td>120218.0</td>\n",
       "      <td>128933.0</td>\n",
       "      <td>811607.0</td>\n",
       "      <td>5259.0</td>\n",
       "      <td>7195.0</td>\n",
       "      <td>screen_509_cell_plate_1_labeled_merged</td>\n",
       "      <td>well_c03</td>\n",
       "      <td>screen_509_cell_plate_1_labeled_merged</td>\n",
       "    </tr>\n",
       "    <tr>\n",
       "      <th>1</th>\n",
       "      <td>126467.0</td>\n",
       "      <td>1181780.0</td>\n",
       "      <td>418.0</td>\n",
       "      <td>506.0</td>\n",
       "      <td>2684.0</td>\n",
       "      <td>1001.0</td>\n",
       "      <td>2692.0</td>\n",
       "      <td>1355.0</td>\n",
       "      <td>1460.0</td>\n",
       "      <td>401.0</td>\n",
       "      <td>...</td>\n",
       "      <td>-1112.0</td>\n",
       "      <td>613.0</td>\n",
       "      <td>2893.0</td>\n",
       "      <td>-28.0</td>\n",
       "      <td>2116.0</td>\n",
       "      <td>34.0</td>\n",
       "      <td>7195.0</td>\n",
       "      <td>screen_509_cell_plate_1_labeled_merged</td>\n",
       "      <td>well_c03</td>\n",
       "      <td>screen_509_cell_plate_1_labeled_merged</td>\n",
       "    </tr>\n",
       "    <tr>\n",
       "      <th>2</th>\n",
       "      <td>554668.0</td>\n",
       "      <td>1138904.0</td>\n",
       "      <td>318.0</td>\n",
       "      <td>573.0</td>\n",
       "      <td>3797.0</td>\n",
       "      <td>881.0</td>\n",
       "      <td>1376.0</td>\n",
       "      <td>1911.0</td>\n",
       "      <td>5029.0</td>\n",
       "      <td>474.0</td>\n",
       "      <td>...</td>\n",
       "      <td>1214.0</td>\n",
       "      <td>1248.0</td>\n",
       "      <td>-3270.0</td>\n",
       "      <td>-665.0</td>\n",
       "      <td>5168.0</td>\n",
       "      <td>44.0</td>\n",
       "      <td>7195.0</td>\n",
       "      <td>screen_509_cell_plate_1_labeled_merged</td>\n",
       "      <td>well_c03</td>\n",
       "      <td>screen_509_cell_plate_1_labeled_merged</td>\n",
       "    </tr>\n",
       "    <tr>\n",
       "      <th>3</th>\n",
       "      <td>1482906.0</td>\n",
       "      <td>1096343.0</td>\n",
       "      <td>982.0</td>\n",
       "      <td>962.0</td>\n",
       "      <td>639.0</td>\n",
       "      <td>735.0</td>\n",
       "      <td>1520.0</td>\n",
       "      <td>2485.0</td>\n",
       "      <td>699.0</td>\n",
       "      <td>142.0</td>\n",
       "      <td>...</td>\n",
       "      <td>-2155.0</td>\n",
       "      <td>-565.0</td>\n",
       "      <td>-1070.0</td>\n",
       "      <td>1707.0</td>\n",
       "      <td>-4829.0</td>\n",
       "      <td>47.0</td>\n",
       "      <td>7195.0</td>\n",
       "      <td>screen_509_cell_plate_1_labeled_merged</td>\n",
       "      <td>well_c03</td>\n",
       "      <td>screen_509_cell_plate_1_labeled_merged</td>\n",
       "    </tr>\n",
       "    <tr>\n",
       "      <th>4</th>\n",
       "      <td>5303188.0</td>\n",
       "      <td>1056566.0</td>\n",
       "      <td>814.0</td>\n",
       "      <td>1001.0</td>\n",
       "      <td>2804.0</td>\n",
       "      <td>2629.0</td>\n",
       "      <td>3369.0</td>\n",
       "      <td>3685.0</td>\n",
       "      <td>7976.0</td>\n",
       "      <td>1314.0</td>\n",
       "      <td>...</td>\n",
       "      <td>2493.0</td>\n",
       "      <td>-189.0</td>\n",
       "      <td>9180.0</td>\n",
       "      <td>-3246.0</td>\n",
       "      <td>1514.0</td>\n",
       "      <td>217.0</td>\n",
       "      <td>7195.0</td>\n",
       "      <td>screen_509_cell_plate_1_labeled_merged</td>\n",
       "      <td>well_c03</td>\n",
       "      <td>screen_509_cell_plate_1_labeled_merged</td>\n",
       "    </tr>\n",
       "  </tbody>\n",
       "</table>\n",
       "<p>5 rows × 35 columns</p>\n",
       "</div>"
      ],
      "text/plain": [
       "       FSC-H       SSC-H  CD66B H : CD19 H : CD3 H : FITC H  KIT H : PE H  \\\n",
       "0  8552874.0  16747756.0                             2561.0        3197.0   \n",
       "1   126467.0   1181780.0                              418.0         506.0   \n",
       "2   554668.0   1138904.0                              318.0         573.0   \n",
       "3  1482906.0   1096343.0                              982.0         962.0   \n",
       "4  5303188.0   1056566.0                              814.0        1001.0   \n",
       "\n",
       "    BL3-H   BL4-H  CD163 H : PE-CY7 H  CD33 H : APC H    RL2-H  DAPI H  \\\n",
       "0  4871.0  4552.0             13571.0          3888.0  16242.0  4453.0   \n",
       "1  2684.0  1001.0              2692.0          1355.0   1460.0   401.0   \n",
       "2  3797.0   881.0              1376.0          1911.0   5029.0   474.0   \n",
       "3   639.0   735.0              1520.0          2485.0    699.0   142.0   \n",
       "4  2804.0  2629.0              3369.0          3685.0   7976.0  1314.0   \n",
       "\n",
       "                    ...                       VL2-A     VL3-A  \\\n",
       "0                   ...                    318017.0  133264.0   \n",
       "1                   ...                     -1112.0     613.0   \n",
       "2                   ...                      1214.0    1248.0   \n",
       "3                   ...                     -2155.0    -565.0   \n",
       "4                   ...                      2493.0    -189.0   \n",
       "\n",
       "   CD34 A : BV605 A     VL5-A  CD45 A : BV785 A   Width    Time  \\\n",
       "0          120218.0  128933.0          811607.0  5259.0  7195.0   \n",
       "1            2893.0     -28.0            2116.0    34.0  7195.0   \n",
       "2           -3270.0    -665.0            5168.0    44.0  7195.0   \n",
       "3           -1070.0    1707.0           -4829.0    47.0  7195.0   \n",
       "4            9180.0   -3246.0            1514.0   217.0  7195.0   \n",
       "\n",
       "                                   screen      well  \\\n",
       "0  screen_509_cell_plate_1_labeled_merged  well_c03   \n",
       "1  screen_509_cell_plate_1_labeled_merged  well_c03   \n",
       "2  screen_509_cell_plate_1_labeled_merged  well_c03   \n",
       "3  screen_509_cell_plate_1_labeled_merged  well_c03   \n",
       "4  screen_509_cell_plate_1_labeled_merged  well_c03   \n",
       "\n",
       "                               cell_plate  \n",
       "0  screen_509_cell_plate_1_labeled_merged  \n",
       "1  screen_509_cell_plate_1_labeled_merged  \n",
       "2  screen_509_cell_plate_1_labeled_merged  \n",
       "3  screen_509_cell_plate_1_labeled_merged  \n",
       "4  screen_509_cell_plate_1_labeled_merged  \n",
       "\n",
       "[5 rows x 35 columns]"
      ]
     },
     "execution_count": 44,
     "metadata": {},
     "output_type": "execute_result"
    }
   ],
   "source": [
    "data[0].head()"
   ]
  },
  {
   "cell_type": "code",
   "execution_count": null,
   "metadata": {
    "collapsed": false,
    "scrolled": true
   },
   "outputs": [],
   "source": []
  },
  {
   "cell_type": "code",
   "execution_count": 57,
   "metadata": {
    "collapsed": false,
    "scrolled": true
   },
   "outputs": [
    {
     "name": "stdout",
     "output_type": "stream",
     "text": [
      "screen_404_cell_plate_1_well_c03_cluster_blast.csv\n",
      "0\n",
      "screen_404_cell_plate_1_well_c03_cluster_cd14+.csv\n",
      "1\n",
      "screen_404_cell_plate_1_well_c03_cluster_cd38+.csv\n",
      "2\n",
      "screen_404_cell_plate_1_well_c10_cluster_blast.csv\n",
      "3\n",
      "screen_404_cell_plate_1_well_c10_cluster_cd14+.csv\n",
      "4\n",
      "screen_404_cell_plate_1_well_c10_cluster_cd38+.csv\n",
      "5\n",
      "screen_404_cell_plate_1_well_c16_cluster_blast.csv\n",
      "6\n",
      "screen_404_cell_plate_1_well_c16_cluster_cd14+.csv\n",
      "7\n",
      "screen_404_cell_plate_1_well_c16_cluster_cd38+.csv\n",
      "8\n",
      "screen_404_cell_plate_1_well_c18_cluster_blast.csv\n",
      "9\n",
      "screen_404_cell_plate_1_well_c18_cluster_cd14+.csv\n",
      "10\n",
      "screen_404_cell_plate_1_well_c18_cluster_cd38+.csv\n",
      "11\n",
      "screen_404_cell_plate_1_well_e05_cluster_blast.csv\n",
      "12\n",
      "screen_404_cell_plate_1_well_e05_cluster_cd14+.csv\n",
      "13\n",
      "screen_404_cell_plate_1_well_e05_cluster_cd38+.csv\n",
      "14\n",
      "screen_404_cell_plate_1_well_e12_cluster_blast.csv\n",
      "15\n",
      "screen_404_cell_plate_1_well_e12_cluster_cd14+.csv\n",
      "16\n",
      "screen_404_cell_plate_1_well_e12_cluster_cd38+.csv\n",
      "17\n",
      "screen_404_cell_plate_1_well_e16_cluster_blast.csv\n",
      "18\n",
      "screen_404_cell_plate_1_well_e16_cluster_cd14+.csv\n",
      "19\n",
      "screen_404_cell_plate_1_well_e16_cluster_cd38+.csv\n",
      "20\n",
      "screen_404_cell_plate_1_well_f15_cluster_blast.csv\n",
      "21\n",
      "screen_404_cell_plate_1_well_f15_cluster_cd14+.csv\n",
      "22\n",
      "screen_404_cell_plate_1_well_f15_cluster_cd38+.csv\n",
      "23\n",
      "screen_404_cell_plate_1_well_f19_cluster_blast.csv\n",
      "24\n",
      "screen_404_cell_plate_1_well_f19_cluster_cd14+.csv\n",
      "25\n",
      "screen_404_cell_plate_1_well_f19_cluster_cd38+.csv\n",
      "26\n",
      "screen_404_cell_plate_1_well_f21_cluster_blast.csv\n",
      "27\n",
      "screen_404_cell_plate_1_well_f21_cluster_cd14+.csv\n",
      "28\n",
      "screen_404_cell_plate_1_well_f21_cluster_cd38+.csv\n",
      "29\n",
      "screen_404_cell_plate_1_well_g04_cluster_blast.csv\n",
      "30\n",
      "screen_404_cell_plate_1_well_g04_cluster_cd14+.csv\n",
      "31\n",
      "screen_404_cell_plate_1_well_g04_cluster_cd38+.csv\n",
      "32\n",
      "screen_404_cell_plate_1_well_g16_cluster_blast.csv\n",
      "33\n",
      "screen_404_cell_plate_1_well_g16_cluster_cd14+.csv\n",
      "34\n",
      "screen_404_cell_plate_1_well_g16_cluster_cd38+.csv\n",
      "35\n",
      "screen_404_cell_plate_1_well_h07_cluster_blast.csv\n",
      "36\n",
      "screen_404_cell_plate_1_well_h07_cluster_cd14+.csv\n",
      "37\n",
      "screen_404_cell_plate_1_well_h07_cluster_cd38+.csv\n",
      "38\n",
      "screen_404_cell_plate_1_well_h17_cluster_blast.csv\n",
      "39\n",
      "screen_404_cell_plate_1_well_h17_cluster_cd14+.csv\n",
      "40\n",
      "screen_404_cell_plate_1_well_h17_cluster_cd38+.csv\n",
      "41\n",
      "screen_404_cell_plate_1_well_j09_cluster_blast.csv\n",
      "42\n",
      "screen_404_cell_plate_1_well_j09_cluster_cd14+.csv\n",
      "43\n",
      "screen_404_cell_plate_1_well_j09_cluster_cd38+.csv\n",
      "44\n",
      "screen_404_cell_plate_1_well_j20_cluster_blast.csv\n",
      "45\n",
      "screen_404_cell_plate_1_well_j20_cluster_cd14+.csv\n",
      "46\n",
      "screen_404_cell_plate_1_well_j20_cluster_cd38+.csv\n",
      "47\n",
      "screen_404_cell_plate_1_well_k08_cluster_blast.csv\n",
      "48\n",
      "screen_404_cell_plate_1_well_k08_cluster_cd14+.csv\n",
      "49\n",
      "screen_404_cell_plate_1_well_k08_cluster_cd38+.csv\n",
      "50\n",
      "screen_404_cell_plate_1_well_k09_cluster_blast.csv\n",
      "51\n",
      "screen_404_cell_plate_1_well_k09_cluster_cd14+.csv\n",
      "52\n",
      "screen_404_cell_plate_1_well_k09_cluster_cd38+.csv\n",
      "53\n",
      "screen_404_cell_plate_1_well_k11_cluster_blast.csv\n",
      "54\n",
      "screen_404_cell_plate_1_well_k11_cluster_cd14+.csv\n",
      "55\n",
      "screen_404_cell_plate_1_well_k11_cluster_cd38+.csv\n",
      "56\n",
      "screen_404_cell_plate_1_well_k12_cluster_blast.csv\n",
      "57\n",
      "screen_404_cell_plate_1_well_k12_cluster_cd14+.csv\n",
      "58\n",
      "screen_404_cell_plate_1_well_k12_cluster_cd38+.csv\n",
      "59\n",
      "screen_404_cell_plate_1_well_k14_cluster_blast.csv\n",
      "60\n",
      "screen_404_cell_plate_1_well_k14_cluster_cd14+.csv\n",
      "61\n",
      "screen_404_cell_plate_1_well_k14_cluster_cd38+.csv\n",
      "62\n",
      "screen_404_cell_plate_1_well_m08_cluster_blast.csv\n",
      "63\n",
      "screen_404_cell_plate_1_well_m08_cluster_cd14+.csv\n",
      "64\n",
      "screen_404_cell_plate_1_well_m08_cluster_cd38+.csv\n",
      "65\n",
      "screen_404_cell_plate_1_well_n18_cluster_blast.csv\n",
      "66\n",
      "screen_404_cell_plate_1_well_n18_cluster_cd14+.csv\n",
      "67\n",
      "screen_404_cell_plate_1_well_n18_cluster_cd38+.csv\n",
      "68\n",
      "screen_404_cell_plate_1_well_n21_cluster_blast.csv\n",
      "69\n",
      "screen_404_cell_plate_1_well_n21_cluster_cd14+.csv\n",
      "70\n",
      "screen_404_cell_plate_1_well_n21_cluster_cd38+.csv\n",
      "71\n",
      "screen_404_cell_plate_1_well_n22_cluster_blast.csv\n",
      "72\n",
      "screen_404_cell_plate_1_well_n22_cluster_cd14+.csv\n",
      "73\n",
      "screen_404_cell_plate_1_well_n22_cluster_cd38+.csv\n",
      "74\n"
     ]
    }
   ],
   "source": [
    "idx = 0; file_name = [];\n",
    "for fcs_df in data:\n",
    "    file_name.append(fcs_df.iloc[0]['screen'] + '_' + fcs_df.iloc[0]['cell_plate']\\\n",
    "                     + '_' + fcs_df.iloc[0]['well'] + \".csv\")\n",
    "    print(file_name[idx])\n",
    "    print(idx)\n",
    "    fcs_df.to_csv(directory + '/' + file_name[idx])\n",
    "    idx += 1"
   ]
  },
  {
   "cell_type": "code",
   "execution_count": 58,
   "metadata": {
    "collapsed": false
   },
   "outputs": [
    {
     "name": "stdout",
     "output_type": "stream",
     "text": [
      "[u'FSC-A', u'FSC-H', u'SSC-A', u'SSC-H', u'CD34 A : FITC A', u'CD34 H : FITC H', u'CD14 A : PE A', u'CD14 H : PE H', u'BL3-A', u'BL3-H', u'BL4-A', u'BL4-H', u'CD66b A : CD19 A : CD3 A : PE-Cy7 A', u'CD66b H : CD19 H : CD3 H : PE-Cy7 H', u'Kit A : APC A', u'Kit H : APC H', u'RL2-A', u'RL2-H', u'DAPI A', u'DAPI H', u'VL2-A', u'VL2-H', u'VL3-A', u'VL3-H', u'VL4-A', u'VL4-H', u'VL5-A', u'VL5-H', u'CD38 A : BV785 A', u'CD38 H : BV785 H', u'Time', 'screen', 'well', 'cell_plate']\n",
      "[u'FSC-A', u'FSC-H', u'SSC-A', u'SSC-H', u'CD34 A : FITC A', u'CD34 H : FITC H', u'CD14 A : PE A', u'CD14 H : PE H', u'BL3-A', u'BL3-H', u'BL4-A', u'BL4-H', u'CD66b A : CD19 A : CD3 A : PE-Cy7 A', u'CD66b H : CD19 H : CD3 H : PE-Cy7 H', u'Kit A : APC A', u'Kit H : APC H', u'RL2-A', u'RL2-H', u'DAPI A', u'DAPI H', u'VL2-A', u'VL2-H', u'VL3-A', u'VL3-H', u'VL4-A', u'VL4-H', u'VL5-A', u'VL5-H', u'CD38 A : BV785 A', u'CD38 H : BV785 H', u'Time', 'screen', 'well', 'cell_plate']\n",
      "[u'FSC-A', u'FSC-H', u'SSC-A', u'SSC-H', u'CD34 A : FITC A', u'CD34 H : FITC H', u'CD14 A : PE A', u'CD14 H : PE H', u'BL3-A', u'BL3-H', u'BL4-A', u'BL4-H', u'CD66b A : CD19 A : CD3 A : PE-Cy7 A', u'CD66b H : CD19 H : CD3 H : PE-Cy7 H', u'Kit A : APC A', u'Kit H : APC H', u'RL2-A', u'RL2-H', u'DAPI A', u'DAPI H', u'VL2-A', u'VL2-H', u'VL3-A', u'VL3-H', u'VL4-A', u'VL4-H', u'VL5-A', u'VL5-H', u'CD38 A : BV785 A', u'CD38 H : BV785 H', u'Time', 'screen', 'well', 'cell_plate']\n"
     ]
    }
   ],
   "source": [
    "# data[0], data[1] and data[2] are parent, blast, normal (respectively). Ditto for 11, 12, 13\n",
    "# Note that the column orders are different between the parent and children and that the parent has a \"width\" column\n",
    "## while the children don't\n",
    "\n",
    "print(list(data[3].columns.values))\n",
    "print(list(data[4].columns.values))\n",
    "print(list(data[5].columns.values))"
   ]
  },
  {
   "cell_type": "code",
   "execution_count": 31,
   "metadata": {
    "collapsed": false
   },
   "outputs": [
    {
     "name": "stdout",
     "output_type": "stream",
     "text": [
      "       FSC-H       SSC-H  CD66B H : CD19 H : CD3 H : FITC H  CD14 H : PE H  \\\n",
      "0  8528540.0  16772247.0                             3821.0         4139.0   \n",
      "\n",
      "    BL3-H  7AAD H    BL5-H  CD16 H : APC H    RL2-H  KIT H : BV421 H  \\\n",
      "0  5925.0  5029.0  16137.0          5158.0  17185.0           4635.0   \n",
      "\n",
      "       ...          VL2-A    VL3-A  CD34 A : BV605 A    VL5-A     VL6-A  \\\n",
      "0      ...       316971.0 -12522.0          155582.0 -91590.0  945194.0   \n",
      "\n",
      "    Width    Time      screen      well    cell_plate  \n",
      "0  5288.0  8377.0  screen_525  well_c03  cell_plate_1  \n",
      "\n",
      "[1 rows x 35 columns]\n",
      "      FSC-A      FSC-H    SSC-A     SSC-H  CD66B A : CD19 A : CD3 A : FITC A  \\\n",
      "0  939045.0  1966693.0  99553.0  344426.0                            41750.0   \n",
      "\n",
      "   CD66B H : CD19 H : CD3 H : FITC H  CD14 A : PE A  CD14 H : PE H   BL3-A  \\\n",
      "0                            34418.0       -21164.0         5334.0 -7524.0   \n",
      "\n",
      "     BL3-H      ...       CD34 A : BV605 A  CD34 H : BV605 H    VL5-A  \\\n",
      "0  10667.0      ...               142439.0           80051.0  74544.0   \n",
      "\n",
      "     VL5-H   VL6-A   VL6-H        Time      screen                    well  \\\n",
      "0  32057.0  1176.0  4579.0  89000952.0  screen_525  well_c03_cluster_blast   \n",
      "\n",
      "     cell_plate  \n",
      "0  cell_plate_1  \n",
      "\n",
      "[1 rows x 34 columns]\n",
      "      FSC-A      FSC-H    SSC-A     SSC-H  CD66B A : CD19 A : CD3 A : FITC A  \\\n",
      "0  719351.0  1649228.0  36465.0  177984.0                           947248.0   \n",
      "\n",
      "   CD66B H : CD19 H : CD3 H : FITC H  CD14 A : PE A  CD14 H : PE H    BL3-A  \\\n",
      "0                           225735.0       -23230.0        14055.0 -13978.0   \n",
      "\n",
      "    BL3-H      ...       CD34 A : BV605 A  CD34 H : BV605 H   VL5-A   VL5-H  \\\n",
      "0  3053.0      ...               308311.0           75986.0 -9208.0  8816.0   \n",
      "\n",
      "   VL6-A   VL6-H        Time      screen                      well  \\\n",
      "0  -42.0  3648.0  89000952.0  screen_525  well_c03_cluster_healthy   \n",
      "\n",
      "     cell_plate  \n",
      "0  cell_plate_1  \n",
      "\n",
      "[1 rows x 34 columns]\n"
     ]
    }
   ],
   "source": [
    "print(data[0].head(n=1))\n",
    "print(data[1].head(n=1))\n",
    "print(data[2].head(n=1))"
   ]
  },
  {
   "cell_type": "code",
   "execution_count": 24,
   "metadata": {
    "collapsed": false
   },
   "outputs": [],
   "source": [
    "# Check if individual datasets have duplicate values\n",
    "idx = 0;\n",
    "for temp in data:\n",
    "    if temp.duplicated().sum() > 0:\n",
    "        print(\"data number \" + idx + \"has duplicated rows\")"
   ]
  },
  {
   "cell_type": "markdown",
   "metadata": {},
   "source": [
    "#### Make a function to label the parent dataframe"
   ]
  },
  {
   "cell_type": "code",
   "execution_count": 25,
   "metadata": {
    "collapsed": false
   },
   "outputs": [],
   "source": [
    "def label_dup_rows(parent_df, healthy_child_df, blast_child_df):\n",
    "    '''\n",
    "    parent, healthy_child and blast_child are pandas dataframes and should be entered in that order\n",
    "    I have 3 dataframes  \n",
    "    1) lets call it \"parent_df\" or \"p1_df\". It is ~10,000 rows and 30 columns\n",
    "    2) lets call it \"child1_df\" or \"f1_df\". It is ~1,000 rows and 29 columns. This dataframe is a subset of \"parent_df\".\n",
    "    3) \"child2_df\" or \"f2_df\". It is ~200 rows and 29 columns and is also a subset of \"parent_df\".\n",
    "I want to identify which rows in \"parent_df\" match a row in \"child1_df\" (e.g. healthy cells) or \"child2_df\" and \n",
    "    then add a column to \"parent_df\" with a label of \"child1\" or \"child2\".\n",
    "\n",
    "To do this, \n",
    "    1) I add a \"lineage\" column with a value of either \"parent\" or \"child1\" or \"child2\" to an entire dataframe.\n",
    "    2) Also add a \"cell_label\" column with a value of \"unlabelled\" or \"blast\" or \"healthy\"\n",
    "    3) Concatenate \"parent\" to \"child1\" and then use duplicate to identify and label events in\n",
    "        \"parent\" as \"healthy\", then drop \"child1\" from that dataframe\n",
    "    4) Repeat step 3 for \"child2\".\n",
    "    '''\n",
    "    # Label the lineage and cell type\n",
    "    parent_df['cell_label'] = \"unlabelled\"\n",
    "    parent_df['lineage'] = \"parent\"\n",
    "    healthy_child_df['cell_label'] = \"healthy\"\n",
    "    healthy_child_df['lineage'] = \"child1\"\n",
    "    blast_child_df['cell_label'] = \"blast\"\n",
    "    blast_child_df['lineage'] = \"child2\"\n",
    "\n",
    "    # Select all columns that you expect to match when looking for duplicates\n",
    "    cols_of_int = [x for x in list(parent_df.columns.values) if x not in [\"Width\",\"lineage\",\"cell_label\",\\\n",
    "                                                                          \"screen\",\"well\",\"cell_plate\",\"Time\"]]\n",
    "    #print(cols_of_int)\n",
    "    \n",
    "    ##### CHILD 1 = healthy\n",
    "    # Merge the parent to child1\n",
    "    concat_pd = pd.concat([parent_df, healthy_child_df], ignore_index = True)\n",
    "        \n",
    "    # Find all duplicated rows \n",
    "    dup_rows = concat_pd.duplicated(cols_of_int, keep = False)\n",
    "\n",
    "    # Set the \"cell_label\" in duplicated rows = to the child1 label\n",
    "    concat_pd.loc[dup_rows,\"cell_label\"] = \"healthy\"\n",
    "\n",
    "    # Now drop the child dataframe from the parent dataframe\n",
    "    labelled_parent = concat_pd[concat_pd.lineage != \"child1\"]\n",
    "\n",
    "    ##### CHILD 2 = blast....it might be worth generalizing the code for more labels\n",
    "    # Merge the parent to child2\n",
    "    concat_pd1 = pd.concat([labelled_parent, blast_child_df], ignore_index = True)\n",
    "        \n",
    "    # Find all duplicated rows \n",
    "    dup_rows1 = concat_pd1.duplicated(cols_of_int, keep = False)\n",
    "\n",
    "    # Set the \"cell_label\" in duplicated rows = to the child2 label\n",
    "    concat_pd1.loc[dup_rows1,\"cell_label\"] = \"blast\"\n",
    "\n",
    "    # Now drop the child dataframe from the parent dataframe\n",
    "    labelled_parent1 = concat_pd1[concat_pd1.lineage != \"child2\"]\n",
    "    \n",
    "#    print(\"one1\")\n",
    "#    print(sum(dup_rows)/2)\n",
    "#    print(\"two2\")\n",
    "#    print(sum(dup_rows1)/2)\n",
    "#    print(\"three3\")\n",
    "#    print(blast_child_df.shape)\n",
    "#    print(\"four4\")\n",
    "#    print(healthy_child_df.shape)\n",
    "#    print(\"five5\")\n",
    "#    print(parent_df.shape)\n",
    "    \n",
    "    \n",
    "    return labelled_parent1"
   ]
  },
  {
   "cell_type": "code",
   "execution_count": 26,
   "metadata": {
    "collapsed": false
   },
   "outputs": [
    {
     "data": {
      "text/plain": [
       "unlabelled    31047\n",
       "Name: cell_label, dtype: int64"
      ]
     },
     "execution_count": 26,
     "metadata": {},
     "output_type": "execute_result"
    }
   ],
   "source": [
    "labelled_test = label_dup_rows(data[0],data[2],data[1])\n",
    "labelled_test[\"cell_label\"].value_counts()"
   ]
  },
  {
   "cell_type": "code",
   "execution_count": 27,
   "metadata": {
    "collapsed": false
   },
   "outputs": [
    {
     "data": {
      "text/plain": [
       "pandas.core.frame.DataFrame"
      ]
     },
     "execution_count": 27,
     "metadata": {},
     "output_type": "execute_result"
    }
   ],
   "source": [
    "type(labelled_test)"
   ]
  },
  {
   "cell_type": "markdown",
   "metadata": {},
   "source": [
    "##### Find all children files and match them to their parent"
   ]
  },
  {
   "cell_type": "markdown",
   "metadata": {},
   "source": [
    "file_name is a list of all the csvs that I created and the pandasdataframe for each csv is in a list called data.\n",
    "so file_name[0] has the filename for the data in data[0].\n",
    "    1) Find all datasets that have been labelled for healthy and blast\n",
    "    2) Apply the above function (\"label_dup_rows\") to label the parent dataframe (p1) for both \"healthy\" and \"blast\"\n",
    "    3) Output these labelled dataframes to csv files. Use extension \"cell_populations_labelled_for_blast.csv\"\n",
    "    4) Keep track of which p1s that I have labelled\n",
    "    5) Label the rest of the dataframes as \"cell_pops_not_labelled\" and output as csv files. use extension \"cell_populations_NOT_labelled_for_blast.csv\""
   ]
  },
  {
   "cell_type": "code",
   "execution_count": 28,
   "metadata": {
    "collapsed": false
   },
   "outputs": [],
   "source": [
    "# Sanity check to make sure that file_name and data are what I think that they are\n",
    "if not len(file_name) == len(data):\n",
    "    print(\"Well this was unexpected, wires got crossed somewhere, please panic\")"
   ]
  },
  {
   "cell_type": "code",
   "execution_count": 30,
   "metadata": {
    "collapsed": false
   },
   "outputs": [
    {
     "name": "stdout",
     "output_type": "stream",
     "text": [
      "['screen_357_labelled_merged_cell_plate_1_well_e19_cluster_blast.csv', 'screen_357_labelled_merged_cell_plate_1_well_e21_cluster_blast.csv', 'screen_357_labelled_merged_cell_plate_1_well_f03_cluster_blast.csv', 'screen_357_labelled_merged_cell_plate_1_well_f05_cluster_blast.csv', 'screen_357_labelled_merged_cell_plate_1_well_f07_cluster_blast.csv', 'screen_357_labelled_merged_cell_plate_1_well_f09_cluster_blast.csv', 'screen_357_labelled_merged_cell_plate_1_well_f11_cluster_blast.csv', 'screen_357_labelled_merged_cell_plate_1_well_f13_cluster_blast.csv', 'screen_357_labelled_merged_cell_plate_1_well_f15_cluster_blast.csv', 'screen_357_labelled_merged_cell_plate_1_well_f17_cluster_blast.csv', 'screen_357_labelled_merged_cell_plate_1_well_f21_cluster_blast.csv', 'screen_357_labelled_merged_cell_plate_1_well_g03_cluster_blast.csv', 'screen_357_labelled_merged_cell_plate_1_well_g05_cluster_blast.csv', 'screen_357_labelled_merged_cell_plate_1_well_g07_cluster_blast.csv', 'screen_357_labelled_merged_cell_plate_1_well_g09_cluster_blast.csv', 'screen_357_labelled_merged_cell_plate_1_well_g11_cluster_blast.csv', 'screen_357_labelled_merged_cell_plate_1_well_g13_cluster_blast.csv', 'screen_357_labelled_merged_cell_plate_1_well_g15_cluster_blast.csv', 'screen_357_labelled_merged_cell_plate_1_well_g17_cluster_blast.csv', 'screen_357_labelled_merged_cell_plate_1_well_g19_cluster_blast.csv', 'screen_357_labelled_merged_cell_plate_1_well_g21_cluster_blast.csv', 'screen_357_labelled_merged_cell_plate_1_well_h03_cluster_blast.csv', 'screen_357_labelled_merged_cell_plate_1_well_h05_cluster_blast.csv', 'screen_357_labelled_merged_cell_plate_1_well_h07_cluster_blast.csv', 'screen_357_labelled_merged_cell_plate_1_well_h09_cluster_blast.csv', 'screen_357_labelled_merged_cell_plate_1_well_h11_cluster_blast.csv', 'screen_357_labelled_merged_cell_plate_1_well_h13_cluster_blast.csv', 'screen_357_labelled_merged_cell_plate_1_well_h15_cluster_blast.csv', 'screen_357_labelled_merged_cell_plate_1_well_h17_cluster_blast.csv', 'screen_357_labelled_merged_cell_plate_1_well_h19_cluster_blast.csv', 'screen_357_labelled_merged_cell_plate_1_well_h21_cluster_blast.csv', 'screen_357_labelled_merged_cell_plate_1_well_i03_cluster_blast.csv', 'screen_357_labelled_merged_cell_plate_1_well_i05_cluster_blast.csv', 'screen_357_labelled_merged_cell_plate_1_well_i07_cluster_blast.csv', 'screen_357_labelled_merged_cell_plate_1_well_i09_cluster_blast.csv', 'screen_357_labelled_merged_cell_plate_1_well_i11_cluster_blast.csv', 'screen_357_labelled_merged_cell_plate_1_well_i13_cluster_blast.csv', 'screen_357_labelled_merged_cell_plate_1_well_i15_cluster_blast.csv', 'screen_357_labelled_merged_cell_plate_1_well_i17_cluster_blast.csv', 'screen_357_labelled_merged_cell_plate_1_well_i19_cluster_blast.csv', 'screen_357_labelled_merged_cell_plate_1_well_i21_cluster_blast.csv', 'screen_357_labelled_merged_cell_plate_1_well_j03_cluster_blast.csv', 'screen_357_labelled_merged_cell_plate_1_well_j05_cluster_blast.csv', 'screen_357_labelled_merged_cell_plate_1_well_j07_cluster_blast.csv', 'screen_357_labelled_merged_cell_plate_1_well_j09_cluster_blast.csv', 'screen_357_labelled_merged_cell_plate_1_well_j11_cluster_blast.csv', 'screen_357_labelled_merged_cell_plate_1_well_j13_cluster_blast.csv', 'screen_357_labelled_merged_cell_plate_1_well_j15_cluster_blast.csv', 'screen_357_labelled_merged_cell_plate_1_well_j17_cluster_blast.csv', 'screen_357_labelled_merged_cell_plate_1_well_j19_cluster_blast.csv', 'screen_357_labelled_merged_cell_plate_1_well_j21_cluster_blast.csv', 'screen_357_labelled_merged_cell_plate_1_well_k03_cluster_blast.csv', 'screen_357_labelled_merged_cell_plate_1_well_k05_cluster_blast.csv', 'screen_357_labelled_merged_cell_plate_1_well_k07_cluster_blast.csv', 'screen_357_labelled_merged_cell_plate_1_well_k09_cluster_blast.csv', 'screen_357_labelled_merged_cell_plate_1_well_k11_cluster_blast.csv', 'screen_357_labelled_merged_cell_plate_1_well_k13_cluster_blast.csv', 'screen_357_labelled_merged_cell_plate_1_well_k15_cluster_blast.csv', 'screen_357_labelled_merged_cell_plate_1_well_k19_cluster_blast.csv', 'screen_357_labelled_merged_cell_plate_1_well_k21_cluster_blast.csv', 'screen_357_labelled_merged_cell_plate_1_well_l03_cluster_blast.csv', 'screen_357_labelled_merged_cell_plate_1_well_l05_cluster_blast.csv', 'screen_357_labelled_merged_cell_plate_1_well_l07_cluster_blast.csv', 'screen_357_labelled_merged_cell_plate_1_well_l09_cluster_blast.csv', 'screen_357_labelled_merged_cell_plate_1_well_l11_cluster_blast.csv', 'screen_357_labelled_merged_cell_plate_1_well_l13_cluster_blast.csv', 'screen_357_labelled_merged_cell_plate_1_well_l15_cluster_blast.csv', 'screen_357_labelled_merged_cell_plate_1_well_l17_cluster_blast.csv', 'screen_357_labelled_merged_cell_plate_1_well_l19_cluster_blast.csv', 'screen_357_labelled_merged_cell_plate_1_well_l21_cluster_blast.csv', 'screen_357_labelled_merged_cell_plate_1_well_m03_cluster_blast.csv', 'screen_357_labelled_merged_cell_plate_1_well_m05_cluster_blast.csv', 'screen_357_labelled_merged_cell_plate_1_well_m07_cluster_blast.csv', 'screen_357_labelled_merged_cell_plate_1_well_m09_cluster_blast.csv', 'screen_357_labelled_merged_cell_plate_1_well_m13_cluster_blast.csv', 'screen_357_labelled_merged_cell_plate_1_well_m15_cluster_blast.csv', 'screen_357_labelled_merged_cell_plate_1_well_m17_cluster_blast.csv', 'screen_357_labelled_merged_cell_plate_1_well_m19_cluster_blast.csv', 'screen_357_labelled_merged_cell_plate_1_well_m21_cluster_blast.csv', 'screen_357_labelled_merged_cell_plate_1_well_n03_cluster_blast.csv', 'screen_357_labelled_merged_cell_plate_1_well_n05_cluster_blast.csv', 'screen_357_labelled_merged_cell_plate_1_well_n07_cluster_blast.csv', 'screen_357_labelled_merged_cell_plate_1_well_n09_cluster_blast.csv', 'screen_357_labelled_merged_cell_plate_1_well_n11_cluster_blast.csv', 'screen_357_labelled_merged_cell_plate_1_well_n13_cluster_blast.csv', 'screen_357_labelled_merged_cell_plate_1_well_n16_cluster_blast.csv', 'screen_357_labelled_merged_cell_plate_1_well_n22_cluster_blast.csv']\n",
      "<type 'list'>\n",
      "['screen', '357', 'labelled', 'merged', 'cell', 'plate', '1', 'well', 'e19']\n",
      "screen_357_labelled_merged_cell_plate_1_well_e19\n"
     ]
    }
   ],
   "source": [
    "# Find all the data sets that have been labelled with healthy, use \n",
    "##  this to find the corresponding blast and parent dataset\n",
    "#matches = [x for x in file_name if \"blast\" in x]\n",
    "matches = [x for x in file_name if \"healthy\" in x]\n",
    "print(matches)\n",
    "print(type(matches[0].split('_')[:-2]))\n",
    "print(matches[0].split('_')[:-2])\n",
    "exp_base_name = \"_\".join(matches[0].split('_')[:-2])\n",
    "print(exp_base_name)"
   ]
  },
  {
   "cell_type": "code",
   "execution_count": 31,
   "metadata": {
    "collapsed": false
   },
   "outputs": [
    {
     "name": "stdout",
     "output_type": "stream",
     "text": [
      "['screen_357_labelled_merged_cell_plate_1_well_e19.csv', 'screen_357_labelled_merged_cell_plate_1_well_e19_cluster_blast.csv']\n"
     ]
    }
   ],
   "source": [
    "base_matches = [x for x in file_name if exp_base_name in x]\n",
    "print(base_matches)"
   ]
  },
  {
   "cell_type": "code",
   "execution_count": 32,
   "metadata": {
    "collapsed": false
   },
   "outputs": [],
   "source": [
    "p1 = [x for x in base_matches if not \"cluster\" in x]"
   ]
  },
  {
   "cell_type": "code",
   "execution_count": 33,
   "metadata": {
    "collapsed": false
   },
   "outputs": [],
   "source": [
    "blast_child = [x for x in base_matches if \"blast\" in x]"
   ]
  },
  {
   "cell_type": "code",
   "execution_count": 34,
   "metadata": {
    "collapsed": true
   },
   "outputs": [],
   "source": [
    "healthy_child = [x for x in base_matches if \"healthy\" in x]"
   ]
  },
  {
   "cell_type": "code",
   "execution_count": 35,
   "metadata": {
    "collapsed": false
   },
   "outputs": [
    {
     "name": "stdout",
     "output_type": "stream",
     "text": [
      "['screen_357_labelled_merged_cell_plate_1_well_e19.csv', 'screen_357_labelled_merged_cell_plate_1_well_e19_cluster_blast.csv']\n"
     ]
    },
    {
     "ename": "IndexError",
     "evalue": "list index out of range",
     "output_type": "error",
     "traceback": [
      "\u001b[0;31m---------------------------------------------------------------------------\u001b[0m",
      "\u001b[0;31mIndexError\u001b[0m                                Traceback (most recent call last)",
      "\u001b[0;32m<ipython-input-35-705c067417af>\u001b[0m in \u001b[0;36m<module>\u001b[0;34m()\u001b[0m\n\u001b[1;32m      1\u001b[0m \u001b[0;32mprint\u001b[0m\u001b[0;34m(\u001b[0m\u001b[0mbase_matches\u001b[0m\u001b[0;34m)\u001b[0m\u001b[0;34m\u001b[0m\u001b[0m\n\u001b[0;32m----> 2\u001b[0;31m \u001b[0;32mprint\u001b[0m\u001b[0;34m(\u001b[0m\u001b[0mhealthy_child\u001b[0m\u001b[0;34m[\u001b[0m\u001b[0;36m0\u001b[0m\u001b[0;34m]\u001b[0m\u001b[0;34m)\u001b[0m\u001b[0;34m\u001b[0m\u001b[0m\n\u001b[0m\u001b[1;32m      3\u001b[0m \u001b[0;32mprint\u001b[0m\u001b[0;34m(\u001b[0m\u001b[0mtype\u001b[0m\u001b[0;34m(\u001b[0m\u001b[0mhealthy_child\u001b[0m\u001b[0;34m[\u001b[0m\u001b[0;36m0\u001b[0m\u001b[0;34m]\u001b[0m\u001b[0;34m)\u001b[0m\u001b[0;34m)\u001b[0m\u001b[0;34m\u001b[0m\u001b[0m\n\u001b[1;32m      4\u001b[0m \u001b[0;32mprint\u001b[0m\u001b[0;34m(\u001b[0m\u001b[0mbase_matches\u001b[0m\u001b[0;34m.\u001b[0m\u001b[0mindex\u001b[0m\u001b[0;34m(\u001b[0m\u001b[0mhealthy_child\u001b[0m\u001b[0;34m[\u001b[0m\u001b[0;36m0\u001b[0m\u001b[0;34m]\u001b[0m\u001b[0;34m)\u001b[0m\u001b[0;34m)\u001b[0m\u001b[0;34m\u001b[0m\u001b[0m\n\u001b[1;32m      5\u001b[0m \u001b[0;32mprint\u001b[0m\u001b[0;34m(\u001b[0m\u001b[0mfile_name\u001b[0m\u001b[0;34m.\u001b[0m\u001b[0mindex\u001b[0m\u001b[0;34m(\u001b[0m\u001b[0mhealthy_child\u001b[0m\u001b[0;34m[\u001b[0m\u001b[0;36m0\u001b[0m\u001b[0;34m]\u001b[0m\u001b[0;34m)\u001b[0m\u001b[0;34m)\u001b[0m\u001b[0;34m\u001b[0m\u001b[0m\n",
      "\u001b[0;31mIndexError\u001b[0m: list index out of range"
     ]
    }
   ],
   "source": [
    "print(base_matches)\n",
    "print(healthy_child[0])\n",
    "print(type(healthy_child[0]))\n",
    "print(base_matches.index(healthy_child[0]))\n",
    "print(file_name.index(healthy_child[0]))\n",
    "data[file_name.index(healthy_child[0])].head(n=1)"
   ]
  },
  {
   "cell_type": "markdown",
   "metadata": {
    "collapsed": true
   },
   "source": [
    "### OK, put it all together now to label a bunch of files"
   ]
  },
  {
   "cell_type": "code",
   "execution_count": 99,
   "metadata": {
    "collapsed": false
   },
   "outputs": [
    {
     "name": "stdout",
     "output_type": "stream",
     "text": [
      "Identified['screen_525_cell_plate_1_well_c03.csv']as the parent of blast file: ['screen_525_cell_plate_1_well_c03_cluster_blast.csv'] and healthy file: ['screen_525_cell_plate_1_well_c03_cluster_healthy.csv']\n",
      "Labelling the parent now with which rows correspond to each child\n",
      "Identified['screen_525_cell_plate_1_well_c12.csv']as the parent of blast file: ['screen_525_cell_plate_1_well_c12_cluster_blast.csv'] and healthy file: ['screen_525_cell_plate_1_well_c12_cluster_healthy.csv']\n",
      "Labelling the parent now with which rows correspond to each child\n",
      "Identified['screen_525_cell_plate_1_well_c16.csv']as the parent of blast file: ['screen_525_cell_plate_1_well_c16_cluster_blast.csv'] and healthy file: ['screen_525_cell_plate_1_well_c16_cluster_healthy.csv']\n",
      "Labelling the parent now with which rows correspond to each child\n",
      "Identified['screen_525_cell_plate_1_well_d19.csv']as the parent of blast file: ['screen_525_cell_plate_1_well_d19_cluster_blast.csv'] and healthy file: ['screen_525_cell_plate_1_well_d19_cluster_healthy.csv']\n",
      "Labelling the parent now with which rows correspond to each child\n",
      "Identified['screen_525_cell_plate_1_well_d20.csv']as the parent of blast file: ['screen_525_cell_plate_1_well_d20_cluster_blast.csv'] and healthy file: ['screen_525_cell_plate_1_well_d20_cluster_healthy.csv']\n",
      "Labelling the parent now with which rows correspond to each child\n",
      "Identified['screen_525_cell_plate_1_well_e04.csv']as the parent of blast file: ['screen_525_cell_plate_1_well_e04_cluster_blast.csv'] and healthy file: ['screen_525_cell_plate_1_well_e04_cluster_healthy.csv']\n",
      "Labelling the parent now with which rows correspond to each child\n",
      "Identified['screen_525_cell_plate_1_well_e05.csv']as the parent of blast file: ['screen_525_cell_plate_1_well_e05_cluster_blast.csv'] and healthy file: ['screen_525_cell_plate_1_well_e05_cluster_healthy.csv']\n",
      "Labelling the parent now with which rows correspond to each child\n",
      "Identified['screen_525_cell_plate_1_well_e17.csv']as the parent of blast file: ['screen_525_cell_plate_1_well_e17_cluster_blast.csv'] and healthy file: ['screen_525_cell_plate_1_well_e17_cluster_healthy.csv']\n",
      "Labelling the parent now with which rows correspond to each child\n",
      "Identified['screen_525_cell_plate_1_well_e19.csv']as the parent of blast file: ['screen_525_cell_plate_1_well_e19_cluster_blast.csv'] and healthy file: ['screen_525_cell_plate_1_well_e19_cluster_healthy.csv']\n",
      "Labelling the parent now with which rows correspond to each child\n",
      "Identified['screen_525_cell_plate_1_well_e21.csv']as the parent of blast file: ['screen_525_cell_plate_1_well_e21_cluster_blast.csv'] and healthy file: ['screen_525_cell_plate_1_well_e21_cluster_healthy.csv']\n",
      "Labelling the parent now with which rows correspond to each child\n",
      "Identified['screen_525_cell_plate_1_well_f03.csv']as the parent of blast file: ['screen_525_cell_plate_1_well_f03_cluster_blast.csv'] and healthy file: ['screen_525_cell_plate_1_well_f03_cluster_healthy.csv']\n",
      "Labelling the parent now with which rows correspond to each child\n",
      "Identified['screen_525_cell_plate_1_well_f08.csv']as the parent of blast file: ['screen_525_cell_plate_1_well_f08_cluster_blast.csv'] and healthy file: ['screen_525_cell_plate_1_well_f08_cluster_healthy.csv']\n",
      "Labelling the parent now with which rows correspond to each child\n",
      "Identified['screen_525_cell_plate_1_well_f09.csv']as the parent of blast file: ['screen_525_cell_plate_1_well_f09_cluster_blast.csv'] and healthy file: ['screen_525_cell_plate_1_well_f09_cluster_healthy.csv']\n",
      "Labelling the parent now with which rows correspond to each child\n",
      "Identified['screen_525_cell_plate_1_well_g11.csv']as the parent of blast file: ['screen_525_cell_plate_1_well_g11_cluster_blast.csv'] and healthy file: ['screen_525_cell_plate_1_well_g11_cluster_healthy.csv']\n",
      "Labelling the parent now with which rows correspond to each child\n",
      "Identified['screen_525_cell_plate_1_well_g20.csv']as the parent of blast file: ['screen_525_cell_plate_1_well_g20_cluster_blast.csv'] and healthy file: ['screen_525_cell_plate_1_well_g20_cluster_healthy.csv']\n",
      "Labelling the parent now with which rows correspond to each child\n",
      "Identified['screen_525_cell_plate_1_well_h08.csv']as the parent of blast file: ['screen_525_cell_plate_1_well_h08_cluster_blast.csv'] and healthy file: ['screen_525_cell_plate_1_well_h08_cluster_healthy.csv']\n",
      "Labelling the parent now with which rows correspond to each child\n",
      "Identified['screen_525_cell_plate_1_well_h16.csv']as the parent of blast file: ['screen_525_cell_plate_1_well_h16_cluster_blast.csv'] and healthy file: ['screen_525_cell_plate_1_well_h16_cluster_healthy.csv']\n",
      "Labelling the parent now with which rows correspond to each child\n",
      "Identified['screen_525_cell_plate_1_well_i12.csv']as the parent of blast file: ['screen_525_cell_plate_1_well_i12_cluster_blast.csv'] and healthy file: ['screen_525_cell_plate_1_well_i12_cluster_healthy.csv']\n",
      "Labelling the parent now with which rows correspond to each child\n",
      "Identified['screen_525_cell_plate_1_well_j03.csv']as the parent of blast file: ['screen_525_cell_plate_1_well_j03_cluster_blast.csv'] and healthy file: ['screen_525_cell_plate_1_well_j03_cluster_healthy.csv']\n",
      "Labelling the parent now with which rows correspond to each child\n",
      "Identified['screen_525_cell_plate_1_well_j06.csv']as the parent of blast file: ['screen_525_cell_plate_1_well_j06_cluster_blast.csv'] and healthy file: ['screen_525_cell_plate_1_well_j06_cluster_healthy.csv']\n",
      "Labelling the parent now with which rows correspond to each child\n"
     ]
    }
   ],
   "source": [
    "matches = [x for x in file_name if \"healthy\" in x] # Find all files with the word healthy \n",
    "## in them (indicating that they are a subset of events that Diane classified as healthy)\n",
    "labelled_pds_dfs = []; which_pds_dfs_got_lab = [] # This is a list of indexes so that I don't overwrite them later...not implemented\n",
    "for idx, match in enumerate(matches):\n",
    "    p1_data_loc = None; blast_data_loc = None; healthy_data_loc = None;\n",
    "    exp_base_name = \"_\".join(matches[idx].split('_')[:-2])\n",
    "    base_matches = [x for x in file_name if exp_base_name in x]\n",
    "    p1 = [x for x in base_matches if not \"cluster\" in x]\n",
    "    blast_child = [x for x in base_matches if \"blast\" in x]\n",
    "    healthy_child = [x for x in base_matches if \"healthy\" in x]\n",
    "    print(\"Identified\" + str(p1) + \"as the parent of blast file: \" + str(blast_child) +\\\n",
    "          \" and healthy file: \" + str(healthy_child))\n",
    "    print(\"Labelling the parent now with which rows correspond to each child\")\n",
    "    p1_data_loc = file_name.index(p1[0])\n",
    "    blast_data_loc = file_name.index(blast_child[0])\n",
    "    healthy_data_loc = file_name.index(healthy_child[0])    \n",
    "    # Below input to function should be in the order: parent, healthy, blast\n",
    "    labelled_pds_dfs.append(label_dup_rows(data[p1_data_loc],data[healthy_data_loc],data[blast_data_loc]))\n",
    "    # Write out the labelled file\n",
    "    labelled_pds_dfs[idx].to_csv(directory + '/' + \"LABELLED_by_cell_type_\" + file_name[p1_data_loc])\n",
    "    "
   ]
  },
  {
   "cell_type": "code",
   "execution_count": 91,
   "metadata": {
    "collapsed": false
   },
   "outputs": [
    {
     "name": "stdout",
     "output_type": "stream",
     "text": [
      "20\n",
      "<type 'list'>\n",
      "200\n",
      "20\n",
      "<class 'pandas.core.frame.DataFrame'>\n",
      "unlabelled    5626\n",
      "healthy         39\n",
      "blast           25\n",
      "Name: cell_label, dtype: int64\n"
     ]
    }
   ],
   "source": [
    "print(len(labelled_pds_dfs))\n",
    "print(type(labelled_pds_dfs))\n",
    "print(len(file_name))\n",
    "print(len(matches))\n",
    "\n",
    "print(type(labelled_pds_dfs[0]))\n",
    "#bobbb = labelled_pds_dfs[0]\n",
    "print(labelled_pds_dfs[2][\"cell_label\"].value_counts())"
   ]
  },
  {
   "cell_type": "markdown",
   "metadata": {},
   "source": [
    "#### Write the labelled data to file"
   ]
  },
  {
   "cell_type": "code",
   "execution_count": null,
   "metadata": {
    "collapsed": true
   },
   "outputs": [],
   "source": [
    "for lab_file in labelled_pds_dfs\n",
    "    lab_file.to_csv(directory + '/' + file_name[idx])"
   ]
  },
  {
   "cell_type": "code",
   "execution_count": null,
   "metadata": {
    "collapsed": true
   },
   "outputs": [],
   "source": []
  },
  {
   "cell_type": "code",
   "execution_count": null,
   "metadata": {
    "collapsed": true
   },
   "outputs": [],
   "source": []
  },
  {
   "cell_type": "code",
   "execution_count": null,
   "metadata": {
    "collapsed": true
   },
   "outputs": [],
   "source": []
  },
  {
   "cell_type": "code",
   "execution_count": null,
   "metadata": {
    "collapsed": true
   },
   "outputs": [],
   "source": []
  },
  {
   "cell_type": "code",
   "execution_count": null,
   "metadata": {
    "collapsed": true
   },
   "outputs": [],
   "source": []
  },
  {
   "cell_type": "code",
   "execution_count": null,
   "metadata": {
    "collapsed": true
   },
   "outputs": [],
   "source": []
  },
  {
   "cell_type": "code",
   "execution_count": null,
   "metadata": {
    "collapsed": true
   },
   "outputs": [],
   "source": []
  },
  {
   "cell_type": "code",
   "execution_count": null,
   "metadata": {
    "collapsed": true
   },
   "outputs": [],
   "source": []
  },
  {
   "cell_type": "code",
   "execution_count": null,
   "metadata": {
    "collapsed": true
   },
   "outputs": [],
   "source": []
  },
  {
   "cell_type": "code",
   "execution_count": null,
   "metadata": {
    "collapsed": true
   },
   "outputs": [],
   "source": []
  },
  {
   "cell_type": "code",
   "execution_count": null,
   "metadata": {
    "collapsed": false
   },
   "outputs": [],
   "source": []
  },
  {
   "cell_type": "code",
   "execution_count": null,
   "metadata": {
    "collapsed": false
   },
   "outputs": [],
   "source": []
  },
  {
   "cell_type": "markdown",
   "metadata": {},
   "source": []
  },
  {
   "cell_type": "code",
   "execution_count": null,
   "metadata": {
    "collapsed": true
   },
   "outputs": [],
   "source": []
  },
  {
   "cell_type": "code",
   "execution_count": null,
   "metadata": {
    "collapsed": true
   },
   "outputs": [],
   "source": []
  },
  {
   "cell_type": "code",
   "execution_count": null,
   "metadata": {
    "collapsed": true
   },
   "outputs": [],
   "source": []
  },
  {
   "cell_type": "code",
   "execution_count": null,
   "metadata": {
    "collapsed": true
   },
   "outputs": [],
   "source": []
  }
 ],
 "metadata": {
  "kernelspec": {
   "display_name": "Python [py2-env]",
   "language": "python",
   "name": "Python [py2-env]"
  },
  "language_info": {
   "codemirror_mode": {
    "name": "ipython",
    "version": 2
   },
   "file_extension": ".py",
   "mimetype": "text/x-python",
   "name": "python",
   "nbconvert_exporter": "python",
   "pygments_lexer": "ipython2",
   "version": "2.7.12"
  }
 },
 "nbformat": 4,
 "nbformat_minor": 0
}
