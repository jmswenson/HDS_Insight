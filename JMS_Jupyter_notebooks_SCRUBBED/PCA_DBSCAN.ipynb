{
 "cells": [
  {
   "cell_type": "markdown",
   "metadata": {},
   "source": [
    "# Try DBSCAN on PCAd and non-PCAd data"
   ]
  },
  {
   "cell_type": "code",
   "execution_count": 1,
   "metadata": {
    "collapsed": true
   },
   "outputs": [],
   "source": [
    "import os\n",
    "import glob\n",
    "\n",
    "import numpy as np\n",
    "import pandas as pd\n",
    "import matplotlib.pyplot as plt\n",
    "import seaborn as sns\n",
    "\n",
    "\n",
    "from sklearn import decomposition, metrics\n",
    "from sklearn.preprocessing import scale, robust_scale\n",
    "from sklearn.cluster import DBSCAN\n",
    "#from sklearn.manifold import TSNE\n",
    "%matplotlib inline"
   ]
  },
  {
   "cell_type": "code",
   "execution_count": null,
   "metadata": {
    "collapsed": true
   },
   "outputs": [],
   "source": []
  },
  {
   "cell_type": "code",
   "execution_count": 2,
   "metadata": {
    "collapsed": true
   },
   "outputs": [],
   "source": [
    "# Read in data\n",
    "filename = '/Users/tswenson/Documents/Joels/Health_Data_Science/COMPANY_consulting_project/datasets/merged_csvs/LABELLED_by_cell_type_screen_525_cell_plate_1_well_c03.csv'\n",
    "my_data=pd.read_csv(filename, index_col=0)"
   ]
  },
  {
   "cell_type": "code",
   "execution_count": 3,
   "metadata": {
    "collapsed": true
   },
   "outputs": [],
   "source": [
    "# Find data columns\n",
    "my_data_headers = list(my_data)\n",
    "meta_headers = [\"Width\",\"cell_label\",\"cell_plate\",\"lineage\",\"screen\",\"well\",\"Time\"]\n",
    "my_data_data_headers = [x for x in my_data_headers if not x in meta_headers]\n",
    "# Scale the data columns\n",
    "my_scaled_data = scale(my_data[my_data_data_headers])\n",
    "# Make a list where cell_label is converted to numbers for plotting\n",
    "word_as_num=[]\n",
    "for word in my_data['cell_label']:\n",
    "    if word == \"unlabelled\":\n",
    "        word_as_num.append(\"0\")\n",
    "    if word == \"blast\":\n",
    "        word_as_num.append(\"0.5\")\n",
    "    if word == \"healthy\":\n",
    "        word_as_num.append(\"1\")"
   ]
  },
  {
   "cell_type": "code",
   "execution_count": 4,
   "metadata": {
    "collapsed": false
   },
   "outputs": [
    {
     "data": {
      "text/plain": [
       "PCA(copy=True, n_components=None, whiten=False)"
      ]
     },
     "execution_count": 4,
     "metadata": {},
     "output_type": "execute_result"
    }
   ],
   "source": [
    "# Do PCA\n",
    "# Perform PCA\n",
    "pca = decomposition.PCA()\n",
    "pca.fit(my_scaled_data)"
   ]
  },
  {
   "cell_type": "code",
   "execution_count": 5,
   "metadata": {
    "collapsed": false
   },
   "outputs": [
    {
     "data": {
      "text/plain": [
       "[<matplotlib.lines.Line2D at 0x1182bbe10>]"
      ]
     },
     "execution_count": 5,
     "metadata": {},
     "output_type": "execute_result"
    },
    {
     "data": {
      "image/png": "[encoded data removed]",
      "text/plain": [
       "<matplotlib.figure.Figure at 0x117b98090>"
      ]
     },
     "metadata": {},
     "output_type": "display_data"
    }
   ],
   "source": [
    "# Plot var explained per component\n",
    "#The amount of variance that each PC explains\n",
    "var=pca.explained_variance_ratio_\n",
    "plt.plot(var)"
   ]
  },
  {
   "cell_type": "code",
   "execution_count": 6,
   "metadata": {
    "collapsed": false
   },
   "outputs": [
    {
     "data": {
      "text/plain": [
       "[<matplotlib.lines.Line2D at 0x11b8be3d0>]"
      ]
     },
     "execution_count": 6,
     "metadata": {},
     "output_type": "execute_result"
    },
    {
     "data": {
      "image/png": "[encoded data removed]",
      "text/plain": [
       "<matplotlib.figure.Figure at 0x11831dc50>"
      ]
     },
     "metadata": {},
     "output_type": "display_data"
    }
   ],
   "source": [
    "#Cumulative Variance explains\n",
    "var1=np.cumsum(np.round(pca.explained_variance_ratio_, decimals=4)*100)\n",
    "plt.plot(var1)"
   ]
  },
  {
   "cell_type": "code",
   "execution_count": 7,
   "metadata": {
    "collapsed": true
   },
   "outputs": [],
   "source": [
    "# Transform my data based on the PCA results\n",
    "pca = decomposition.PCA(n_components = 10)\n",
    "my_scaled_data_transformed = pca.fit_transform(my_scaled_data)"
   ]
  },
  {
   "cell_type": "code",
   "execution_count": 8,
   "metadata": {
    "collapsed": true
   },
   "outputs": [],
   "source": [
    "# Convert transformed data into a pandas dataframe and then combine it with the meta data\n",
    "my_scaled_data_transformed_pd = pd.DataFrame(my_scaled_data_transformed)\n",
    "\n",
    "# Combine it with the meta data\n",
    "my_scaled_data_transformed_pd_meta = pd.concat([my_scaled_data_transformed_pd, my_data[meta_headers]], axis=1);\n",
    "# Note that the above line works because they have the same index, if they didn't and I \n",
    "## wanted to perform a cbind, I could say my_scaled_data_transformed_pd.reset_index(drop=True)"
   ]
  },
  {
   "cell_type": "code",
   "execution_count": 9,
   "metadata": {
    "collapsed": false,
    "scrolled": true
   },
   "outputs": [
    {
     "name": "stdout",
     "output_type": "stream",
     "text": [
      "    Width  cell_label    cell_plate lineage      screen      well    Time\n",
      "0  5288.0  unlabelled  cell_plate_1  parent  screen_525  well_c03  8377.0\n",
      "1    36.0  unlabelled  cell_plate_1  parent  screen_525  well_c03  8377.0\n",
      "NEXT------------------------\n",
      "           0          1          2          3          4          5  \\\n",
      "0 -43.121483 -13.213300  84.447944  65.967352 -62.290093 -12.051844   \n",
      "1   0.722782   0.013042   1.482393  -0.021735  -0.747183   0.620734   \n",
      "\n",
      "           6         7         8         9  \n",
      "0 -20.514740 -6.116185 -1.487347  5.565701  \n",
      "1   1.950387  0.500923  0.290362  0.043254  \n",
      "NEXT------------------------\n",
      "           0          1          2          3          4          5  \\\n",
      "0 -43.121483 -13.213300  84.447944  65.967352 -62.290093 -12.051844   \n",
      "1   0.722782   0.013042   1.482393  -0.021735  -0.747183   0.620734   \n",
      "\n",
      "           6         7         8         9   Width  cell_label    cell_plate  \\\n",
      "0 -20.514740 -6.116185 -1.487347  5.565701  5288.0  unlabelled  cell_plate_1   \n",
      "1   1.950387  0.500923  0.290362  0.043254    36.0  unlabelled  cell_plate_1   \n",
      "\n",
      "  lineage      screen      well    Time  \n",
      "0  parent  screen_525  well_c03  8377.0  \n",
      "1  parent  screen_525  well_c03  8377.0  \n"
     ]
    }
   ],
   "source": [
    "print(my_data[meta_headers].head(n=2))\n",
    "print(\"NEXT------------------------\")\n",
    "print(my_scaled_data_transformed_pd.head(n=2))\n",
    "print(\"NEXT------------------------\")\n",
    "print(my_scaled_data_transformed_pd_meta.head(n=2))"
   ]
  },
  {
   "cell_type": "code",
   "execution_count": 12,
   "metadata": {
    "collapsed": false
   },
   "outputs": [
    {
     "name": "stdout",
     "output_type": "stream",
     "text": [
      "Starting DBSCAN\n"
     ]
    },
    {
     "data": {
      "text/plain": [
       "'\\nprint(\"Plotting DBSCAN\")\\n# Plot the DBSCAN results\\nplt.figure(figsize=(20, 10))\\nplt.gcf().clear()\\nplt.subplot(121)\\ncol = np.linspace(0,1,len(unique_labels))\\nfor i in xrange(len(unique_labels)):\\n    plt.plot(tsne_out_mink[np.where(labels==unique_labels[i])[0], 0], \\n         tsne_out_mink[np.where(labels==unique_labels[i])[0], 1],\\n            #\\'o\\', mfc=plt.cm.viridis(col[i]), label=unique_labels[i])\\n            \\'o\\', mfc=plt.cm.nipy_spectral(col[i]), label=unique_labels[i])\\n            #\\'o\\', mfc=plt.cm.prism(col[i]), label=unique_labels[i])\\n            #\\'o\\', mfc=plt.cm.flag(col[i]), label=unique_labels[i])\\nplt.legend(loc=\\'best\\', frameon=False)\\nplt.savefig(filename + \"__DBSCAN_of_tsne.png\")\\nplt.close()\\n'"
      ]
     },
     "execution_count": 12,
     "metadata": {},
     "output_type": "execute_result"
    }
   ],
   "source": [
    "# Do DBSCAN on the PCAd data\n",
    "print(\"Starting DBSCAN\")\n",
    "dbsc = DBSCAN(eps = .6,min_samples=10).fit(my_scaled_data_transformed_pd)\n",
    "labels = dbsc.labels_\n",
    "core_samples = np.zeros_like(labels, dtype = bool)\n",
    "core_samples[dbsc.core_sample_indices_] = True\n",
    "unique_labels = np.unique(labels)\n",
    "'''\n",
    "print(\"Plotting DBSCAN\")\n",
    "# Plot the DBSCAN results\n",
    "plt.figure(figsize=(20, 10))\n",
    "plt.gcf().clear()\n",
    "plt.subplot(121)\n",
    "col = np.linspace(0,1,len(unique_labels))\n",
    "for i in xrange(len(unique_labels)):\n",
    "    plt.plot(tsne_out_mink[np.where(labels==unique_labels[i])[0], 0], \n",
    "         tsne_out_mink[np.where(labels==unique_labels[i])[0], 1],\n",
    "            #'o', mfc=plt.cm.viridis(col[i]), label=unique_labels[i])\n",
    "            'o', mfc=plt.cm.nipy_spectral(col[i]), label=unique_labels[i])\n",
    "            #'o', mfc=plt.cm.prism(col[i]), label=unique_labels[i])\n",
    "            #'o', mfc=plt.cm.flag(col[i]), label=unique_labels[i])\n",
    "plt.legend(loc='best', frameon=False)\n",
    "plt.savefig(filename + \"__DBSCAN_of_tsne.png\")\n",
    "plt.close()\n",
    "'''"
   ]
  },
  {
   "cell_type": "code",
   "execution_count": 14,
   "metadata": {
    "collapsed": false
   },
   "outputs": [
    {
     "name": "stdout",
     "output_type": "stream",
     "text": [
      "[[-1, 1426, 94, 160], [0, 6953, 83, 333], [1, 3, 12, 0], [2, 17, 0, 0]]\n"
     ]
    }
   ],
   "source": [
    "DB_PCA = [] # This will be a list of lists where the 1st entry is the cluster ID, 2nd: is\n",
    "## how many \"unlabelled\" are in that cluster, 3rd: number of blast, 4th: number of healthy.\n",
    "for i in xrange(len(unique_labels)):\n",
    "    clst_index = my_data['cell_label'][np.where(labels==unique_labels[i])[0]]\n",
    "    if clst_index.empty == True:\n",
    "        print(\"Cluster index and original data don't line up right. STOP AND FIX\")\n",
    "        break\n",
    "    DB_PCA.append([unique_labels[i],sum(clst_index=='unlabelled'),\n",
    "                     sum(clst_index=='blast'),sum(clst_index=='healthy')])\n",
    "    #print(str(unique_labels2[i])+\"--\") # prints cluster name plus two \"--\"s\n",
    "    #print len(tsne_out_mink2[np.where(labels2==unique_labels2[i])[0],0]) # prints how many cells are in that cluster\n",
    "print(DB_PCA) # This was print(tsne_db_2)"
   ]
  },
  {
   "cell_type": "code",
   "execution_count": 27,
   "metadata": {
    "collapsed": false
   },
   "outputs": [
    {
     "data": {
      "text/plain": [
       "(3.0, 10000.0)"
      ]
     },
     "execution_count": 27,
     "metadata": {},
     "output_type": "execute_result"
    },
    {
     "data": {
      "image/png": "[encoded data removed]",
      "text/plain": [
       "<matplotlib.figure.Figure at 0x11fd97e10>"
      ]
     },
     "metadata": {},
     "output_type": "display_data"
    }
   ],
   "source": [
    "# Convert the list of lists to a pandas dataframe\n",
    "DB_PCA_df = pd.DataFrame(DB_PCA,columns=[\"Cluster Label\",\"Unlabelled\",\"Blast\",\"Healthy\"])\n",
    "DB_PCA_df_melted = pd.melt(DB_PCA_df,value_vars=[\"Unlabelled\",\"Blast\",\"Healthy\"],id_vars=\"Cluster Label\")\n",
    "# Plot the results\n",
    "ax = sns.barplot(hue=\"variable\",y=\"value\",x=\"Cluster Label\",data=DB_PCA_df_melted,log='y')\n",
    "plt.title(\"PCAd_eps=0.6\")\n",
    "plt.ylim(0, plt.ylim()[1])\n",
    "#plt.ylim(plt.ylim()[0]-100, plt.ylim()[1])"
   ]
  },
  {
   "cell_type": "code",
   "execution_count": null,
   "metadata": {
    "collapsed": true
   },
   "outputs": [],
   "source": [
    "'''\n",
    "### Only plot clusters with more than 50 events\n",
    "tsne_db_df_50 = tsne_db_df[tsne_db_df.sum(axis=1)>50]\n",
    "tsne_db_df_50_melted = pd.melt(tsne_db_df_50,value_vars=[\"Unlabelled\",\"Blast\",\"Healthy\"],id_vars=\"Cluster Label\")\n",
    "ax = sns.barplot(hue=\"variable\",y=\"value\",x=\"Cluster Label\",data=tsne_db_df_50_melted,log='y')\n",
    "plt.savefig('C03_large_clstrs_only__barplot.png')\n",
    "plt.close()\n",
    "'''"
   ]
  },
  {
   "cell_type": "markdown",
   "metadata": {},
   "source": [
    "# Automate the above and play with the hyper-parameters"
   ]
  },
  {
   "cell_type": "code",
   "execution_count": 10,
   "metadata": {
    "collapsed": true
   },
   "outputs": [],
   "source": [
    "eps_param = [0.1, 0.2, 0.3, 0.4, 0.5, 0.6, 0.7, 0.8, 0.9, 1, 1.4, 1.8, 3, 6, 12]\n",
    "algorithm_ = [\"auto\", \"ball_tree\",\"kd_tree\",\"brute\"]\n",
    "metric_ = [\"cityblock\",\"euclidean\",\"l1\",\"l2\",\"manhattan\",\\\n",
    "           \"chebyshev\", \\\n",
    "           \"dice\", \"hamming\", \"jaccard\", \"kulsinski\", \\\n",
    "           \"matching\", \"rogerstanimoto\", \"russellrao\",\\\n",
    "           \"sokalmichener\", \"sokalsneath\", \"yule\"]\n",
    "# metric not run with auto: \"cosine\", \"correlation\", \"mahalanobis\", \\\n",
    "# \"minkowski\", \"seuclidean\", \"sqeuclidean\", \"yule\"\n",
    "# \"braycurtis\", \"canberra\" only run with auto and ball_tree"
   ]
  },
  {
   "cell_type": "code",
   "execution_count": 11,
   "metadata": {
    "collapsed": false
   },
   "outputs": [],
   "source": [
    "\n",
    "metric_ = [\"jaccard\", \"kulsinski\", \\\n",
    "           \"matching\", \"rogerstanimoto\", \"russellrao\",\\\n",
    "           \"sokalmichener\", \"sokalsneath\", \"yule\"]\n",
    "metric_auto_only = [ \"braycurtis\", \"canberra\",\\\n",
    "           \"dice\", \"hamming\",\"jaccard\", \"kulsinski\", \\\n",
    "           \"matching\", \"rogerstanimoto\", \"russellrao\",\\\n",
    "           \"sokalmichener\", \"sokalsneath\", \"yule\"]"
   ]
  },
  {
   "cell_type": "code",
   "execution_count": 14,
   "metadata": {
    "collapsed": false
   },
   "outputs": [
    {
     "data": {
      "text/plain": [
       "[1.0,\n",
       " 1.05,\n",
       " 1.1,\n",
       " 1.15,\n",
       " 1.2,\n",
       " 1.25,\n",
       " 1.3,\n",
       " 1.35,\n",
       " 1.4,\n",
       " 1.45,\n",
       " 1.5,\n",
       " 1.55,\n",
       " 1.6,\n",
       " 1.65,\n",
       " 1.7,\n",
       " 1.75,\n",
       " 1.8,\n",
       " 1.85,\n",
       " 1.9,\n",
       " 1.95,\n",
       " 2.0,\n",
       " 2.05,\n",
       " 2.1,\n",
       " 2.15,\n",
       " 2.2,\n",
       " 2.25,\n",
       " 2.3,\n",
       " 2.35,\n",
       " 2.4,\n",
       " 2.45,\n",
       " 2.5,\n",
       " 2.55,\n",
       " 2.6,\n",
       " 2.65,\n",
       " 2.7,\n",
       " 2.75,\n",
       " 2.8,\n",
       " 2.85,\n",
       " 2.9,\n",
       " 2.95,\n",
       " 3.0,\n",
       " 3.05,\n",
       " 3.1,\n",
       " 3.15,\n",
       " 3.2,\n",
       " 3.25,\n",
       " 3.3,\n",
       " 3.35,\n",
       " 3.4,\n",
       " 3.45]"
      ]
     },
     "execution_count": 14,
     "metadata": {},
     "output_type": "execute_result"
    }
   ],
   "source": [
    "metric_ = [\"canberra\"]\n",
    "eps_param = [float(x)/20 for x in list(range(20,70,1))]\n",
    "eps_param"
   ]
  },
  {
   "cell_type": "code",
   "execution_count": 15,
   "metadata": {
    "collapsed": false
   },
   "outputs": [
    {
     "name": "stdout",
     "output_type": "stream",
     "text": [
      "Starting DBSCAN with EPS of 1.0 ALGORITHM of auto distance METRIC of canberra\n",
      "[[-1, 7932, 185, 493], [0, 81, 0, 0], [1, 12, 0, 0], [2, 26, 0, 0], [3, 15, 0, 0], [4, 5, 0, 0], [5, 43, 0, 0], [6, 25, 0, 0], [7, 1, 4, 0], [8, 128, 0, 0], [9, 5, 0, 0], [10, 22, 0, 0], [11, 27, 0, 0], [12, 17, 0, 0], [13, 5, 0, 0], [14, 7, 0, 0], [15, 5, 0, 0], [16, 5, 0, 0], [17, 5, 0, 0], [18, 6, 0, 0], [19, 11, 0, 0], [20, 6, 0, 0], [21, 5, 0, 0], [22, 5, 0, 0]]\n",
      "Done with iteration with EPS of 1.0 ALGORITHM of auto distance METRIC of canberra\n",
      "Starting DBSCAN with EPS of 1.05 ALGORITHM of auto distance METRIC of canberra\n",
      "[[-1, 7796, 180, 493], [0, 6, 0, 0], [1, 12, 0, 0], [2, 108, 0, 0], [3, 5, 0, 0], [4, 37, 0, 0], [5, 28, 0, 0], [6, 15, 0, 0], [7, 7, 0, 0], [8, 43, 0, 0], [9, 49, 0, 0], [10, 1, 4, 0], [11, 164, 0, 0], [12, 0, 5, 0], [13, 5, 0, 0], [14, 23, 0, 0], [15, 28, 0, 0], [16, 7, 0, 0], [17, 7, 0, 0], [18, 5, 0, 0], [19, 5, 0, 0], [20, 4, 0, 0], [21, 5, 0, 0], [22, 11, 0, 0], [23, 4, 0, 0], [24, 5, 0, 0], [25, 4, 0, 0], [26, 5, 0, 0], [27, 5, 0, 0], [28, 5, 0, 0]]\n",
      "Done with iteration with EPS of 1.05 ALGORITHM of auto distance METRIC of canberra\n",
      "Starting DBSCAN with EPS of 1.1 ALGORITHM of auto distance METRIC of canberra\n",
      "[[-1, 7632, 176, 493], [0, 7, 0, 0], [1, 197, 0, 0], [2, 15, 0, 0], [3, 133, 0, 0], [4, 67, 0, 0], [5, 6, 0, 0], [6, 54, 0, 0], [7, 73, 0, 0], [8, 64, 0, 0], [9, 1, 5, 0], [10, 30, 0, 0], [11, 0, 8, 0], [12, 33, 0, 0], [13, 8, 0, 0], [14, 8, 0, 0], [15, 5, 0, 0], [16, 6, 0, 0], [17, 6, 0, 0], [18, 5, 0, 0], [19, 3, 0, 0], [20, 3, 0, 0], [21, 5, 0, 0], [22, 3, 0, 0], [23, 6, 0, 0], [24, 11, 0, 0], [25, 5, 0, 0], [26, 5, 0, 0], [27, 3, 0, 0], [28, 5, 0, 0]]\n",
      "Done with iteration with EPS of 1.1 ALGORITHM of auto distance METRIC of canberra\n",
      "Starting DBSCAN with EPS of 1.15 ALGORITHM of auto distance METRIC of canberra\n",
      "[[-1, 7451, 169, 493], [0, 7, 0, 0], [1, 71, 0, 0], [2, 17, 0, 0], [3, 223, 0, 0], [4, 145, 0, 0], [5, 0, 15, 0], [6, 75, 0, 0], [7, 102, 0, 0], [8, 10, 0, 0], [9, 13, 0, 0], [10, 26, 0, 0], [11, 7, 0, 0], [12, 76, 0, 0], [13, 1, 5, 0], [14, 53, 0, 0], [15, 42, 0, 0], [16, 5, 0, 0], [17, 13, 0, 0], [18, 16, 0, 0], [19, 6, 0, 0], [20, 6, 0, 0], [21, 3, 0, 0], [22, 5, 0, 0], [23, 3, 0, 0], [24, 4, 0, 0], [25, 5, 0, 0], [26, 5, 0, 0], [27, 4, 0, 0], [28, 5, 0, 0]]\n",
      "Done with iteration with EPS of 1.15 ALGORITHM of auto distance METRIC of canberra\n",
      "Starting DBSCAN with EPS of 1.2 ALGORITHM of auto distance METRIC of canberra\n",
      "[[-1, 7273, 163, 493], [0, 8, 0, 0], [1, 37, 0, 0], [2, 154, 0, 0], [3, 87, 0, 0], [4, 244, 0, 0], [5, 0, 17, 0], [6, 55, 0, 0], [7, 82, 0, 0], [8, 117, 0, 0], [9, 8, 0, 0], [10, 14, 0, 0], [11, 85, 0, 0], [12, 1, 9, 0], [13, 58, 0, 0], [14, 21, 0, 0], [15, 47, 0, 0], [16, 7, 0, 0], [17, 6, 0, 0], [18, 12, 0, 0], [19, 20, 0, 0], [20, 9, 0, 0], [21, 5, 0, 0], [22, 5, 0, 0], [23, 3, 0, 0], [24, 3, 0, 0], [25, 5, 0, 0], [26, 5, 0, 0], [27, 5, 0, 0], [28, 5, 0, 0], [29, 5, 0, 0], [30, 8, 0, 0], [31, 5, 0, 0]]\n",
      "Done with iteration with EPS of 1.2 ALGORITHM of auto distance METRIC of canberra\n",
      "Starting DBSCAN with EPS of 1.25 ALGORITHM of auto distance METRIC of canberra\n",
      "[[-1, 7074, 163, 493], [0, 8, 0, 0], [1, 46, 0, 0], [2, 161, 0, 0], [3, 265, 0, 0], [4, 99, 0, 0], [5, 0, 17, 0], [6, 81, 0, 0], [7, 9, 0, 0], [8, 87, 0, 0], [9, 124, 0, 0], [10, 15, 0, 0], [11, 97, 0, 0], [12, 1, 9, 0], [13, 94, 0, 0], [14, 38, 0, 0], [15, 56, 0, 0], [16, 18, 0, 0], [17, 5, 0, 0], [18, 9, 0, 0], [19, 24, 0, 0], [20, 5, 0, 0], [21, 3, 0, 0], [22, 20, 0, 0], [23, 5, 0, 0], [24, 5, 0, 0], [25, 5, 0, 0], [26, 5, 0, 0], [27, 5, 0, 0], [28, 6, 0, 0], [29, 5, 0, 0], [30, 8, 0, 0], [31, 6, 0, 0], [32, 5, 0, 0], [33, 5, 0, 0]]\n",
      "Done with iteration with EPS of 1.25 ALGORITHM of auto distance METRIC of canberra\n",
      "Starting DBSCAN with EPS of 1.3 ALGORITHM of auto distance METRIC of canberra\n",
      "[[-1, 6851, 159, 493], [0, 5, 0, 0], [1, 10, 0, 0], [2, 47, 0, 0], [3, 165, 0, 0], [4, 295, 0, 0], [5, 113, 0, 0], [6, 3, 30, 0], [7, 100, 0, 0], [8, 20, 0, 0], [9, 88, 0, 0], [10, 138, 0, 0], [11, 17, 0, 0], [12, 66, 0, 0], [13, 105, 0, 0], [14, 11, 0, 0], [15, 3, 0, 0], [16, 114, 0, 0], [17, 27, 0, 0], [18, 5, 0, 0], [19, 3, 0, 0], [20, 29, 0, 0], [21, 43, 0, 0], [22, 11, 0, 0], [23, 5, 0, 0], [24, 17, 0, 0], [25, 5, 0, 0], [26, 17, 0, 0], [27, 4, 0, 0], [28, 5, 0, 0], [29, 11, 0, 0], [30, 9, 0, 0], [31, 5, 0, 0], [32, 8, 0, 0], [33, 6, 0, 0], [34, 4, 0, 0], [35, 5, 0, 0], [36, 5, 0, 0], [37, 5, 0, 0], [38, 4, 0, 0], [39, 5, 0, 0], [40, 3, 0, 0], [41, 2, 0, 0], [42, 5, 0, 0]]\n",
      "Done with iteration with EPS of 1.3 ALGORITHM of auto distance METRIC of canberra\n",
      "Starting DBSCAN with EPS of 1.35 ALGORITHM of auto distance METRIC of canberra\n",
      "[[-1, 6665, 153, 493], [0, 5, 0, 0], [1, 865, 0, 0], [2, 12, 0, 0], [3, 52, 0, 0], [4, 168, 0, 0], [5, 6, 0, 0], [6, 3, 31, 0], [7, 113, 0, 0], [8, 22, 0, 0], [9, 40, 0, 0], [10, 96, 0, 0], [11, 0, 5, 0], [12, 19, 0, 0], [13, 14, 0, 0], [14, 69, 0, 0], [15, 12, 0, 0], [16, 5, 0, 0], [17, 44, 0, 0], [18, 54, 0, 0], [19, 32, 0, 0], [20, 12, 0, 0], [21, 5, 0, 0], [22, 19, 0, 0], [23, 6, 0, 0], [24, 11, 0, 0], [25, 9, 0, 0], [26, 4, 0, 0], [27, 5, 0, 0], [28, 6, 0, 0], [29, 3, 0, 0], [30, 5, 0, 0], [31, 2, 0, 0], [32, 6, 0, 0], [33, 5, 0, 0], [34, 5, 0, 0]]\n",
      "Done with iteration with EPS of 1.35 ALGORITHM of auto distance METRIC of canberra\n",
      "Starting DBSCAN with EPS of 1.4 ALGORITHM of auto distance METRIC of canberra\n",
      "[[-1, 6425, 150, 493], [0, 5, 0, 0], [1, 1221, 0, 0], [2, 13, 0, 0], [3, 57, 0, 0], [4, 174, 0, 0], [5, 6, 0, 0], [6, 6, 0, 0], [7, 3, 34, 0], [8, 36, 0, 0], [9, 45, 0, 0], [10, 5, 0, 0], [11, 194, 0, 0], [12, 0, 5, 0], [13, 19, 0, 0], [14, 6, 0, 0], [15, 8, 0, 0], [16, 19, 0, 0], [17, 5, 0, 0], [18, 12, 0, 0], [19, 4, 0, 0], [20, 59, 0, 0], [21, 25, 0, 0], [22, 3, 0, 0], [23, 13, 0, 0], [24, 4, 0, 0], [25, 5, 0, 0], [26, 5, 0, 0], [27, 1, 0, 0], [28, 4, 0, 0], [29, 5, 0, 0], [30, 7, 0, 0], [31, 5, 0, 0]]\n",
      "Done with iteration with EPS of 1.4 ALGORITHM of auto distance METRIC of canberra\n",
      "Starting DBSCAN with EPS of 1.45 ALGORITHM of auto distance METRIC of canberra\n",
      "[[-1, 6223, 149, 493], [0, 5, 0, 0], [1, 1435, 0, 0], [2, 13, 0, 0], [3, 61, 0, 0], [4, 380, 0, 0], [5, 12, 0, 0], [6, 4, 35, 0], [7, 10, 0, 0], [8, 6, 0, 0], [9, 8, 0, 0], [10, 49, 0, 0], [11, 5, 0, 0], [12, 0, 5, 0], [13, 19, 0, 0], [14, 6, 0, 0], [15, 15, 0, 0], [16, 27, 0, 0], [17, 8, 0, 0], [18, 14, 0, 0], [19, 3, 0, 0], [20, 29, 0, 0], [21, 5, 0, 0], [22, 6, 0, 0], [23, 4, 0, 0], [24, 8, 0, 0], [25, 14, 0, 0], [26, 4, 0, 0], [27, 8, 0, 0], [28, 5, 0, 0], [29, 3, 0, 0], [30, 5, 0, 0], [31, 5, 0, 0]]\n",
      "Done with iteration with EPS of 1.45 ALGORITHM of auto distance METRIC of canberra\n",
      "Starting DBSCAN with EPS of 1.5 ALGORITHM of auto distance METRIC of canberra\n",
      "[[-1, 6006, 143, 493], [0, 5, 0, 0], [1, 1585, 0, 0], [2, 14, 0, 0], [3, 64, 0, 0], [4, 425, 0, 0], [5, 20, 0, 0], [6, 5, 41, 0], [7, 9, 0, 0], [8, 6, 0, 0], [9, 41, 0, 0], [10, 57, 0, 0], [11, 5, 0, 0], [12, 0, 5, 0], [13, 22, 0, 0], [14, 6, 0, 0], [15, 2, 0, 0], [16, 35, 0, 0], [17, 38, 0, 0], [18, 9, 0, 0], [19, 3, 0, 0], [20, 9, 0, 0], [21, 4, 0, 0], [22, 7, 0, 0], [23, 8, 0, 0], [24, 5, 0, 0], [25, 4, 0, 0], [26, 5, 0, 0]]\n",
      "Done with iteration with EPS of 1.5 ALGORITHM of auto distance METRIC of canberra\n",
      "Starting DBSCAN with EPS of 1.55 ALGORITHM of auto distance METRIC of canberra\n",
      "[[-1, 5810, 133, 493], [0, 5, 0, 0], [1, 1852, 0, 0], [2, 16, 0, 0], [3, 66, 0, 0], [4, 439, 0, 0], [5, 5, 0, 0], [6, 34, 0, 0], [7, 8, 43, 0], [8, 0, 7, 0], [9, 6, 0, 0], [10, 5, 0, 0], [11, 0, 6, 0], [12, 24, 0, 0], [13, 8, 0, 0], [14, 41, 0, 0], [15, 8, 0, 0], [16, 10, 0, 0], [17, 4, 0, 0], [18, 9, 0, 0], [19, 5, 0, 0], [20, 8, 0, 0], [21, 5, 0, 0], [22, 4, 0, 0], [23, 5, 0, 0], [24, 6, 0, 0], [25, 5, 0, 0], [26, 5, 0, 0], [27, 6, 0, 0]]\n",
      "Done with iteration with EPS of 1.55 ALGORITHM of auto distance METRIC of canberra\n",
      "Starting DBSCAN with EPS of 1.6 ALGORITHM of auto distance METRIC of canberra\n",
      "[[-1, 5618, 130, 492], [0, 5, 0, 0], [1, 2063, 0, 0], [2, 17, 0, 0], [3, 68, 0, 0], [4, 480, 0, 0], [5, 6, 0, 0], [6, 37, 0, 0], [7, 9, 46, 0], [8, 0, 7, 0], [9, 6, 0, 0], [10, 0, 6, 0], [11, 7, 0, 0], [12, 4, 0, 1], [13, 11, 0, 0], [14, 6, 0, 0], [15, 4, 0, 0], [16, 5, 0, 0], [17, 7, 0, 0], [18, 8, 0, 0], [19, 4, 0, 0], [20, 5, 0, 0], [21, 4, 0, 0], [22, 4, 0, 0], [23, 4, 0, 0], [24, 5, 0, 0], [25, 7, 0, 0], [26, 5, 0, 0]]\n",
      "Done with iteration with EPS of 1.6 ALGORITHM of auto distance METRIC of canberra\n",
      "Starting DBSCAN with EPS of 1.65 ALGORITHM of auto distance METRIC of canberra\n",
      "[[-1, 5412, 125, 487], [0, 5, 0, 0], [1, 2223, 0, 0], [2, 17, 0, 0], [3, 10, 51, 1], [4, 74, 0, 0], [5, 503, 0, 0], [6, 6, 0, 0], [7, 44, 0, 0], [8, 0, 7, 0], [9, 8, 0, 5], [10, 7, 0, 0], [11, 0, 6, 0], [12, 11, 0, 0], [13, 17, 0, 0], [14, 5, 0, 0], [15, 5, 0, 0], [16, 6, 0, 0], [17, 5, 0, 0], [18, 6, 0, 0], [19, 7, 0, 0], [20, 9, 0, 0], [21, 3, 0, 0], [22, 4, 0, 0], [23, 7, 0, 0], [24, 5, 0, 0]]\n",
      "Done with iteration with EPS of 1.65 ALGORITHM of auto distance METRIC of canberra\n",
      "Starting DBSCAN with EPS of 1.7 ALGORITHM of auto distance METRIC of canberra\n",
      "[[-1, 5227, 120, 487], [0, 5, 0, 0], [1, 2361, 0, 0], [2, 20, 0, 0], [3, 5, 0, 0], [4, 13, 63, 1], [5, 74, 0, 0], [6, 7, 0, 0], [7, 511, 0, 0], [8, 50, 0, 0], [9, 9, 0, 5], [10, 9, 0, 0], [11, 5, 0, 0], [12, 0, 6, 0], [13, 15, 0, 0], [14, 4, 0, 0], [15, 18, 0, 0], [16, 5, 0, 0], [17, 5, 0, 0], [18, 5, 0, 0], [19, 3, 0, 0], [20, 8, 0, 0], [21, 5, 0, 0], [22, 5, 0, 0], [23, 6, 0, 0], [24, 7, 0, 0], [25, 9, 0, 0], [26, 3, 0, 0], [27, 5, 0, 0]]\n",
      "Done with iteration with EPS of 1.7 ALGORITHM of auto distance METRIC of canberra\n",
      "Starting DBSCAN with EPS of 1.75 ALGORITHM of auto distance METRIC of canberra\n",
      "[[-1, 5013, 119, 485], [0, 6, 0, 0], [1, 2491, 0, 0], [2, 20, 0, 0], [3, 6, 0, 0], [4, 13, 65, 1], [5, 78, 0, 0], [6, 15, 0, 0], [7, 77, 0, 0], [8, 525, 0, 0], [9, 12, 0, 6], [10, 9, 0, 0], [11, 22, 0, 0], [12, 14, 0, 0], [13, 0, 5, 0], [14, 23, 0, 0], [15, 5, 0, 1], [16, 5, 0, 0], [17, 5, 0, 0], [18, 5, 0, 0], [19, 5, 0, 0], [20, 5, 0, 0], [21, 8, 0, 0], [22, 5, 0, 0], [23, 5, 0, 0], [24, 5, 0, 0], [25, 6, 0, 0], [26, 11, 0, 0], [27, 5, 0, 0]]\n",
      "Done with iteration with EPS of 1.75 ALGORITHM of auto distance METRIC of canberra\n",
      "Starting DBSCAN with EPS of 1.8 ALGORITHM of auto distance METRIC of canberra\n",
      "[[-1, 4795, 117, 480], [0, 6, 0, 0], [1, 2622, 0, 0], [2, 20, 0, 0], [3, 6, 0, 0], [4, 6, 0, 0], [5, 15, 72, 1], [6, 82, 0, 0], [7, 32, 0, 0], [8, 92, 0, 0], [9, 538, 0, 0], [10, 15, 0, 7], [11, 1, 0, 4], [12, 12, 0, 0], [13, 23, 0, 0], [14, 16, 0, 0], [15, 26, 0, 0], [16, 4, 0, 1], [17, 4, 0, 0], [18, 5, 0, 0], [19, 5, 0, 0], [20, 8, 0, 0], [21, 5, 0, 0], [22, 5, 0, 0], [23, 4, 0, 0], [24, 4, 0, 0], [25, 8, 0, 0], [26, 9, 0, 0], [27, 5, 0, 0], [28, 5, 0, 0], [29, 11, 0, 0], [30, 5, 0, 0], [31, 5, 0, 0]]\n",
      "Done with iteration with EPS of 1.8 ALGORITHM of auto distance METRIC of canberra\n",
      "Starting DBSCAN with EPS of 1.85 ALGORITHM of auto distance METRIC of canberra\n",
      "[[-1, 4592, 113, 472], [0, 6, 0, 0], [1, 2732, 0, 0], [2, 28, 0, 0], [3, 5, 0, 0], [4, 7, 0, 0], [5, 16, 76, 1], [6, 82, 0, 0], [7, 42, 0, 0], [8, 5, 0, 0], [9, 108, 0, 0], [10, 548, 0, 0], [11, 5, 0, 0], [12, 15, 0, 8], [13, 1, 0, 7], [14, 39, 0, 0], [15, 18, 0, 0], [16, 2, 0, 3], [17, 36, 0, 0], [18, 6, 0, 0], [19, 3, 0, 1], [20, 4, 0, 0], [21, 5, 0, 0], [22, 5, 0, 0], [23, 14, 0, 0], [24, 6, 0, 0], [25, 10, 0, 0], [26, 4, 0, 0], [27, 6, 0, 1], [28, 5, 0, 0], [29, 4, 0, 0], [30, 7, 0, 0], [31, 6, 0, 0], [32, 5, 0, 0], [33, 11, 0, 0], [34, 5, 0, 0], [35, 6, 0, 0]]\n",
      "Done with iteration with EPS of 1.85 ALGORITHM of auto distance METRIC of canberra\n",
      "Starting DBSCAN with EPS of 1.9 ALGORITHM of auto distance METRIC of canberra\n",
      "[[-1, 4347, 106, 466], [0, 6, 0, 0], [1, 2848, 0, 0], [2, 31, 0, 0], [3, 5, 0, 0], [4, 5, 0, 0], [5, 7, 0, 0], [6, 18, 79, 1], [7, 86, 0, 0], [8, 284, 0, 6], [9, 6, 0, 0], [10, 555, 0, 0], [11, 5, 0, 0], [12, 15, 0, 9], [13, 2, 0, 7], [14, 6, 0, 0], [15, 58, 0, 0], [16, 5, 0, 0], [17, 22, 0, 0], [18, 2, 0, 3], [19, 15, 0, 0], [20, 6, 0, 0], [21, 4, 0, 0], [22, 5, 0, 0], [23, 6, 0, 0], [24, 5, 0, 0], [25, 6, 0, 0], [26, 7, 0, 0], [27, 6, 0, 1], [28, 4, 0, 0], [29, 6, 0, 0], [30, 0, 4, 0], [31, 16, 0, 0]]\n",
      "Done with iteration with EPS of 1.9 ALGORITHM of auto distance METRIC of canberra\n",
      "Starting DBSCAN with EPS of 1.95 ALGORITHM of auto distance METRIC of canberra\n",
      "[[-1, 4120, 102, 460], [0, 6, 0, 0], [1, 2948, 0, 0], [2, 33, 0, 0], [3, 14, 0, 0], [4, 10, 0, 0], [5, 30, 87, 1], [6, 91, 0, 0], [7, 16, 0, 1], [8, 336, 0, 7], [9, 6, 0, 0], [10, 563, 0, 0], [11, 5, 0, 0], [12, 15, 0, 9], [13, 3, 0, 9], [14, 7, 0, 0], [15, 75, 0, 0], [16, 26, 0, 0], [17, 7, 0, 0], [18, 2, 0, 3], [19, 10, 0, 3], [20, 7, 0, 0], [21, 6, 0, 0], [22, 11, 0, 0], [23, 5, 0, 0], [24, 6, 0, 0], [25, 5, 0, 0], [26, 8, 0, 0], [27, 7, 0, 0], [28, 4, 0, 0], [29, 17, 0, 0]]\n",
      "Done with iteration with EPS of 1.95 ALGORITHM of auto distance METRIC of canberra\n",
      "Starting DBSCAN with EPS of 2.0 ALGORITHM of auto distance METRIC of canberra\n",
      "[[-1, 3924, 100, 441], [0, 6, 0, 0], [1, 3020, 0, 0], [2, 34, 0, 0], [3, 14, 0, 0], [4, 10, 0, 0], [5, 32, 89, 1], [6, 30, 0, 0], [7, 41, 0, 28], [8, 95, 0, 0], [9, 17, 0, 1], [10, 533, 0, 11], [11, 6, 0, 0], [12, 589, 0, 0], [13, 2, 0, 3], [14, 2, 0, 0], [15, 5, 0, 0], [16, 2, 0, 3], [17, 4, 0, 0], [18, 4, 0, 0], [19, 6, 0, 0], [20, 11, 0, 0], [21, 5, 0, 0], [22, 0, 0, 5], [23, 3, 0, 0], [24, 4, 0, 0]]\n",
      "Done with iteration with EPS of 2.0 ALGORITHM of auto distance METRIC of canberra\n",
      "Starting DBSCAN with EPS of 2.05 ALGORITHM of auto distance METRIC of canberra\n",
      "[[-1, 3721, 96, 436], [0, 6, 0, 0], [1, 3088, 0, 0], [2, 36, 0, 0], [3, 14, 0, 0], [4, 11, 0, 0], [5, 640, 1, 11], [6, 38, 0, 0], [7, 37, 92, 1], [8, 49, 0, 35], [9, 97, 0, 0], [10, 18, 0, 1], [11, 8, 0, 0], [12, 597, 0, 0], [13, 5, 0, 0], [14, 2, 0, 3], [15, 6, 0, 0], [16, 11, 0, 0], [17, 1, 0, 6], [18, 7, 0, 0], [19, 4, 0, 0], [20, 3, 0, 0]]\n",
      "Done with iteration with EPS of 2.05 ALGORITHM of auto distance METRIC of canberra\n",
      "Starting DBSCAN with EPS of 2.1 ALGORITHM of auto distance METRIC of canberra\n",
      "[[-1, 3486, 88, 425], [0, 6, 0, 0], [1, 3159, 0, 0], [2, 38, 0, 0], [3, 16, 0, 0], [4, 14, 0, 0], [5, 751, 1, 13], [6, 46, 0, 0], [7, 40, 96, 1], [8, 58, 0, 41], [9, 107, 0, 0], [10, 18, 0, 1], [11, 9, 0, 0], [12, 602, 0, 0], [13, 1, 0, 2], [14, 5, 0, 0], [15, 1, 4, 0], [16, 2, 0, 2], [17, 5, 0, 0], [18, 5, 0, 0], [19, 11, 0, 0], [20, 1, 0, 6], [21, 3, 0, 2], [22, 5, 0, 0], [23, 5, 0, 0], [24, 5, 0, 0]]\n",
      "Done with iteration with EPS of 2.1 ALGORITHM of auto distance METRIC of canberra\n",
      "Starting DBSCAN with EPS of 2.15 ALGORITHM of auto distance METRIC of canberra\n",
      "[[-1, 3292, 82, 407], [0, 6, 0, 0], [1, 3203, 0, 0], [2, 39, 0, 0], [3, 17, 0, 0], [4, 15, 0, 0], [5, 931, 1, 80], [6, 49, 0, 1], [7, 47, 106, 1], [8, 113, 0, 0], [9, 18, 0, 1], [10, 9, 0, 0], [11, 613, 0, 0], [12, 4, 0, 0], [13, 11, 0, 0], [14, 2, 0, 2], [15, 5, 0, 0], [16, 7, 0, 1], [17, 8, 0, 0], [18, 4, 0, 0], [19, 6, 0, 0]]\n",
      "Done with iteration with EPS of 2.15 ALGORITHM of auto distance METRIC of canberra\n",
      "Starting DBSCAN with EPS of 2.2 ALGORITHM of auto distance METRIC of canberra\n",
      "[[-1, 3074, 78, 380], [0, 6, 0, 0], [1, 3869, 0, 0], [2, 41, 0, 0], [3, 4, 0, 0], [4, 17, 0, 0], [5, 16, 0, 0], [6, 2, 0, 3], [7, 1038, 1, 96], [8, 56, 0, 1], [9, 57, 110, 1], [10, 114, 0, 0], [11, 20, 0, 2], [12, 12, 0, 0], [13, 12, 0, 0], [14, 1, 0, 4], [15, 4, 0, 0], [16, 5, 0, 0], [17, 8, 0, 0], [18, 1, 0, 2], [19, 2, 0, 3], [20, 5, 0, 0], [21, 4, 0, 1], [22, 5, 0, 0], [23, 9, 0, 0], [24, 3, 0, 0], [25, 3, 0, 0], [26, 5, 0, 0], [27, 6, 0, 0]]\n",
      "Done with iteration with EPS of 2.2 ALGORITHM of auto distance METRIC of canberra\n",
      "Starting DBSCAN with EPS of 2.25 ALGORITHM of auto distance METRIC of canberra\n",
      "[[-1, 2856, 76, 347], [0, 6, 0, 0], [1, 3926, 0, 0], [2, 43, 0, 0], [3, 3, 0, 0], [4, 20, 0, 3], [5, 18, 0, 0], [6, 1172, 1, 116], [7, 68, 0, 1], [8, 72, 112, 1], [9, 114, 0, 0], [10, 20, 0, 2], [11, 12, 0, 0], [12, 12, 0, 0], [13, 3, 0, 2], [14, 13, 0, 0], [15, 2, 0, 6], [16, 11, 0, 0], [17, 12, 0, 0], [18, 0, 0, 2], [19, 2, 0, 3], [20, 4, 0, 1], [21, 5, 0, 0], [22, 4, 0, 0], [23, 0, 0, 5], [24, 1, 0, 4]]\n",
      "Done with iteration with EPS of 2.25 ALGORITHM of auto distance METRIC of canberra\n",
      "Starting DBSCAN with EPS of 2.3 ALGORITHM of auto distance METRIC of canberra\n",
      "[[-1, 2662, 72, 319], [0, 6, 0, 0], [1, 3968, 0, 0], [2, 45, 0, 0], [3, 24, 0, 4], [4, 3, 0, 0], [5, 20, 0, 0], [6, 1364, 117, 142], [7, 78, 0, 2], [8, 122, 0, 0], [9, 41, 0, 2], [10, 11, 0, 0], [11, 14, 0, 0], [12, 7, 0, 5], [13, 5, 0, 0], [14, 2, 0, 9], [15, 11, 0, 0], [16, 3, 0, 0], [17, 5, 0, 0], [18, 3, 0, 1], [19, 4, 0, 0], [20, 0, 0, 5], [21, 1, 0, 4]]\n",
      "Done with iteration with EPS of 2.3 ALGORITHM of auto distance METRIC of canberra\n",
      "Starting DBSCAN with EPS of 2.35 ALGORITHM of auto distance METRIC of canberra\n",
      "[[-1, 2457, 71, 294], [0, 6, 0, 0], [1, 5509, 118, 172], [2, 53, 0, 0], [3, 29, 0, 4], [4, 19, 0, 0], [5, 82, 0, 2], [6, 127, 0, 0], [7, 43, 0, 2], [8, 11, 0, 0], [9, 14, 0, 0], [10, 7, 0, 6], [11, 19, 0, 0], [12, 4, 0, 1], [13, 4, 0, 0], [14, 5, 0, 0], [15, 0, 0, 5], [16, 1, 0, 4], [17, 5, 0, 0], [18, 1, 0, 3], [19, 3, 0, 0]]\n",
      "Done with iteration with EPS of 2.35 ALGORITHM of auto distance METRIC of canberra\n",
      "Starting DBSCAN with EPS of 2.4 ALGORITHM of auto distance METRIC of canberra\n",
      "[[-1, 2281, 64, 277], [0, 6, 0, 0], [1, 5760, 125, 192], [2, 87, 0, 4], [3, 19, 0, 0], [4, 130, 0, 0], [5, 47, 0, 2], [6, 11, 0, 0], [7, 5, 0, 0], [8, 14, 0, 0], [9, 7, 0, 6], [10, 8, 0, 0], [11, 5, 0, 0], [12, 3, 0, 1], [13, 4, 0, 0], [14, 4, 0, 0], [15, 0, 0, 3], [16, 0, 0, 4], [17, 1, 0, 4], [18, 5, 0, 0], [19, 2, 0, 0]]\n",
      "Done with iteration with EPS of 2.4 ALGORITHM of auto distance METRIC of canberra\n",
      "Starting DBSCAN with EPS of 2.45 ALGORITHM of auto distance METRIC of canberra\n",
      "[[-1, 2088, 60, 251], [0, 5953, 129, 228], [1, 6, 0, 0], [2, 90, 0, 4], [3, 19, 0, 0], [4, 132, 0, 0], [5, 49, 0, 2], [6, 11, 0, 0], [7, 5, 0, 0], [8, 14, 0, 0], [9, 5, 0, 0], [10, 3, 0, 1], [11, 4, 0, 0], [12, 4, 0, 0], [13, 3, 0, 0], [14, 0, 0, 3], [15, 5, 0, 0], [16, 1, 0, 4], [17, 5, 0, 0], [18, 2, 0, 0]]\n",
      "Done with iteration with EPS of 2.45 ALGORITHM of auto distance METRIC of canberra\n",
      "Starting DBSCAN with EPS of 2.5 ALGORITHM of auto distance METRIC of canberra\n",
      "[[-1, 1945, 58, 222], [0, 6163, 131, 262], [1, 6, 0, 0], [2, 116, 0, 5], [3, 134, 0, 0], [4, 5, 0, 0], [5, 13, 0, 0], [6, 4, 0, 0], [7, 3, 0, 0], [8, 4, 0, 0], [9, 1, 0, 4], [10, 5, 0, 0]]\n",
      "Done with iteration with EPS of 2.5 ALGORITHM of auto distance METRIC of canberra\n",
      "Starting DBSCAN with EPS of 2.55 ALGORITHM of auto distance METRIC of canberra\n",
      "[[-1, 1792, 56, 195], [0, 6314, 133, 290], [1, 6, 0, 0], [2, 120, 0, 5], [3, 135, 0, 0], [4, 6, 0, 0], [5, 13, 0, 0], [6, 4, 0, 0], [7, 4, 0, 0], [8, 1, 0, 3], [9, 4, 0, 0]]\n",
      "Done with iteration with EPS of 2.55 ALGORITHM of auto distance METRIC of canberra\n",
      "Starting DBSCAN with EPS of 2.6 ALGORITHM of auto distance METRIC of canberra\n",
      "[[-1, 1625, 51, 170], [0, 6485, 138, 318], [1, 6, 0, 0], [2, 123, 0, 5], [3, 138, 0, 0], [4, 13, 0, 0], [5, 5, 0, 0], [6, 4, 0, 0]]\n",
      "Done with iteration with EPS of 2.6 ALGORITHM of auto distance METRIC of canberra\n",
      "Starting DBSCAN with EPS of 2.65 ALGORITHM of auto distance METRIC of canberra\n",
      "[[-1, 1480, 46, 157], [0, 6783, 143, 331], [1, 6, 0, 0], [2, 125, 0, 5], [3, 1, 0, 0], [4, 4, 0, 0]]\n",
      "Done with iteration with EPS of 2.65 ALGORITHM of auto distance METRIC of canberra\n",
      "Starting DBSCAN with EPS of 2.7 ALGORITHM of auto distance METRIC of canberra\n",
      "[[-1, 1359, 42, 143], [0, 6900, 147, 345], [1, 6, 0, 0], [2, 130, 0, 5], [3, 4, 0, 0]]\n",
      "Done with iteration with EPS of 2.7 ALGORITHM of auto distance METRIC of canberra\n",
      "Starting DBSCAN with EPS of 2.75 ALGORITHM of auto distance METRIC of canberra\n",
      "[[-1, 1233, 35, 131], [0, 7022, 154, 356], [1, 6, 0, 0], [2, 134, 0, 5], [3, 4, 0, 1]]\n",
      "Done with iteration with EPS of 2.75 ALGORITHM of auto distance METRIC of canberra\n",
      "Starting DBSCAN with EPS of 2.8 ALGORITHM of auto distance METRIC of canberra\n",
      "[[-1, 1117, 33, 114], [0, 7265, 156, 378], [1, 6, 0, 0], [2, 4, 0, 0], [3, 4, 0, 1], [4, 3, 0, 0]]\n",
      "Done with iteration with EPS of 2.8 ALGORITHM of auto distance METRIC of canberra\n",
      "Starting DBSCAN with EPS of 2.85 ALGORITHM of auto distance METRIC of canberra\n",
      "[[-1, 1007, 29, 99], [0, 7369, 160, 393], [1, 6, 0, 0], [2, 4, 0, 0], [3, 4, 0, 1], [4, 4, 0, 0], [5, 5, 0, 0]]\n",
      "Done with iteration with EPS of 2.85 ALGORITHM of auto distance METRIC of canberra\n",
      "Starting DBSCAN with EPS of 2.9 ALGORITHM of auto distance METRIC of canberra\n",
      "[[-1, 925, 27, 87], [0, 7456, 162, 405], [1, 6, 0, 0], [2, 4, 0, 1], [3, 3, 0, 0], [4, 5, 0, 0]]\n",
      "Done with iteration with EPS of 2.9 ALGORITHM of auto distance METRIC of canberra\n",
      "Starting DBSCAN with EPS of 2.95 ALGORITHM of auto distance METRIC of canberra\n",
      "[[-1, 859, 25, 77], [0, 7524, 164, 415], [1, 6, 0, 0], [2, 5, 0, 1], [3, 5, 0, 0]]\n",
      "Done with iteration with EPS of 2.95 ALGORITHM of auto distance METRIC of canberra\n",
      "Starting DBSCAN with EPS of 3.0 ALGORITHM of auto distance METRIC of canberra\n",
      "[[-1, 773, 23, 70], [0, 7605, 166, 422], [1, 6, 0, 0], [2, 5, 0, 1], [3, 5, 0, 0], [4, 5, 0, 0]]\n",
      "Done with iteration with EPS of 3.0 ALGORITHM of auto distance METRIC of canberra\n",
      "Starting DBSCAN with EPS of 3.05 ALGORITHM of auto distance METRIC of canberra\n",
      "[[-1, 702, 21, 61], [0, 7676, 168, 431], [1, 6, 0, 0], [2, 5, 0, 1], [3, 5, 0, 0], [4, 5, 0, 0]]\n",
      "Done with iteration with EPS of 3.05 ALGORITHM of auto distance METRIC of canberra\n",
      "Starting DBSCAN with EPS of 3.1 ALGORITHM of auto distance METRIC of canberra\n",
      "[[-1, 628, 19, 49], [0, 7750, 170, 443], [1, 6, 0, 0], [2, 6, 0, 1], [3, 4, 0, 0], [4, 5, 0, 0]]\n",
      "Done with iteration with EPS of 3.1 ALGORITHM of auto distance METRIC of canberra\n",
      "Starting DBSCAN with EPS of 3.15 ALGORITHM of auto distance METRIC of canberra\n",
      "[[-1, 580, 17, 41], [0, 7798, 172, 451], [1, 6, 0, 0], [2, 6, 0, 1], [3, 4, 0, 0], [4, 5, 0, 0]]\n",
      "Done with iteration with EPS of 3.15 ALGORITHM of auto distance METRIC of canberra\n",
      "Starting DBSCAN with EPS of 3.2 ALGORITHM of auto distance METRIC of canberra\n",
      "[[-1, 527, 13, 37], [0, 7848, 176, 455], [1, 6, 0, 0], [2, 6, 0, 1], [3, 3, 0, 0], [4, 4, 0, 0], [5, 5, 0, 0]]\n",
      "Done with iteration with EPS of 3.2 ALGORITHM of auto distance METRIC of canberra\n",
      "Starting DBSCAN with EPS of 3.25 ALGORITHM of auto distance METRIC of canberra\n",
      "[[-1, 469, 10, 29], [0, 7906, 179, 463], [1, 6, 0, 0], [2, 5, 0, 1], [3, 3, 0, 0], [4, 5, 0, 0], [5, 5, 0, 0]]\n",
      "Done with iteration with EPS of 3.25 ALGORITHM of auto distance METRIC of canberra\n",
      "Starting DBSCAN with EPS of 3.3 ALGORITHM of auto distance METRIC of canberra\n",
      "[[-1, 425, 8, 28], [0, 7950, 181, 464], [1, 6, 0, 0], [2, 5, 0, 1], [3, 3, 0, 0], [4, 5, 0, 0], [5, 5, 0, 0]]\n",
      "Done with iteration with EPS of 3.3 ALGORITHM of auto distance METRIC of canberra\n",
      "Starting DBSCAN with EPS of 3.35 ALGORITHM of auto distance METRIC of canberra\n",
      "[[-1, 386, 8, 24], [0, 7994, 181, 469], [1, 6, 0, 0], [2, 2, 0, 0], [3, 5, 0, 0], [4, 6, 0, 0]]\n",
      "Done with iteration with EPS of 3.35 ALGORITHM of auto distance METRIC of canberra\n",
      "Starting DBSCAN with EPS of 3.4 ALGORITHM of auto distance METRIC of canberra\n",
      "[[-1, 340, 5, 22], [0, 8044, 184, 471], [1, 7, 0, 0], [2, 2, 0, 0], [3, 6, 0, 0]]\n",
      "Done with iteration with EPS of 3.4 ALGORITHM of auto distance METRIC of canberra\n",
      "Starting DBSCAN with EPS of 3.45 ALGORITHM of auto distance METRIC of canberra\n",
      "[[-1, 310, 5, 21], [0, 8076, 184, 472], [1, 7, 0, 0], [2, 6, 0, 0]]\n",
      "Done with iteration with EPS of 3.45 ALGORITHM of auto distance METRIC of canberra\n"
     ]
    }
   ],
   "source": [
    "for met in metric_:\n",
    "    for algo in algorithm_:\n",
    "        if met in metric_auto_only:\n",
    "            if algo != \"auto\":\n",
    "                continue\n",
    "        for eps_ in eps_param:\n",
    "            dbsc = None; labels = None; DB_PCA = None; DB_PCA_df = None;\n",
    "            # Do DBSCAN on the PCAd data\n",
    "            print(\"Starting DBSCAN with EPS of \" + str(eps_) + \" ALGORITHM of \" + algo\\\n",
    "                 + \" distance METRIC of \" + met)\n",
    "            dbsc = DBSCAN(eps = eps_,min_samples=10, algorithm = algo, metric = met).fit(my_scaled_data_transformed_pd)\n",
    "            labels = dbsc.labels_\n",
    "            core_samples = np.zeros_like(labels, dtype = bool)\n",
    "            core_samples[dbsc.core_sample_indices_] = True\n",
    "            unique_labels = np.unique(labels)\n",
    "\n",
    "            # Done with DBSCAN, plot it\n",
    "            DB_PCA = [] # This will be a list of lists where the 1st entry is the cluster ID, 2nd: is\n",
    "            ## how many \"unlabelled\" are in that cluster, 3rd: number of blast, 4th: number of healthy.\n",
    "            for i in xrange(len(unique_labels)):\n",
    "                clst_index = my_data['cell_label'][np.where(labels==unique_labels[i])[0]]\n",
    "                if clst_index.empty == True:\n",
    "                    print(\"Cluster index and original data don't line up right. STOP AND FIX\")\n",
    "                    break\n",
    "                DB_PCA.append([unique_labels[i],sum(clst_index=='unlabelled'),\n",
    "                                 sum(clst_index=='blast'),sum(clst_index=='healthy')])\n",
    "                #print(str(unique_labels2[i])+\"--\") # prints cluster name plus two \"--\"s\n",
    "                #print len(tsne_out_mink2[np.where(labels2==unique_labels2[i])[0],0]) # prints how many cells are in that cluster\n",
    "            print(DB_PCA) # This was print(tsne_db_2)\n",
    "\n",
    "            # Convert the list of lists to a pandas dataframe\n",
    "            DB_PCA_df = pd.DataFrame(DB_PCA,columns=[\"Cluster Label\",\"Unlabelled\",\"Blast\",\"Healthy\"])\n",
    "            DB_PCA_df_melted = pd.melt(DB_PCA_df,value_vars=[\"Unlabelled\",\"Blast\",\"Healthy\"],id_vars=\"Cluster Label\")\n",
    "\n",
    "            # Plot the results\n",
    "            plt.gcf().clear()\n",
    "            ax = sns.barplot(hue=\"variable\",y=\"value\",x=\"Cluster Label\",data=DB_PCA_df_melted,log='y')\n",
    "            plt.title(\"DBSCAN results with eps of \" + str(eps_))\n",
    "            plt.ylim(0, plt.ylim()[1])\n",
    "            plt.savefig(filename + \"__PCA10_DBSCAN_eps-\" + str(eps_) + \"_algo-\" + algo + \"_dist-metric-\" + met + \"_results.png\")\n",
    "            plt.close()\n",
    "            print(\"Done with iteration with EPS of \" + str(eps_) + \" ALGORITHM of \" + algo\\\n",
    "                 + \" distance METRIC of \" + met)\n"
   ]
  },
  {
   "cell_type": "code",
   "execution_count": null,
   "metadata": {
    "collapsed": true
   },
   "outputs": [],
   "source": []
  },
  {
   "cell_type": "code",
   "execution_count": null,
   "metadata": {
    "collapsed": true
   },
   "outputs": [],
   "source": []
  },
  {
   "cell_type": "code",
   "execution_count": null,
   "metadata": {
    "collapsed": true
   },
   "outputs": [],
   "source": []
  },
  {
   "cell_type": "code",
   "execution_count": null,
   "metadata": {
    "collapsed": true
   },
   "outputs": [],
   "source": []
  },
  {
   "cell_type": "code",
   "execution_count": null,
   "metadata": {
    "collapsed": true
   },
   "outputs": [],
   "source": []
  },
  {
   "cell_type": "code",
   "execution_count": null,
   "metadata": {
    "collapsed": true
   },
   "outputs": [],
   "source": []
  },
  {
   "cell_type": "code",
   "execution_count": null,
   "metadata": {
    "collapsed": true
   },
   "outputs": [],
   "source": []
  },
  {
   "cell_type": "code",
   "execution_count": null,
   "metadata": {
    "collapsed": true
   },
   "outputs": [],
   "source": []
  }
 ],
 "metadata": {
  "kernelspec": {
   "display_name": "Python [py2-env]",
   "language": "python",
   "name": "Python [py2-env]"
  },
  "language_info": {
   "codemirror_mode": {
    "name": "ipython",
    "version": 2
   },
   "file_extension": ".py",
   "mimetype": "text/x-python",
   "name": "python",
   "nbconvert_exporter": "python",
   "pygments_lexer": "ipython2",
   "version": "2.7.12"
  }
 },
 "nbformat": 4,
 "nbformat_minor": 0
}
