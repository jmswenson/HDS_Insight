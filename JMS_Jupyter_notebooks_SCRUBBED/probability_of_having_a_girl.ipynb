{
 "cells": [
  {
   "cell_type": "markdown",
   "metadata": {},
   "source": [
    "You have a group of couples that decide to have children until they have their first girl, after which they stop having children. What is the expected gender ratio of the children that are born? What is the expected number of children each couple will have?"
   ]
  },
  {
   "cell_type": "markdown",
   "metadata": {},
   "source": [
    "P(B) = 0.5; P(G) = 0.5; .......if I knew how to do this I wouldn't have to program it"
   ]
  },
  {
   "cell_type": "markdown",
   "metadata": {},
   "source": [
    "-----From the internet:\n",
    "Let NG be the expected no. of girls before a boy is born\n",
    "\n",
    "Let p be the probability that a child is girl and (1-p)\n",
    "be probability that a child is boy.\n",
    "\n",
    "NG can be written as sum of following infinite series.\n",
    "\n",
    "NG = 0*p + 1*p*(1-p) + 2*p*p*(1-p) + 3*p*p*p*(1-p) + 4*p*p*p*p*(1-p) +.....\n",
    "\n",
    "Putting p = 1/2 and (1-p) = 1/2 in above formula.\n",
    "\n",
    "NG    = 0*(1/2) + 1*(1/2)2 + 2*(1/2)3 + 3*(1/2)4  +  4*(1/2)5 + ...\n",
    "1/2*NG = 0*(1/2)2 + 1*(1/2)3 + 2*(1/2)4 + 3*(1/2)5  +  4*(1/2)6 + ...\n",
    "\n",
    "NG - NG/2 =  1*(1/2)2 + 1*(1/2)3 + 1*(1/2)4 + 1*(1/2)5  +  1*(1/2)6 + ...\n",
    "\n",
    "Using sum formula of infinite geometrical progression with\n",
    "ratio less than 1\n",
    "NG/2 = (1/4)/(1-1/2) = 1/2\n",
    "\n",
    "NG = 1"
   ]
  },
  {
   "cell_type": "code",
   "execution_count": 6,
   "metadata": {
    "collapsed": true
   },
   "outputs": [],
   "source": [
    "from random import randint"
   ]
  },
  {
   "cell_type": "code",
   "execution_count": 52,
   "metadata": {
    "collapsed": false
   },
   "outputs": [],
   "source": [
    "def we_want_a_girl(n_couples):\n",
    "    '''n_couples is the number of couples that we want to consider.\n",
    "    The function returns a list with the following elments:\n",
    "    the total number of girls, number of boys, girls/boys and average family size'''\n",
    "    n_girls = 0; n_boys = 0; ave_kids = [0]*n_couples;\n",
    "    for i, couple in enumerate(range(n_couples)):\n",
    "        girl = False\n",
    "        while girl == False:\n",
    "            ave_kids[i] += 1\n",
    "            if randint(0,1) == 1:\n",
    "                n_girls += 1\n",
    "                girl = True\n",
    "            else:\n",
    "                n_boys += 1\n",
    "    return [n_girls, n_boys,float(n_girls)/float(n_boys),float(sum(ave_kids))/float(len(ave_kids))]\n",
    "# Returns the total number of girls, number of boys, girls/boys and average family size"
   ]
  },
  {
   "cell_type": "code",
   "execution_count": 53,
   "metadata": {
    "collapsed": false
   },
   "outputs": [
    {
     "data": {
      "text/plain": [
       "[1000000, 1000719, 0.9992815165895721, 2.000719]"
      ]
     },
     "execution_count": 53,
     "metadata": {},
     "output_type": "execute_result"
    }
   ],
   "source": [
    "we_want_a_girl(1000000)"
   ]
  },
  {
   "cell_type": "code",
   "execution_count": 54,
   "metadata": {
    "collapsed": false
   },
   "outputs": [
    {
     "data": {
      "text/plain": [
       "[1000000, 1001871, 0.9981324941035323, 2.001871]"
      ]
     },
     "execution_count": 54,
     "metadata": {},
     "output_type": "execute_result"
    }
   ],
   "source": [
    "we_want_a_girl(1000000)"
   ]
  },
  {
   "cell_type": "code",
   "execution_count": 55,
   "metadata": {
    "collapsed": false
   },
   "outputs": [
    {
     "data": {
      "text/plain": [
       "[1000000, 1000697, 0.999303485470627, 2.000697]"
      ]
     },
     "execution_count": 55,
     "metadata": {},
     "output_type": "execute_result"
    }
   ],
   "source": [
    "we_want_a_girl(1000000)"
   ]
  },
  {
   "cell_type": "code",
   "execution_count": 56,
   "metadata": {
    "collapsed": false
   },
   "outputs": [
    {
     "data": {
      "text/plain": [
       "[1000000, 997788, 1.002216903791186, 1.997788]"
      ]
     },
     "execution_count": 56,
     "metadata": {},
     "output_type": "execute_result"
    }
   ],
   "source": [
    "we_want_a_girl(1000000)"
   ]
  },
  {
   "cell_type": "code",
   "execution_count": 57,
   "metadata": {
    "collapsed": false
   },
   "outputs": [
    {
     "data": {
      "text/plain": [
       "[1000000, 999116, 1.0008847821474183, 1.999116]"
      ]
     },
     "execution_count": 57,
     "metadata": {},
     "output_type": "execute_result"
    }
   ],
   "source": [
    "we_want_a_girl(1000000)"
   ]
  },
  {
   "cell_type": "code",
   "execution_count": 58,
   "metadata": {
    "collapsed": false
   },
   "outputs": [
    {
     "data": {
      "text/plain": [
       "[1000000, 1000606, 0.9993943670135897, 2.000606]"
      ]
     },
     "execution_count": 58,
     "metadata": {},
     "output_type": "execute_result"
    }
   ],
   "source": [
    "we_want_a_girl(1000000)"
   ]
  },
  {
   "cell_type": "code",
   "execution_count": 59,
   "metadata": {
    "collapsed": false
   },
   "outputs": [
    {
     "data": {
      "text/plain": [
       "[1000000, 1000071, 0.9999290050406421, 2.000071]"
      ]
     },
     "execution_count": 59,
     "metadata": {},
     "output_type": "execute_result"
    }
   ],
   "source": [
    "we_want_a_girl(1000000)"
   ]
  },
  {
   "cell_type": "code",
   "execution_count": 60,
   "metadata": {
    "collapsed": false
   },
   "outputs": [
    {
     "data": {
      "text/plain": [
       "[1000000, 999286, 1.0007145101602544, 1.999286]"
      ]
     },
     "execution_count": 60,
     "metadata": {},
     "output_type": "execute_result"
    }
   ],
   "source": [
    "we_want_a_girl(1000000)"
   ]
  },
  {
   "cell_type": "code",
   "execution_count": 61,
   "metadata": {
    "collapsed": false
   },
   "outputs": [
    {
     "data": {
      "text/plain": [
       "[1000000, 1000414, 0.9995861713250714, 2.000414]"
      ]
     },
     "execution_count": 61,
     "metadata": {},
     "output_type": "execute_result"
    }
   ],
   "source": [
    "we_want_a_girl(1000000)"
   ]
  },
  {
   "cell_type": "code",
   "execution_count": 62,
   "metadata": {
    "collapsed": false
   },
   "outputs": [
    {
     "data": {
      "text/plain": [
       "[1000000, 1000738, 0.9992625442423492, 2.000738]"
      ]
     },
     "execution_count": 62,
     "metadata": {},
     "output_type": "execute_result"
    }
   ],
   "source": [
    "we_want_a_girl(1000000)"
   ]
  },
  {
   "cell_type": "code",
   "execution_count": 63,
   "metadata": {
    "collapsed": false
   },
   "outputs": [
    {
     "data": {
      "text/plain": [
       "[1000000, 1001729, 0.9982739842811779, 2.001729]"
      ]
     },
     "execution_count": 63,
     "metadata": {},
     "output_type": "execute_result"
    }
   ],
   "source": [
    "we_want_a_girl(1000000)"
   ]
  },
  {
   "cell_type": "code",
   "execution_count": 64,
   "metadata": {
    "collapsed": false
   },
   "outputs": [
    {
     "data": {
      "text/plain": [
       "[1000000, 996861, 1.0031488843479683, 1.996861]"
      ]
     },
     "execution_count": 64,
     "metadata": {},
     "output_type": "execute_result"
    }
   ],
   "source": [
    "we_want_a_girl(1000000)"
   ]
  },
  {
   "cell_type": "code",
   "execution_count": null,
   "metadata": {
    "collapsed": true
   },
   "outputs": [],
   "source": []
  },
  {
   "cell_type": "code",
   "execution_count": null,
   "metadata": {
    "collapsed": true
   },
   "outputs": [],
   "source": []
  },
  {
   "cell_type": "code",
   "execution_count": 65,
   "metadata": {
    "collapsed": false
   },
   "outputs": [
    {
     "data": {
      "text/plain": [
       "[10000000, 9997428, 1.0002572661688587, 1.9997428]"
      ]
     },
     "execution_count": 65,
     "metadata": {},
     "output_type": "execute_result"
    }
   ],
   "source": [
    "we_want_a_girl(10000000)"
   ]
  },
  {
   "cell_type": "code",
   "execution_count": 66,
   "metadata": {
    "collapsed": false
   },
   "outputs": [
    {
     "data": {
      "text/plain": [
       "[10000000, 9999464, 1.000053602873114, 1.9999464]"
      ]
     },
     "execution_count": 66,
     "metadata": {},
     "output_type": "execute_result"
    }
   ],
   "source": [
    "we_want_a_girl(10000000)"
   ]
  },
  {
   "cell_type": "code",
   "execution_count": 67,
   "metadata": {
    "collapsed": false
   },
   "outputs": [
    {
     "data": {
      "text/plain": [
       "[10000000, 9998279, 1.0001721296235082, 1.9998279]"
      ]
     },
     "execution_count": 67,
     "metadata": {},
     "output_type": "execute_result"
    }
   ],
   "source": [
    "we_want_a_girl(10000000)"
   ]
  },
  {
   "cell_type": "code",
   "execution_count": null,
   "metadata": {
    "collapsed": true
   },
   "outputs": [],
   "source": []
  },
  {
   "cell_type": "code",
   "execution_count": null,
   "metadata": {
    "collapsed": true
   },
   "outputs": [],
   "source": []
  },
  {
   "cell_type": "code",
   "execution_count": 74,
   "metadata": {
    "collapsed": false
   },
   "outputs": [],
   "source": [
    "def we_want_a_girl_v2(n_couples):\n",
    "    '''n_couples is the number of couples that we want to consider.\n",
    "    The function returns a list with the following elments:\n",
    "    the total number of girls, number of boys, girls/boys and average family size'''\n",
    "    n_girls = 0; n_boys = 0; ave_kids = [0]*n_couples;\n",
    "    ave_b_to_g_per_fam = [0]*n_couples;\n",
    "    for i, couple in enumerate(range(n_couples)):\n",
    "        girl = False\n",
    "        n_g_per_fam = 0; n_b_per_fam = 0; \n",
    "        while girl == False:\n",
    "            ave_kids[i] += 1\n",
    "            if randint(0,1) == 1:\n",
    "                n_girls += 1\n",
    "                n_g_per_fam += 1\n",
    "                girl = True\n",
    "            else:\n",
    "                n_boys += 1\n",
    "                n_b_per_fam +=1\n",
    "        ave_b_to_g_per_fam[i] = float(n_b_per_fam)/float(n_g_per_fam)\n",
    "    ave_ave_b_to_g_per_fam = float(sum(ave_b_to_g_per_fam))/float(len(ave_b_to_g_per_fam))\n",
    "    return [n_girls, n_boys,float(n_boys)/float(n_girls),float(sum(ave_kids))/float(len(ave_kids)), ave_ave_b_to_g_per_fam]\n",
    "# Returns the total number of girls, number of boys, boys/girls, average family size, average boys/girls"
   ]
  },
  {
   "cell_type": "code",
   "execution_count": 75,
   "metadata": {
    "collapsed": false
   },
   "outputs": [
    {
     "data": {
      "text/plain": [
       "[1000000, 1000686, 1.000686, 2.000686, 1.000686]"
      ]
     },
     "execution_count": 75,
     "metadata": {},
     "output_type": "execute_result"
    }
   ],
   "source": [
    "we_want_a_girl_v2(1000000)"
   ]
  },
  {
   "cell_type": "code",
   "execution_count": 76,
   "metadata": {
    "collapsed": false
   },
   "outputs": [
    {
     "data": {
      "text/plain": [
       "[1000000, 999736, 0.999736, 1.999736, 0.999736]"
      ]
     },
     "execution_count": 76,
     "metadata": {},
     "output_type": "execute_result"
    }
   ],
   "source": [
    "we_want_a_girl_v2(1000000)"
   ]
  },
  {
   "cell_type": "code",
   "execution_count": 77,
   "metadata": {
    "collapsed": false
   },
   "outputs": [
    {
     "data": {
      "text/plain": [
       "[1000000, 1000827, 1.000827, 2.000827, 1.000827]"
      ]
     },
     "execution_count": 77,
     "metadata": {},
     "output_type": "execute_result"
    }
   ],
   "source": [
    "we_want_a_girl_v2(1000000)"
   ]
  },
  {
   "cell_type": "code",
   "execution_count": 78,
   "metadata": {
    "collapsed": false
   },
   "outputs": [
    {
     "data": {
      "text/plain": [
       "[1000000, 1002980, 1.00298, 2.00298, 1.00298]"
      ]
     },
     "execution_count": 78,
     "metadata": {},
     "output_type": "execute_result"
    }
   ],
   "source": [
    "we_want_a_girl_v2(1000000)"
   ]
  },
  {
   "cell_type": "code",
   "execution_count": 79,
   "metadata": {
    "collapsed": false
   },
   "outputs": [
    {
     "data": {
      "text/plain": [
       "[1000000, 1000220, 1.00022, 2.00022, 1.00022]"
      ]
     },
     "execution_count": 79,
     "metadata": {},
     "output_type": "execute_result"
    }
   ],
   "source": [
    "we_want_a_girl_v2(1000000)"
   ]
  },
  {
   "cell_type": "code",
   "execution_count": 80,
   "metadata": {
    "collapsed": false
   },
   "outputs": [
    {
     "data": {
      "text/plain": [
       "[1000000, 1000563, 1.000563, 2.000563, 1.000563]"
      ]
     },
     "execution_count": 80,
     "metadata": {},
     "output_type": "execute_result"
    }
   ],
   "source": [
    "we_want_a_girl_v2(1000000)"
   ]
  },
  {
   "cell_type": "code",
   "execution_count": 81,
   "metadata": {
    "collapsed": false
   },
   "outputs": [
    {
     "data": {
      "text/plain": [
       "[1000000, 1002344, 1.002344, 2.002344, 1.002344]"
      ]
     },
     "execution_count": 81,
     "metadata": {},
     "output_type": "execute_result"
    }
   ],
   "source": [
    "we_want_a_girl_v2(1000000)"
   ]
  },
  {
   "cell_type": "code",
   "execution_count": null,
   "metadata": {
    "collapsed": true
   },
   "outputs": [],
   "source": []
  },
  {
   "cell_type": "code",
   "execution_count": null,
   "metadata": {
    "collapsed": true
   },
   "outputs": [],
   "source": []
  },
  {
   "cell_type": "code",
   "execution_count": null,
   "metadata": {
    "collapsed": true
   },
   "outputs": [],
   "source": []
  },
  {
   "cell_type": "code",
   "execution_count": null,
   "metadata": {
    "collapsed": true
   },
   "outputs": [],
   "source": []
  }
 ],
 "metadata": {
  "anaconda-cloud": {},
  "kernelspec": {
   "display_name": "Python [py2-env]",
   "language": "python",
   "name": "Python [py2-env]"
  },
  "language_info": {
   "codemirror_mode": {
    "name": "ipython",
    "version": 2
   },
   "file_extension": ".py",
   "mimetype": "text/x-python",
   "name": "python",
   "nbconvert_exporter": "python",
   "pygments_lexer": "ipython2",
   "version": "2.7.12"
  }
 },
 "nbformat": 4,
 "nbformat_minor": 0
}
