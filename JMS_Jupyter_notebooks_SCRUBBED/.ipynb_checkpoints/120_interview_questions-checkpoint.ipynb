{
 "cells": [
  {
   "cell_type": "markdown",
   "metadata": {},
   "source": [
    "Write a function to calculate all possible assignment vectors\n",
    "of 2n users, where n users are assigned to group 0\n",
    "(control), and n users are assigned to group 1 (treatment)."
   ]
  },
  {
   "cell_type": "code",
   "execution_count": 1,
   "metadata": {
    "collapsed": true
   },
   "outputs": [],
   "source": [
    "users = [\"a\",\"b\",\"c\",\"d\"]"
   ]
  },
  {
   "cell_type": "markdown",
   "metadata": {},
   "source": [
    "All possible combinations for group 0"
   ]
  },
  {
   "cell_type": "code",
   "execution_count": 6,
   "metadata": {
    "collapsed": false
   },
   "outputs": [
    {
     "name": "stdout",
     "output_type": "stream",
     "text": [
      "ab\n",
      "ac\n",
      "ad\n",
      "bc\n",
      "bd\n",
      "cd\n"
     ]
    }
   ],
   "source": [
    "for i,u in enumerate(users):\n",
    "    for u2 in users[i+1::]:\n",
    "        print u + u2"
   ]
  },
  {
   "cell_type": "markdown",
   "metadata": {},
   "source": [
    "http://stackoverflow.com/questions/23779576/all-possible-assignment-vectors-of-2n-users"
   ]
  },
  {
   "cell_type": "code",
   "execution_count": 14,
   "metadata": {
    "collapsed": true
   },
   "outputs": [],
   "source": [
    "def allSamples(k,n):\n",
    "    # choose k elements in candidate lists from [0,...,n-1] with length n\n",
    "    # input:\n",
    "        # k: number of choosed elements \n",
    "        # n: candidate list length\n",
    "    # output: \n",
    "        # list of all possible assignments\n",
    "\n",
    "    allC = []\n",
    "\n",
    "    if k == 1:\n",
    "        for i in range(n):\n",
    "            assignment = [0]*n\n",
    "            assignment[i] = 1\n",
    "            allC.append(assignment)\n",
    "    elif n == k:\n",
    "        assigment = [1]*n\n",
    "        allC = [assigment]\n",
    "    else:\n",
    "        pl = n - k + 1\n",
    "        for i in range(pl):\n",
    "            assignment = [0]*(i+1)\n",
    "            assignment[i] = 1\n",
    "            for c in allSamples(k-1,n-i-1):\n",
    "                allC.append(assignment+c)\n",
    "    return allC"
   ]
  },
  {
   "cell_type": "code",
   "execution_count": 27,
   "metadata": {
    "collapsed": false
   },
   "outputs": [
    {
     "name": "stdout",
     "output_type": "stream",
     "text": [
      "[[1, 1, 0], [1, 0, 1], [0, 1, 1]]\n"
     ]
    }
   ],
   "source": [
    "### k =2 and n=4 is equivilant to my answer above\n",
    "k = 2\n",
    "n = 3 # Number of users\n",
    "print allSamples(k,n)"
   ]
  },
  {
   "cell_type": "code",
   "execution_count": null,
   "metadata": {
    "collapsed": true
   },
   "outputs": [],
   "source": []
  },
  {
   "cell_type": "code",
   "execution_count": null,
   "metadata": {
    "collapsed": true
   },
   "outputs": [],
   "source": []
  },
  {
   "cell_type": "code",
   "execution_count": null,
   "metadata": {
    "collapsed": true
   },
   "outputs": [],
   "source": []
  },
  {
   "cell_type": "code",
   "execution_count": null,
   "metadata": {
    "collapsed": true
   },
   "outputs": [],
   "source": []
  },
  {
   "cell_type": "markdown",
   "metadata": {},
   "source": [
    "### Write an algorithm that can calculate the square root of a number."
   ]
  },
  {
   "cell_type": "code",
   "execution_count": 72,
   "metadata": {
    "collapsed": true
   },
   "outputs": [],
   "source": [
    "n = 800.0"
   ]
  },
  {
   "cell_type": "code",
   "execution_count": 79,
   "metadata": {
    "collapsed": false
   },
   "outputs": [
    {
     "name": "stdout",
     "output_type": "stream",
     "text": [
      "Starting m is 1.00250626566\n",
      "The approximate sqrt of 800.0 is 28.2825062657\n"
     ]
    }
   ],
   "source": [
    "stop = False; under_cnt = 0; over_cnt = 0; update = 1;\n",
    "m = n/(n-2) ## Starting guess, could be significantly improved\n",
    "print \"Starting m is \" + str(m)\n",
    "while stop == False:\n",
    "    if m**2 == n or m**2 >= n - 0.5 and m**2 <= n + 0.5:\n",
    "        print \"The approximate sqrt of \" + str(n) + \" is \" + str(m)\n",
    "        stop = True\n",
    "    elif m**2 < n:\n",
    "        m +=1*update\n",
    "        under_cnt +=1\n",
    "    elif m**2 > n:\n",
    "        m -= 1*update\n",
    "        over_cnt +=1\n",
    "    else:\n",
    "        print \"how did I get here\"\n",
    "    ### Below are finer steps to update the guess...could also be improved, in the above update steps\n",
    "    ### I could look at how far away the number is from the right number\n",
    "    ### Should probably be related to how many digits n has and then divide the current updater by something\n",
    "    if under_cnt >10 and over_cnt>10: # refine update step since I seem to be missing the answer\n",
    "        update = 0.1\n",
    "    if under_cnt >100 and over_cnt>100: # refine update step since I seem to be missing the answer\n",
    "        update = 0.01\n",
    "    if under_cnt >1000 and over_cnt>1000: # refine update step since I seem to be missing the answer\n",
    "        update = 0.001\n",
    "        print \"Things are taking awhile...current guess is \" + str(m)\n",
    "    if under_cnt >10000 and over_cnt>10000: # Give up...I got close!...probably\n",
    "        print \"The very approximate sqrt of \" + str(n) + \" is \" + str(m)\n",
    "        stop = True"
   ]
  },
  {
   "cell_type": "code",
   "execution_count": 80,
   "metadata": {
    "collapsed": false
   },
   "outputs": [
    {
     "name": "stdout",
     "output_type": "stream",
     "text": [
      "800.0\n",
      "28.2825062657\n",
      "138\n",
      "101\n"
     ]
    }
   ],
   "source": [
    "print(n)\n",
    "print(m)\n",
    "print(under_cnt)\n",
    "print(over_cnt)"
   ]
  },
  {
   "cell_type": "code",
   "execution_count": 56,
   "metadata": {
    "collapsed": false
   },
   "outputs": [
    {
     "ename": "NameError",
     "evalue": "name 'update' is not defined",
     "output_type": "error",
     "traceback": [
      "\u001b[0;31m---------------------------------------------------------------------------\u001b[0m",
      "\u001b[0;31mNameError\u001b[0m                                 Traceback (most recent call last)",
      "\u001b[0;32m<ipython-input-56-01eb2c11c268>\u001b[0m in \u001b[0;36m<module>\u001b[0;34m()\u001b[0m\n\u001b[0;32m----> 1\u001b[0;31m \u001b[0mupdate\u001b[0m\u001b[0;34m\u001b[0m\u001b[0m\n\u001b[0m",
      "\u001b[0;31mNameError\u001b[0m: name 'update' is not defined"
     ]
    }
   ],
   "source": [
    "update"
   ]
  },
  {
   "cell_type": "code",
   "execution_count": null,
   "metadata": {
    "collapsed": true
   },
   "outputs": [],
   "source": []
  },
  {
   "cell_type": "code",
   "execution_count": null,
   "metadata": {
    "collapsed": true
   },
   "outputs": [],
   "source": []
  },
  {
   "cell_type": "code",
   "execution_count": null,
   "metadata": {
    "collapsed": true
   },
   "outputs": [],
   "source": []
  },
  {
   "cell_type": "code",
   "execution_count": null,
   "metadata": {
    "collapsed": true
   },
   "outputs": [],
   "source": []
  }
 ],
 "metadata": {
  "kernelspec": {
   "display_name": "Python [py2-env]",
   "language": "python",
   "name": "Python [py2-env]"
  },
  "language_info": {
   "codemirror_mode": {
    "name": "ipython",
    "version": 2
   },
   "file_extension": ".py",
   "mimetype": "text/x-python",
   "name": "python",
   "nbconvert_exporter": "python",
   "pygments_lexer": "ipython2",
   "version": "2.7.12"
  }
 },
 "nbformat": 4,
 "nbformat_minor": 0
}
