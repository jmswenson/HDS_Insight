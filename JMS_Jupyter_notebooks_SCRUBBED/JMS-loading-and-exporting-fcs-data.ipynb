{
 "cells": [
  {
   "cell_type": "markdown",
   "metadata": {},
   "source": [
    "# See \"read_csvs_tSNE_DBSCAN_save_output\" for an example using real data"
   ]
  },
  {
   "cell_type": "markdown",
   "metadata": {},
   "source": [
    "Import relevant tools and set-up workspace"
   ]
  },
  {
   "cell_type": "code",
   "execution_count": 18,
   "metadata": {
    "collapsed": true
   },
   "outputs": [],
   "source": [
    "import fcsparser as fcs\n",
    "import pandas\n",
    "import numpy\n",
    "\n",
    "%matplotlib notebook\n",
    "import matplotlib\n",
    "import matplotlib.pyplot as plt"
   ]
  },
  {
   "cell_type": "markdown",
   "metadata": {},
   "source": [
    "Read in the data"
   ]
  },
  {
   "cell_type": "code",
   "execution_count": 19,
   "metadata": {
    "collapsed": true
   },
   "outputs": [],
   "source": [
    "path = '/Users/tswenson/Documents/Joels/Health_Data_Science/COMPANY_consulting_project/datasets/training_set/screen_357_cell_plate_1_well_C3_original.fcs'\n",
    "meta, df = fcs.parse(path, reformat_meta=True)"
   ]
  },
  {
   "cell_type": "code",
   "execution_count": 3,
   "metadata": {
    "collapsed": false
   },
   "outputs": [
    {
     "name": "stdout",
     "output_type": "stream",
     "text": [
      "<class 'pandas.core.frame.DataFrame'>\n",
      "<class 'collections.OrderedDict'>\n"
     ]
    }
   ],
   "source": [
    "print(type(df))\n",
    "print(type(meta))"
   ]
  },
  {
   "cell_type": "code",
   "execution_count": 4,
   "metadata": {
    "collapsed": false
   },
   "outputs": [
    {
     "data": {
      "text/html": [
       "<div>\n",
       "<table border=\"1\" class=\"dataframe\">\n",
       "  <thead>\n",
       "    <tr style=\"text-align: right;\">\n",
       "      <th></th>\n",
       "      <th>FSC-H</th>\n",
       "      <th>SSC-H</th>\n",
       "      <th>BL1-H</th>\n",
       "      <th>BL2-H</th>\n",
       "      <th>BL3-H</th>\n",
       "      <th>BL4-H</th>\n",
       "      <th>BL5-H</th>\n",
       "      <th>RL1-H</th>\n",
       "      <th>RL2-H</th>\n",
       "      <th>VL1-H</th>\n",
       "      <th>...</th>\n",
       "      <th>RL1-A</th>\n",
       "      <th>RL2-A</th>\n",
       "      <th>VL1-A</th>\n",
       "      <th>VL2-A</th>\n",
       "      <th>VL3-A</th>\n",
       "      <th>VL4-A</th>\n",
       "      <th>VL5-A</th>\n",
       "      <th>VL6-A</th>\n",
       "      <th>Width</th>\n",
       "      <th>Time</th>\n",
       "    </tr>\n",
       "  </thead>\n",
       "  <tbody>\n",
       "    <tr>\n",
       "      <th>0</th>\n",
       "      <td>8461803</td>\n",
       "      <td>16756139</td>\n",
       "      <td>3406</td>\n",
       "      <td>3241</td>\n",
       "      <td>5111</td>\n",
       "      <td>3970</td>\n",
       "      <td>12753</td>\n",
       "      <td>5064</td>\n",
       "      <td>16662</td>\n",
       "      <td>4499</td>\n",
       "      <td>...</td>\n",
       "      <td>254147</td>\n",
       "      <td>2007289</td>\n",
       "      <td>0</td>\n",
       "      <td>183895</td>\n",
       "      <td>0</td>\n",
       "      <td>0</td>\n",
       "      <td>139455</td>\n",
       "      <td>1050445</td>\n",
       "      <td>5415</td>\n",
       "      <td>7744</td>\n",
       "    </tr>\n",
       "    <tr>\n",
       "      <th>1</th>\n",
       "      <td>65242</td>\n",
       "      <td>1266425</td>\n",
       "      <td>488</td>\n",
       "      <td>96</td>\n",
       "      <td>681</td>\n",
       "      <td>1501</td>\n",
       "      <td>2046</td>\n",
       "      <td>1237</td>\n",
       "      <td>2335</td>\n",
       "      <td>157</td>\n",
       "      <td>...</td>\n",
       "      <td>0</td>\n",
       "      <td>0</td>\n",
       "      <td>236</td>\n",
       "      <td>0</td>\n",
       "      <td>0</td>\n",
       "      <td>0</td>\n",
       "      <td>0</td>\n",
       "      <td>0</td>\n",
       "      <td>26</td>\n",
       "      <td>7744</td>\n",
       "    </tr>\n",
       "    <tr>\n",
       "      <th>2</th>\n",
       "      <td>337209</td>\n",
       "      <td>1223704</td>\n",
       "      <td>0</td>\n",
       "      <td>83</td>\n",
       "      <td>0</td>\n",
       "      <td>939</td>\n",
       "      <td>2372</td>\n",
       "      <td>603</td>\n",
       "      <td>3364</td>\n",
       "      <td>53</td>\n",
       "      <td>...</td>\n",
       "      <td>0</td>\n",
       "      <td>4512</td>\n",
       "      <td>361</td>\n",
       "      <td>1684</td>\n",
       "      <td>1084</td>\n",
       "      <td>0</td>\n",
       "      <td>0</td>\n",
       "      <td>0</td>\n",
       "      <td>40</td>\n",
       "      <td>7744</td>\n",
       "    </tr>\n",
       "    <tr>\n",
       "      <th>3</th>\n",
       "      <td>1007446</td>\n",
       "      <td>1181087</td>\n",
       "      <td>0</td>\n",
       "      <td>603</td>\n",
       "      <td>1307</td>\n",
       "      <td>300</td>\n",
       "      <td>3877</td>\n",
       "      <td>630</td>\n",
       "      <td>1516</td>\n",
       "      <td>105</td>\n",
       "      <td>...</td>\n",
       "      <td>0</td>\n",
       "      <td>0</td>\n",
       "      <td>139</td>\n",
       "      <td>0</td>\n",
       "      <td>0</td>\n",
       "      <td>0</td>\n",
       "      <td>0</td>\n",
       "      <td>0</td>\n",
       "      <td>45</td>\n",
       "      <td>7744</td>\n",
       "    </tr>\n",
       "    <tr>\n",
       "      <th>4</th>\n",
       "      <td>5306675</td>\n",
       "      <td>1140815</td>\n",
       "      <td>803</td>\n",
       "      <td>1753</td>\n",
       "      <td>2403</td>\n",
       "      <td>2362</td>\n",
       "      <td>2878</td>\n",
       "      <td>2262</td>\n",
       "      <td>3477</td>\n",
       "      <td>1276</td>\n",
       "      <td>...</td>\n",
       "      <td>0</td>\n",
       "      <td>0</td>\n",
       "      <td>4148</td>\n",
       "      <td>6573</td>\n",
       "      <td>2304</td>\n",
       "      <td>0</td>\n",
       "      <td>0</td>\n",
       "      <td>0</td>\n",
       "      <td>228</td>\n",
       "      <td>7744</td>\n",
       "    </tr>\n",
       "  </tbody>\n",
       "</table>\n",
       "<p>5 rows × 32 columns</p>\n",
       "</div>"
      ],
      "text/plain": [
       "     FSC-H     SSC-H  BL1-H  BL2-H  BL3-H  BL4-H  BL5-H  RL1-H  RL2-H  VL1-H  \\\n",
       "0  8461803  16756139   3406   3241   5111   3970  12753   5064  16662   4499   \n",
       "1    65242   1266425    488     96    681   1501   2046   1237   2335    157   \n",
       "2   337209   1223704      0     83      0    939   2372    603   3364     53   \n",
       "3  1007446   1181087      0    603   1307    300   3877    630   1516    105   \n",
       "4  5306675   1140815    803   1753   2403   2362   2878   2262   3477   1276   \n",
       "\n",
       "   ...    RL1-A    RL2-A  VL1-A   VL2-A  VL3-A  VL4-A   VL5-A    VL6-A  Width  \\\n",
       "0  ...   254147  2007289      0  183895      0      0  139455  1050445   5415   \n",
       "1  ...        0        0    236       0      0      0       0        0     26   \n",
       "2  ...        0     4512    361    1684   1084      0       0        0     40   \n",
       "3  ...        0        0    139       0      0      0       0        0     45   \n",
       "4  ...        0        0   4148    6573   2304      0       0        0    228   \n",
       "\n",
       "   Time  \n",
       "0  7744  \n",
       "1  7744  \n",
       "2  7744  \n",
       "3  7744  \n",
       "4  7744  \n",
       "\n",
       "[5 rows x 32 columns]"
      ]
     },
     "execution_count": 4,
     "metadata": {},
     "output_type": "execute_result"
    }
   ],
   "source": [
    "df.head()"
   ]
  },
  {
   "cell_type": "code",
   "execution_count": 5,
   "metadata": {
    "collapsed": false
   },
   "outputs": [
    {
     "data": {
      "text/html": [
       "<div>\n",
       "<table border=\"1\" class=\"dataframe\">\n",
       "  <thead>\n",
       "    <tr style=\"text-align: right;\">\n",
       "      <th></th>\n",
       "      <th>FSC-H</th>\n",
       "      <th>SSC-H</th>\n",
       "      <th>BL1-H</th>\n",
       "      <th>BL2-H</th>\n",
       "      <th>BL3-H</th>\n",
       "      <th>BL4-H</th>\n",
       "      <th>BL5-H</th>\n",
       "      <th>RL1-H</th>\n",
       "      <th>RL2-H</th>\n",
       "      <th>VL1-H</th>\n",
       "      <th>...</th>\n",
       "      <th>RL1-A</th>\n",
       "      <th>RL2-A</th>\n",
       "      <th>VL1-A</th>\n",
       "      <th>VL2-A</th>\n",
       "      <th>VL3-A</th>\n",
       "      <th>VL4-A</th>\n",
       "      <th>VL5-A</th>\n",
       "      <th>VL6-A</th>\n",
       "      <th>Width</th>\n",
       "      <th>Time</th>\n",
       "    </tr>\n",
       "  </thead>\n",
       "  <tbody>\n",
       "    <tr>\n",
       "      <th>count</th>\n",
       "      <td>3.104700e+04</td>\n",
       "      <td>3.104700e+04</td>\n",
       "      <td>3.104700e+04</td>\n",
       "      <td>3.104700e+04</td>\n",
       "      <td>3.104700e+04</td>\n",
       "      <td>31047.000000</td>\n",
       "      <td>31047.000000</td>\n",
       "      <td>3.104700e+04</td>\n",
       "      <td>31047.000000</td>\n",
       "      <td>3.104700e+04</td>\n",
       "      <td>...</td>\n",
       "      <td>3.104700e+04</td>\n",
       "      <td>3.104700e+04</td>\n",
       "      <td>3.104700e+04</td>\n",
       "      <td>3.104700e+04</td>\n",
       "      <td>3.104700e+04</td>\n",
       "      <td>3.104700e+04</td>\n",
       "      <td>3.104700e+04</td>\n",
       "      <td>3.104700e+04</td>\n",
       "      <td>31047.000000</td>\n",
       "      <td>31047.000000</td>\n",
       "    </tr>\n",
       "    <tr>\n",
       "      <th>mean</th>\n",
       "      <td>1.074041e+06</td>\n",
       "      <td>5.059691e+05</td>\n",
       "      <td>3.718709e+04</td>\n",
       "      <td>2.667560e+04</td>\n",
       "      <td>1.873240e+04</td>\n",
       "      <td>7225.893387</td>\n",
       "      <td>6700.608304</td>\n",
       "      <td>1.090980e+04</td>\n",
       "      <td>5616.098109</td>\n",
       "      <td>1.120639e+05</td>\n",
       "      <td>...</td>\n",
       "      <td>1.893479e+04</td>\n",
       "      <td>7.383493e+03</td>\n",
       "      <td>1.847924e+05</td>\n",
       "      <td>1.119890e+06</td>\n",
       "      <td>2.171026e+05</td>\n",
       "      <td>1.589093e+05</td>\n",
       "      <td>5.336994e+04</td>\n",
       "      <td>1.631278e+04</td>\n",
       "      <td>54.418011</td>\n",
       "      <td>8261.392695</td>\n",
       "    </tr>\n",
       "    <tr>\n",
       "      <th>std</th>\n",
       "      <td>8.437501e+05</td>\n",
       "      <td>5.472144e+05</td>\n",
       "      <td>9.113687e+04</td>\n",
       "      <td>6.250322e+04</td>\n",
       "      <td>4.412330e+04</td>\n",
       "      <td>19208.085958</td>\n",
       "      <td>10038.277251</td>\n",
       "      <td>1.055754e+05</td>\n",
       "      <td>14286.486919</td>\n",
       "      <td>3.106569e+05</td>\n",
       "      <td>...</td>\n",
       "      <td>2.075335e+05</td>\n",
       "      <td>8.815005e+04</td>\n",
       "      <td>5.191394e+05</td>\n",
       "      <td>2.893125e+06</td>\n",
       "      <td>5.736400e+05</td>\n",
       "      <td>4.224689e+05</td>\n",
       "      <td>1.429037e+05</td>\n",
       "      <td>1.425718e+05</td>\n",
       "      <td>148.488784</td>\n",
       "      <td>540.826470</td>\n",
       "    </tr>\n",
       "    <tr>\n",
       "      <th>min</th>\n",
       "      <td>5.000200e+04</td>\n",
       "      <td>0.000000e+00</td>\n",
       "      <td>0.000000e+00</td>\n",
       "      <td>0.000000e+00</td>\n",
       "      <td>0.000000e+00</td>\n",
       "      <td>0.000000</td>\n",
       "      <td>0.000000</td>\n",
       "      <td>0.000000e+00</td>\n",
       "      <td>0.000000</td>\n",
       "      <td>0.000000e+00</td>\n",
       "      <td>...</td>\n",
       "      <td>0.000000e+00</td>\n",
       "      <td>0.000000e+00</td>\n",
       "      <td>0.000000e+00</td>\n",
       "      <td>0.000000e+00</td>\n",
       "      <td>0.000000e+00</td>\n",
       "      <td>0.000000e+00</td>\n",
       "      <td>0.000000e+00</td>\n",
       "      <td>0.000000e+00</td>\n",
       "      <td>2.000000</td>\n",
       "      <td>7744.000000</td>\n",
       "    </tr>\n",
       "    <tr>\n",
       "      <th>25%</th>\n",
       "      <td>2.083305e+05</td>\n",
       "      <td>1.498500e+05</td>\n",
       "      <td>8.275500e+03</td>\n",
       "      <td>3.674000e+03</td>\n",
       "      <td>3.791000e+03</td>\n",
       "      <td>2690.000000</td>\n",
       "      <td>2430.000000</td>\n",
       "      <td>4.326000e+03</td>\n",
       "      <td>3519.000000</td>\n",
       "      <td>2.785000e+03</td>\n",
       "      <td>...</td>\n",
       "      <td>1.415000e+02</td>\n",
       "      <td>0.000000e+00</td>\n",
       "      <td>4.609000e+03</td>\n",
       "      <td>4.360550e+04</td>\n",
       "      <td>9.339000e+03</td>\n",
       "      <td>7.703000e+03</td>\n",
       "      <td>2.498000e+03</td>\n",
       "      <td>1.039500e+03</td>\n",
       "      <td>40.000000</td>\n",
       "      <td>7853.000000</td>\n",
       "    </tr>\n",
       "    <tr>\n",
       "      <th>50%</th>\n",
       "      <td>1.139843e+06</td>\n",
       "      <td>4.091700e+05</td>\n",
       "      <td>1.830100e+04</td>\n",
       "      <td>7.785000e+03</td>\n",
       "      <td>6.196000e+03</td>\n",
       "      <td>4200.000000</td>\n",
       "      <td>3930.000000</td>\n",
       "      <td>6.442000e+03</td>\n",
       "      <td>4966.000000</td>\n",
       "      <td>5.668000e+03</td>\n",
       "      <td>...</td>\n",
       "      <td>7.297000e+03</td>\n",
       "      <td>3.631000e+03</td>\n",
       "      <td>1.064900e+04</td>\n",
       "      <td>1.027500e+05</td>\n",
       "      <td>2.516300e+04</td>\n",
       "      <td>2.166400e+04</td>\n",
       "      <td>1.030600e+04</td>\n",
       "      <td>8.195000e+03</td>\n",
       "      <td>52.000000</td>\n",
       "      <td>8002.000000</td>\n",
       "    </tr>\n",
       "    <tr>\n",
       "      <th>75%</th>\n",
       "      <td>1.750635e+06</td>\n",
       "      <td>7.122485e+05</td>\n",
       "      <td>5.019700e+04</td>\n",
       "      <td>1.526950e+04</td>\n",
       "      <td>1.063350e+04</td>\n",
       "      <td>6426.500000</td>\n",
       "      <td>6683.000000</td>\n",
       "      <td>9.719000e+03</td>\n",
       "      <td>6623.000000</td>\n",
       "      <td>1.638550e+04</td>\n",
       "      <td>...</td>\n",
       "      <td>1.833250e+04</td>\n",
       "      <td>9.220000e+03</td>\n",
       "      <td>2.957900e+04</td>\n",
       "      <td>2.671210e+05</td>\n",
       "      <td>8.021750e+04</td>\n",
       "      <td>6.428400e+04</td>\n",
       "      <td>2.461250e+04</td>\n",
       "      <td>1.907400e+04</td>\n",
       "      <td>60.000000</td>\n",
       "      <td>8568.000000</td>\n",
       "    </tr>\n",
       "    <tr>\n",
       "      <th>max</th>\n",
       "      <td>1.048437e+07</td>\n",
       "      <td>1.677722e+07</td>\n",
       "      <td>4.534528e+06</td>\n",
       "      <td>1.378156e+06</td>\n",
       "      <td>1.238454e+06</td>\n",
       "      <td>973305.000000</td>\n",
       "      <td>136938.000000</td>\n",
       "      <td>5.940396e+06</td>\n",
       "      <td>777657.000000</td>\n",
       "      <td>3.510322e+06</td>\n",
       "      <td>...</td>\n",
       "      <td>1.677722e+07</td>\n",
       "      <td>1.313333e+07</td>\n",
       "      <td>1.143401e+07</td>\n",
       "      <td>1.677722e+07</td>\n",
       "      <td>1.677722e+07</td>\n",
       "      <td>1.677722e+07</td>\n",
       "      <td>9.478258e+06</td>\n",
       "      <td>1.677722e+07</td>\n",
       "      <td>17328.000000</td>\n",
       "      <td>9679.000000</td>\n",
       "    </tr>\n",
       "  </tbody>\n",
       "</table>\n",
       "<p>8 rows × 32 columns</p>\n",
       "</div>"
      ],
      "text/plain": [
       "              FSC-H         SSC-H         BL1-H         BL2-H         BL3-H  \\\n",
       "count  3.104700e+04  3.104700e+04  3.104700e+04  3.104700e+04  3.104700e+04   \n",
       "mean   1.074041e+06  5.059691e+05  3.718709e+04  2.667560e+04  1.873240e+04   \n",
       "std    8.437501e+05  5.472144e+05  9.113687e+04  6.250322e+04  4.412330e+04   \n",
       "min    5.000200e+04  0.000000e+00  0.000000e+00  0.000000e+00  0.000000e+00   \n",
       "25%    2.083305e+05  1.498500e+05  8.275500e+03  3.674000e+03  3.791000e+03   \n",
       "50%    1.139843e+06  4.091700e+05  1.830100e+04  7.785000e+03  6.196000e+03   \n",
       "75%    1.750635e+06  7.122485e+05  5.019700e+04  1.526950e+04  1.063350e+04   \n",
       "max    1.048437e+07  1.677722e+07  4.534528e+06  1.378156e+06  1.238454e+06   \n",
       "\n",
       "               BL4-H          BL5-H         RL1-H          RL2-H  \\\n",
       "count   31047.000000   31047.000000  3.104700e+04   31047.000000   \n",
       "mean     7225.893387    6700.608304  1.090980e+04    5616.098109   \n",
       "std     19208.085958   10038.277251  1.055754e+05   14286.486919   \n",
       "min         0.000000       0.000000  0.000000e+00       0.000000   \n",
       "25%      2690.000000    2430.000000  4.326000e+03    3519.000000   \n",
       "50%      4200.000000    3930.000000  6.442000e+03    4966.000000   \n",
       "75%      6426.500000    6683.000000  9.719000e+03    6623.000000   \n",
       "max    973305.000000  136938.000000  5.940396e+06  777657.000000   \n",
       "\n",
       "              VL1-H      ...              RL1-A         RL2-A         VL1-A  \\\n",
       "count  3.104700e+04      ...       3.104700e+04  3.104700e+04  3.104700e+04   \n",
       "mean   1.120639e+05      ...       1.893479e+04  7.383493e+03  1.847924e+05   \n",
       "std    3.106569e+05      ...       2.075335e+05  8.815005e+04  5.191394e+05   \n",
       "min    0.000000e+00      ...       0.000000e+00  0.000000e+00  0.000000e+00   \n",
       "25%    2.785000e+03      ...       1.415000e+02  0.000000e+00  4.609000e+03   \n",
       "50%    5.668000e+03      ...       7.297000e+03  3.631000e+03  1.064900e+04   \n",
       "75%    1.638550e+04      ...       1.833250e+04  9.220000e+03  2.957900e+04   \n",
       "max    3.510322e+06      ...       1.677722e+07  1.313333e+07  1.143401e+07   \n",
       "\n",
       "              VL2-A         VL3-A         VL4-A         VL5-A         VL6-A  \\\n",
       "count  3.104700e+04  3.104700e+04  3.104700e+04  3.104700e+04  3.104700e+04   \n",
       "mean   1.119890e+06  2.171026e+05  1.589093e+05  5.336994e+04  1.631278e+04   \n",
       "std    2.893125e+06  5.736400e+05  4.224689e+05  1.429037e+05  1.425718e+05   \n",
       "min    0.000000e+00  0.000000e+00  0.000000e+00  0.000000e+00  0.000000e+00   \n",
       "25%    4.360550e+04  9.339000e+03  7.703000e+03  2.498000e+03  1.039500e+03   \n",
       "50%    1.027500e+05  2.516300e+04  2.166400e+04  1.030600e+04  8.195000e+03   \n",
       "75%    2.671210e+05  8.021750e+04  6.428400e+04  2.461250e+04  1.907400e+04   \n",
       "max    1.677722e+07  1.677722e+07  1.677722e+07  9.478258e+06  1.677722e+07   \n",
       "\n",
       "              Width          Time  \n",
       "count  31047.000000  31047.000000  \n",
       "mean      54.418011   8261.392695  \n",
       "std      148.488784    540.826470  \n",
       "min        2.000000   7744.000000  \n",
       "25%       40.000000   7853.000000  \n",
       "50%       52.000000   8002.000000  \n",
       "75%       60.000000   8568.000000  \n",
       "max    17328.000000   9679.000000  \n",
       "\n",
       "[8 rows x 32 columns]"
      ]
     },
     "execution_count": 5,
     "metadata": {},
     "output_type": "execute_result"
    }
   ],
   "source": [
    "df.describe()"
   ]
  },
  {
   "cell_type": "markdown",
   "metadata": {},
   "source": [
    "Look for missing values"
   ]
  },
  {
   "cell_type": "code",
   "execution_count": 6,
   "metadata": {
    "collapsed": false
   },
   "outputs": [
    {
     "data": {
      "text/plain": [
       "FSC-H    0\n",
       "SSC-H    0\n",
       "BL1-H    0\n",
       "BL2-H    0\n",
       "BL3-H    0\n",
       "BL4-H    0\n",
       "BL5-H    0\n",
       "RL1-H    0\n",
       "RL2-H    0\n",
       "VL1-H    0\n",
       "VL2-H    0\n",
       "VL3-H    0\n",
       "VL4-H    0\n",
       "VL5-H    0\n",
       "VL6-H    0\n",
       "FSC-A    0\n",
       "SSC-A    0\n",
       "BL1-A    0\n",
       "BL2-A    0\n",
       "BL3-A    0\n",
       "BL4-A    0\n",
       "BL5-A    0\n",
       "RL1-A    0\n",
       "RL2-A    0\n",
       "VL1-A    0\n",
       "VL2-A    0\n",
       "VL3-A    0\n",
       "VL4-A    0\n",
       "VL5-A    0\n",
       "VL6-A    0\n",
       "Width    0\n",
       "Time     0\n",
       "dtype: int64"
      ]
     },
     "execution_count": 6,
     "metadata": {},
     "output_type": "execute_result"
    }
   ],
   "source": [
    "empty = df.apply(lambda col: pandas.isnull(col)) # See pandas.notnull for the opposite\n",
    "empty.sum()"
   ]
  },
  {
   "cell_type": "markdown",
   "metadata": {},
   "source": [
    "# Write the data to a csv file"
   ]
  },
  {
   "cell_type": "code",
   "execution_count": 7,
   "metadata": {
    "collapsed": true
   },
   "outputs": [],
   "source": [
    "df.to_csv(\"/Users/tswenson/Documents/Joels/Health_Data_Science/COMPANY_consulting_project/datasets/training_set/screen_357_cell_plate_1_well_C3_original.JMS.csv\")"
   ]
  },
  {
   "cell_type": "markdown",
   "metadata": {},
   "source": [
    "# Export a subset of the data "
   ]
  },
  {
   "cell_type": "code",
   "execution_count": 8,
   "metadata": {
    "collapsed": false
   },
   "outputs": [],
   "source": [
    "from fcsparser.api import FCSParser"
   ]
  },
  {
   "cell_type": "code",
   "execution_count": 9,
   "metadata": {
    "collapsed": true
   },
   "outputs": [],
   "source": [
    "fcs_file = FCSParser(path)"
   ]
  },
  {
   "cell_type": "code",
   "execution_count": 10,
   "metadata": {
    "collapsed": true
   },
   "outputs": [],
   "source": [
    "subset_fcs_file = fcs_file.clone(data=fcs_file.data[:1000])"
   ]
  },
  {
   "cell_type": "code",
   "execution_count": 11,
   "metadata": {
    "collapsed": false
   },
   "outputs": [
    {
     "data": {
      "text/plain": [
       "fcsparser.api.FCSParser"
      ]
     },
     "execution_count": 11,
     "metadata": {},
     "output_type": "execute_result"
    }
   ],
   "source": [
    "type(fcs_file)"
   ]
  },
  {
   "cell_type": "code",
   "execution_count": 12,
   "metadata": {
    "collapsed": false
   },
   "outputs": [
    {
     "data": {
      "text/plain": [
       "fcsparser.api.FCSParser"
      ]
     },
     "execution_count": 12,
     "metadata": {},
     "output_type": "execute_result"
    }
   ],
   "source": [
    "type(subset_fcs_file)"
   ]
  },
  {
   "cell_type": "code",
   "execution_count": null,
   "metadata": {
    "collapsed": true
   },
   "outputs": [],
   "source": []
  },
  {
   "cell_type": "markdown",
   "metadata": {},
   "source": [
    "Below is from michael's code"
   ]
  },
  {
   "cell_type": "code",
   "execution_count": 17,
   "metadata": {
    "collapsed": false
   },
   "outputs": [
    {
     "ename": "NameError",
     "evalue": "name 'data' is not defined",
     "output_type": "error",
     "traceback": [
      "\u001b[0;31m---------------------------------------------------------------------------\u001b[0m",
      "\u001b[0;31mNameError\u001b[0m                                 Traceback (most recent call last)",
      "\u001b[0;32m<ipython-input-17-0291bd62deaa>\u001b[0m in \u001b[0;36m<module>\u001b[0;34m()\u001b[0m\n\u001b[0;32m----> 1\u001b[0;31m \u001b[0mtype\u001b[0m\u001b[0;34m(\u001b[0m\u001b[0mdata\u001b[0m\u001b[0;34m)\u001b[0m\u001b[0;34m\u001b[0m\u001b[0m\n\u001b[0m",
      "\u001b[0;31mNameError\u001b[0m: name 'data' is not defined"
     ]
    }
   ],
   "source": [
    "type(data)"
   ]
  },
  {
   "cell_type": "code",
   "execution_count": 20,
   "metadata": {
    "collapsed": false
   },
   "outputs": [
    {
     "ename": "NameError",
     "evalue": "name 'result' is not defined",
     "output_type": "error",
     "traceback": [
      "\u001b[0;31m---------------------------------------------------------------------------\u001b[0m",
      "\u001b[0;31mNameError\u001b[0m                                 Traceback (most recent call last)",
      "\u001b[0;32m<ipython-input-20-b67d5fec33fe>\u001b[0m in \u001b[0;36m<module>\u001b[0;34m()\u001b[0m\n\u001b[1;32m      1\u001b[0m \u001b[0;31m# export results from Michael...not run by JMS, but annotated by me\u001b[0m\u001b[0;34m\u001b[0m\u001b[0;34m\u001b[0m\u001b[0m\n\u001b[0;32m----> 2\u001b[0;31m \u001b[0;32mfor\u001b[0m \u001b[0mlabel\u001b[0m \u001b[0;32min\u001b[0m \u001b[0mresult\u001b[0m\u001b[0;34m[\u001b[0m\u001b[0;34m'cluster_label'\u001b[0m\u001b[0;34m]\u001b[0m\u001b[0;34m.\u001b[0m\u001b[0munique\u001b[0m\u001b[0;34m(\u001b[0m\u001b[0;34m)\u001b[0m\u001b[0;34m:\u001b[0m \u001b[0;31m# iterates through all the unique labels in the pandas series (column) of the dataframe \"result\"\u001b[0m\u001b[0;34m\u001b[0m\u001b[0m\n\u001b[0m\u001b[1;32m      3\u001b[0m     \u001b[0mfcs_file\u001b[0m \u001b[0;34m=\u001b[0m \u001b[0mFCSParser\u001b[0m\u001b[0;34m(\u001b[0m\u001b[0mpath\u001b[0m\u001b[0;34m)\u001b[0m \u001b[0;31m# load the fcs file that you want to subset into different labels\u001b[0m\u001b[0;34m\u001b[0m\u001b[0m\n\u001b[1;32m      4\u001b[0m     \u001b[0mcluster_data\u001b[0m \u001b[0;34m=\u001b[0m \u001b[0mdata\u001b[0m\u001b[0;34m[\u001b[0m\u001b[0mresult\u001b[0m\u001b[0;34m[\u001b[0m\u001b[0;34m'cluster_label'\u001b[0m\u001b[0;34m]\u001b[0m\u001b[0;34m==\u001b[0m\u001b[0mlabel\u001b[0m\u001b[0;34m]\u001b[0m \u001b[0;31m# data is from: meta, data = fcs.parse(path)???\u001b[0m\u001b[0;34m\u001b[0m\u001b[0m\n\u001b[1;32m      5\u001b[0m     \u001b[0;31m# the above step subsets the original data based on the label from \"result\"\u001b[0m\u001b[0;34m\u001b[0m\u001b[0;34m\u001b[0m\u001b[0m\n",
      "\u001b[0;31mNameError\u001b[0m: name 'result' is not defined"
     ]
    }
   ],
   "source": [
    "# export results from Michael...not run by JMS, but annotated by me\n",
    "for label in result['cluster_label'].unique(): # iterates through all the unique labels in the pandas series (column) of the dataframe \"result\"\n",
    "    fcs_file = FCSParser(path) # load the fcs file that you want to subset into different labels\n",
    "    cluster_data = data[result['cluster_label']==label] # data is from: meta, data = fcs.parse(path)???\n",
    "    # the above step subsets the original data based on the label from \"result\"\n",
    "    new_fcs_file = fcs_file.clone(data=cluster_data.as_matrix()) # export the subsetted data\n",
    "    new_fcs_file.annotation['cluster_label'] = label # annotates the fcs file (meta data?) with the label\n",
    "    new_fcs_file.write_to_file('cluster ' + str(label) + ' exported ' + \\\n",
    "                datetime.datetime.now().strftime('%Y.%m.%d %I.%M.%S') + \\\n",
    "                '.fcs') # writes the fcs file to disk?\n"
   ]
  },
  {
   "cell_type": "code",
   "execution_count": null,
   "metadata": {
    "collapsed": true
   },
   "outputs": [],
   "source": []
  },
  {
   "cell_type": "code",
   "execution_count": null,
   "metadata": {
    "collapsed": true
   },
   "outputs": [],
   "source": []
  },
  {
   "cell_type": "code",
   "execution_count": null,
   "metadata": {
    "collapsed": true
   },
   "outputs": [],
   "source": []
  },
  {
   "cell_type": "code",
   "execution_count": null,
   "metadata": {
    "collapsed": true
   },
   "outputs": [],
   "source": []
  }
 ],
 "metadata": {
  "anaconda-cloud": {},
  "kernelspec": {
   "display_name": "Python [py2-env]",
   "language": "python",
   "name": "Python [py2-env]"
  },
  "language_info": {
   "codemirror_mode": {
    "name": "ipython",
    "version": 2
   },
   "file_extension": ".py",
   "mimetype": "text/x-python",
   "name": "python",
   "nbconvert_exporter": "python",
   "pygments_lexer": "ipython2",
   "version": "2.7.12"
  }
 },
 "nbformat": 4,
 "nbformat_minor": 0
}
