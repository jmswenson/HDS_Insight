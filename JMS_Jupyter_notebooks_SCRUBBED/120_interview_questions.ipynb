{
 "cells": [
  {
   "cell_type": "markdown",
   "metadata": {},
   "source": [
    "### Write a function to calculate all possible assignment vectors\n",
    "of 2n users, where n users are assigned to group 0\n",
    "(control), and n users are assigned to group 1 (treatment)."
   ]
  },
  {
   "cell_type": "code",
   "execution_count": 1,
   "metadata": {
    "collapsed": true
   },
   "outputs": [],
   "source": [
    "users = [\"a\",\"b\",\"c\",\"d\"]"
   ]
  },
  {
   "cell_type": "markdown",
   "metadata": {},
   "source": [
    "All possible combinations for group 0"
   ]
  },
  {
   "cell_type": "code",
   "execution_count": 6,
   "metadata": {
    "collapsed": false
   },
   "outputs": [
    {
     "name": "stdout",
     "output_type": "stream",
     "text": [
      "ab\n",
      "ac\n",
      "ad\n",
      "bc\n",
      "bd\n",
      "cd\n"
     ]
    }
   ],
   "source": [
    "for i,u in enumerate(users):\n",
    "    for u2 in users[i+1::]:\n",
    "        print u + u2"
   ]
  },
  {
   "cell_type": "markdown",
   "metadata": {},
   "source": [
    "http://stackoverflow.com/questions/23779576/all-possible-assignment-vectors-of-2n-users"
   ]
  },
  {
   "cell_type": "code",
   "execution_count": 14,
   "metadata": {
    "collapsed": true
   },
   "outputs": [],
   "source": [
    "def allSamples(k,n):\n",
    "    # choose k elements in candidate lists from [0,...,n-1] with length n\n",
    "    # input:\n",
    "        # k: number of choosed elements \n",
    "        # n: candidate list length\n",
    "    # output: \n",
    "        # list of all possible assignments\n",
    "\n",
    "    allC = []\n",
    "\n",
    "    if k == 1:\n",
    "        for i in range(n):\n",
    "            assignment = [0]*n\n",
    "            assignment[i] = 1\n",
    "            allC.append(assignment)\n",
    "    elif n == k:\n",
    "        assigment = [1]*n\n",
    "        allC = [assigment]\n",
    "    else:\n",
    "        pl = n - k + 1\n",
    "        for i in range(pl):\n",
    "            assignment = [0]*(i+1)\n",
    "            assignment[i] = 1\n",
    "            for c in allSamples(k-1,n-i-1):\n",
    "                allC.append(assignment+c)\n",
    "    return allC"
   ]
  },
  {
   "cell_type": "code",
   "execution_count": 27,
   "metadata": {
    "collapsed": false
   },
   "outputs": [
    {
     "name": "stdout",
     "output_type": "stream",
     "text": [
      "[[1, 1, 0], [1, 0, 1], [0, 1, 1]]\n"
     ]
    }
   ],
   "source": [
    "### k =2 and n=4 is equivilant to my answer above\n",
    "k = 2\n",
    "n = 3 # Number of users\n",
    "print allSamples(k,n)"
   ]
  },
  {
   "cell_type": "code",
   "execution_count": null,
   "metadata": {
    "collapsed": true
   },
   "outputs": [],
   "source": []
  },
  {
   "cell_type": "code",
   "execution_count": null,
   "metadata": {
    "collapsed": true
   },
   "outputs": [],
   "source": []
  },
  {
   "cell_type": "code",
   "execution_count": null,
   "metadata": {
    "collapsed": true
   },
   "outputs": [],
   "source": []
  },
  {
   "cell_type": "code",
   "execution_count": null,
   "metadata": {
    "collapsed": true
   },
   "outputs": [],
   "source": []
  },
  {
   "cell_type": "markdown",
   "metadata": {},
   "source": [
    "### Write an algorithm that can calculate the square root of a number."
   ]
  },
  {
   "cell_type": "code",
   "execution_count": 114,
   "metadata": {
    "collapsed": true
   },
   "outputs": [],
   "source": [
    "n = 800.0"
   ]
  },
  {
   "cell_type": "code",
   "execution_count": 115,
   "metadata": {
    "collapsed": false
   },
   "outputs": [
    {
     "name": "stdout",
     "output_type": "stream",
     "text": [
      "Starting m is 1.00250626566\n",
      "The approximate sqrt of 800.0 is 28.2825062657\n"
     ]
    }
   ],
   "source": [
    "stop = False; under_cnt = 0; over_cnt = 0; update = 1;\n",
    "n = float(n)\n",
    "m = n/(n-2) ## Starting guess, could be significantly improved\n",
    "print \"Starting m is \" + str(m)\n",
    "while stop == False:\n",
    "    if m**2 == n or m**2 >= n - 0.5 and m**2 <= n + 0.5:\n",
    "        print \"The approximate sqrt of \" + str(n) + \" is \" + str(m)\n",
    "        stop = True\n",
    "    elif m**2 < n:\n",
    "        m +=1*update\n",
    "        under_cnt +=1\n",
    "    elif m**2 > n:\n",
    "        m -= 1*update\n",
    "        over_cnt +=1\n",
    "    else:\n",
    "        print \"how did I get here\"\n",
    "    ### Below are finer steps to update the guess...could also be improved, in the above update steps\n",
    "    ### I could look at how far away the number is from the right number\n",
    "    ### Should probably be related to how many digits n has and then divide the current updater by something\n",
    "    if under_cnt >10 and over_cnt>10: # refine update step since I seem to be missing the answer\n",
    "        update = 0.1\n",
    "    if under_cnt >100 and over_cnt>100: # refine update step since I seem to be missing the answer\n",
    "        update = 0.01\n",
    "    if under_cnt >1000 and over_cnt>1000: # refine update step since I seem to be missing the answer\n",
    "        update = 0.001\n",
    "        print \"Things are taking awhile...current guess is \" + str(m)\n",
    "    if under_cnt >10000 and over_cnt>10000: # Give up...I got close!...probably\n",
    "        print \"The very approximate sqrt of \" + str(n) + \" is \" + str(m)\n",
    "        stop = True"
   ]
  },
  {
   "cell_type": "code",
   "execution_count": 116,
   "metadata": {
    "collapsed": false
   },
   "outputs": [
    {
     "name": "stdout",
     "output_type": "stream",
     "text": [
      "800.0\n",
      "28.2825062657\n",
      "138\n",
      "101\n"
     ]
    }
   ],
   "source": [
    "print(n)\n",
    "print(m)\n",
    "print(under_cnt)\n",
    "print(over_cnt)"
   ]
  },
  {
   "cell_type": "markdown",
   "metadata": {},
   "source": [
    "#### Take two"
   ]
  },
  {
   "cell_type": "code",
   "execution_count": 117,
   "metadata": {
    "collapsed": true
   },
   "outputs": [],
   "source": [
    "n= 800"
   ]
  },
  {
   "cell_type": "code",
   "execution_count": 119,
   "metadata": {
    "collapsed": false
   },
   "outputs": [
    {
     "name": "stdout",
     "output_type": "stream",
     "text": [
      "Starting m is 1.00250626566\n",
      "The approximate sqrt of 800.0 is 28.2759276468\n"
     ]
    }
   ],
   "source": [
    "stop = False; cnt=0; under_cnt = 0; over_cnt = 0;\n",
    "n = float(n)\n",
    "m = n/(n-2) ## Starting guess, could be significantly improved\n",
    "print \"Starting m is \" + str(m)\n",
    "while stop == False:\n",
    "    if m**2 == n or m**2 >= n - 0.5 and m**2 <= n + 0.5:\n",
    "        print \"The approximate sqrt of \" + str(n) + \" is \" + str(m)\n",
    "        stop = True\n",
    "    else:\n",
    "        m +=1*(n-m**2)/n\n",
    "        cnt += 1\n",
    "        #print \"new m is \" + str(m)\n",
    "    if cnt >10000: # Give up...I got close!...probably\n",
    "        print \"The very approximate sqrt of \" + str(n) + \" is \" + str(m)\n",
    "        stop = True"
   ]
  },
  {
   "cell_type": "code",
   "execution_count": 120,
   "metadata": {
    "collapsed": false
   },
   "outputs": [
    {
     "name": "stdout",
     "output_type": "stream",
     "text": [
      "800.0\n",
      "28.2759276468\n",
      "120\n"
     ]
    }
   ],
   "source": [
    "print(n)\n",
    "print(m)\n",
    "print(cnt)"
   ]
  },
  {
   "cell_type": "markdown",
   "metadata": {},
   "source": [
    "### Given a list of numbers, can you return the outliers?"
   ]
  },
  {
   "cell_type": "code",
   "execution_count": 81,
   "metadata": {
    "collapsed": true
   },
   "outputs": [],
   "source": [
    "num_list = [3,4,21,6,3,3,5,1,100,-50,21,52,2,1,3,2,2,3,5,4,4,2,1,3,5,2,3]"
   ]
  },
  {
   "cell_type": "code",
   "execution_count": 87,
   "metadata": {
    "collapsed": false
   },
   "outputs": [
    {
     "name": "stdout",
     "output_type": "stream",
     "text": [
      "sum is 211\n",
      "average is 7\n"
     ]
    }
   ],
   "source": [
    "num_sum = 0;\n",
    "for num in num_list:\n",
    "    num_sum += num\n",
    "print \"sum is \" + str(num_sum)\n",
    "print \"average is \" + str(num_sum/len(num_list))"
   ]
  },
  {
   "cell_type": "markdown",
   "metadata": {},
   "source": [
    "standard deviation is (sum(xi - ave(x))^2)^0.5 . I could calc standard deviation, then loop through it again and return anything >3 standard deviations away."
   ]
  },
  {
   "cell_type": "markdown",
   "metadata": {},
   "source": [
    "### Bobo the amoeba has a 25%, 25%, and 50% chance of\n",
    "producting 0,1, or 2 offspring, respectively. Each of Bobo's \n",
    "descendants also have the same probabilities. What is the\n",
    "probability that Bobo’s lineage dies out?"
   ]
  },
  {
   "cell_type": "markdown",
   "metadata": {},
   "source": [
    "P(lineage dies out) = P(d) = 0.25 + [0.25(0.25 ...)] + [0.25(0.25 ...) + 0.25(0.25 ...)]"
   ]
  },
  {
   "cell_type": "markdown",
   "metadata": {},
   "source": [
    "###  "
   ]
  },
  {
   "cell_type": "code",
   "execution_count": null,
   "metadata": {
    "collapsed": true
   },
   "outputs": [],
   "source": []
  }
 ],
 "metadata": {
  "kernelspec": {
   "display_name": "Python [py2-env]",
   "language": "python",
   "name": "Python [py2-env]"
  },
  "language_info": {
   "codemirror_mode": {
    "name": "ipython",
    "version": 2
   },
   "file_extension": ".py",
   "mimetype": "text/x-python",
   "name": "python",
   "nbconvert_exporter": "python",
   "pygments_lexer": "ipython2",
   "version": "2.7.12"
  }
 },
 "nbformat": 4,
 "nbformat_minor": 0
}
