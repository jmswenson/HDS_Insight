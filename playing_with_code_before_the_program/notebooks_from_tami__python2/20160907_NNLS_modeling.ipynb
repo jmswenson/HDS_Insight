{
 "cells": [
  {
   "cell_type": "code",
   "execution_count": 1,
   "metadata": {
    "collapsed": false
   },
   "outputs": [
    {
     "name": "stderr",
     "output_type": "stream",
     "text": [
      "Vendor:  Continuum Analytics, Inc.\n",
      "Package: mkl\n",
      "Message: trial mode expires in 29 days\n"
     ]
    }
   ],
   "source": [
    "# See here for more help:\n",
    "\n",
    "# http://stackoverflow.com/questions/33385898/how-to-include-constraint-to-scipy-nnls-function-solution-so-that-it-sums-to-1\n",
    "\n",
    "import numpy as np\n",
    "\n",
    "from scipy.optimize import minimize\n",
    "\n",
    "from scipy.optimize import nnls\n",
    "\n",
    "# #Define problem\n",
    "\n",
    "# A = np.array([[60, 90, 120],\n",
    "\n",
    "# [30, 120, 90]])\n",
    "\n",
    "# b = np.array([67.5, 60])\n",
    "\n",
    "# #Use nnls to get initial guess\n",
    "\n",
    "# x0, rnorm = nnls(A,b)\n",
    "\n",
    "# #Define minimisation function\n",
    "\n",
    "# def fn(x, A, b):\n",
    "\n",
    "# return np.linalg.norm(A.dot(x) - b)\n",
    "\n",
    "# #Define constraints and bounds\n",
    "\n",
    "# cons = {'type': 'eq', 'fun': lambda x: np.sum(x)-1}\n",
    "\n",
    "# bounds = [[0., None],[0., None],[0., None]]\n",
    "\n",
    "# #Call minimisation subject to these values\n",
    "\n",
    "# minout = minimize(fn, x0, args=(A, b), method='SLSQP',bounds=bounds,constraints=cons)\n",
    "\n",
    "# x = minout.x\n",
    "\n",
    "# print(x,x.sum(),fn(x,A,b))"
   ]
  },
  {
   "cell_type": "code",
   "execution_count": 6,
   "metadata": {
    "collapsed": true
   },
   "outputs": [],
   "source": [
    "import pandas as pd\n",
    "df_e = pd.read_csv('foodweb/20160907_exomet_neg1topos1_midlate.csv')\n",
    "df_m = pd.read_csv('foodweb/20160907_microbes_abundance_midlate.csv')\n",
    "df_p = pd.read_csv('foodweb/20160907_porewater_metabolites_midlate.csv')"
   ]
  },
  {
   "cell_type": "code",
   "execution_count": 7,
   "metadata": {
    "collapsed": false
   },
   "outputs": [
    {
     "data": {
      "text/html": [
       "<div>\n",
       "<table border=\"1\" class=\"dataframe\">\n",
       "  <thead>\n",
       "    <tr style=\"text-align: right;\">\n",
       "      <th></th>\n",
       "      <th>metabolite</th>\n",
       "      <th>rplo 1 (mv)</th>\n",
       "      <th>rplo 2 (D1B51)</th>\n",
       "      <th>rplo 7 (L1B44)</th>\n",
       "      <th>rplo 60 (L2B47)</th>\n",
       "    </tr>\n",
       "  </thead>\n",
       "  <tbody>\n",
       "    <tr>\n",
       "      <th>14</th>\n",
       "      <td>(3-methyladenine)</td>\n",
       "      <td>1.00000</td>\n",
       "      <td>0.000000</td>\n",
       "      <td>0.000000</td>\n",
       "      <td>0.000000</td>\n",
       "    </tr>\n",
       "    <tr>\n",
       "      <th>3</th>\n",
       "      <td>(N6-acetyl-lysine)</td>\n",
       "      <td>1.00000</td>\n",
       "      <td>1.000000</td>\n",
       "      <td>-0.489020</td>\n",
       "      <td>1.000000</td>\n",
       "    </tr>\n",
       "    <tr>\n",
       "      <th>12</th>\n",
       "      <td>(ergothioneine)</td>\n",
       "      <td>-0.27626</td>\n",
       "      <td>0.131433</td>\n",
       "      <td>0.023065</td>\n",
       "      <td>0.000018</td>\n",
       "    </tr>\n",
       "    <tr>\n",
       "      <th>19</th>\n",
       "      <td>4-guanidinobutanoate</td>\n",
       "      <td>1.00000</td>\n",
       "      <td>0.535720</td>\n",
       "      <td>-0.058116</td>\n",
       "      <td>-0.226441</td>\n",
       "    </tr>\n",
       "    <tr>\n",
       "      <th>15</th>\n",
       "      <td>7-methyladenine</td>\n",
       "      <td>1.00000</td>\n",
       "      <td>0.000000</td>\n",
       "      <td>0.000000</td>\n",
       "      <td>0.000000</td>\n",
       "    </tr>\n",
       "  </tbody>\n",
       "</table>\n",
       "</div>"
      ],
      "text/plain": [
       "              metabolite  rplo 1 (mv)  rplo 2 (D1B51)  rplo 7 (L1B44)  \\\n",
       "14     (3-methyladenine)      1.00000        0.000000        0.000000   \n",
       "3     (N6-acetyl-lysine)      1.00000        1.000000       -0.489020   \n",
       "12       (ergothioneine)     -0.27626        0.131433        0.023065   \n",
       "19  4-guanidinobutanoate      1.00000        0.535720       -0.058116   \n",
       "15       7-methyladenine      1.00000        0.000000        0.000000   \n",
       "\n",
       "    rplo 60 (L2B47)  \n",
       "14         0.000000  \n",
       "3          1.000000  \n",
       "12         0.000018  \n",
       "19        -0.226441  \n",
       "15         0.000000  "
      ]
     },
     "execution_count": 7,
     "metadata": {},
     "output_type": "execute_result"
    }
   ],
   "source": [
    "df_e.sort('metabolite',inplace=True)\n",
    "df_e.head()"
   ]
  },
  {
   "cell_type": "code",
   "execution_count": 8,
   "metadata": {
    "collapsed": false
   },
   "outputs": [
    {
     "data": {
      "text/html": [
       "<div>\n",
       "<table border=\"1\" class=\"dataframe\">\n",
       "  <thead>\n",
       "    <tr style=\"text-align: right;\">\n",
       "      <th></th>\n",
       "      <th>Unnamed: 0</th>\n",
       "      <th>3 min</th>\n",
       "      <th>9 hr</th>\n",
       "      <th>18 hr</th>\n",
       "      <th>42 hr</th>\n",
       "      <th>49.5 hr</th>\n",
       "    </tr>\n",
       "  </thead>\n",
       "  <tbody>\n",
       "    <tr>\n",
       "      <th>0</th>\n",
       "      <td>rplo 1 (mv)</td>\n",
       "      <td>0.922379</td>\n",
       "      <td>0.294431</td>\n",
       "      <td>0.173530</td>\n",
       "      <td>0.043212</td>\n",
       "      <td>0.062950</td>\n",
       "    </tr>\n",
       "    <tr>\n",
       "      <th>1</th>\n",
       "      <td>rplo 2 (D1B51)</td>\n",
       "      <td>0.000000</td>\n",
       "      <td>0.661070</td>\n",
       "      <td>0.774794</td>\n",
       "      <td>0.627533</td>\n",
       "      <td>0.657374</td>\n",
       "    </tr>\n",
       "    <tr>\n",
       "      <th>2</th>\n",
       "      <td>rplo 7 (L1B44)</td>\n",
       "      <td>0.077621</td>\n",
       "      <td>0.044499</td>\n",
       "      <td>0.037233</td>\n",
       "      <td>0.089101</td>\n",
       "      <td>0.223022</td>\n",
       "    </tr>\n",
       "    <tr>\n",
       "      <th>3</th>\n",
       "      <td>rplo 60 (L2B47)</td>\n",
       "      <td>0.000000</td>\n",
       "      <td>0.000000</td>\n",
       "      <td>0.014442</td>\n",
       "      <td>0.240153</td>\n",
       "      <td>0.056655</td>\n",
       "    </tr>\n",
       "  </tbody>\n",
       "</table>\n",
       "</div>"
      ],
      "text/plain": [
       "        Unnamed: 0     3 min      9 hr     18 hr     42 hr   49.5 hr\n",
       "0      rplo 1 (mv)  0.922379  0.294431  0.173530  0.043212  0.062950\n",
       "1   rplo 2 (D1B51)  0.000000  0.661070  0.774794  0.627533  0.657374\n",
       "2   rplo 7 (L1B44)  0.077621  0.044499  0.037233  0.089101  0.223022\n",
       "3  rplo 60 (L2B47)  0.000000  0.000000  0.014442  0.240153  0.056655"
      ]
     },
     "execution_count": 8,
     "metadata": {},
     "output_type": "execute_result"
    }
   ],
   "source": [
    "df_m.head()"
   ]
  },
  {
   "cell_type": "code",
   "execution_count": 9,
   "metadata": {
    "collapsed": false
   },
   "outputs": [
    {
     "data": {
      "text/html": [
       "<div>\n",
       "<table border=\"1\" class=\"dataframe\">\n",
       "  <thead>\n",
       "    <tr style=\"text-align: right;\">\n",
       "      <th></th>\n",
       "      <th>Unnamed: 0</th>\n",
       "      <th>3 min</th>\n",
       "      <th>9 hr</th>\n",
       "      <th>18 hr</th>\n",
       "      <th>42 hr</th>\n",
       "      <th>49.5 hr</th>\n",
       "    </tr>\n",
       "  </thead>\n",
       "  <tbody>\n",
       "    <tr>\n",
       "      <th>0</th>\n",
       "      <td>(3-methyladenine)</td>\n",
       "      <td>0</td>\n",
       "      <td>1.000000</td>\n",
       "      <td>0.390916</td>\n",
       "      <td>0.232349</td>\n",
       "      <td>0.098514</td>\n",
       "    </tr>\n",
       "    <tr>\n",
       "      <th>2</th>\n",
       "      <td>(N6-acetyl-lysine)</td>\n",
       "      <td>0</td>\n",
       "      <td>1.000000</td>\n",
       "      <td>0.322569</td>\n",
       "      <td>0.503559</td>\n",
       "      <td>0.113778</td>\n",
       "    </tr>\n",
       "    <tr>\n",
       "      <th>1</th>\n",
       "      <td>(ergothioneine)</td>\n",
       "      <td>1</td>\n",
       "      <td>0.200588</td>\n",
       "      <td>0.068470</td>\n",
       "      <td>0.000000</td>\n",
       "      <td>0.004760</td>\n",
       "    </tr>\n",
       "    <tr>\n",
       "      <th>3</th>\n",
       "      <td>4-guanidinobutanoate</td>\n",
       "      <td>0</td>\n",
       "      <td>0.495204</td>\n",
       "      <td>0.338313</td>\n",
       "      <td>1.000000</td>\n",
       "      <td>0.186521</td>\n",
       "    </tr>\n",
       "    <tr>\n",
       "      <th>4</th>\n",
       "      <td>7-methyladenine</td>\n",
       "      <td>0</td>\n",
       "      <td>0.254461</td>\n",
       "      <td>0.263737</td>\n",
       "      <td>0.940813</td>\n",
       "      <td>1.000000</td>\n",
       "    </tr>\n",
       "  </tbody>\n",
       "</table>\n",
       "</div>"
      ],
      "text/plain": [
       "             Unnamed: 0  3 min      9 hr     18 hr     42 hr   49.5 hr\n",
       "0     (3-methyladenine)      0  1.000000  0.390916  0.232349  0.098514\n",
       "2    (N6-acetyl-lysine)      0  1.000000  0.322569  0.503559  0.113778\n",
       "1       (ergothioneine)      1  0.200588  0.068470  0.000000  0.004760\n",
       "3  4-guanidinobutanoate      0  0.495204  0.338313  1.000000  0.186521\n",
       "4       7-methyladenine      0  0.254461  0.263737  0.940813  1.000000"
      ]
     },
     "execution_count": 9,
     "metadata": {},
     "output_type": "execute_result"
    }
   ],
   "source": [
    "df_p.sort('Unnamed: 0',inplace=True)\n",
    "df_p.head()"
   ]
  },
  {
   "cell_type": "code",
   "execution_count": 10,
   "metadata": {
    "collapsed": true
   },
   "outputs": [],
   "source": [
    "M = df_m[['3 min','9 hr','18 hr','42 hr','49.5 hr']].as_matrix()\n",
    "E = df_e[['rplo 1 (mv)','rplo 2 (D1B51)','rplo 7 (L1B44)','rplo 60 (L2B47)']].as_matrix()\n",
    "P = df_p[['3 min','9 hr','18 hr','42 hr','49.5 hr']].as_matrix()"
   ]
  },
  {
   "cell_type": "code",
   "execution_count": 11,
   "metadata": {
    "collapsed": true
   },
   "outputs": [],
   "source": [
    "T = E.dot(M)"
   ]
  },
  {
   "cell_type": "code",
   "execution_count": 12,
   "metadata": {
    "collapsed": false
   },
   "outputs": [
    {
     "data": {
      "text/plain": [
       "(32, 5)"
      ]
     },
     "execution_count": 12,
     "metadata": {},
     "output_type": "execute_result"
    }
   ],
   "source": [
    "T.shape"
   ]
  },
  {
   "cell_type": "code",
   "execution_count": 17,
   "metadata": {
    "collapsed": false
   },
   "outputs": [
    {
     "name": "stdout",
     "output_type": "stream",
     "text": [
      "[[ 0.92237857  0.29443079  0.17353041  0.04321224  0.06294964]\n",
      " [ 0.88442016  0.93374004  0.94455867  0.86732634  0.66791643]\n",
      " [-0.25302597  0.00657363  0.05475337  0.07260045  0.07415551]\n",
      " [ 0.91786751  0.6459935   0.58316932  0.31983595  0.38932826]\n",
      " [ 0.92237857  0.29443079  0.17353041  0.04321224  0.06294964]\n",
      " [ 0.92237857  0.29443079  0.17353041  0.04321224  0.06294964]\n",
      " [ 0.93416494  0.63240642  0.57459609  0.49111245  0.45447971]\n",
      " [ 0.86456076  0.62767301  0.56540115  0.16146391  0.2226714 ]\n",
      " [ 0.87913485  0.1404426   0.00224537 -0.1144164  -0.18631605]\n",
      " [ 0.85932985 -0.06758586 -0.24755933 -0.48674427 -0.47722378]\n",
      " [ 0.30338117  0.2251433   0.21330046  0.25314507  0.22431044]\n",
      " [-0.8485733  -0.56240583 -0.50998019 -0.52667367 -0.5592214 ]\n",
      " [ 0.96226495  0.01208748 -0.15963033 -0.11057972 -0.10468501]\n",
      " [-0.14715301 -0.20330946 -0.21465986 -0.23260775 -0.22044921]\n",
      " [-0.7858888  -0.91047781 -0.9348805  -0.93647966 -0.87581249]\n",
      " [-0.84023672 -0.87206945 -0.87870685 -0.89194697 -0.88228431]\n",
      " [-0.4314703  -0.44871842 -0.45434452 -0.43803122 -0.31457713]\n",
      " [ 0.84475715 -0.28771823 -0.50674539 -0.77078108 -0.7453229 ]\n",
      " [ 0.85097213  0.91456485  0.92851432  0.82893147  0.57181368]\n",
      " [ 0.85865749 -0.34883956 -0.58084551 -0.81695304 -0.77327282]\n",
      " [ 0.85865749 -0.34883956 -0.58084551 -0.81695304 -0.77327282]\n",
      " [ 0.84955802 -0.25841963 -0.44598691 -0.28540011 -0.59786947]\n",
      " [-0.25613751 -0.6292238  -0.69658085 -0.65960467 -0.63026461]\n",
      " [-0.23997966  0.16447978  0.23631885  0.19378411  0.2038258 ]\n",
      " [ 0.84658129 -0.3829403  -0.59495946 -0.4653105  -0.74268305]\n",
      " [ 0.35133086  0.36481821  0.35994243  0.17481245  0.15022819]\n",
      " [-0.04960666  0.11284985  0.14179698  0.12009656  0.11282593]\n",
      " [ 0.8974055   0.33560398  0.22562196  0.05117207  0.04259068]\n",
      " [ 1.         -0.00534886 -0.19836681 -0.28804734 -0.07845154]\n",
      " [ 0.91329623  0.9502942   0.95840994  0.90047307  0.75088305]\n",
      " [-0.32372886  0.56663102  0.72653056  0.69134596  0.743046  ]\n",
      " [ 0.86562784  0.00650154 -0.13858036 -0.02421735 -0.29741878]]\n"
     ]
    }
   ],
   "source": [
    "print T"
   ]
  },
  {
   "cell_type": "code",
   "execution_count": 18,
   "metadata": {
    "collapsed": false
   },
   "outputs": [],
   "source": [
    "from matplotlib import pyplot as plt\n",
    "f = plt.figure(figsize = (18,20))\n",
    "for i in range(32):\n",
    "    plt.subplot(4,8,i+1)\n",
    "    plt.plot(T[i,:])\n",
    "    plt.plot(P[i,:])\n",
    "plt.tight_layout()\n",
    "plt.show()"
   ]
  },
  {
   "cell_type": "code",
   "execution_count": null,
   "metadata": {
    "collapsed": true
   },
   "outputs": [],
   "source": [
    "# x,resid,rank,s = np.linalg.lstsq(P,E.dot(M))\n",
    "# x"
   ]
  },
  {
   "cell_type": "code",
   "execution_count": null,
   "metadata": {
    "collapsed": true
   },
   "outputs": [],
   "source": [
    "# # minout = minimize(fn, x0, args=(A, b), method='SLSQP',bounds=bounds,constraints=cons)\n",
    "# # #Define minimisation function\n",
    "# def fn(P, E, M, x):\n",
    "# m1 = E.dot(M)\n",
    "# m1.x\n",
    "# return np.linalg.norm(E.dot(M) - P)\n",
    "3\n",
    "# # #Define constraints and bounds\n",
    "# # cons = {'type': 'eq', 'fun': lambda x: np.sum(x)-1}\n",
    "# # bounds = [[0., None],[0., None],[0., None]]"
   ]
  }
 ],
 "metadata": {
  "kernelspec": {
   "display_name": "Python 2",
   "language": "python",
   "name": "python2"
  },
  "language_info": {
   "codemirror_mode": {
    "name": "ipython",
    "version": 2
   },
   "file_extension": ".py",
   "mimetype": "text/x-python",
   "name": "python",
   "nbconvert_exporter": "python",
   "pygments_lexer": "ipython2",
   "version": "2.7.11"
  }
 },
 "nbformat": 4,
 "nbformat_minor": 0
}
